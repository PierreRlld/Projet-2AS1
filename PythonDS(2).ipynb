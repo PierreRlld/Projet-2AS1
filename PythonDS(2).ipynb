{
 "cells": [
  {
   "cell_type": "code",
   "execution_count": 25,
   "metadata": {},
   "outputs": [],
   "source": [
    "import urllib\n",
    "import bs4\n",
    "import pandas\n",
    "from urllib import request\n",
    "import numpy as np"
   ]
  },
  {
   "cell_type": "code",
   "execution_count": 3,
   "metadata": {},
   "outputs": [],
   "source": [
    "urlfoot=\"https://fr.wikipedia.org/wiki/Liste_des_mouvements_litt%C3%A9raires\"\n",
    "request_text= request.urlopen(urlfoot).read()\n",
    "page = bs4.BeautifulSoup(request_text, \"lxml\") #qui est bien une page html"
   ]
  },
  {
   "cell_type": "code",
   "execution_count": 3,
   "metadata": {},
   "outputs": [
    {
     "name": "stdout",
     "output_type": "stream",
     "text": [
      "[<ul class=\"vector-menu-content-list\">\n",
      "<li class=\"user-links-collapsible-item\" id=\"p-createaccount\">\n",
      "<a class=\"mw-ui-button mw-ui-quiet\" href=\"/w/index.php?title=Sp%C3%A9cial:Cr%C3%A9er_un_compte&amp;returnto=Liste+des+mouvements+litt%C3%A9raires\" icon=\"userAvatar\" title=\"Nous vous encourageons à créer un compte utilisateur et vous connecter ; ce n’est cependant pas obligatoire.\"><span>Créer un compte</span></a>\n",
      "</li>\n",
      "</ul>, <ul class=\"vector-menu-content-list\"><li class=\"mw-list-item\" id=\"pt-anontalk\"><a accesskey=\"n\" href=\"/wiki/Sp%C3%A9cial:Mes_discussions\" title=\"La page de discussion pour les contributions depuis cette adresse IP [n]\"><span>Discussion</span></a></li><li class=\"mw-list-item\" id=\"pt-anoncontribs\"><a accesskey=\"y\" href=\"/wiki/Sp%C3%A9cial:Mes_contributions\" title=\"Une liste des modifications effectuées depuis cette adresse IP [y]\"><span>Contributions</span></a></li></ul>, <ul class=\"vector-menu-content-list\"><li class=\"mw-list-item\" id=\"n-mainpage-description\"><a accesskey=\"z\" href=\"/wiki/Wikip%C3%A9dia:Accueil_principal\" title=\"Accueil général [z]\"><span>Accueil</span></a></li><li class=\"mw-list-item\" id=\"n-thema\"><a href=\"/wiki/Portail:Accueil\"><span>Portails thématiques</span></a></li><li class=\"mw-list-item\" id=\"n-randompage\"><a accesskey=\"x\" href=\"/wiki/Sp%C3%A9cial:Page_au_hasard\" title=\"Affiche un article au hasard [x]\"><span>Article au hasard</span></a></li><li class=\"mw-list-item\" id=\"n-contact\"><a href=\"/wiki/Wikip%C3%A9dia:Contact\"><span>Contact</span></a></li></ul>, <ul class=\"vector-menu-content-list\"><li class=\"mw-list-item\" id=\"n-aboutwp\"><a href=\"/wiki/Aide:D%C3%A9buter\"><span>Débuter sur Wikipédia</span></a></li><li class=\"mw-list-item\" id=\"n-help\"><a href=\"/wiki/Aide:Accueil\" title=\"Accès à l’aide\"><span>Aide</span></a></li><li class=\"mw-list-item\" id=\"n-portal\"><a href=\"/wiki/Wikip%C3%A9dia:Accueil_de_la_communaut%C3%A9\" title=\"À propos du projet, ce que vous pouvez faire, où trouver les informations\"><span>Communauté</span></a></li><li class=\"mw-list-item\" id=\"n-recentchanges\"><a accesskey=\"r\" href=\"/wiki/Sp%C3%A9cial:Modifications_r%C3%A9centes\" title=\"Liste des modifications récentes sur le wiki [r]\"><span>Modifications récentes</span></a></li><li class=\"mw-list-item\" id=\"n-sitesupport\"><a href=\"//donate.wikimedia.org/wiki/Special:FundraiserRedirector?utm_source=donate&amp;utm_medium=sidebar&amp;utm_campaign=C13_fr.wikipedia.org&amp;uselang=fr\" title=\"Soutenez-nous\"><span>Faire un don</span></a></li></ul>, <ul class=\"vector-menu-content-list\"><li class=\"mw-list-item\" id=\"t-whatlinkshere\"><a accesskey=\"j\" href=\"/wiki/Sp%C3%A9cial:Pages_li%C3%A9es/Liste_des_mouvements_litt%C3%A9raires\" title=\"Liste des pages liées qui pointent sur celle-ci [j]\"><span>Pages liées</span></a></li><li class=\"mw-list-item\" id=\"t-recentchangeslinked\"><a accesskey=\"k\" href=\"/wiki/Sp%C3%A9cial:Suivi_des_liens/Liste_des_mouvements_litt%C3%A9raires\" rel=\"nofollow\" title=\"Liste des modifications récentes des pages appelées par celle-ci [k]\"><span>Suivi des pages liées</span></a></li><li class=\"mw-list-item\" id=\"t-upload\"><a accesskey=\"u\" href=\"/wiki/Aide:Importer_un_fichier\" title=\"Importer des fichiers [u]\"><span>Téléverser un fichier</span></a></li><li class=\"mw-list-item\" id=\"t-specialpages\"><a accesskey=\"q\" href=\"/wiki/Sp%C3%A9cial:Pages_sp%C3%A9ciales\" title=\"Liste de toutes les pages spéciales [q]\"><span>Pages spéciales</span></a></li><li class=\"mw-list-item\" id=\"t-permalink\"><a href=\"/w/index.php?title=Liste_des_mouvements_litt%C3%A9raires&amp;oldid=188050338\" title=\"Adresse permanente de cette version de la page\"><span>Lien permanent</span></a></li><li class=\"mw-list-item\" id=\"t-info\"><a href=\"/w/index.php?title=Liste_des_mouvements_litt%C3%A9raires&amp;action=info\" title=\"Plus d’informations sur cette page\"><span>Informations sur la page</span></a></li><li class=\"mw-list-item\" id=\"t-cite\"><a href=\"/w/index.php?title=Sp%C3%A9cial:Citer&amp;page=Liste_des_mouvements_litt%C3%A9raires&amp;id=188050338&amp;wpFormIdentifier=titleform\" title=\"Informations sur la manière de citer cette page\"><span>Citer cette page</span></a></li><li class=\"mw-list-item\" id=\"t-wikibase\"><a accesskey=\"g\" href=\"https://www.wikidata.org/wiki/Special:EntityPage/Q3083584\" title=\"Lien vers l’élément dans le dépôt de données connecté [g]\"><span>Élément Wikidata</span></a></li></ul>, <ul class=\"vector-menu-content-list\"><li class=\"mw-list-item\" id=\"coll-create_a_book\"><a href=\"/w/index.php?title=Sp%C3%A9cial:Livre&amp;bookcmd=book_creator&amp;referer=Liste+des+mouvements+litt%C3%A9raires\"><span>Créer un livre</span></a></li><li class=\"mw-list-item\" id=\"coll-download-as-rl\"><a href=\"/w/index.php?title=Sp%C3%A9cial:DownloadAsPdf&amp;page=Liste_des_mouvements_litt%C3%A9raires&amp;action=show-download-screen\"><span>Télécharger comme PDF</span></a></li><li class=\"mw-list-item\" id=\"t-print\"><a accesskey=\"p\" href=\"/w/index.php?title=Liste_des_mouvements_litt%C3%A9raires&amp;printable=yes\" title=\"Version imprimable de cette page [p]\"><span>Version imprimable</span></a></li></ul>, <ul class=\"vector-menu-content-list\"><li class=\"wb-otherproject-link wb-otherproject-commons mw-list-item\"><a href=\"https://commons.wikimedia.org/wiki/Category:Literary_movements\" hreflang=\"en\"><span>Wikimedia Commons</span></a></li></ul>, <ul class=\"vector-menu-content-list\"><li class=\"selected mw-list-item\" id=\"ca-nstab-main\"><a accesskey=\"c\" href=\"/wiki/Liste_des_mouvements_litt%C3%A9raires\" title=\"Voir le contenu de la page [c]\"><span>Article</span></a></li><li class=\"mw-list-item\" id=\"ca-talk\"><a accesskey=\"t\" href=\"/wiki/Discussion:Liste_des_mouvements_litt%C3%A9raires\" rel=\"discussion\" title=\"Discussion au sujet de cette page de contenu [t]\"><span>Discussion</span></a></li></ul>, <ul class=\"vector-menu-content-list\"></ul>, <ul class=\"vector-menu-content-list\"><li class=\"selected mw-list-item\" id=\"ca-view\"><a href=\"/wiki/Liste_des_mouvements_litt%C3%A9raires\"><span>Lire</span></a></li><li class=\"mw-list-item\" id=\"ca-ve-edit\"><a accesskey=\"v\" href=\"/w/index.php?title=Liste_des_mouvements_litt%C3%A9raires&amp;veaction=edit\" title=\"Modifier cette page [v]\"><span>Modifier</span></a></li><li class=\"collapsible mw-list-item\" id=\"ca-edit\"><a accesskey=\"e\" href=\"/w/index.php?title=Liste_des_mouvements_litt%C3%A9raires&amp;action=edit\" title=\"Vous pouvez modifier cette page ! [e]\"><span>Modifier le code</span></a></li><li class=\"mw-list-item\" id=\"ca-history\"><a accesskey=\"h\" href=\"/w/index.php?title=Liste_des_mouvements_litt%C3%A9raires&amp;action=history\" title=\"Historique des versions de cette page [h]\"><span>Voir l’historique</span></a></li></ul>, <ul class=\"vector-menu-content-list\"></ul>, <ul class=\"vector-menu-content-list\"><li class=\"interlanguage-link interwiki-en mw-list-item\"><a class=\"interlanguage-link-target\" href=\"https://en.wikipedia.org/wiki/List_of_literary_movements\" hreflang=\"en\" lang=\"en\" title=\"List of literary movements — anglais\"><span>English</span></a></li><li class=\"interlanguage-link interwiki-pa mw-list-item\"><a class=\"interlanguage-link-target\" href=\"https://pa.wikipedia.org/wiki/%E0%A8%B8%E0%A8%BE%E0%A8%B9%E0%A8%BF%E0%A8%A4%E0%A8%95_%E0%A8%B2%E0%A8%B9%E0%A8%BF%E0%A8%B0%E0%A8%BE%E0%A8%82_%E0%A8%A6%E0%A9%80_%E0%A8%B8%E0%A9%82%E0%A8%9A%E0%A9%80\" hreflang=\"pa\" lang=\"pa\" title=\"ਸਾਹਿਤਕ ਲਹਿਰਾਂ ਦੀ ਸੂਚੀ — pendjabi\"><span>ਪੰਜਾਬੀ</span></a></li><li class=\"interlanguage-link interwiki-ro mw-list-item\"><a class=\"interlanguage-link-target\" href=\"https://ro.wikipedia.org/wiki/Curente_literare\" hreflang=\"ro\" lang=\"ro\" title=\"Curente literare — roumain\"><span>Română</span></a></li><li class=\"interlanguage-link interwiki-zh mw-list-item\"><a class=\"interlanguage-link-target\" href=\"https://zh.wikipedia.org/wiki/%E6%96%87%E5%AD%B8%E6%B5%81%E6%B4%BE%E5%88%97%E8%A1%A8\" hreflang=\"zh\" lang=\"zh\" title=\"文學流派列表 — chinois\"><span>中文</span></a></li></ul>, <ul>\n",
      "<li class=\"toclevel-1 tocsection-1\"><a href=\"#Liste_des_mouvements_littéraires\"><span class=\"tocnumber\">1</span> <span class=\"toctext\">Liste des mouvements littéraires</span></a>\n",
      "<ul>\n",
      "<li class=\"toclevel-2 tocsection-2\"><a href=\"#Moyen_Âge\"><span class=\"tocnumber\">1.1</span> <span class=\"toctext\">Moyen Âge</span></a></li>\n",
      "<li class=\"toclevel-2 tocsection-3\"><a href=\"#XVIe_siècle\"><span class=\"tocnumber\">1.2</span> <span class=\"toctext\"><span>XVI</span><sup>e</sup> siècle</span></a></li>\n",
      "<li class=\"toclevel-2 tocsection-4\"><a href=\"#XVIIe_siècle\"><span class=\"tocnumber\">1.3</span> <span class=\"toctext\"><span>XVII</span><sup>e</sup> siècle</span></a></li>\n",
      "<li class=\"toclevel-2 tocsection-5\"><a href=\"#XVIIIe_siècle\"><span class=\"tocnumber\">1.4</span> <span class=\"toctext\"><span>XVIII</span><sup>e</sup> siècle</span></a></li>\n",
      "<li class=\"toclevel-2 tocsection-6\"><a href=\"#XIXe_siècle\"><span class=\"tocnumber\">1.5</span> <span class=\"toctext\"><span>XIX</span><sup>e</sup> siècle</span></a></li>\n",
      "<li class=\"toclevel-2 tocsection-7\"><a href=\"#XXe_siècle\"><span class=\"tocnumber\">1.6</span> <span class=\"toctext\"><span>XX</span><sup>e</sup> siècle</span></a></li>\n",
      "</ul>\n",
      "</li>\n",
      "<li class=\"toclevel-1 tocsection-8\"><a href=\"#Contemporains\"><span class=\"tocnumber\">2</span> <span class=\"toctext\">Contemporains</span></a></li>\n",
      "<li class=\"toclevel-1 tocsection-9\"><a href=\"#Article_connexe\"><span class=\"tocnumber\">3</span> <span class=\"toctext\">Article connexe</span></a></li>\n",
      "</ul>, <ul>\n",
      "<li class=\"toclevel-2 tocsection-2\"><a href=\"#Moyen_Âge\"><span class=\"tocnumber\">1.1</span> <span class=\"toctext\">Moyen Âge</span></a></li>\n",
      "<li class=\"toclevel-2 tocsection-3\"><a href=\"#XVIe_siècle\"><span class=\"tocnumber\">1.2</span> <span class=\"toctext\"><span>XVI</span><sup>e</sup> siècle</span></a></li>\n",
      "<li class=\"toclevel-2 tocsection-4\"><a href=\"#XVIIe_siècle\"><span class=\"tocnumber\">1.3</span> <span class=\"toctext\"><span>XVII</span><sup>e</sup> siècle</span></a></li>\n",
      "<li class=\"toclevel-2 tocsection-5\"><a href=\"#XVIIIe_siècle\"><span class=\"tocnumber\">1.4</span> <span class=\"toctext\"><span>XVIII</span><sup>e</sup> siècle</span></a></li>\n",
      "<li class=\"toclevel-2 tocsection-6\"><a href=\"#XIXe_siècle\"><span class=\"tocnumber\">1.5</span> <span class=\"toctext\"><span>XIX</span><sup>e</sup> siècle</span></a></li>\n",
      "<li class=\"toclevel-2 tocsection-7\"><a href=\"#XXe_siècle\"><span class=\"tocnumber\">1.6</span> <span class=\"toctext\"><span>XX</span><sup>e</sup> siècle</span></a></li>\n",
      "</ul>, <ul><li><a class=\"mw-redirect\" href=\"/wiki/Litt%C3%A9rature_hagiographique\" title=\"Littérature hagiographique\">Littérature hagiographique</a></li>\n",
      "<li><a href=\"/wiki/Chanson_de_geste\" title=\"Chanson de geste\">Chanson de geste</a></li>\n",
      "<li><a href=\"/wiki/Troubadour\" title=\"Troubadour\">Poésie des troubadours</a></li>\n",
      "<li><a href=\"/wiki/Roman_courtois\" title=\"Roman courtois\">Roman courtois</a></li>\n",
      "<li><a href=\"/wiki/Fabliau\" title=\"Fabliau\">Fabliau</a></li>\n",
      "<li><a href=\"/wiki/Grands_rh%C3%A9toriqueurs\" title=\"Grands rhétoriqueurs\">Grands rhétoriqueurs</a></li>\n",
      "<li><a href=\"/wiki/Po%C3%A9sie_courtoise\" title=\"Poésie courtoise\">Poésie courtoise</a></li></ul>, <ul><li><a href=\"/wiki/Humanisme_de_la_Renaissance\" title=\"Humanisme de la Renaissance\">Humanisme de la Renaissance</a></li>\n",
      "<li>La <a href=\"/wiki/Pl%C3%A9iade_(XVIe_si%C3%A8cle)\" title=\"Pléiade (XVIe siècle)\">Pléiade</a></li>\n",
      "<li><a class=\"mw-redirect\" href=\"/wiki/Picaresque\" title=\"Picaresque\">Picaresque</a></li></ul>, <ul><li><a href=\"/wiki/Litt%C3%A9rature_baroque\" title=\"Littérature baroque\">Baroque</a></li>\n",
      "<li><a href=\"/wiki/Burlesque\" title=\"Burlesque\">Burlesque</a></li>\n",
      "<li><a href=\"/wiki/Classicisme\" title=\"Classicisme\">Classicisme</a></li>\n",
      "<li><a href=\"/wiki/Qui%C3%A9tisme\" title=\"Quiétisme\">Quiétisme</a></li>\n",
      "<li><a href=\"/wiki/Pr%C3%A9ciosit%C3%A9\" title=\"Préciosité\">Préciosité</a></li>\n",
      "<li><a class=\"mw-redirect\" href=\"/wiki/Moralisme\" title=\"Moralisme\">Moralisme</a></li></ul>, <ul><li><a href=\"/wiki/Illuminisme\" title=\"Illuminisme\">Illuminisme</a></li>\n",
      "<li><a href=\"/wiki/Roman_gothique\" title=\"Roman gothique\">Roman gothique</a></li>\n",
      "<li><a href=\"/wiki/Pr%C3%A9romantisme\" title=\"Préromantisme\">Préromantisme</a></li>\n",
      "<li><a href=\"/wiki/Libertin\" title=\"Libertin\">Libertins</a></li>\n",
      "<li><a href=\"/wiki/Lumi%C3%A8res_(philosophie)\" title=\"Lumières (philosophie)\">Lumières</a></li></ul>, <ul><li><a href=\"/wiki/Romantisme\" title=\"Romantisme\">Romantisme</a></li>\n",
      "<li><a href=\"/wiki/R%C3%A9alisme_(litt%C3%A9rature)\" title=\"Réalisme (littérature)\">Réalisme</a></li>\n",
      "<li><a href=\"/wiki/Naturalisme_(litt%C3%A9rature)\" title=\"Naturalisme (littérature)\">Naturalisme</a></li>\n",
      "<li><a class=\"mw-redirect\" href=\"/wiki/Parnasse_(litt%C3%A9rature)\" title=\"Parnasse (littérature)\">Parnasse</a></li>\n",
      "<li><a href=\"/wiki/Symbolisme_(art)\" title=\"Symbolisme (art)\">Symbolisme</a></li>\n",
      "<li><a href=\"/wiki/%C3%89cole_romane\" title=\"École romane\">École romane</a></li>\n",
      "<li><a href=\"/wiki/D%C3%A9cadentisme\" title=\"Décadentisme\">Décadentisme</a></li>\n",
      "<li><a href=\"/wiki/Esth%C3%A9tisme\" title=\"Esthétisme\">Esthétisme</a></li></ul>, <ul><li><a href=\"/wiki/Absurde\" title=\"Absurde\">Absurde</a></li>\n",
      "<li><a href=\"/wiki/Surr%C3%A9alisme\" title=\"Surréalisme\">Surréalisme</a></li>\n",
      "<li><a href=\"/wiki/Oulipo\" title=\"Oulipo\">Oulipo</a></li>\n",
      "<li><a href=\"/wiki/Futurisme\" title=\"Futurisme\">Futurisme</a></li>\n",
      "<li><a href=\"/wiki/Courant_de_conscience\" title=\"Courant de conscience\">Courant de conscience</a></li>\n",
      "<li><a class=\"mw-redirect\" href=\"/wiki/Dada%C3%AFsme\" title=\"Dadaïsme\">Dadaïsme</a></li>\n",
      "<li><a href=\"/wiki/Populisme_(litt%C3%A9rature)\" title=\"Populisme (littérature)\">Populisme</a></li>\n",
      "<li><a href=\"/wiki/R%C3%A9alisme_socialiste_en_France\" title=\"Réalisme socialiste en France\">Réalisme socialiste</a></li>\n",
      "<li><a href=\"/wiki/Renaissance_litt%C3%A9raire_catholique_en_France\" title=\"Renaissance littéraire catholique en France\">Renaissance littéraire catholique en France</a></li>\n",
      "<li><a href=\"/wiki/Litt%C3%A9rature_prol%C3%A9tarienne\" title=\"Littérature prolétarienne\">Littérature prolétarienne</a></li>\n",
      "<li><a href=\"/wiki/Roman_jdanovien_fran%C3%A7ais\" title=\"Roman jdanovien français\">Roman jdanovien français</a></li>\n",
      "<li><a href=\"/wiki/Existentialisme\" title=\"Existentialisme\">Existentialisme</a></li>\n",
      "<li><a href=\"/wiki/N%C3%A9or%C3%A9alisme_(art)\" title=\"Néoréalisme (art)\">Néoréalisme</a></li>\n",
      "<li><a href=\"/wiki/Objectivisme_(litt%C3%A9rature)\" title=\"Objectivisme (littérature)\">Objectivisme</a></li>\n",
      "<li><a href=\"/wiki/%C3%89cole_de_Rochefort\" title=\"École de Rochefort\">École de Rochefort</a></li>\n",
      "<li><a href=\"/wiki/Th%C3%A9%C3%A2tre_de_l%27absurde\" title=\"Théâtre de l'absurde\">Théâtre de l'absurde</a></li>\n",
      "<li><a href=\"/wiki/Lettrisme\" title=\"Lettrisme\">Lettrisme</a></li>\n",
      "<li><a class=\"mw-redirect\" href=\"/wiki/Lost_Generation\" title=\"Lost Generation\">Lost Generation</a></li>\n",
      "<li><a href=\"/wiki/Beat_Generation\" title=\"Beat Generation\">Beat Generation</a></li>\n",
      "<li><a class=\"mw-redirect\" href=\"/wiki/Nouveau_roman\" title=\"Nouveau roman\">Nouveau roman</a></li>\n",
      "<li><a href=\"/wiki/Autofiction\" title=\"Autofiction\">Autofiction</a></li>\n",
      "<li><a href=\"/wiki/R%C3%A9alisme_magique\" title=\"Réalisme magique\">Réalisme magique</a></li>\n",
      "<li><a href=\"/wiki/Nouvelle_fiction\" title=\"Nouvelle fiction\">Nouvelle fiction</a></li>\n",
      "<li><a href=\"/wiki/Imagisme\" title=\"Imagisme\">Imagisme</a></li>\n",
      "<li><a href=\"/wiki/R%C3%A9alisme_hyst%C3%A9rique\" title=\"Réalisme hystérique\">Réalisme hystérique</a></li>\n",
      "<li><a href=\"/wiki/Post-humanisme\" title=\"Post-humanisme\">Post-humanisme</a></li>\n",
      "<li><a href=\"/wiki/N%C3%A9gritude\" title=\"Négritude\">Négritude</a></li></ul>, <ul><li><a href=\"/wiki/Sacra%C3%AFsme\" title=\"Sacraïsme\">Sacraïsme</a></li></ul>, <ul><li><a href=\"/wiki/Mouvement_litt%C3%A9raire\" title=\"Mouvement littéraire\">Mouvement littéraire</a></li></ul>, <ul class=\"bandeau-portail\" id=\"bandeau-portail\"><li><span class=\"bandeau-portail-element\"><span class=\"bandeau-portail-icone\"><a href=\"/wiki/Portail:Litt%C3%A9rature\" title=\"Portail de la littérature\"><img alt=\"icône décorative\" class=\"noviewer\" data-file-height=\"25\" data-file-width=\"25\" decoding=\"async\" height=\"24\" src=\"//upload.wikimedia.org/wikipedia/commons/thumb/a/ac/VictorHugosmallColor.png/24px-VictorHugosmallColor.png\" srcset=\"//upload.wikimedia.org/wikipedia/commons/a/ac/VictorHugosmallColor.png 1.5x\" width=\"24\"/></a></span> <span class=\"bandeau-portail-texte\"><a href=\"/wiki/Portail:Litt%C3%A9rature\" title=\"Portail:Littérature\">Portail de la littérature</a></span> </span></li> <li><span class=\"bandeau-portail-element\"><span class=\"bandeau-portail-icone\"><a href=\"/wiki/Portail:Po%C3%A9sie\" title=\"Portail de la poésie\"><img alt=\"icône décorative\" class=\"noviewer\" data-file-height=\"360\" data-file-width=\"400\" decoding=\"async\" height=\"24\" src=\"//upload.wikimedia.org/wikipedia/commons/thumb/6/6b/P_author.svg/27px-P_author.svg.png\" srcset=\"//upload.wikimedia.org/wikipedia/commons/thumb/6/6b/P_author.svg/40px-P_author.svg.png 1.5x, //upload.wikimedia.org/wikipedia/commons/thumb/6/6b/P_author.svg/53px-P_author.svg.png 2x\" width=\"27\"/></a></span> <span class=\"bandeau-portail-texte\"><a href=\"/wiki/Portail:Po%C3%A9sie\" title=\"Portail:Poésie\">Portail de la poésie</a></span> </span></li> <li><span class=\"bandeau-portail-element\"><span class=\"bandeau-portail-icone\"><a href=\"/wiki/Portail:Th%C3%A9%C3%A2tre\" title=\"Portail du théâtre\"><img alt=\"icône décorative\" class=\"noviewer\" data-file-height=\"128\" data-file-width=\"128\" decoding=\"async\" height=\"24\" src=\"//upload.wikimedia.org/wikipedia/commons/thumb/2/21/Emoji_u1f3ad.svg/24px-Emoji_u1f3ad.svg.png\" srcset=\"//upload.wikimedia.org/wikipedia/commons/thumb/2/21/Emoji_u1f3ad.svg/36px-Emoji_u1f3ad.svg.png 1.5x, //upload.wikimedia.org/wikipedia/commons/thumb/2/21/Emoji_u1f3ad.svg/48px-Emoji_u1f3ad.svg.png 2x\" width=\"24\"/></a></span> <span class=\"bandeau-portail-texte\"><a href=\"/wiki/Portail:Th%C3%A9%C3%A2tre\" title=\"Portail:Théâtre\">Portail du théâtre</a></span> </span></li> </ul>, <ul><li><a href=\"/wiki/Cat%C3%A9gorie:Mouvement_litt%C3%A9raire\" title=\"Catégorie:Mouvement littéraire\">Mouvement littéraire</a></li><li><a href=\"/wiki/Cat%C3%A9gorie:Liste_en_rapport_avec_la_litt%C3%A9rature\" title=\"Catégorie:Liste en rapport avec la littérature\">Liste en rapport avec la littérature</a></li></ul>, <ul><li><a href=\"/wiki/Cat%C3%A9gorie:Wikip%C3%A9dia:%C3%A9bauche_litt%C3%A9rature\" title=\"Catégorie:Wikipédia:ébauche littérature\">Wikipédia:ébauche littérature</a></li><li><a href=\"/wiki/Cat%C3%A9gorie:Wikip%C3%A9dia:%C3%A9bauche_po%C3%A9sie\" title=\"Catégorie:Wikipédia:ébauche poésie\">Wikipédia:ébauche poésie</a></li><li><a href=\"/wiki/Cat%C3%A9gorie:Wikip%C3%A9dia:%C3%A9bauche_th%C3%A9%C3%A2tre\" title=\"Catégorie:Wikipédia:ébauche théâtre\">Wikipédia:ébauche théâtre</a></li><li><a href=\"/wiki/Cat%C3%A9gorie:Portail:Litt%C3%A9rature/Articles_li%C3%A9s\" title=\"Catégorie:Portail:Littérature/Articles liés\">Portail:Littérature/Articles liés</a></li><li><a href=\"/wiki/Cat%C3%A9gorie:Portail:Po%C3%A9sie/Articles_li%C3%A9s\" title=\"Catégorie:Portail:Poésie/Articles liés\">Portail:Poésie/Articles liés</a></li><li><a href=\"/wiki/Cat%C3%A9gorie:Portail:Th%C3%A9%C3%A2tre/Articles_li%C3%A9s\" title=\"Catégorie:Portail:Théâtre/Articles liés\">Portail:Théâtre/Articles liés</a></li></ul>, <ul id=\"footer-info\">\n",
      "<li id=\"footer-info-lastmod\"> La dernière modification de cette page a été faite le 16 novembre 2021 à 06:55.</li>\n",
      "<li id=\"footer-info-copyright\"><span style=\"white-space: normal\"><a class=\"internal\" href=\"/wiki/Wikip%C3%A9dia:Citation_et_r%C3%A9utilisation_du_contenu_de_Wikip%C3%A9dia\" title=\"Droit d'auteur\">Droit d'auteur</a> : les textes sont disponibles sous <a href=\"https://creativecommons.org/licenses/by-sa/3.0/deed.fr\" rel=\"license\" title=\"Licence Creative Commons Attribution - partage dans les mêmes conditions 3.0 non transposé\">licence Creative Commons attribution, partage dans les mêmes conditions</a> ; d’autres conditions peuvent s’appliquer. Voyez les <a href=\"https://wikimediafoundation.org/wiki/Conditions_d%27utilisation\" title=\"Conditions d’utilisation de la Wikimedia Foundation\">conditions d’utilisation</a> pour plus de détails, ainsi que les <a class=\"internal\" href=\"/wiki/Wikip%C3%A9dia:Cr%C3%A9dits_graphiques\" title=\"Droit d'auteur de certaines icônes\">crédits graphiques</a>. En cas de réutilisation des textes de cette page, voyez <a class=\"internal\" href=\"/wiki/Sp%C3%A9cial:Citer/Liste_des_mouvements_litt%C3%A9raires\" title=\"Citer ou réutiliser cette page\">comment citer les auteurs et mentionner la licence</a>.<br/>\n",
      "Wikipedia® est une marque déposée de la <a href=\"https://wikimediafoundation.org/\" title=\"Wikimedia Foundation\">Wikimedia Foundation, Inc.</a>, organisation de bienfaisance régie par le paragraphe <a class=\"internal\" href=\"/wiki/501c\" title=\"501c\">501(c)(3)</a> du code fiscal des États-Unis.</span><br/></li>\n",
      "</ul>, <ul id=\"footer-places\">\n",
      "<li id=\"footer-places-privacy\"><a class=\"extiw\" href=\"https://meta.wikimedia.org/wiki/Privacy_policy/fr\" title=\"m:Privacy policy/fr\">Politique de confidentialité</a></li>\n",
      "<li id=\"footer-places-about\"><a href=\"/wiki/Wikip%C3%A9dia:%C3%80_propos_de_Wikip%C3%A9dia\" title=\"Wikipédia:À propos de Wikipédia\">À propos de Wikipédia</a></li>\n",
      "<li id=\"footer-places-disclaimer\"><a href=\"/wiki/Wikip%C3%A9dia:Avertissements_g%C3%A9n%C3%A9raux\" title=\"Wikipédia:Avertissements généraux\">Avertissements</a></li>\n",
      "<li id=\"footer-places-contact\"><a href=\"//fr.wikipedia.org/wiki/Wikipédia:Contact\">Contact</a></li>\n",
      "<li id=\"footer-places-mobileview\"><a class=\"noprint stopMobileRedirectToggle\" href=\"//fr.m.wikipedia.org/w/index.php?title=Liste_des_mouvements_litt%C3%A9raires&amp;mobileaction=toggle_view_mobile\">Version mobile</a></li>\n",
      "<li id=\"footer-places-developers\"><a href=\"https://www.mediawiki.org/wiki/Special:MyLanguage/How_to_contribute\">Développeurs</a></li>\n",
      "<li id=\"footer-places-statslink\"><a href=\"https://stats.wikimedia.org/#/fr.wikipedia.org\">Statistiques</a></li>\n",
      "<li id=\"footer-places-cookiestatement\"><a href=\"https://foundation.wikimedia.org/wiki/Cookie_statement\">Déclaration sur les témoins (cookies)</a></li>\n",
      "</ul>, <ul class=\"noprint\" id=\"footer-icons\">\n",
      "<li id=\"footer-copyrightico\"><a href=\"https://wikimediafoundation.org/\"><img alt=\"Wikimedia Foundation\" height=\"31\" loading=\"lazy\" src=\"/static/images/footer/wikimedia-button.png\" srcset=\"/static/images/footer/wikimedia-button-1.5x.png 1.5x, /static/images/footer/wikimedia-button-2x.png 2x\" width=\"88\"/></a></li>\n",
      "<li id=\"footer-poweredbyico\"><a href=\"https://www.mediawiki.org/\"><img alt=\"Powered by MediaWiki\" height=\"31\" loading=\"lazy\" src=\"/static/images/footer/poweredby_mediawiki_88x31.png\" srcset=\"/static/images/footer/poweredby_mediawiki_132x47.png 1.5x, /static/images/footer/poweredby_mediawiki_176x62.png 2x\" width=\"88\"/></a></li>\n",
      "</ul>]\n"
     ]
    }
   ],
   "source": [
    "\n",
    "\n",
    "# === On get la page d'intérêt ===\n",
    "\n",
    "print(page.findAll(\"ul\"))\n",
    "\n"
   ]
  },
  {
   "cell_type": "markdown",
   "metadata": {},
   "source": [
    "Partie test"
   ]
  },
  {
   "cell_type": "code",
   "execution_count": 4,
   "metadata": {},
   "outputs": [
    {
     "name": "stdout",
     "output_type": "stream",
     "text": [
      "[<li><a href=\"/wiki/Humanisme_de_la_Renaissance\" title=\"Humanisme de la Renaissance\">Humanisme de la Renaissance</a></li>, <li>La <a href=\"/wiki/Pl%C3%A9iade_(XVIe_si%C3%A8cle)\" title=\"Pléiade (XVIe siècle)\">Pléiade</a></li>, <li><a class=\"mw-redirect\" href=\"/wiki/Picaresque\" title=\"Picaresque\">Picaresque</a></li>]\n"
     ]
    }
   ],
   "source": [
    "\n",
    "\n",
    "test=page.findAll(\"ul\")\n",
    "L=[]\n",
    "for res in test :\n",
    "  test2 = res.findAll(\"li\")\n",
    "  L.append(test2)\n",
    "#print(L[1])\n",
    "print(L[15])\n",
    "\n"
   ]
  },
  {
   "cell_type": "code",
   "execution_count": 5,
   "metadata": {},
   "outputs": [
    {
     "name": "stdout",
     "output_type": "stream",
     "text": [
      "<class 'bs4.element.Tag'> Humanisme de la Renaissance\n",
      "<class 'bs4.element.Tag'> Pléiade (XVIe siècle)\n",
      "<class 'bs4.element.Tag'> Picaresque\n"
     ]
    }
   ],
   "source": [
    "for res in L[15]:\n",
    "    try :\n",
    "        res2=res.find(\"a\")\n",
    "        print(type(res), res2.get(\"title\"))    #https://stackoverflow.com/questions/57395509/get-item-from-bs4-element-tag\n",
    "    except :\n",
    "        pass"
   ]
  },
  {
   "cell_type": "code",
   "execution_count": 6,
   "metadata": {},
   "outputs": [
    {
     "name": "stdout",
     "output_type": "stream",
     "text": [
      "[<ul class=\"vector-menu-content-list\">\n",
      "<li class=\"user-links-collapsible-item\" id=\"p-createaccount\">\n",
      "<a class=\"mw-ui-button mw-ui-quiet\" href=\"/w/index.php?title=Sp%C3%A9cial:Cr%C3%A9er_un_compte&amp;returnto=Liste+des+mouvements+litt%C3%A9raires\" icon=\"userAvatar\" title=\"Nous vous encourageons à créer un compte utilisateur et vous connecter ; ce n’est cependant pas obligatoire.\"><span>Créer un compte</span></a>\n",
      "</li>\n",
      "</ul>, <ul class=\"vector-menu-content-list\"><li class=\"mw-list-item\" id=\"pt-anontalk\"><a accesskey=\"n\" href=\"/wiki/Sp%C3%A9cial:Mes_discussions\" title=\"La page de discussion pour les contributions depuis cette adresse IP [n]\"><span>Discussion</span></a></li><li class=\"mw-list-item\" id=\"pt-anoncontribs\"><a accesskey=\"y\" href=\"/wiki/Sp%C3%A9cial:Mes_contributions\" title=\"Une liste des modifications effectuées depuis cette adresse IP [y]\"><span>Contributions</span></a></li></ul>, <ul class=\"vector-menu-content-list\"><li class=\"mw-list-item\" id=\"n-mainpage-description\"><a accesskey=\"z\" href=\"/wiki/Wikip%C3%A9dia:Accueil_principal\" title=\"Accueil général [z]\"><span>Accueil</span></a></li><li class=\"mw-list-item\" id=\"n-thema\"><a href=\"/wiki/Portail:Accueil\"><span>Portails thématiques</span></a></li><li class=\"mw-list-item\" id=\"n-randompage\"><a accesskey=\"x\" href=\"/wiki/Sp%C3%A9cial:Page_au_hasard\" title=\"Affiche un article au hasard [x]\"><span>Article au hasard</span></a></li><li class=\"mw-list-item\" id=\"n-contact\"><a href=\"/wiki/Wikip%C3%A9dia:Contact\"><span>Contact</span></a></li></ul>, <ul class=\"vector-menu-content-list\"><li class=\"mw-list-item\" id=\"n-aboutwp\"><a href=\"/wiki/Aide:D%C3%A9buter\"><span>Débuter sur Wikipédia</span></a></li><li class=\"mw-list-item\" id=\"n-help\"><a href=\"/wiki/Aide:Accueil\" title=\"Accès à l’aide\"><span>Aide</span></a></li><li class=\"mw-list-item\" id=\"n-portal\"><a href=\"/wiki/Wikip%C3%A9dia:Accueil_de_la_communaut%C3%A9\" title=\"À propos du projet, ce que vous pouvez faire, où trouver les informations\"><span>Communauté</span></a></li><li class=\"mw-list-item\" id=\"n-recentchanges\"><a accesskey=\"r\" href=\"/wiki/Sp%C3%A9cial:Modifications_r%C3%A9centes\" title=\"Liste des modifications récentes sur le wiki [r]\"><span>Modifications récentes</span></a></li><li class=\"mw-list-item\" id=\"n-sitesupport\"><a href=\"//donate.wikimedia.org/wiki/Special:FundraiserRedirector?utm_source=donate&amp;utm_medium=sidebar&amp;utm_campaign=C13_fr.wikipedia.org&amp;uselang=fr\" title=\"Soutenez-nous\"><span>Faire un don</span></a></li></ul>, <ul class=\"vector-menu-content-list\"><li class=\"mw-list-item\" id=\"t-whatlinkshere\"><a accesskey=\"j\" href=\"/wiki/Sp%C3%A9cial:Pages_li%C3%A9es/Liste_des_mouvements_litt%C3%A9raires\" title=\"Liste des pages liées qui pointent sur celle-ci [j]\"><span>Pages liées</span></a></li><li class=\"mw-list-item\" id=\"t-recentchangeslinked\"><a accesskey=\"k\" href=\"/wiki/Sp%C3%A9cial:Suivi_des_liens/Liste_des_mouvements_litt%C3%A9raires\" rel=\"nofollow\" title=\"Liste des modifications récentes des pages appelées par celle-ci [k]\"><span>Suivi des pages liées</span></a></li><li class=\"mw-list-item\" id=\"t-upload\"><a accesskey=\"u\" href=\"/wiki/Aide:Importer_un_fichier\" title=\"Importer des fichiers [u]\"><span>Téléverser un fichier</span></a></li><li class=\"mw-list-item\" id=\"t-specialpages\"><a accesskey=\"q\" href=\"/wiki/Sp%C3%A9cial:Pages_sp%C3%A9ciales\" title=\"Liste de toutes les pages spéciales [q]\"><span>Pages spéciales</span></a></li><li class=\"mw-list-item\" id=\"t-permalink\"><a href=\"/w/index.php?title=Liste_des_mouvements_litt%C3%A9raires&amp;oldid=188050338\" title=\"Adresse permanente de cette version de la page\"><span>Lien permanent</span></a></li><li class=\"mw-list-item\" id=\"t-info\"><a href=\"/w/index.php?title=Liste_des_mouvements_litt%C3%A9raires&amp;action=info\" title=\"Plus d’informations sur cette page\"><span>Informations sur la page</span></a></li><li class=\"mw-list-item\" id=\"t-cite\"><a href=\"/w/index.php?title=Sp%C3%A9cial:Citer&amp;page=Liste_des_mouvements_litt%C3%A9raires&amp;id=188050338&amp;wpFormIdentifier=titleform\" title=\"Informations sur la manière de citer cette page\"><span>Citer cette page</span></a></li><li class=\"mw-list-item\" id=\"t-wikibase\"><a accesskey=\"g\" href=\"https://www.wikidata.org/wiki/Special:EntityPage/Q3083584\" title=\"Lien vers l’élément dans le dépôt de données connecté [g]\"><span>Élément Wikidata</span></a></li></ul>, <ul class=\"vector-menu-content-list\"><li class=\"mw-list-item\" id=\"coll-create_a_book\"><a href=\"/w/index.php?title=Sp%C3%A9cial:Livre&amp;bookcmd=book_creator&amp;referer=Liste+des+mouvements+litt%C3%A9raires\"><span>Créer un livre</span></a></li><li class=\"mw-list-item\" id=\"coll-download-as-rl\"><a href=\"/w/index.php?title=Sp%C3%A9cial:DownloadAsPdf&amp;page=Liste_des_mouvements_litt%C3%A9raires&amp;action=show-download-screen\"><span>Télécharger comme PDF</span></a></li><li class=\"mw-list-item\" id=\"t-print\"><a accesskey=\"p\" href=\"/w/index.php?title=Liste_des_mouvements_litt%C3%A9raires&amp;printable=yes\" title=\"Version imprimable de cette page [p]\"><span>Version imprimable</span></a></li></ul>, <ul class=\"vector-menu-content-list\"><li class=\"wb-otherproject-link wb-otherproject-commons mw-list-item\"><a href=\"https://commons.wikimedia.org/wiki/Category:Literary_movements\" hreflang=\"en\"><span>Wikimedia Commons</span></a></li></ul>, <ul class=\"vector-menu-content-list\"><li class=\"selected mw-list-item\" id=\"ca-nstab-main\"><a accesskey=\"c\" href=\"/wiki/Liste_des_mouvements_litt%C3%A9raires\" title=\"Voir le contenu de la page [c]\"><span>Article</span></a></li><li class=\"mw-list-item\" id=\"ca-talk\"><a accesskey=\"t\" href=\"/wiki/Discussion:Liste_des_mouvements_litt%C3%A9raires\" rel=\"discussion\" title=\"Discussion au sujet de cette page de contenu [t]\"><span>Discussion</span></a></li></ul>, <ul class=\"vector-menu-content-list\"></ul>, <ul class=\"vector-menu-content-list\"><li class=\"selected mw-list-item\" id=\"ca-view\"><a href=\"/wiki/Liste_des_mouvements_litt%C3%A9raires\"><span>Lire</span></a></li><li class=\"mw-list-item\" id=\"ca-ve-edit\"><a accesskey=\"v\" href=\"/w/index.php?title=Liste_des_mouvements_litt%C3%A9raires&amp;veaction=edit\" title=\"Modifier cette page [v]\"><span>Modifier</span></a></li><li class=\"collapsible mw-list-item\" id=\"ca-edit\"><a accesskey=\"e\" href=\"/w/index.php?title=Liste_des_mouvements_litt%C3%A9raires&amp;action=edit\" title=\"Vous pouvez modifier cette page ! [e]\"><span>Modifier le code</span></a></li><li class=\"mw-list-item\" id=\"ca-history\"><a accesskey=\"h\" href=\"/w/index.php?title=Liste_des_mouvements_litt%C3%A9raires&amp;action=history\" title=\"Historique des versions de cette page [h]\"><span>Voir l’historique</span></a></li></ul>, <ul class=\"vector-menu-content-list\"></ul>, <ul class=\"vector-menu-content-list\"><li class=\"interlanguage-link interwiki-en mw-list-item\"><a class=\"interlanguage-link-target\" href=\"https://en.wikipedia.org/wiki/List_of_literary_movements\" hreflang=\"en\" lang=\"en\" title=\"List of literary movements — anglais\"><span>English</span></a></li><li class=\"interlanguage-link interwiki-pa mw-list-item\"><a class=\"interlanguage-link-target\" href=\"https://pa.wikipedia.org/wiki/%E0%A8%B8%E0%A8%BE%E0%A8%B9%E0%A8%BF%E0%A8%A4%E0%A8%95_%E0%A8%B2%E0%A8%B9%E0%A8%BF%E0%A8%B0%E0%A8%BE%E0%A8%82_%E0%A8%A6%E0%A9%80_%E0%A8%B8%E0%A9%82%E0%A8%9A%E0%A9%80\" hreflang=\"pa\" lang=\"pa\" title=\"ਸਾਹਿਤਕ ਲਹਿਰਾਂ ਦੀ ਸੂਚੀ — pendjabi\"><span>ਪੰਜਾਬੀ</span></a></li><li class=\"interlanguage-link interwiki-ro mw-list-item\"><a class=\"interlanguage-link-target\" href=\"https://ro.wikipedia.org/wiki/Curente_literare\" hreflang=\"ro\" lang=\"ro\" title=\"Curente literare — roumain\"><span>Română</span></a></li><li class=\"interlanguage-link interwiki-zh mw-list-item\"><a class=\"interlanguage-link-target\" href=\"https://zh.wikipedia.org/wiki/%E6%96%87%E5%AD%B8%E6%B5%81%E6%B4%BE%E5%88%97%E8%A1%A8\" hreflang=\"zh\" lang=\"zh\" title=\"文學流派列表 — chinois\"><span>中文</span></a></li></ul>, <ul>\n",
      "<li class=\"toclevel-1 tocsection-1\"><a href=\"#Liste_des_mouvements_littéraires\"><span class=\"tocnumber\">1</span> <span class=\"toctext\">Liste des mouvements littéraires</span></a>\n",
      "<ul>\n",
      "<li class=\"toclevel-2 tocsection-2\"><a href=\"#Moyen_Âge\"><span class=\"tocnumber\">1.1</span> <span class=\"toctext\">Moyen Âge</span></a></li>\n",
      "<li class=\"toclevel-2 tocsection-3\"><a href=\"#XVIe_siècle\"><span class=\"tocnumber\">1.2</span> <span class=\"toctext\"><span>XVI</span><sup>e</sup> siècle</span></a></li>\n",
      "<li class=\"toclevel-2 tocsection-4\"><a href=\"#XVIIe_siècle\"><span class=\"tocnumber\">1.3</span> <span class=\"toctext\"><span>XVII</span><sup>e</sup> siècle</span></a></li>\n",
      "<li class=\"toclevel-2 tocsection-5\"><a href=\"#XVIIIe_siècle\"><span class=\"tocnumber\">1.4</span> <span class=\"toctext\"><span>XVIII</span><sup>e</sup> siècle</span></a></li>\n",
      "<li class=\"toclevel-2 tocsection-6\"><a href=\"#XIXe_siècle\"><span class=\"tocnumber\">1.5</span> <span class=\"toctext\"><span>XIX</span><sup>e</sup> siècle</span></a></li>\n",
      "<li class=\"toclevel-2 tocsection-7\"><a href=\"#XXe_siècle\"><span class=\"tocnumber\">1.6</span> <span class=\"toctext\"><span>XX</span><sup>e</sup> siècle</span></a></li>\n",
      "</ul>\n",
      "</li>\n",
      "<li class=\"toclevel-1 tocsection-8\"><a href=\"#Contemporains\"><span class=\"tocnumber\">2</span> <span class=\"toctext\">Contemporains</span></a></li>\n",
      "<li class=\"toclevel-1 tocsection-9\"><a href=\"#Article_connexe\"><span class=\"tocnumber\">3</span> <span class=\"toctext\">Article connexe</span></a></li>\n",
      "</ul>, <ul>\n",
      "<li class=\"toclevel-2 tocsection-2\"><a href=\"#Moyen_Âge\"><span class=\"tocnumber\">1.1</span> <span class=\"toctext\">Moyen Âge</span></a></li>\n",
      "<li class=\"toclevel-2 tocsection-3\"><a href=\"#XVIe_siècle\"><span class=\"tocnumber\">1.2</span> <span class=\"toctext\"><span>XVI</span><sup>e</sup> siècle</span></a></li>\n",
      "<li class=\"toclevel-2 tocsection-4\"><a href=\"#XVIIe_siècle\"><span class=\"tocnumber\">1.3</span> <span class=\"toctext\"><span>XVII</span><sup>e</sup> siècle</span></a></li>\n",
      "<li class=\"toclevel-2 tocsection-5\"><a href=\"#XVIIIe_siècle\"><span class=\"tocnumber\">1.4</span> <span class=\"toctext\"><span>XVIII</span><sup>e</sup> siècle</span></a></li>\n",
      "<li class=\"toclevel-2 tocsection-6\"><a href=\"#XIXe_siècle\"><span class=\"tocnumber\">1.5</span> <span class=\"toctext\"><span>XIX</span><sup>e</sup> siècle</span></a></li>\n",
      "<li class=\"toclevel-2 tocsection-7\"><a href=\"#XXe_siècle\"><span class=\"tocnumber\">1.6</span> <span class=\"toctext\"><span>XX</span><sup>e</sup> siècle</span></a></li>\n",
      "</ul>, <ul><li><a class=\"mw-redirect\" href=\"/wiki/Litt%C3%A9rature_hagiographique\" title=\"Littérature hagiographique\">Littérature hagiographique</a></li>\n",
      "<li><a href=\"/wiki/Chanson_de_geste\" title=\"Chanson de geste\">Chanson de geste</a></li>\n",
      "<li><a href=\"/wiki/Troubadour\" title=\"Troubadour\">Poésie des troubadours</a></li>\n",
      "<li><a href=\"/wiki/Roman_courtois\" title=\"Roman courtois\">Roman courtois</a></li>\n",
      "<li><a href=\"/wiki/Fabliau\" title=\"Fabliau\">Fabliau</a></li>\n",
      "<li><a href=\"/wiki/Grands_rh%C3%A9toriqueurs\" title=\"Grands rhétoriqueurs\">Grands rhétoriqueurs</a></li>\n",
      "<li><a href=\"/wiki/Po%C3%A9sie_courtoise\" title=\"Poésie courtoise\">Poésie courtoise</a></li></ul>, <ul><li><a href=\"/wiki/Humanisme_de_la_Renaissance\" title=\"Humanisme de la Renaissance\">Humanisme de la Renaissance</a></li>\n",
      "<li>La <a href=\"/wiki/Pl%C3%A9iade_(XVIe_si%C3%A8cle)\" title=\"Pléiade (XVIe siècle)\">Pléiade</a></li>\n",
      "<li><a class=\"mw-redirect\" href=\"/wiki/Picaresque\" title=\"Picaresque\">Picaresque</a></li></ul>, <ul><li><a href=\"/wiki/Litt%C3%A9rature_baroque\" title=\"Littérature baroque\">Baroque</a></li>\n",
      "<li><a href=\"/wiki/Burlesque\" title=\"Burlesque\">Burlesque</a></li>\n",
      "<li><a href=\"/wiki/Classicisme\" title=\"Classicisme\">Classicisme</a></li>\n",
      "<li><a href=\"/wiki/Qui%C3%A9tisme\" title=\"Quiétisme\">Quiétisme</a></li>\n",
      "<li><a href=\"/wiki/Pr%C3%A9ciosit%C3%A9\" title=\"Préciosité\">Préciosité</a></li>\n",
      "<li><a class=\"mw-redirect\" href=\"/wiki/Moralisme\" title=\"Moralisme\">Moralisme</a></li></ul>, <ul><li><a href=\"/wiki/Illuminisme\" title=\"Illuminisme\">Illuminisme</a></li>\n",
      "<li><a href=\"/wiki/Roman_gothique\" title=\"Roman gothique\">Roman gothique</a></li>\n",
      "<li><a href=\"/wiki/Pr%C3%A9romantisme\" title=\"Préromantisme\">Préromantisme</a></li>\n",
      "<li><a href=\"/wiki/Libertin\" title=\"Libertin\">Libertins</a></li>\n",
      "<li><a href=\"/wiki/Lumi%C3%A8res_(philosophie)\" title=\"Lumières (philosophie)\">Lumières</a></li></ul>, <ul><li><a href=\"/wiki/Romantisme\" title=\"Romantisme\">Romantisme</a></li>\n",
      "<li><a href=\"/wiki/R%C3%A9alisme_(litt%C3%A9rature)\" title=\"Réalisme (littérature)\">Réalisme</a></li>\n",
      "<li><a href=\"/wiki/Naturalisme_(litt%C3%A9rature)\" title=\"Naturalisme (littérature)\">Naturalisme</a></li>\n",
      "<li><a class=\"mw-redirect\" href=\"/wiki/Parnasse_(litt%C3%A9rature)\" title=\"Parnasse (littérature)\">Parnasse</a></li>\n",
      "<li><a href=\"/wiki/Symbolisme_(art)\" title=\"Symbolisme (art)\">Symbolisme</a></li>\n",
      "<li><a href=\"/wiki/%C3%89cole_romane\" title=\"École romane\">École romane</a></li>\n",
      "<li><a href=\"/wiki/D%C3%A9cadentisme\" title=\"Décadentisme\">Décadentisme</a></li>\n",
      "<li><a href=\"/wiki/Esth%C3%A9tisme\" title=\"Esthétisme\">Esthétisme</a></li></ul>, <ul><li><a href=\"/wiki/Absurde\" title=\"Absurde\">Absurde</a></li>\n",
      "<li><a href=\"/wiki/Surr%C3%A9alisme\" title=\"Surréalisme\">Surréalisme</a></li>\n",
      "<li><a href=\"/wiki/Oulipo\" title=\"Oulipo\">Oulipo</a></li>\n",
      "<li><a href=\"/wiki/Futurisme\" title=\"Futurisme\">Futurisme</a></li>\n",
      "<li><a href=\"/wiki/Courant_de_conscience\" title=\"Courant de conscience\">Courant de conscience</a></li>\n",
      "<li><a class=\"mw-redirect\" href=\"/wiki/Dada%C3%AFsme\" title=\"Dadaïsme\">Dadaïsme</a></li>\n",
      "<li><a href=\"/wiki/Populisme_(litt%C3%A9rature)\" title=\"Populisme (littérature)\">Populisme</a></li>\n",
      "<li><a href=\"/wiki/R%C3%A9alisme_socialiste_en_France\" title=\"Réalisme socialiste en France\">Réalisme socialiste</a></li>\n",
      "<li><a href=\"/wiki/Renaissance_litt%C3%A9raire_catholique_en_France\" title=\"Renaissance littéraire catholique en France\">Renaissance littéraire catholique en France</a></li>\n",
      "<li><a href=\"/wiki/Litt%C3%A9rature_prol%C3%A9tarienne\" title=\"Littérature prolétarienne\">Littérature prolétarienne</a></li>\n",
      "<li><a href=\"/wiki/Roman_jdanovien_fran%C3%A7ais\" title=\"Roman jdanovien français\">Roman jdanovien français</a></li>\n",
      "<li><a href=\"/wiki/Existentialisme\" title=\"Existentialisme\">Existentialisme</a></li>\n",
      "<li><a href=\"/wiki/N%C3%A9or%C3%A9alisme_(art)\" title=\"Néoréalisme (art)\">Néoréalisme</a></li>\n",
      "<li><a href=\"/wiki/Objectivisme_(litt%C3%A9rature)\" title=\"Objectivisme (littérature)\">Objectivisme</a></li>\n",
      "<li><a href=\"/wiki/%C3%89cole_de_Rochefort\" title=\"École de Rochefort\">École de Rochefort</a></li>\n",
      "<li><a href=\"/wiki/Th%C3%A9%C3%A2tre_de_l%27absurde\" title=\"Théâtre de l'absurde\">Théâtre de l'absurde</a></li>\n",
      "<li><a href=\"/wiki/Lettrisme\" title=\"Lettrisme\">Lettrisme</a></li>\n",
      "<li><a class=\"mw-redirect\" href=\"/wiki/Lost_Generation\" title=\"Lost Generation\">Lost Generation</a></li>\n",
      "<li><a href=\"/wiki/Beat_Generation\" title=\"Beat Generation\">Beat Generation</a></li>\n",
      "<li><a class=\"mw-redirect\" href=\"/wiki/Nouveau_roman\" title=\"Nouveau roman\">Nouveau roman</a></li>\n",
      "<li><a href=\"/wiki/Autofiction\" title=\"Autofiction\">Autofiction</a></li>\n",
      "<li><a href=\"/wiki/R%C3%A9alisme_magique\" title=\"Réalisme magique\">Réalisme magique</a></li>\n",
      "<li><a href=\"/wiki/Nouvelle_fiction\" title=\"Nouvelle fiction\">Nouvelle fiction</a></li>\n",
      "<li><a href=\"/wiki/Imagisme\" title=\"Imagisme\">Imagisme</a></li>\n",
      "<li><a href=\"/wiki/R%C3%A9alisme_hyst%C3%A9rique\" title=\"Réalisme hystérique\">Réalisme hystérique</a></li>\n",
      "<li><a href=\"/wiki/Post-humanisme\" title=\"Post-humanisme\">Post-humanisme</a></li>\n",
      "<li><a href=\"/wiki/N%C3%A9gritude\" title=\"Négritude\">Négritude</a></li></ul>, <ul><li><a href=\"/wiki/Sacra%C3%AFsme\" title=\"Sacraïsme\">Sacraïsme</a></li></ul>, <ul><li><a href=\"/wiki/Mouvement_litt%C3%A9raire\" title=\"Mouvement littéraire\">Mouvement littéraire</a></li></ul>, <ul class=\"bandeau-portail\" id=\"bandeau-portail\"><li><span class=\"bandeau-portail-element\"><span class=\"bandeau-portail-icone\"><a href=\"/wiki/Portail:Litt%C3%A9rature\" title=\"Portail de la littérature\"><img alt=\"icône décorative\" class=\"noviewer\" data-file-height=\"25\" data-file-width=\"25\" decoding=\"async\" height=\"24\" src=\"//upload.wikimedia.org/wikipedia/commons/thumb/a/ac/VictorHugosmallColor.png/24px-VictorHugosmallColor.png\" srcset=\"//upload.wikimedia.org/wikipedia/commons/a/ac/VictorHugosmallColor.png 1.5x\" width=\"24\"/></a></span> <span class=\"bandeau-portail-texte\"><a href=\"/wiki/Portail:Litt%C3%A9rature\" title=\"Portail:Littérature\">Portail de la littérature</a></span> </span></li> <li><span class=\"bandeau-portail-element\"><span class=\"bandeau-portail-icone\"><a href=\"/wiki/Portail:Po%C3%A9sie\" title=\"Portail de la poésie\"><img alt=\"icône décorative\" class=\"noviewer\" data-file-height=\"360\" data-file-width=\"400\" decoding=\"async\" height=\"24\" src=\"//upload.wikimedia.org/wikipedia/commons/thumb/6/6b/P_author.svg/27px-P_author.svg.png\" srcset=\"//upload.wikimedia.org/wikipedia/commons/thumb/6/6b/P_author.svg/40px-P_author.svg.png 1.5x, //upload.wikimedia.org/wikipedia/commons/thumb/6/6b/P_author.svg/53px-P_author.svg.png 2x\" width=\"27\"/></a></span> <span class=\"bandeau-portail-texte\"><a href=\"/wiki/Portail:Po%C3%A9sie\" title=\"Portail:Poésie\">Portail de la poésie</a></span> </span></li> <li><span class=\"bandeau-portail-element\"><span class=\"bandeau-portail-icone\"><a href=\"/wiki/Portail:Th%C3%A9%C3%A2tre\" title=\"Portail du théâtre\"><img alt=\"icône décorative\" class=\"noviewer\" data-file-height=\"128\" data-file-width=\"128\" decoding=\"async\" height=\"24\" src=\"//upload.wikimedia.org/wikipedia/commons/thumb/2/21/Emoji_u1f3ad.svg/24px-Emoji_u1f3ad.svg.png\" srcset=\"//upload.wikimedia.org/wikipedia/commons/thumb/2/21/Emoji_u1f3ad.svg/36px-Emoji_u1f3ad.svg.png 1.5x, //upload.wikimedia.org/wikipedia/commons/thumb/2/21/Emoji_u1f3ad.svg/48px-Emoji_u1f3ad.svg.png 2x\" width=\"24\"/></a></span> <span class=\"bandeau-portail-texte\"><a href=\"/wiki/Portail:Th%C3%A9%C3%A2tre\" title=\"Portail:Théâtre\">Portail du théâtre</a></span> </span></li> </ul>, <ul><li><a href=\"/wiki/Cat%C3%A9gorie:Mouvement_litt%C3%A9raire\" title=\"Catégorie:Mouvement littéraire\">Mouvement littéraire</a></li><li><a href=\"/wiki/Cat%C3%A9gorie:Liste_en_rapport_avec_la_litt%C3%A9rature\" title=\"Catégorie:Liste en rapport avec la littérature\">Liste en rapport avec la littérature</a></li></ul>, <ul><li><a href=\"/wiki/Cat%C3%A9gorie:Wikip%C3%A9dia:%C3%A9bauche_litt%C3%A9rature\" title=\"Catégorie:Wikipédia:ébauche littérature\">Wikipédia:ébauche littérature</a></li><li><a href=\"/wiki/Cat%C3%A9gorie:Wikip%C3%A9dia:%C3%A9bauche_po%C3%A9sie\" title=\"Catégorie:Wikipédia:ébauche poésie\">Wikipédia:ébauche poésie</a></li><li><a href=\"/wiki/Cat%C3%A9gorie:Wikip%C3%A9dia:%C3%A9bauche_th%C3%A9%C3%A2tre\" title=\"Catégorie:Wikipédia:ébauche théâtre\">Wikipédia:ébauche théâtre</a></li><li><a href=\"/wiki/Cat%C3%A9gorie:Portail:Litt%C3%A9rature/Articles_li%C3%A9s\" title=\"Catégorie:Portail:Littérature/Articles liés\">Portail:Littérature/Articles liés</a></li><li><a href=\"/wiki/Cat%C3%A9gorie:Portail:Po%C3%A9sie/Articles_li%C3%A9s\" title=\"Catégorie:Portail:Poésie/Articles liés\">Portail:Poésie/Articles liés</a></li><li><a href=\"/wiki/Cat%C3%A9gorie:Portail:Th%C3%A9%C3%A2tre/Articles_li%C3%A9s\" title=\"Catégorie:Portail:Théâtre/Articles liés\">Portail:Théâtre/Articles liés</a></li></ul>, <ul id=\"footer-info\">\n",
      "<li id=\"footer-info-lastmod\"> La dernière modification de cette page a été faite le 16 novembre 2021 à 06:55.</li>\n",
      "<li id=\"footer-info-copyright\"><span style=\"white-space: normal\"><a class=\"internal\" href=\"/wiki/Wikip%C3%A9dia:Citation_et_r%C3%A9utilisation_du_contenu_de_Wikip%C3%A9dia\" title=\"Droit d'auteur\">Droit d'auteur</a> : les textes sont disponibles sous <a href=\"https://creativecommons.org/licenses/by-sa/3.0/deed.fr\" rel=\"license\" title=\"Licence Creative Commons Attribution - partage dans les mêmes conditions 3.0 non transposé\">licence Creative Commons attribution, partage dans les mêmes conditions</a> ; d’autres conditions peuvent s’appliquer. Voyez les <a href=\"https://wikimediafoundation.org/wiki/Conditions_d%27utilisation\" title=\"Conditions d’utilisation de la Wikimedia Foundation\">conditions d’utilisation</a> pour plus de détails, ainsi que les <a class=\"internal\" href=\"/wiki/Wikip%C3%A9dia:Cr%C3%A9dits_graphiques\" title=\"Droit d'auteur de certaines icônes\">crédits graphiques</a>. En cas de réutilisation des textes de cette page, voyez <a class=\"internal\" href=\"/wiki/Sp%C3%A9cial:Citer/Liste_des_mouvements_litt%C3%A9raires\" title=\"Citer ou réutiliser cette page\">comment citer les auteurs et mentionner la licence</a>.<br/>\n",
      "Wikipedia® est une marque déposée de la <a href=\"https://wikimediafoundation.org/\" title=\"Wikimedia Foundation\">Wikimedia Foundation, Inc.</a>, organisation de bienfaisance régie par le paragraphe <a class=\"internal\" href=\"/wiki/501c\" title=\"501c\">501(c)(3)</a> du code fiscal des États-Unis.</span><br/></li>\n",
      "</ul>, <ul id=\"footer-places\">\n",
      "<li id=\"footer-places-privacy\"><a class=\"extiw\" href=\"https://meta.wikimedia.org/wiki/Privacy_policy/fr\" title=\"m:Privacy policy/fr\">Politique de confidentialité</a></li>\n",
      "<li id=\"footer-places-about\"><a href=\"/wiki/Wikip%C3%A9dia:%C3%80_propos_de_Wikip%C3%A9dia\" title=\"Wikipédia:À propos de Wikipédia\">À propos de Wikipédia</a></li>\n",
      "<li id=\"footer-places-disclaimer\"><a href=\"/wiki/Wikip%C3%A9dia:Avertissements_g%C3%A9n%C3%A9raux\" title=\"Wikipédia:Avertissements généraux\">Avertissements</a></li>\n",
      "<li id=\"footer-places-contact\"><a href=\"//fr.wikipedia.org/wiki/Wikipédia:Contact\">Contact</a></li>\n",
      "<li id=\"footer-places-mobileview\"><a class=\"noprint stopMobileRedirectToggle\" href=\"//fr.m.wikipedia.org/w/index.php?title=Liste_des_mouvements_litt%C3%A9raires&amp;mobileaction=toggle_view_mobile\">Version mobile</a></li>\n",
      "<li id=\"footer-places-developers\"><a href=\"https://www.mediawiki.org/wiki/Special:MyLanguage/How_to_contribute\">Développeurs</a></li>\n",
      "<li id=\"footer-places-statslink\"><a href=\"https://stats.wikimedia.org/#/fr.wikipedia.org\">Statistiques</a></li>\n",
      "<li id=\"footer-places-cookiestatement\"><a href=\"https://foundation.wikimedia.org/wiki/Cookie_statement\">Déclaration sur les témoins (cookies)</a></li>\n",
      "</ul>, <ul class=\"noprint\" id=\"footer-icons\">\n",
      "<li id=\"footer-copyrightico\"><a href=\"https://wikimediafoundation.org/\"><img alt=\"Wikimedia Foundation\" height=\"31\" loading=\"lazy\" src=\"/static/images/footer/wikimedia-button.png\" srcset=\"/static/images/footer/wikimedia-button-1.5x.png 1.5x, /static/images/footer/wikimedia-button-2x.png 2x\" width=\"88\"/></a></li>\n",
      "<li id=\"footer-poweredbyico\"><a href=\"https://www.mediawiki.org/\"><img alt=\"Powered by MediaWiki\" height=\"31\" loading=\"lazy\" src=\"/static/images/footer/poweredby_mediawiki_88x31.png\" srcset=\"/static/images/footer/poweredby_mediawiki_132x47.png 1.5x, /static/images/footer/poweredby_mediawiki_176x62.png 2x\" width=\"88\"/></a></li>\n",
      "</ul>]\n"
     ]
    }
   ],
   "source": [
    "\n",
    "\n",
    "print(page.findAll(\"ul\"))\n",
    "\n"
   ]
  },
  {
   "cell_type": "markdown",
   "metadata": {},
   "source": [
    "Scrap"
   ]
  },
  {
   "cell_type": "code",
   "execution_count": 6,
   "metadata": {},
   "outputs": [
    {
     "name": "stdout",
     "output_type": "stream",
     "text": [
      "[[<li class=\"user-links-collapsible-item\" id=\"p-createaccount\">\n",
      "<a class=\"mw-ui-button mw-ui-quiet\" href=\"/w/index.php?title=Sp%C3%A9cial:Cr%C3%A9er_un_compte&amp;returnto=Liste+des+mouvements+litt%C3%A9raires\" icon=\"userAvatar\" title=\"Nous vous encourageons à créer un compte utilisateur et vous connecter ; ce n’est cependant pas obligatoire.\"><span>Créer un compte</span></a>\n",
      "</li>], [<li class=\"mw-list-item\" id=\"pt-anontalk\"><a accesskey=\"n\" href=\"/wiki/Sp%C3%A9cial:Mes_discussions\" title=\"La page de discussion pour les contributions depuis cette adresse IP [n]\"><span>Discussion</span></a></li>, <li class=\"mw-list-item\" id=\"pt-anoncontribs\"><a accesskey=\"y\" href=\"/wiki/Sp%C3%A9cial:Mes_contributions\" title=\"Une liste des modifications effectuées depuis cette adresse IP [y]\"><span>Contributions</span></a></li>], [<li class=\"mw-list-item\" id=\"n-mainpage-description\"><a accesskey=\"z\" href=\"/wiki/Wikip%C3%A9dia:Accueil_principal\" title=\"Accueil général [z]\"><span>Accueil</span></a></li>, <li class=\"mw-list-item\" id=\"n-thema\"><a href=\"/wiki/Portail:Accueil\"><span>Portails thématiques</span></a></li>, <li class=\"mw-list-item\" id=\"n-randompage\"><a accesskey=\"x\" href=\"/wiki/Sp%C3%A9cial:Page_au_hasard\" title=\"Affiche un article au hasard [x]\"><span>Article au hasard</span></a></li>, <li class=\"mw-list-item\" id=\"n-contact\"><a href=\"/wiki/Wikip%C3%A9dia:Contact\"><span>Contact</span></a></li>], [<li class=\"mw-list-item\" id=\"n-aboutwp\"><a href=\"/wiki/Aide:D%C3%A9buter\"><span>Débuter sur Wikipédia</span></a></li>, <li class=\"mw-list-item\" id=\"n-help\"><a href=\"/wiki/Aide:Accueil\" title=\"Accès à l’aide\"><span>Aide</span></a></li>, <li class=\"mw-list-item\" id=\"n-portal\"><a href=\"/wiki/Wikip%C3%A9dia:Accueil_de_la_communaut%C3%A9\" title=\"À propos du projet, ce que vous pouvez faire, où trouver les informations\"><span>Communauté</span></a></li>, <li class=\"mw-list-item\" id=\"n-recentchanges\"><a accesskey=\"r\" href=\"/wiki/Sp%C3%A9cial:Modifications_r%C3%A9centes\" title=\"Liste des modifications récentes sur le wiki [r]\"><span>Modifications récentes</span></a></li>, <li class=\"mw-list-item\" id=\"n-sitesupport\"><a href=\"//donate.wikimedia.org/wiki/Special:FundraiserRedirector?utm_source=donate&amp;utm_medium=sidebar&amp;utm_campaign=C13_fr.wikipedia.org&amp;uselang=fr\" title=\"Soutenez-nous\"><span>Faire un don</span></a></li>], [<li class=\"mw-list-item\" id=\"t-whatlinkshere\"><a accesskey=\"j\" href=\"/wiki/Sp%C3%A9cial:Pages_li%C3%A9es/Liste_des_mouvements_litt%C3%A9raires\" title=\"Liste des pages liées qui pointent sur celle-ci [j]\"><span>Pages liées</span></a></li>, <li class=\"mw-list-item\" id=\"t-recentchangeslinked\"><a accesskey=\"k\" href=\"/wiki/Sp%C3%A9cial:Suivi_des_liens/Liste_des_mouvements_litt%C3%A9raires\" rel=\"nofollow\" title=\"Liste des modifications récentes des pages appelées par celle-ci [k]\"><span>Suivi des pages liées</span></a></li>, <li class=\"mw-list-item\" id=\"t-upload\"><a accesskey=\"u\" href=\"/wiki/Aide:Importer_un_fichier\" title=\"Importer des fichiers [u]\"><span>Téléverser un fichier</span></a></li>, <li class=\"mw-list-item\" id=\"t-specialpages\"><a accesskey=\"q\" href=\"/wiki/Sp%C3%A9cial:Pages_sp%C3%A9ciales\" title=\"Liste de toutes les pages spéciales [q]\"><span>Pages spéciales</span></a></li>, <li class=\"mw-list-item\" id=\"t-permalink\"><a href=\"/w/index.php?title=Liste_des_mouvements_litt%C3%A9raires&amp;oldid=188050338\" title=\"Adresse permanente de cette version de la page\"><span>Lien permanent</span></a></li>, <li class=\"mw-list-item\" id=\"t-info\"><a href=\"/w/index.php?title=Liste_des_mouvements_litt%C3%A9raires&amp;action=info\" title=\"Plus d’informations sur cette page\"><span>Informations sur la page</span></a></li>, <li class=\"mw-list-item\" id=\"t-cite\"><a href=\"/w/index.php?title=Sp%C3%A9cial:Citer&amp;page=Liste_des_mouvements_litt%C3%A9raires&amp;id=188050338&amp;wpFormIdentifier=titleform\" title=\"Informations sur la manière de citer cette page\"><span>Citer cette page</span></a></li>, <li class=\"mw-list-item\" id=\"t-wikibase\"><a accesskey=\"g\" href=\"https://www.wikidata.org/wiki/Special:EntityPage/Q3083584\" title=\"Lien vers l’élément dans le dépôt de données connecté [g]\"><span>Élément Wikidata</span></a></li>], [<li class=\"mw-list-item\" id=\"coll-create_a_book\"><a href=\"/w/index.php?title=Sp%C3%A9cial:Livre&amp;bookcmd=book_creator&amp;referer=Liste+des+mouvements+litt%C3%A9raires\"><span>Créer un livre</span></a></li>, <li class=\"mw-list-item\" id=\"coll-download-as-rl\"><a href=\"/w/index.php?title=Sp%C3%A9cial:DownloadAsPdf&amp;page=Liste_des_mouvements_litt%C3%A9raires&amp;action=show-download-screen\"><span>Télécharger comme PDF</span></a></li>, <li class=\"mw-list-item\" id=\"t-print\"><a accesskey=\"p\" href=\"/w/index.php?title=Liste_des_mouvements_litt%C3%A9raires&amp;printable=yes\" title=\"Version imprimable de cette page [p]\"><span>Version imprimable</span></a></li>], [<li class=\"wb-otherproject-link wb-otherproject-commons mw-list-item\"><a href=\"https://commons.wikimedia.org/wiki/Category:Literary_movements\" hreflang=\"en\"><span>Wikimedia Commons</span></a></li>], [<li class=\"selected mw-list-item\" id=\"ca-nstab-main\"><a accesskey=\"c\" href=\"/wiki/Liste_des_mouvements_litt%C3%A9raires\" title=\"Voir le contenu de la page [c]\"><span>Article</span></a></li>, <li class=\"mw-list-item\" id=\"ca-talk\"><a accesskey=\"t\" href=\"/wiki/Discussion:Liste_des_mouvements_litt%C3%A9raires\" rel=\"discussion\" title=\"Discussion au sujet de cette page de contenu [t]\"><span>Discussion</span></a></li>], [], [<li class=\"selected mw-list-item\" id=\"ca-view\"><a href=\"/wiki/Liste_des_mouvements_litt%C3%A9raires\"><span>Lire</span></a></li>, <li class=\"mw-list-item\" id=\"ca-ve-edit\"><a accesskey=\"v\" href=\"/w/index.php?title=Liste_des_mouvements_litt%C3%A9raires&amp;veaction=edit\" title=\"Modifier cette page [v]\"><span>Modifier</span></a></li>, <li class=\"collapsible mw-list-item\" id=\"ca-edit\"><a accesskey=\"e\" href=\"/w/index.php?title=Liste_des_mouvements_litt%C3%A9raires&amp;action=edit\" title=\"Vous pouvez modifier cette page ! [e]\"><span>Modifier le code</span></a></li>, <li class=\"mw-list-item\" id=\"ca-history\"><a accesskey=\"h\" href=\"/w/index.php?title=Liste_des_mouvements_litt%C3%A9raires&amp;action=history\" title=\"Historique des versions de cette page [h]\"><span>Voir l’historique</span></a></li>], [], [<li class=\"interlanguage-link interwiki-en mw-list-item\"><a class=\"interlanguage-link-target\" href=\"https://en.wikipedia.org/wiki/List_of_literary_movements\" hreflang=\"en\" lang=\"en\" title=\"List of literary movements — anglais\"><span>English</span></a></li>, <li class=\"interlanguage-link interwiki-pa mw-list-item\"><a class=\"interlanguage-link-target\" href=\"https://pa.wikipedia.org/wiki/%E0%A8%B8%E0%A8%BE%E0%A8%B9%E0%A8%BF%E0%A8%A4%E0%A8%95_%E0%A8%B2%E0%A8%B9%E0%A8%BF%E0%A8%B0%E0%A8%BE%E0%A8%82_%E0%A8%A6%E0%A9%80_%E0%A8%B8%E0%A9%82%E0%A8%9A%E0%A9%80\" hreflang=\"pa\" lang=\"pa\" title=\"ਸਾਹਿਤਕ ਲਹਿਰਾਂ ਦੀ ਸੂਚੀ — pendjabi\"><span>ਪੰਜਾਬੀ</span></a></li>, <li class=\"interlanguage-link interwiki-ro mw-list-item\"><a class=\"interlanguage-link-target\" href=\"https://ro.wikipedia.org/wiki/Curente_literare\" hreflang=\"ro\" lang=\"ro\" title=\"Curente literare — roumain\"><span>Română</span></a></li>, <li class=\"interlanguage-link interwiki-zh mw-list-item\"><a class=\"interlanguage-link-target\" href=\"https://zh.wikipedia.org/wiki/%E6%96%87%E5%AD%B8%E6%B5%81%E6%B4%BE%E5%88%97%E8%A1%A8\" hreflang=\"zh\" lang=\"zh\" title=\"文學流派列表 — chinois\"><span>中文</span></a></li>], [<li class=\"toclevel-1 tocsection-1\"><a href=\"#Liste_des_mouvements_littéraires\"><span class=\"tocnumber\">1</span> <span class=\"toctext\">Liste des mouvements littéraires</span></a>\n",
      "<ul>\n",
      "<li class=\"toclevel-2 tocsection-2\"><a href=\"#Moyen_Âge\"><span class=\"tocnumber\">1.1</span> <span class=\"toctext\">Moyen Âge</span></a></li>\n",
      "<li class=\"toclevel-2 tocsection-3\"><a href=\"#XVIe_siècle\"><span class=\"tocnumber\">1.2</span> <span class=\"toctext\"><span>XVI</span><sup>e</sup> siècle</span></a></li>\n",
      "<li class=\"toclevel-2 tocsection-4\"><a href=\"#XVIIe_siècle\"><span class=\"tocnumber\">1.3</span> <span class=\"toctext\"><span>XVII</span><sup>e</sup> siècle</span></a></li>\n",
      "<li class=\"toclevel-2 tocsection-5\"><a href=\"#XVIIIe_siècle\"><span class=\"tocnumber\">1.4</span> <span class=\"toctext\"><span>XVIII</span><sup>e</sup> siècle</span></a></li>\n",
      "<li class=\"toclevel-2 tocsection-6\"><a href=\"#XIXe_siècle\"><span class=\"tocnumber\">1.5</span> <span class=\"toctext\"><span>XIX</span><sup>e</sup> siècle</span></a></li>\n",
      "<li class=\"toclevel-2 tocsection-7\"><a href=\"#XXe_siècle\"><span class=\"tocnumber\">1.6</span> <span class=\"toctext\"><span>XX</span><sup>e</sup> siècle</span></a></li>\n",
      "</ul>\n",
      "</li>, <li class=\"toclevel-2 tocsection-2\"><a href=\"#Moyen_Âge\"><span class=\"tocnumber\">1.1</span> <span class=\"toctext\">Moyen Âge</span></a></li>, <li class=\"toclevel-2 tocsection-3\"><a href=\"#XVIe_siècle\"><span class=\"tocnumber\">1.2</span> <span class=\"toctext\"><span>XVI</span><sup>e</sup> siècle</span></a></li>, <li class=\"toclevel-2 tocsection-4\"><a href=\"#XVIIe_siècle\"><span class=\"tocnumber\">1.3</span> <span class=\"toctext\"><span>XVII</span><sup>e</sup> siècle</span></a></li>, <li class=\"toclevel-2 tocsection-5\"><a href=\"#XVIIIe_siècle\"><span class=\"tocnumber\">1.4</span> <span class=\"toctext\"><span>XVIII</span><sup>e</sup> siècle</span></a></li>, <li class=\"toclevel-2 tocsection-6\"><a href=\"#XIXe_siècle\"><span class=\"tocnumber\">1.5</span> <span class=\"toctext\"><span>XIX</span><sup>e</sup> siècle</span></a></li>, <li class=\"toclevel-2 tocsection-7\"><a href=\"#XXe_siècle\"><span class=\"tocnumber\">1.6</span> <span class=\"toctext\"><span>XX</span><sup>e</sup> siècle</span></a></li>, <li class=\"toclevel-1 tocsection-8\"><a href=\"#Contemporains\"><span class=\"tocnumber\">2</span> <span class=\"toctext\">Contemporains</span></a></li>, <li class=\"toclevel-1 tocsection-9\"><a href=\"#Article_connexe\"><span class=\"tocnumber\">3</span> <span class=\"toctext\">Article connexe</span></a></li>], [<li class=\"toclevel-2 tocsection-2\"><a href=\"#Moyen_Âge\"><span class=\"tocnumber\">1.1</span> <span class=\"toctext\">Moyen Âge</span></a></li>, <li class=\"toclevel-2 tocsection-3\"><a href=\"#XVIe_siècle\"><span class=\"tocnumber\">1.2</span> <span class=\"toctext\"><span>XVI</span><sup>e</sup> siècle</span></a></li>, <li class=\"toclevel-2 tocsection-4\"><a href=\"#XVIIe_siècle\"><span class=\"tocnumber\">1.3</span> <span class=\"toctext\"><span>XVII</span><sup>e</sup> siècle</span></a></li>, <li class=\"toclevel-2 tocsection-5\"><a href=\"#XVIIIe_siècle\"><span class=\"tocnumber\">1.4</span> <span class=\"toctext\"><span>XVIII</span><sup>e</sup> siècle</span></a></li>, <li class=\"toclevel-2 tocsection-6\"><a href=\"#XIXe_siècle\"><span class=\"tocnumber\">1.5</span> <span class=\"toctext\"><span>XIX</span><sup>e</sup> siècle</span></a></li>, <li class=\"toclevel-2 tocsection-7\"><a href=\"#XXe_siècle\"><span class=\"tocnumber\">1.6</span> <span class=\"toctext\"><span>XX</span><sup>e</sup> siècle</span></a></li>], [<li><a class=\"mw-redirect\" href=\"/wiki/Litt%C3%A9rature_hagiographique\" title=\"Littérature hagiographique\">Littérature hagiographique</a></li>, <li><a href=\"/wiki/Chanson_de_geste\" title=\"Chanson de geste\">Chanson de geste</a></li>, <li><a href=\"/wiki/Troubadour\" title=\"Troubadour\">Poésie des troubadours</a></li>, <li><a href=\"/wiki/Roman_courtois\" title=\"Roman courtois\">Roman courtois</a></li>, <li><a href=\"/wiki/Fabliau\" title=\"Fabliau\">Fabliau</a></li>, <li><a href=\"/wiki/Grands_rh%C3%A9toriqueurs\" title=\"Grands rhétoriqueurs\">Grands rhétoriqueurs</a></li>, <li><a href=\"/wiki/Po%C3%A9sie_courtoise\" title=\"Poésie courtoise\">Poésie courtoise</a></li>], [<li><a href=\"/wiki/Humanisme_de_la_Renaissance\" title=\"Humanisme de la Renaissance\">Humanisme de la Renaissance</a></li>, <li>La <a href=\"/wiki/Pl%C3%A9iade_(XVIe_si%C3%A8cle)\" title=\"Pléiade (XVIe siècle)\">Pléiade</a></li>, <li><a class=\"mw-redirect\" href=\"/wiki/Picaresque\" title=\"Picaresque\">Picaresque</a></li>], [<li><a href=\"/wiki/Litt%C3%A9rature_baroque\" title=\"Littérature baroque\">Baroque</a></li>, <li><a href=\"/wiki/Burlesque\" title=\"Burlesque\">Burlesque</a></li>, <li><a href=\"/wiki/Classicisme\" title=\"Classicisme\">Classicisme</a></li>, <li><a href=\"/wiki/Qui%C3%A9tisme\" title=\"Quiétisme\">Quiétisme</a></li>, <li><a href=\"/wiki/Pr%C3%A9ciosit%C3%A9\" title=\"Préciosité\">Préciosité</a></li>, <li><a class=\"mw-redirect\" href=\"/wiki/Moralisme\" title=\"Moralisme\">Moralisme</a></li>], [<li><a href=\"/wiki/Illuminisme\" title=\"Illuminisme\">Illuminisme</a></li>, <li><a href=\"/wiki/Roman_gothique\" title=\"Roman gothique\">Roman gothique</a></li>, <li><a href=\"/wiki/Pr%C3%A9romantisme\" title=\"Préromantisme\">Préromantisme</a></li>, <li><a href=\"/wiki/Libertin\" title=\"Libertin\">Libertins</a></li>, <li><a href=\"/wiki/Lumi%C3%A8res_(philosophie)\" title=\"Lumières (philosophie)\">Lumières</a></li>], [<li><a href=\"/wiki/Romantisme\" title=\"Romantisme\">Romantisme</a></li>, <li><a href=\"/wiki/R%C3%A9alisme_(litt%C3%A9rature)\" title=\"Réalisme (littérature)\">Réalisme</a></li>, <li><a href=\"/wiki/Naturalisme_(litt%C3%A9rature)\" title=\"Naturalisme (littérature)\">Naturalisme</a></li>, <li><a class=\"mw-redirect\" href=\"/wiki/Parnasse_(litt%C3%A9rature)\" title=\"Parnasse (littérature)\">Parnasse</a></li>, <li><a href=\"/wiki/Symbolisme_(art)\" title=\"Symbolisme (art)\">Symbolisme</a></li>, <li><a href=\"/wiki/%C3%89cole_romane\" title=\"École romane\">École romane</a></li>, <li><a href=\"/wiki/D%C3%A9cadentisme\" title=\"Décadentisme\">Décadentisme</a></li>, <li><a href=\"/wiki/Esth%C3%A9tisme\" title=\"Esthétisme\">Esthétisme</a></li>], [<li><a href=\"/wiki/Absurde\" title=\"Absurde\">Absurde</a></li>, <li><a href=\"/wiki/Surr%C3%A9alisme\" title=\"Surréalisme\">Surréalisme</a></li>, <li><a href=\"/wiki/Oulipo\" title=\"Oulipo\">Oulipo</a></li>, <li><a href=\"/wiki/Futurisme\" title=\"Futurisme\">Futurisme</a></li>, <li><a href=\"/wiki/Courant_de_conscience\" title=\"Courant de conscience\">Courant de conscience</a></li>, <li><a class=\"mw-redirect\" href=\"/wiki/Dada%C3%AFsme\" title=\"Dadaïsme\">Dadaïsme</a></li>, <li><a href=\"/wiki/Populisme_(litt%C3%A9rature)\" title=\"Populisme (littérature)\">Populisme</a></li>, <li><a href=\"/wiki/R%C3%A9alisme_socialiste_en_France\" title=\"Réalisme socialiste en France\">Réalisme socialiste</a></li>, <li><a href=\"/wiki/Renaissance_litt%C3%A9raire_catholique_en_France\" title=\"Renaissance littéraire catholique en France\">Renaissance littéraire catholique en France</a></li>, <li><a href=\"/wiki/Litt%C3%A9rature_prol%C3%A9tarienne\" title=\"Littérature prolétarienne\">Littérature prolétarienne</a></li>, <li><a href=\"/wiki/Roman_jdanovien_fran%C3%A7ais\" title=\"Roman jdanovien français\">Roman jdanovien français</a></li>, <li><a href=\"/wiki/Existentialisme\" title=\"Existentialisme\">Existentialisme</a></li>, <li><a href=\"/wiki/N%C3%A9or%C3%A9alisme_(art)\" title=\"Néoréalisme (art)\">Néoréalisme</a></li>, <li><a href=\"/wiki/Objectivisme_(litt%C3%A9rature)\" title=\"Objectivisme (littérature)\">Objectivisme</a></li>, <li><a href=\"/wiki/%C3%89cole_de_Rochefort\" title=\"École de Rochefort\">École de Rochefort</a></li>, <li><a href=\"/wiki/Th%C3%A9%C3%A2tre_de_l%27absurde\" title=\"Théâtre de l'absurde\">Théâtre de l'absurde</a></li>, <li><a href=\"/wiki/Lettrisme\" title=\"Lettrisme\">Lettrisme</a></li>, <li><a class=\"mw-redirect\" href=\"/wiki/Lost_Generation\" title=\"Lost Generation\">Lost Generation</a></li>, <li><a href=\"/wiki/Beat_Generation\" title=\"Beat Generation\">Beat Generation</a></li>, <li><a class=\"mw-redirect\" href=\"/wiki/Nouveau_roman\" title=\"Nouveau roman\">Nouveau roman</a></li>, <li><a href=\"/wiki/Autofiction\" title=\"Autofiction\">Autofiction</a></li>, <li><a href=\"/wiki/R%C3%A9alisme_magique\" title=\"Réalisme magique\">Réalisme magique</a></li>, <li><a href=\"/wiki/Nouvelle_fiction\" title=\"Nouvelle fiction\">Nouvelle fiction</a></li>, <li><a href=\"/wiki/Imagisme\" title=\"Imagisme\">Imagisme</a></li>, <li><a href=\"/wiki/R%C3%A9alisme_hyst%C3%A9rique\" title=\"Réalisme hystérique\">Réalisme hystérique</a></li>, <li><a href=\"/wiki/Post-humanisme\" title=\"Post-humanisme\">Post-humanisme</a></li>, <li><a href=\"/wiki/N%C3%A9gritude\" title=\"Négritude\">Négritude</a></li>], [<li><a href=\"/wiki/Sacra%C3%AFsme\" title=\"Sacraïsme\">Sacraïsme</a></li>], [<li><a href=\"/wiki/Mouvement_litt%C3%A9raire\" title=\"Mouvement littéraire\">Mouvement littéraire</a></li>], [<li><span class=\"bandeau-portail-element\"><span class=\"bandeau-portail-icone\"><a href=\"/wiki/Portail:Litt%C3%A9rature\" title=\"Portail de la littérature\"><img alt=\"icône décorative\" class=\"noviewer\" data-file-height=\"25\" data-file-width=\"25\" decoding=\"async\" height=\"24\" src=\"//upload.wikimedia.org/wikipedia/commons/thumb/a/ac/VictorHugosmallColor.png/24px-VictorHugosmallColor.png\" srcset=\"//upload.wikimedia.org/wikipedia/commons/a/ac/VictorHugosmallColor.png 1.5x\" width=\"24\"/></a></span> <span class=\"bandeau-portail-texte\"><a href=\"/wiki/Portail:Litt%C3%A9rature\" title=\"Portail:Littérature\">Portail de la littérature</a></span> </span></li>, <li><span class=\"bandeau-portail-element\"><span class=\"bandeau-portail-icone\"><a href=\"/wiki/Portail:Po%C3%A9sie\" title=\"Portail de la poésie\"><img alt=\"icône décorative\" class=\"noviewer\" data-file-height=\"360\" data-file-width=\"400\" decoding=\"async\" height=\"24\" src=\"//upload.wikimedia.org/wikipedia/commons/thumb/6/6b/P_author.svg/27px-P_author.svg.png\" srcset=\"//upload.wikimedia.org/wikipedia/commons/thumb/6/6b/P_author.svg/40px-P_author.svg.png 1.5x, //upload.wikimedia.org/wikipedia/commons/thumb/6/6b/P_author.svg/53px-P_author.svg.png 2x\" width=\"27\"/></a></span> <span class=\"bandeau-portail-texte\"><a href=\"/wiki/Portail:Po%C3%A9sie\" title=\"Portail:Poésie\">Portail de la poésie</a></span> </span></li>, <li><span class=\"bandeau-portail-element\"><span class=\"bandeau-portail-icone\"><a href=\"/wiki/Portail:Th%C3%A9%C3%A2tre\" title=\"Portail du théâtre\"><img alt=\"icône décorative\" class=\"noviewer\" data-file-height=\"128\" data-file-width=\"128\" decoding=\"async\" height=\"24\" src=\"//upload.wikimedia.org/wikipedia/commons/thumb/2/21/Emoji_u1f3ad.svg/24px-Emoji_u1f3ad.svg.png\" srcset=\"//upload.wikimedia.org/wikipedia/commons/thumb/2/21/Emoji_u1f3ad.svg/36px-Emoji_u1f3ad.svg.png 1.5x, //upload.wikimedia.org/wikipedia/commons/thumb/2/21/Emoji_u1f3ad.svg/48px-Emoji_u1f3ad.svg.png 2x\" width=\"24\"/></a></span> <span class=\"bandeau-portail-texte\"><a href=\"/wiki/Portail:Th%C3%A9%C3%A2tre\" title=\"Portail:Théâtre\">Portail du théâtre</a></span> </span></li>], [<li><a href=\"/wiki/Cat%C3%A9gorie:Mouvement_litt%C3%A9raire\" title=\"Catégorie:Mouvement littéraire\">Mouvement littéraire</a></li>, <li><a href=\"/wiki/Cat%C3%A9gorie:Liste_en_rapport_avec_la_litt%C3%A9rature\" title=\"Catégorie:Liste en rapport avec la littérature\">Liste en rapport avec la littérature</a></li>], [<li><a href=\"/wiki/Cat%C3%A9gorie:Wikip%C3%A9dia:%C3%A9bauche_litt%C3%A9rature\" title=\"Catégorie:Wikipédia:ébauche littérature\">Wikipédia:ébauche littérature</a></li>, <li><a href=\"/wiki/Cat%C3%A9gorie:Wikip%C3%A9dia:%C3%A9bauche_po%C3%A9sie\" title=\"Catégorie:Wikipédia:ébauche poésie\">Wikipédia:ébauche poésie</a></li>, <li><a href=\"/wiki/Cat%C3%A9gorie:Wikip%C3%A9dia:%C3%A9bauche_th%C3%A9%C3%A2tre\" title=\"Catégorie:Wikipédia:ébauche théâtre\">Wikipédia:ébauche théâtre</a></li>, <li><a href=\"/wiki/Cat%C3%A9gorie:Portail:Litt%C3%A9rature/Articles_li%C3%A9s\" title=\"Catégorie:Portail:Littérature/Articles liés\">Portail:Littérature/Articles liés</a></li>, <li><a href=\"/wiki/Cat%C3%A9gorie:Portail:Po%C3%A9sie/Articles_li%C3%A9s\" title=\"Catégorie:Portail:Poésie/Articles liés\">Portail:Poésie/Articles liés</a></li>, <li><a href=\"/wiki/Cat%C3%A9gorie:Portail:Th%C3%A9%C3%A2tre/Articles_li%C3%A9s\" title=\"Catégorie:Portail:Théâtre/Articles liés\">Portail:Théâtre/Articles liés</a></li>], [<li id=\"footer-info-lastmod\"> La dernière modification de cette page a été faite le 16 novembre 2021 à 06:55.</li>, <li id=\"footer-info-copyright\"><span style=\"white-space: normal\"><a class=\"internal\" href=\"/wiki/Wikip%C3%A9dia:Citation_et_r%C3%A9utilisation_du_contenu_de_Wikip%C3%A9dia\" title=\"Droit d'auteur\">Droit d'auteur</a> : les textes sont disponibles sous <a href=\"https://creativecommons.org/licenses/by-sa/3.0/deed.fr\" rel=\"license\" title=\"Licence Creative Commons Attribution - partage dans les mêmes conditions 3.0 non transposé\">licence Creative Commons attribution, partage dans les mêmes conditions</a> ; d’autres conditions peuvent s’appliquer. Voyez les <a href=\"https://wikimediafoundation.org/wiki/Conditions_d%27utilisation\" title=\"Conditions d’utilisation de la Wikimedia Foundation\">conditions d’utilisation</a> pour plus de détails, ainsi que les <a class=\"internal\" href=\"/wiki/Wikip%C3%A9dia:Cr%C3%A9dits_graphiques\" title=\"Droit d'auteur de certaines icônes\">crédits graphiques</a>. En cas de réutilisation des textes de cette page, voyez <a class=\"internal\" href=\"/wiki/Sp%C3%A9cial:Citer/Liste_des_mouvements_litt%C3%A9raires\" title=\"Citer ou réutiliser cette page\">comment citer les auteurs et mentionner la licence</a>.<br/>\n",
      "Wikipedia® est une marque déposée de la <a href=\"https://wikimediafoundation.org/\" title=\"Wikimedia Foundation\">Wikimedia Foundation, Inc.</a>, organisation de bienfaisance régie par le paragraphe <a class=\"internal\" href=\"/wiki/501c\" title=\"501c\">501(c)(3)</a> du code fiscal des États-Unis.</span><br/></li>], [<li id=\"footer-places-privacy\"><a class=\"extiw\" href=\"https://meta.wikimedia.org/wiki/Privacy_policy/fr\" title=\"m:Privacy policy/fr\">Politique de confidentialité</a></li>, <li id=\"footer-places-about\"><a href=\"/wiki/Wikip%C3%A9dia:%C3%80_propos_de_Wikip%C3%A9dia\" title=\"Wikipédia:À propos de Wikipédia\">À propos de Wikipédia</a></li>, <li id=\"footer-places-disclaimer\"><a href=\"/wiki/Wikip%C3%A9dia:Avertissements_g%C3%A9n%C3%A9raux\" title=\"Wikipédia:Avertissements généraux\">Avertissements</a></li>, <li id=\"footer-places-contact\"><a href=\"//fr.wikipedia.org/wiki/Wikipédia:Contact\">Contact</a></li>, <li id=\"footer-places-mobileview\"><a class=\"noprint stopMobileRedirectToggle\" href=\"//fr.m.wikipedia.org/w/index.php?title=Liste_des_mouvements_litt%C3%A9raires&amp;mobileaction=toggle_view_mobile\">Version mobile</a></li>, <li id=\"footer-places-developers\"><a href=\"https://www.mediawiki.org/wiki/Special:MyLanguage/How_to_contribute\">Développeurs</a></li>, <li id=\"footer-places-statslink\"><a href=\"https://stats.wikimedia.org/#/fr.wikipedia.org\">Statistiques</a></li>, <li id=\"footer-places-cookiestatement\"><a href=\"https://foundation.wikimedia.org/wiki/Cookie_statement\">Déclaration sur les témoins (cookies)</a></li>], [<li id=\"footer-copyrightico\"><a href=\"https://wikimediafoundation.org/\"><img alt=\"Wikimedia Foundation\" height=\"31\" loading=\"lazy\" src=\"/static/images/footer/wikimedia-button.png\" srcset=\"/static/images/footer/wikimedia-button-1.5x.png 1.5x, /static/images/footer/wikimedia-button-2x.png 2x\" width=\"88\"/></a></li>, <li id=\"footer-poweredbyico\"><a href=\"https://www.mediawiki.org/\"><img alt=\"Powered by MediaWiki\" height=\"31\" loading=\"lazy\" src=\"/static/images/footer/poweredby_mediawiki_88x31.png\" srcset=\"/static/images/footer/poweredby_mediawiki_132x47.png 1.5x, /static/images/footer/poweredby_mediawiki_176x62.png 2x\" width=\"88\"/></a></li>]]\n"
     ]
    }
   ],
   "source": [
    "\n",
    "\n",
    "# Forme de ce qui est à scraper :\n",
    "#<ul> <li><a (...) title=\"xxx\"> [possible d'avoir plusieurs li] <li><a (...) title=\"xxx\"> </ul>\n",
    "\n",
    "base=page.findAll(\"ul\")         \n",
    "L=[]\n",
    "for ul in base :\n",
    "  L.append(ul.findAll(\"li\"))\n",
    "print(L)\n",
    "\n"
   ]
  },
  {
   "cell_type": "code",
   "execution_count": 8,
   "metadata": {},
   "outputs": [
    {
     "name": "stdout",
     "output_type": "stream",
     "text": [
      "2 4\n"
     ]
    }
   ],
   "source": [
    "\n",
    "\n",
    "print(len(L[1]), len(L[2]))\n",
    "\n"
   ]
  },
  {
   "cell_type": "code",
   "execution_count": 7,
   "metadata": {},
   "outputs": [
    {
     "data": {
      "text/plain": [
       "85"
      ]
     },
     "execution_count": 7,
     "metadata": {},
     "output_type": "execute_result"
    }
   ],
   "source": [
    "resultat=[]\n",
    "for i in range(len(L)) :      #On peut pas faire direct for li in L à cause du type\n",
    "    for li in L[i]:\n",
    "        try :\n",
    "            inter=li.find(\"a\") \n",
    "            if type(inter.get(\"title\"))==str:\n",
    "                s=inter.get('href')\n",
    "                if s[:5]=='/wiki':\n",
    "                    resultat.append(s)\n",
    "      #print(type(inter))\n",
    "        except:                   #On peut avoir type None pour inter \n",
    "            pass\n",
    "len(resultat)"
   ]
  },
  {
   "cell_type": "markdown",
   "metadata": {},
   "source": [
    "Nettoyage"
   ]
  },
  {
   "cell_type": "code",
   "execution_count": 8,
   "metadata": {},
   "outputs": [],
   "source": [
    "res_mouvements = resultat[13:70]"
   ]
  },
  {
   "cell_type": "code",
   "execution_count": 9,
   "metadata": {},
   "outputs": [
    {
     "data": {
      "text/plain": [
       "'Troubadour'"
      ]
     },
     "execution_count": 9,
     "metadata": {},
     "output_type": "execute_result"
    }
   ],
   "source": [
    "resultat[15][6:]"
   ]
  },
  {
   "cell_type": "code",
   "execution_count": 10,
   "metadata": {},
   "outputs": [],
   "source": [
    "wiki_url = 'https://fr.wikipedia.org'"
   ]
  },
  {
   "cell_type": "code",
   "execution_count": 18,
   "metadata": {},
   "outputs": [],
   "source": [
    "dico_bs = {}\n",
    "dico_txt = {}\n",
    "for link in res_mouvements:\n",
    "    url_ = wiki_url + link\n",
    "    request_text= request.urlopen(url_).read()\n",
    "    dico_bs[link[6:]]=bs4.BeautifulSoup(request_text, \"lxml\")\n",
    "    txt=''\n",
    "    page = bs4.BeautifulSoup(request_text, \"lxml\")\n",
    "    base=page.findAll(\"p\")         \n",
    "    for h2 in base :\n",
    "        for string in h2.strings:\n",
    "            txt+=string\n",
    "    dico_txt[link[6:]]=txt\n",
    "   \n",
    "    \n",
    "    "
   ]
  },
  {
   "cell_type": "code",
   "execution_count": 12,
   "metadata": {},
   "outputs": [
    {
     "data": {
      "text/plain": [
       "\"\\n\\t\\tPages pour les éditeurs déconnectés en savoir plus\\nPour l’article homonyme, voir Troubadour (homonymie).\\nUn troubadour (de l'occitan trobador\\xa0: «\\xa0trouveur\\xa0», trobairitz au féminin\\xa0: «\\xa0trouveuse\\xa0») est un compositeur, poète, et musicien médiéval de langue d'oc, qui interprétait ou faisait interpréter par des jongleurs ou des ménestrels ses œuvres poétiques. Les femmes qui pratiquent l'art du trobar, sont appelées des trobairitz.\\nLe mouvement troubadour a commencé vers la fin du XIe\\xa0siècle en Occitanie, au sein de la haute noblesse occitane. Puis, il s'est répandu par la suite dans d'autres couches sociales et s'est étendu au nord de l'Italie et de l'Espagne. Les troubadours ont participé activement à la vie sociale, politique et religieuse de la société de l'époque. Sous l'influence des troubadours, des mouvements du même type se sont levés partout en Europe. Après la période «\\xa0classique\\xa0» vers le XIIIe\\xa0siècle et d'une résurgence au milieu de ce siècle, l'art des troubadours a décliné au XIVe\\xa0siècle puis a finalement disparu à l'époque de la Peste noire (1347-1352).\\nLes thèmes abordés dans les chansons des troubadours portent principalement sur la chevalerie et l'amour courtois. Les œuvres peuvent être groupés en trois styles\\xa0: le trobar leu (léger), le trobar ric (riche) et le trobar clus (fermé). Il y avait beaucoup de genres, le plus populaire étant les canso. Les sirventes et les tenson étaient surtout populaires dans la période post-classique, en Italie et parmi les trobairitz.\\nL’œuvre elle-même des troubadours est conservée dans plusieurs manuscrits et codex en France, Espagne ou Italie, et a été analysée par les philologues, et les musicologues à partir du XIXe\\xa0siècle.\\nL'image d'Épinal du frivole poète courtisan ou du baladin à grelot n'a qu'un très lointain rapport avec la réalité. Le baladin à grelots était plutôt le rôle des bateleurs et jongleurs qui accompagnent le troubadour et parfois chantent leur composition à leur place.\\nLes troubadours apparaissent à partir du XIe\\xa0siècle dans les cours des comtes de Barcelone (à partir de Raimond-Bérenger III) et des ducs d'Aquitaine (à partir de Guillaume IX le Troubadour) où se pratique la langue occitane, et se diffusent sur tout le territoire de leurs possessions, c'est-à-dire la moitié sud de la France, en Aquitaine, Périgord, Auvergne et Saintonge, ainsi que, pour les possessions des Comtes de Barcelone, en Catalogne, Aragon, Roussillon, Languedoc, Toulouse, Albigeois, Velay, Limousin, Carladès, Quercy, Rouergue, Provence, puis aussi en Lombardie, Toscane, République de Gênes[réf.\\xa0nécessaire]. Cette aire correspond à celle qu'on appelle aujourd'hui l'Occitanie.\\nLeurs poésies se diffusent dans tout le royaume de France, ainsi que dans le royaume d'Angleterre à la cour d'Aliénor d'Aquitaine, au Portugal, en Hongrie et beaucoup plus tardivement, jusqu'en Transcaucasie avec Sayat-Nova.\\nLes trouvères et trouveresses sont leurs équivalents de langue d'oïl dans le Nord de la France. Les Minnesängers sont leur équivalent germanique. Le trobadorismo est le mouvement lyrique galicien, et le trovadorismo son équivalent portugais.\\nLes thèmes les plus connus sont épiques, avec la vie des chevaliers, et lyriques avec la poésie courtoise.\\nIls sont aussi très souvent satiriques et comiques, moraux ou religieux, et même juridiques ou politiques comme l'Histoire de la guerre de Navarre de Guillaume Anelier.\\nLa poésie des troubadours est une littérature poétique en vers réguliers, destinée à être chantée, voire mise en dialogues et en saynètes.\\nLe troubadour est défini comme celui qui sait trouver des vers et composer les musiques, il correspond à l'idée actuelle d'inventeur ou de créateur. Par exemple la vida de Bernart de Ventadour indique qu'il savait trouver les bons mots et les belles musiques, «\\xa0aveia sotilessa et art de trobar bos motz e gai sons\\xa0»[1]. Les deux éléments sont indissociables, la poésie est faite d'abord pour être chantée et non récitée[1]. Le troubadour était à la fois celui qui maîtrisait l'art poétique, et qui composait des mélodies pour accompagner le texte. Le mot troubadour, au sens strict, désigne les poètes du Moyen Âge s'exprimant en langue occitane.\\nLe terme occitan trobador (trobairitz au féminin) «\\xa0poète, compositeur\\xa0» est attesté au XIIe\\xa0siècle chez Peire d'Alvernhe[2]. Les linguistes estiment que le radical du mot est semblable à celui de trobar qui, en ancien occitan signifie «\\xa0composer\\xa0», «\\xa0inventer\\xa0», ou «\\xa0deviser\\xa0» (voir les dictionnaires Académie française, Larousse, Robert). Le mot troubadour n'a pas été emprunté par le français avant le XVIe\\xa0siècle, en effet, il n'est mentionné qu'en 1575 au sens de «\\xa0poète lyrique courtois de langue d'oc aux XIIe et XIIIe\\xa0siècles\\xa0» (J. de Nostre Dame, Vies des anciens poetes provençaux, p.\\xa014 ds Gdf. Compl.)[2].\\nLe mot trobador se superpose exactement au mot français trouveur[3]. Quant à trouvère, attesté également au XIIe\\xa0siècle, il représente l'ancien cas sujet du mot d'oïl troveor «\\xa0trouveur\\xa0» (cas régime)[4]. Ces derniers sont basés sur le même étymon que «\\xa0trouver\\xa0», qui apparaît en français dès le Xe\\xa0siècle dans un sens proche de celui du français actuel «\\xa0découvrir, rencontrer par hasard\\xa0» (La Vie de saint Léger, édition J. Linskill, 100)\\xa0; puis vers 1050 au sens de «\\xa0découvrir quelque chose ou quelqu'un que l'on cherche\\xa0» (Vie de saint Alexis, édition Chr. Storey, 114, 315). C'est seulement au XIIe\\xa0siècle qu'il est donné avec la signification de «\\xa0composer quelque chose en vers\\xa0» (Wace, Roman de Brut, édition I. Arnold, 3342)[5],[6].\\nSelon la plupart des linguistes l'occitan trobar et le français trouver remontent à un terme du latin populaire non attesté *tropare «\\xa0composer, inventer un air\\xa0» d'où «\\xa0composer un poème\\xa0», puis «\\xa0inventer, découvrir\\xa0», dérivé de tropus «\\xa0figure de rhétorique\\xa0»[7],[8],[9],[10] (cf. latin contropare, voir controuver[11]).\\nCependant des historiens, des spécialistes de la littérature ou des musicologues considérant une possible origine arabe de l'art des troubadours proposent aussi un étymon arabe au terme de trobar\\xa0: dès 1928, l'arabiste espagnol Julián Ribera y Tarragó a émis l'hypothèse d'une origine arabe au mot trobar et ses proches parents, du moins dans son usage spécialisé de «\\xa0composer des vers, chanter, etc.\\xa0». Ribera a identifié l'arabe tʕaraba «\\xa0chanson\\xa0» (issu de la racine trilatérale Tʕ-R-B «\\xa0susciter une émotion, une excitation, une agitation; faire de la musique, distraire par la chanson\\xa0») comme une origine probable[12]. Ce lexème aurait été emprunté par les dialectes romans parlés en Andalousie, lors de l'occupation de l'Espagne par les arabes, puis en catalan et en occitan. Une proposition similaire a été faite, mais sur la base d'un étymon différent, c'est-à-dire Dʕ-R-B «\\xa0émettre un son, frapper une touche\\xa0», par extension «\\xa0jouer d'un instrument de musique\\xa0»[13]. Ainsi, l'homophonie entre le terme indigène trobar «\\xa0trouver\\xa0» et le mot arabe Dʕ-R-B a pu contribuer au sens spécifique pris par le verbe trobar au Moyen Âge[14],[15],[10].\\nLe verbe trouver en français avec la signification de «\\xa0découvrir, rencontrer par hasard\\xa0» est attesté antérieurement à ses équivalents dans toutes les langues romanes (y compris l'occitan trobar), ce qui ne permet pas de vérifier cette théorie. Cependant, la signification «\\xa0composer quelque chose en vers\\xa0» apparue plus tardivement en français et de manière contemporaine à celle de l'occitan trobar au sens de «\\xa0composer, inventer, deviser\\xa0» justifie peut-être une influence arabe sur le plan sémantique. On doit préalablement supposer que le sens «\\xa0composer quelque chose en vers\\xa0» pris par le mot français a été influencé par celui pris par l'occitan.\\nLe radical latin trop- est suivi du suffixe latin d'agent -ātor, -atōris, ainsi le gallo-roman *TROPĀTOR[16] aboutit parallèlement au français trouvère et à l'occitan trobaire (cas sujet) et *TROPATŌRE[17] à troveor, troveeur «\\xa0trouveur\\xa0» et trobador «\\xa0troubadour\\xa0» (cas régime) (voir aussi PISCĀTOR > ancien français peschiere / occitan pescaire (> peuchère) et PISCATŌRE > ancien français pescheeur, pêcheur / occitan pescador[17]).\\nPar ailleurs, en français contemporain, un «\\xa0trope\\xa0» est une figure de mots, c'est-à-dire une partie du discours dans laquelle les mots sont utilisés dans un sens différent de leur sens propre, un sens figuré, comme dans la création de métaphores ou de métonymies\\xa0; un sens particulier existe en musique\\xa0: invention d'un nouveau texte sur une mélodie pré-existante. Le mot latin est issu lui-même du grec τρόπος, qui signifie «\\xa0manière\\xa0», «\\xa0tournure\\xa0». Les premiers «\\xa0tropes\\xa0» étaient des textes poétiques «\\xa0trouvés\\xa0» et ajoutés sur les mélodies pré-existantes du chant grégorien (point de départ de l'invention poétique médiévale).\\nLa langue des troubadours était la lenga romana, langue romane, terme toujours utilisé par les chartistes pour désigner la langue des textes profanes du Moyen Âge de ces régions, qu'ils soient poétiques ou non. On lui préfère actuellement l'appellation d'ancien occitan. Le mot occitanien est apparu pour la première fois dans l'Essai de glossaire occitanien publié en 1819 par Henri de Rochegude à partir d'un mélange d’œuvres des différents troubadours. Son introduction fait état du débat, déjà très vif à l'époque, sur les deux questions de l'unicité linguistique du Sud de la France, et du nom qu'il faut donner à la langue des troubadours. Il fait l'hypothèse de l'unicité, rejette les appellations concurrentes de provençal, de limousin et de catalan, pour adopter celle d'occitanien, afin de ne pas la confondre avec le dialecte languedocien encore très parlé à son époque. Reprenant l’Histoire générale de la Provence de Jean-Pierre Papon, il explique cette unicité linguistique originelle par la création et la diffusion d'un beau parler depuis les vicomtés de Gévaudan et de Carlat (la cour de l'épervier au Puy restera le foyer du chant d'amour) dans une aire comprenant la Provence, le Languedoc, la Catalogne et le Limousin, qui commence à partir du mariage en 1112 de Douce de Gévaudan, comtesse de Gévaudan, de Carlat, comtesse de Provence, avec Raymond Bérenger III le Grand, comte de Barcelone. La cour de Blanche de Carlat-Gévaudan-Lodève-Provence, dont le siège passera d'une région à l'autre, sera effectivement le foyer d'une cour littéraire qui se perpétuera plusieurs siècles, et fera école dans les grands lignages seigneuriaux apparentés comme les vicomtes de Rodez, de Narbonne, ou de Ventadour.\\nAu XIIIe\\xa0siècle Raimon Vidal de Bezaudun nomme sa langue lemosi (limousin), tandis que les Italiens la nomment proensal (provençal), appellation qui fut reprise par certains romanistes du XIXe\\xa0siècle et du début du XXe\\xa0siècle, sous le terme «\\xa0d'ancien provençal\\xa0». Au XIVe\\xa0siècle, Dante dans son De vulgari eloquentia la nomme lingua d'oco (langue d'oc)[18]. Depuis le milieu du XXe\\xa0siècle, elle tend à être désignée comme ancien occitan.\\nLes plus anciens témoignages écrits en langue d'oc au XIe\\xa0siècle sont la Chanson de sainte Foy d'Agen et le Poème sur Boèce. Avec la langue religieuse et la langue de chancellerie, la langue littéraire fait partie de la scripta occitane qui constitue l'ensemble des textes écrits en ancien occitan au Moyen Âge.\\nQuelle que soit leur région d'origine, qu'ils soient gascons, provençaux, catalans ou italiens, les textes des troubadours copiés dans les chansonniers à partir du XIIIe\\xa0siècle, sont écrits dans une langue commune, une koinê, avec peu de caractères dialectaux différenciés. Cette forme normalisée définissait une langue littéraire spécifique au domaine poétique qui s'est diffusée avec les premiers troubadours classiques, tandis que dans le nord à la même époque la langue d'oïl était spécifiquement adaptée au genre épique[19]. Cette langue poétique ne connaît pas de variations dans le temps, entre le XIe et le XIIIe\\xa0siècle elle demeure immuable[20].\\nIl est difficile de localiser l'origine de l'ancien occitan qui partage des analogies avec le limousin et le languedocien. Raynouard en faisait à tort l'origine de toutes les langues romanes[21]. Quatre hypothèses ont été avancées pour l'origine de la koinê des troubadours: les origines limousine, poitevine, narbonnaise, et centraliste.\\nLa fin’ amor est une conception des relations amoureuses et courtoises entre le poète et sa dame (la domna comme elle est nommée par les troubadours), dont le rang social est souvent plus élevé que celui du poète\\xa0: c'est en fait une allégorie, un objet d'idéalisation et de désir inaccessible. La fin’ amor est aussi un jeu galant codifié destiné à éprouver la fidélité du prétendant pour sa dame.\\nEmpreint de valeurs héroïques propres à la chevalerie, la fin amor n'écarte pas l’adultère, mais évoque aussi des sentiments fins (délicats).\\nL’amour courtois se développa pour répondre à des règles très précises, finalement codifiées par plusieurs arrêts pris à la cour[26], notamment celle d’Aliénor d'Aquitaine qui joua un rôle considérable dans la diffusion de l’idéologie de l'amour courtois.\\nLes anciennes recherches sur l'histoire des troubadours se concentraient sur la détermination de leur origine. Aucune thèse n'a jamais fait consensus dans ce domaine. \\nLa thèse de l'influence arabe sur la genèse de l'œuvre lyrique des troubadours a été très discutée aux XIXe et XXe siècles[27]. Les spécialistes actuels tendent à ne plus croire à cette hypothèse d'une influence des thématiques de la poésie arabe sur celle des troubadours[28]\\xa0; si certains thèmes ou images poétiques sont identiques ce serait en raison d'une thématique «\\xa0universelle et polygénétique\\xa0»\\xa0: baisers dans le vent, séparation des amoureux, rendez-vous secrets, etc. De même, si des contacts culturels sont attestés entre les troubadours et la tradition lyrique hispano-arabe, des thématiques semblables pouvaient autant exister dans la tradition lyrique romane antérieure aux troubadours[28]. Certains spécialistes jugent néanmoins possible la transmission de la forme strophique de la poésie arabe vers la forme des poèmes et chants troubadours[28].\\nD'autres thèses proposent d'expliquer l'émergence des troubadours ou la singularité de leurs œuvres\\xa0: l'influence de la doctrine du catharisme, du christianisme (mariologie, liturgie), la survivance de coutumes païennes ou matriarcales (celtiques, germaniques...), les styles du latin médiéval, le folklore et la tradition orale, la littérature classique latine (Ovide, Cicéron, Platon), le néoplatonisme, et à partir du XXe\\xa0siècle l'analyse des facteurs politiques et sociaux.\\nLes troubadours apparaissent au moment de la première croisade, et leur déclin s'amorce avec la croisade des Albigeois. Plusieurs d'entre eux participeront aux croisades à commencer par Guilaume IX qui fait partie des chevaliers qui accompagnent Godefroi de Bouillon lors de la première Croisade et plus tard à la Reconquista.\\nLa première période de l'art lyrique des troubadours commence avec Guillaume IX d'Aquitaine, le plus ancien troubadour identifié, et est ensuite représenté par quatre autres poètes\\xa0: Cercamon, Marcabru, Jaufré Rudel et Eble de Ventadour.\\nTrobairitz est le féminin de troubadour en langue d'oc.\\n\\nLe troubadour a été un sujet populaire dans l'art français du XIXe siècle. Associé à la chevalerie et à l'amour courtois, le thème reflète une fascination romantique plus large pour le passé médiéval de la France[29].\\nSur les autres projets Wikimedia\\xa0:\""
      ]
     },
     "execution_count": 12,
     "metadata": {},
     "output_type": "execute_result"
    }
   ],
   "source": [
    "dico_txt['Troubadour']"
   ]
  },
  {
   "cell_type": "code",
   "execution_count": 57,
   "metadata": {},
   "outputs": [],
   "source": [
    "BeautifulSoup = bs4.BeautifulSoup()"
   ]
  },
  {
   "cell_type": "code",
   "execution_count": 81,
   "metadata": {},
   "outputs": [],
   "source": [
    "txt=''\n",
    "base=test.findAll(\"p\")         \n",
    "for h2 in base :\n",
    "    for string in h2.strings:\n",
    "        txt+=string\n",
    "   \n",
    "        \n",
    "    \n",
    "\n"
   ]
  },
  {
   "cell_type": "code",
   "execution_count": 82,
   "metadata": {},
   "outputs": [
    {
     "data": {
      "text/plain": [
       "\"\\n\\t\\tPages pour les éditeurs déconnectés en savoir plus\\nPour l’article homonyme, voir Troubadour (homonymie).\\nUn troubadour (de l'occitan trobador\\xa0: «\\xa0trouveur\\xa0», trobairitz au féminin\\xa0: «\\xa0trouveuse\\xa0») est un compositeur, poète, et musicien médiéval de langue d'oc, qui interprétait ou faisait interpréter par des jongleurs ou des ménestrels ses œuvres poétiques. Les femmes qui pratiquent l'art du trobar, sont appelées des trobairitz.\\nLe mouvement troubadour a commencé vers la fin du XIe\\xa0siècle en Occitanie, au sein de la haute noblesse occitane. Puis, il s'est répandu par la suite dans d'autres couches sociales et s'est étendu au nord de l'Italie et de l'Espagne. Les troubadours ont participé activement à la vie sociale, politique et religieuse de la société de l'époque. Sous l'influence des troubadours, des mouvements du même type se sont levés partout en Europe. Après la période «\\xa0classique\\xa0» vers le XIIIe\\xa0siècle et d'une résurgence au milieu de ce siècle, l'art des troubadours a décliné au XIVe\\xa0siècle puis a finalement disparu à l'époque de la Peste noire (1347-1352).\\nLes thèmes abordés dans les chansons des troubadours portent principalement sur la chevalerie et l'amour courtois. Les œuvres peuvent être groupés en trois styles\\xa0: le trobar leu (léger), le trobar ric (riche) et le trobar clus (fermé). Il y avait beaucoup de genres, le plus populaire étant les canso. Les sirventes et les tenson étaient surtout populaires dans la période post-classique, en Italie et parmi les trobairitz.\\nL’œuvre elle-même des troubadours est conservée dans plusieurs manuscrits et codex en France, Espagne ou Italie, et a été analysée par les philologues, et les musicologues à partir du XIXe\\xa0siècle.\\nL'image d'Épinal du frivole poète courtisan ou du baladin à grelot n'a qu'un très lointain rapport avec la réalité. Le baladin à grelots était plutôt le rôle des bateleurs et jongleurs qui accompagnent le troubadour et parfois chantent leur composition à leur place.\\nLes troubadours apparaissent à partir du XIe\\xa0siècle dans les cours des comtes de Barcelone (à partir de Raimond-Bérenger III) et des ducs d'Aquitaine (à partir de Guillaume IX le Troubadour) où se pratique la langue occitane, et se diffusent sur tout le territoire de leurs possessions, c'est-à-dire la moitié sud de la France, en Aquitaine, Périgord, Auvergne et Saintonge, ainsi que, pour les possessions des Comtes de Barcelone, en Catalogne, Aragon, Roussillon, Languedoc, Toulouse, Albigeois, Velay, Limousin, Carladès, Quercy, Rouergue, Provence, puis aussi en Lombardie, Toscane, République de Gênes[réf.\\xa0nécessaire]. Cette aire correspond à celle qu'on appelle aujourd'hui l'Occitanie.\\nLeurs poésies se diffusent dans tout le royaume de France, ainsi que dans le royaume d'Angleterre à la cour d'Aliénor d'Aquitaine, au Portugal, en Hongrie et beaucoup plus tardivement, jusqu'en Transcaucasie avec Sayat-Nova.\\nLes trouvères et trouveresses sont leurs équivalents de langue d'oïl dans le Nord de la France. Les Minnesängers sont leur équivalent germanique. Le trobadorismo est le mouvement lyrique galicien, et le trovadorismo son équivalent portugais.\\nLes thèmes les plus connus sont épiques, avec la vie des chevaliers, et lyriques avec la poésie courtoise.\\nIls sont aussi très souvent satiriques et comiques, moraux ou religieux, et même juridiques ou politiques comme l'Histoire de la guerre de Navarre de Guillaume Anelier.\\nLa poésie des troubadours est une littérature poétique en vers réguliers, destinée à être chantée, voire mise en dialogues et en saynètes.\\nLe troubadour est défini comme celui qui sait trouver des vers et composer les musiques, il correspond à l'idée actuelle d'inventeur ou de créateur. Par exemple la vida de Bernart de Ventadour indique qu'il savait trouver les bons mots et les belles musiques, «\\xa0aveia sotilessa et art de trobar bos motz e gai sons\\xa0»[1]. Les deux éléments sont indissociables, la poésie est faite d'abord pour être chantée et non récitée[1]. Le troubadour était à la fois celui qui maîtrisait l'art poétique, et qui composait des mélodies pour accompagner le texte. Le mot troubadour, au sens strict, désigne les poètes du Moyen Âge s'exprimant en langue occitane.\\nLe terme occitan trobador (trobairitz au féminin) «\\xa0poète, compositeur\\xa0» est attesté au XIIe\\xa0siècle chez Peire d'Alvernhe[2]. Les linguistes estiment que le radical du mot est semblable à celui de trobar qui, en ancien occitan signifie «\\xa0composer\\xa0», «\\xa0inventer\\xa0», ou «\\xa0deviser\\xa0» (voir les dictionnaires Académie française, Larousse, Robert). Le mot troubadour n'a pas été emprunté par le français avant le XVIe\\xa0siècle, en effet, il n'est mentionné qu'en 1575 au sens de «\\xa0poète lyrique courtois de langue d'oc aux XIIe et XIIIe\\xa0siècles\\xa0» (J. de Nostre Dame, Vies des anciens poetes provençaux, p.\\xa014 ds Gdf. Compl.)[2].\\nLe mot trobador se superpose exactement au mot français trouveur[3]. Quant à trouvère, attesté également au XIIe\\xa0siècle, il représente l'ancien cas sujet du mot d'oïl troveor «\\xa0trouveur\\xa0» (cas régime)[4]. Ces derniers sont basés sur le même étymon que «\\xa0trouver\\xa0», qui apparaît en français dès le Xe\\xa0siècle dans un sens proche de celui du français actuel «\\xa0découvrir, rencontrer par hasard\\xa0» (La Vie de saint Léger, édition J. Linskill, 100)\\xa0; puis vers 1050 au sens de «\\xa0découvrir quelque chose ou quelqu'un que l'on cherche\\xa0» (Vie de saint Alexis, édition Chr. Storey, 114, 315). C'est seulement au XIIe\\xa0siècle qu'il est donné avec la signification de «\\xa0composer quelque chose en vers\\xa0» (Wace, Roman de Brut, édition I. Arnold, 3342)[5],[6].\\nSelon la plupart des linguistes l'occitan trobar et le français trouver remontent à un terme du latin populaire non attesté *tropare «\\xa0composer, inventer un air\\xa0» d'où «\\xa0composer un poème\\xa0», puis «\\xa0inventer, découvrir\\xa0», dérivé de tropus «\\xa0figure de rhétorique\\xa0»[7],[8],[9],[10] (cf. latin contropare, voir controuver[11]).\\nCependant des historiens, des spécialistes de la littérature ou des musicologues considérant une possible origine arabe de l'art des troubadours proposent aussi un étymon arabe au terme de trobar\\xa0: dès 1928, l'arabiste espagnol Julián Ribera y Tarragó a émis l'hypothèse d'une origine arabe au mot trobar et ses proches parents, du moins dans son usage spécialisé de «\\xa0composer des vers, chanter, etc.\\xa0». Ribera a identifié l'arabe tʕaraba «\\xa0chanson\\xa0» (issu de la racine trilatérale Tʕ-R-B «\\xa0susciter une émotion, une excitation, une agitation; faire de la musique, distraire par la chanson\\xa0») comme une origine probable[12]. Ce lexème aurait été emprunté par les dialectes romans parlés en Andalousie, lors de l'occupation de l'Espagne par les arabes, puis en catalan et en occitan. Une proposition similaire a été faite, mais sur la base d'un étymon différent, c'est-à-dire Dʕ-R-B «\\xa0émettre un son, frapper une touche\\xa0», par extension «\\xa0jouer d'un instrument de musique\\xa0»[13]. Ainsi, l'homophonie entre le terme indigène trobar «\\xa0trouver\\xa0» et le mot arabe Dʕ-R-B a pu contribuer au sens spécifique pris par le verbe trobar au Moyen Âge[14],[15],[10].\\nLe verbe trouver en français avec la signification de «\\xa0découvrir, rencontrer par hasard\\xa0» est attesté antérieurement à ses équivalents dans toutes les langues romanes (y compris l'occitan trobar), ce qui ne permet pas de vérifier cette théorie. Cependant, la signification «\\xa0composer quelque chose en vers\\xa0» apparue plus tardivement en français et de manière contemporaine à celle de l'occitan trobar au sens de «\\xa0composer, inventer, deviser\\xa0» justifie peut-être une influence arabe sur le plan sémantique. On doit préalablement supposer que le sens «\\xa0composer quelque chose en vers\\xa0» pris par le mot français a été influencé par celui pris par l'occitan.\\nLe radical latin trop- est suivi du suffixe latin d'agent -ātor, -atōris, ainsi le gallo-roman *TROPĀTOR[16] aboutit parallèlement au français trouvère et à l'occitan trobaire (cas sujet) et *TROPATŌRE[17] à troveor, troveeur «\\xa0trouveur\\xa0» et trobador «\\xa0troubadour\\xa0» (cas régime) (voir aussi PISCĀTOR > ancien français peschiere / occitan pescaire (> peuchère) et PISCATŌRE > ancien français pescheeur, pêcheur / occitan pescador[17]).\\nPar ailleurs, en français contemporain, un «\\xa0trope\\xa0» est une figure de mots, c'est-à-dire une partie du discours dans laquelle les mots sont utilisés dans un sens différent de leur sens propre, un sens figuré, comme dans la création de métaphores ou de métonymies\\xa0; un sens particulier existe en musique\\xa0: invention d'un nouveau texte sur une mélodie pré-existante. Le mot latin est issu lui-même du grec τρόπος, qui signifie «\\xa0manière\\xa0», «\\xa0tournure\\xa0». Les premiers «\\xa0tropes\\xa0» étaient des textes poétiques «\\xa0trouvés\\xa0» et ajoutés sur les mélodies pré-existantes du chant grégorien (point de départ de l'invention poétique médiévale).\\nLa langue des troubadours était la lenga romana, langue romane, terme toujours utilisé par les chartistes pour désigner la langue des textes profanes du Moyen Âge de ces régions, qu'ils soient poétiques ou non. On lui préfère actuellement l'appellation d'ancien occitan. Le mot occitanien est apparu pour la première fois dans l'Essai de glossaire occitanien publié en 1819 par Henri de Rochegude à partir d'un mélange d’œuvres des différents troubadours. Son introduction fait état du débat, déjà très vif à l'époque, sur les deux questions de l'unicité linguistique du Sud de la France, et du nom qu'il faut donner à la langue des troubadours. Il fait l'hypothèse de l'unicité, rejette les appellations concurrentes de provençal, de limousin et de catalan, pour adopter celle d'occitanien, afin de ne pas la confondre avec le dialecte languedocien encore très parlé à son époque. Reprenant l’Histoire générale de la Provence de Jean-Pierre Papon, il explique cette unicité linguistique originelle par la création et la diffusion d'un beau parler depuis les vicomtés de Gévaudan et de Carlat (la cour de l'épervier au Puy restera le foyer du chant d'amour) dans une aire comprenant la Provence, le Languedoc, la Catalogne et le Limousin, qui commence à partir du mariage en 1112 de Douce de Gévaudan, comtesse de Gévaudan, de Carlat, comtesse de Provence, avec Raymond Bérenger III le Grand, comte de Barcelone. La cour de Blanche de Carlat-Gévaudan-Lodève-Provence, dont le siège passera d'une région à l'autre, sera effectivement le foyer d'une cour littéraire qui se perpétuera plusieurs siècles, et fera école dans les grands lignages seigneuriaux apparentés comme les vicomtes de Rodez, de Narbonne, ou de Ventadour.\\nAu XIIIe\\xa0siècle Raimon Vidal de Bezaudun nomme sa langue lemosi (limousin), tandis que les Italiens la nomment proensal (provençal), appellation qui fut reprise par certains romanistes du XIXe\\xa0siècle et du début du XXe\\xa0siècle, sous le terme «\\xa0d'ancien provençal\\xa0». Au XIVe\\xa0siècle, Dante dans son De vulgari eloquentia la nomme lingua d'oco (langue d'oc)[18]. Depuis le milieu du XXe\\xa0siècle, elle tend à être désignée comme ancien occitan.\\nLes plus anciens témoignages écrits en langue d'oc au XIe\\xa0siècle sont la Chanson de sainte Foy d'Agen et le Poème sur Boèce. Avec la langue religieuse et la langue de chancellerie, la langue littéraire fait partie de la scripta occitane qui constitue l'ensemble des textes écrits en ancien occitan au Moyen Âge.\\nQuelle que soit leur région d'origine, qu'ils soient gascons, provençaux, catalans ou italiens, les textes des troubadours copiés dans les chansonniers à partir du XIIIe\\xa0siècle, sont écrits dans une langue commune, une koinê, avec peu de caractères dialectaux différenciés. Cette forme normalisée définissait une langue littéraire spécifique au domaine poétique qui s'est diffusée avec les premiers troubadours classiques, tandis que dans le nord à la même époque la langue d'oïl était spécifiquement adaptée au genre épique[19]. Cette langue poétique ne connaît pas de variations dans le temps, entre le XIe et le XIIIe\\xa0siècle elle demeure immuable[20].\\nIl est difficile de localiser l'origine de l'ancien occitan qui partage des analogies avec le limousin et le languedocien. Raynouard en faisait à tort l'origine de toutes les langues romanes[21]. Quatre hypothèses ont été avancées pour l'origine de la koinê des troubadours: les origines limousine, poitevine, narbonnaise, et centraliste.\\nLa fin’ amor est une conception des relations amoureuses et courtoises entre le poète et sa dame (la domna comme elle est nommée par les troubadours), dont le rang social est souvent plus élevé que celui du poète\\xa0: c'est en fait une allégorie, un objet d'idéalisation et de désir inaccessible. La fin’ amor est aussi un jeu galant codifié destiné à éprouver la fidélité du prétendant pour sa dame.\\nEmpreint de valeurs héroïques propres à la chevalerie, la fin amor n'écarte pas l’adultère, mais évoque aussi des sentiments fins (délicats).\\nL’amour courtois se développa pour répondre à des règles très précises, finalement codifiées par plusieurs arrêts pris à la cour[26], notamment celle d’Aliénor d'Aquitaine qui joua un rôle considérable dans la diffusion de l’idéologie de l'amour courtois.\\nLes anciennes recherches sur l'histoire des troubadours se concentraient sur la détermination de leur origine. Aucune thèse n'a jamais fait consensus dans ce domaine. \\nLa thèse de l'influence arabe sur la genèse de l'œuvre lyrique des troubadours a été très discutée aux XIXe et XXe siècles[27]. Les spécialistes actuels tendent à ne plus croire à cette hypothèse d'une influence des thématiques de la poésie arabe sur celle des troubadours[28]\\xa0; si certains thèmes ou images poétiques sont identiques ce serait en raison d'une thématique «\\xa0universelle et polygénétique\\xa0»\\xa0: baisers dans le vent, séparation des amoureux, rendez-vous secrets, etc. De même, si des contacts culturels sont attestés entre les troubadours et la tradition lyrique hispano-arabe, des thématiques semblables pouvaient autant exister dans la tradition lyrique romane antérieure aux troubadours[28]. Certains spécialistes jugent néanmoins possible la transmission de la forme strophique de la poésie arabe vers la forme des poèmes et chants troubadours[28].\\nD'autres thèses proposent d'expliquer l'émergence des troubadours ou la singularité de leurs œuvres\\xa0: l'influence de la doctrine du catharisme, du christianisme (mariologie, liturgie), la survivance de coutumes païennes ou matriarcales (celtiques, germaniques...), les styles du latin médiéval, le folklore et la tradition orale, la littérature classique latine (Ovide, Cicéron, Platon), le néoplatonisme, et à partir du XXe\\xa0siècle l'analyse des facteurs politiques et sociaux.\\nLes troubadours apparaissent au moment de la première croisade, et leur déclin s'amorce avec la croisade des Albigeois. Plusieurs d'entre eux participeront aux croisades à commencer par Guilaume IX qui fait partie des chevaliers qui accompagnent Godefroi de Bouillon lors de la première Croisade et plus tard à la Reconquista.\\nLa première période de l'art lyrique des troubadours commence avec Guillaume IX d'Aquitaine, le plus ancien troubadour identifié, et est ensuite représenté par quatre autres poètes\\xa0: Cercamon, Marcabru, Jaufré Rudel et Eble de Ventadour.\\nTrobairitz est le féminin de troubadour en langue d'oc.\\n\\nLe troubadour a été un sujet populaire dans l'art français du XIXe siècle. Associé à la chevalerie et à l'amour courtois, le thème reflète une fascination romantique plus large pour le passé médiéval de la France[29].\\nSur les autres projets Wikimedia\\xa0:\""
      ]
     },
     "execution_count": 82,
     "metadata": {},
     "output_type": "execute_result"
    }
   ],
   "source": [
    "txt"
   ]
  },
  {
   "cell_type": "code",
   "execution_count": 78,
   "metadata": {},
   "outputs": [
    {
     "data": {
      "text/plain": [
       "'L’œuvre elle-même des troubadours est conservée dans plusieurs manuscrits et codex en France, Espagne ou Italie, et a été analysée par les philologues, et les musicologues à partir du XIXe\\xa0siècle.\\n'"
      ]
     },
     "execution_count": 78,
     "metadata": {},
     "output_type": "execute_result"
    }
   ],
   "source": [
    "L[5]"
   ]
  },
  {
   "cell_type": "code",
   "execution_count": 44,
   "metadata": {},
   "outputs": [
    {
     "data": {
      "text/plain": [
       "[<h2 id=\"mw-toc-heading\">Sommaire</h2>,\n",
       " <h2><span id=\"Aire_g.C3.A9ographique\"></span><span class=\"mw-headline\" id=\"Aire_géographique\">Aire géographique</span><span class=\"mw-editsection\"><span class=\"mw-editsection-bracket\">[</span><a class=\"mw-editsection-visualeditor\" href=\"/w/index.php?title=Troubadour&amp;veaction=edit&amp;section=1\" title=\"Modifier la section : Aire géographique\">modifier</a><span class=\"mw-editsection-divider\"> | </span><a href=\"/w/index.php?title=Troubadour&amp;action=edit&amp;section=1\" title=\"Modifier la section : Aire géographique\">modifier le code</a><span class=\"mw-editsection-bracket\">]</span></span></h2>,\n",
       " <h2><span id=\"Th.C3.A8mes\"></span><span class=\"mw-headline\" id=\"Thèmes\">Thèmes</span><span class=\"mw-editsection\"><span class=\"mw-editsection-bracket\">[</span><a class=\"mw-editsection-visualeditor\" href=\"/w/index.php?title=Troubadour&amp;veaction=edit&amp;section=2\" title=\"Modifier la section : Thèmes\">modifier</a><span class=\"mw-editsection-divider\"> | </span><a href=\"/w/index.php?title=Troubadour&amp;action=edit&amp;section=2\" title=\"Modifier la section : Thèmes\">modifier le code</a><span class=\"mw-editsection-bracket\">]</span></span></h2>,\n",
       " <h2><span id=\"Po.C3.A8te_et_musicien\"></span><span class=\"mw-headline\" id=\"Poète_et_musicien\">Poète et musicien</span><span class=\"mw-editsection\"><span class=\"mw-editsection-bracket\">[</span><a class=\"mw-editsection-visualeditor\" href=\"/w/index.php?title=Troubadour&amp;veaction=edit&amp;section=3\" title=\"Modifier la section : Poète et musicien\">modifier</a><span class=\"mw-editsection-divider\"> | </span><a href=\"/w/index.php?title=Troubadour&amp;action=edit&amp;section=3\" title=\"Modifier la section : Poète et musicien\">modifier le code</a><span class=\"mw-editsection-bracket\">]</span></span></h2>,\n",
       " <h2><span id=\".C3.89tymologie\"></span><span class=\"mw-headline\" id=\"Étymologie\">Étymologie</span><span class=\"mw-editsection\"><span class=\"mw-editsection-bracket\">[</span><a class=\"mw-editsection-visualeditor\" href=\"/w/index.php?title=Troubadour&amp;veaction=edit&amp;section=4\" title=\"Modifier la section : Étymologie\">modifier</a><span class=\"mw-editsection-divider\"> | </span><a href=\"/w/index.php?title=Troubadour&amp;action=edit&amp;section=4\" title=\"Modifier la section : Étymologie\">modifier le code</a><span class=\"mw-editsection-bracket\">]</span></span></h2>,\n",
       " <h2><span class=\"mw-headline\" id=\"La_langue_des_troubadours\">La langue des troubadours</span><span class=\"mw-editsection\"><span class=\"mw-editsection-bracket\">[</span><a class=\"mw-editsection-visualeditor\" href=\"/w/index.php?title=Troubadour&amp;veaction=edit&amp;section=5\" title=\"Modifier la section : La langue des troubadours\">modifier</a><span class=\"mw-editsection-divider\"> | </span><a href=\"/w/index.php?title=Troubadour&amp;action=edit&amp;section=5\" title=\"Modifier la section : La langue des troubadours\">modifier le code</a><span class=\"mw-editsection-bracket\">]</span></span></h2>,\n",
       " <h2><span id=\"La_fin.27_amor\"></span><span class=\"mw-headline\" id=\"La_fin'_amor\">La fin' amor</span><span class=\"mw-editsection\"><span class=\"mw-editsection-bracket\">[</span><a class=\"mw-editsection-visualeditor\" href=\"/w/index.php?title=Troubadour&amp;veaction=edit&amp;section=6\" title=\"Modifier la section : La fin' amor\">modifier</a><span class=\"mw-editsection-divider\"> | </span><a href=\"/w/index.php?title=Troubadour&amp;action=edit&amp;section=6\" title=\"Modifier la section : La fin' amor\">modifier le code</a><span class=\"mw-editsection-bracket\">]</span></span></h2>,\n",
       " <h2><span class=\"mw-headline\" id=\"Origines\">Origines</span><span class=\"mw-editsection\"><span class=\"mw-editsection-bracket\">[</span><a class=\"mw-editsection-visualeditor\" href=\"/w/index.php?title=Troubadour&amp;veaction=edit&amp;section=7\" title=\"Modifier la section : Origines\">modifier</a><span class=\"mw-editsection-divider\"> | </span><a href=\"/w/index.php?title=Troubadour&amp;action=edit&amp;section=7\" title=\"Modifier la section : Origines\">modifier le code</a><span class=\"mw-editsection-bracket\">]</span></span></h2>,\n",
       " <h2><span class=\"mw-headline\" id=\"Histoire\">Histoire</span><span class=\"mw-editsection\"><span class=\"mw-editsection-bracket\">[</span><a class=\"mw-editsection-visualeditor\" href=\"/w/index.php?title=Troubadour&amp;veaction=edit&amp;section=8\" title=\"Modifier la section : Histoire\">modifier</a><span class=\"mw-editsection-divider\"> | </span><a href=\"/w/index.php?title=Troubadour&amp;action=edit&amp;section=8\" title=\"Modifier la section : Histoire\">modifier le code</a><span class=\"mw-editsection-bracket\">]</span></span></h2>,\n",
       " <h2><span class=\"mw-headline\" id=\"Liste_des_troubadours_et_des_trobairitz\">Liste des troubadours et des trobairitz</span><span class=\"mw-editsection\"><span class=\"mw-editsection-bracket\">[</span><a class=\"mw-editsection-visualeditor\" href=\"/w/index.php?title=Troubadour&amp;veaction=edit&amp;section=9\" title=\"Modifier la section : Liste des troubadours et des trobairitz\">modifier</a><span class=\"mw-editsection-divider\"> | </span><a href=\"/w/index.php?title=Troubadour&amp;action=edit&amp;section=9\" title=\"Modifier la section : Liste des troubadours et des trobairitz\">modifier le code</a><span class=\"mw-editsection-bracket\">]</span></span></h2>,\n",
       " <h2><span class=\"mw-headline\" id=\"Les_genres_lyriques\">Les genres lyriques</span><span class=\"mw-editsection\"><span class=\"mw-editsection-bracket\">[</span><a class=\"mw-editsection-visualeditor\" href=\"/w/index.php?title=Troubadour&amp;veaction=edit&amp;section=10\" title=\"Modifier la section : Les genres lyriques\">modifier</a><span class=\"mw-editsection-divider\"> | </span><a href=\"/w/index.php?title=Troubadour&amp;action=edit&amp;section=10\" title=\"Modifier la section : Les genres lyriques\">modifier le code</a><span class=\"mw-editsection-bracket\">]</span></span></h2>,\n",
       " <h2><span id=\"Post.C3.A9rit.C3.A9\"></span><span class=\"mw-headline\" id=\"Postérité\">Postérité</span><span class=\"mw-editsection\"><span class=\"mw-editsection-bracket\">[</span><a class=\"mw-editsection-visualeditor\" href=\"/w/index.php?title=Troubadour&amp;veaction=edit&amp;section=14\" title=\"Modifier la section : Postérité\">modifier</a><span class=\"mw-editsection-divider\"> | </span><a href=\"/w/index.php?title=Troubadour&amp;action=edit&amp;section=14\" title=\"Modifier la section : Postérité\">modifier le code</a><span class=\"mw-editsection-bracket\">]</span></span></h2>,\n",
       " <h2><span id=\"Notes_et_r.C3.A9f.C3.A9rences\"></span><span class=\"mw-headline\" id=\"Notes_et_références\">Notes et références</span><span class=\"mw-editsection\"><span class=\"mw-editsection-bracket\">[</span><a class=\"mw-editsection-visualeditor\" href=\"/w/index.php?title=Troubadour&amp;veaction=edit&amp;section=15\" title=\"Modifier la section : Notes et références\">modifier</a><span class=\"mw-editsection-divider\"> | </span><a href=\"/w/index.php?title=Troubadour&amp;action=edit&amp;section=15\" title=\"Modifier la section : Notes et références\">modifier le code</a><span class=\"mw-editsection-bracket\">]</span></span></h2>,\n",
       " <h2><span class=\"mw-headline\" id=\"Annexes\">Annexes</span><span class=\"mw-editsection\"><span class=\"mw-editsection-bracket\">[</span><a class=\"mw-editsection-visualeditor\" href=\"/w/index.php?title=Troubadour&amp;veaction=edit&amp;section=16\" title=\"Modifier la section : Annexes\">modifier</a><span class=\"mw-editsection-divider\"> | </span><a href=\"/w/index.php?title=Troubadour&amp;action=edit&amp;section=16\" title=\"Modifier la section : Annexes\">modifier le code</a><span class=\"mw-editsection-bracket\">]</span></span></h2>]"
      ]
     },
     "execution_count": 44,
     "metadata": {},
     "output_type": "execute_result"
    }
   ],
   "source": [
    "\n",
    "soup = BeautifulSoup(doc, \"html.parser\") \n",
    "  \n",
    "tag = soup.body \n",
    "  \n",
    "for string in tag.strings: \n",
    "    print(string) "
   ]
  },
  {
   "cell_type": "code",
   "execution_count": 89,
   "metadata": {},
   "outputs": [
    {
     "data": {
      "text/plain": [
       "15412"
      ]
     },
     "execution_count": 89,
     "metadata": {},
     "output_type": "execute_result"
    }
   ],
   "source": [
    "len(dico_txt['Absurde'])"
   ]
  },
  {
   "cell_type": "code",
   "execution_count": null,
   "metadata": {},
   "outputs": [],
   "source": [
    "#tokenization\n",
    "# dico de vocab pr chaque texte\n"
   ]
  },
  {
   "cell_type": "code",
   "execution_count": 101,
   "metadata": {},
   "outputs": [
    {
     "name": "stdout",
     "output_type": "stream",
     "text": [
      "Litt%C3%A9rature_hagiographique\n",
      "11557\n",
      "Chanson_de_geste\n",
      "12214\n",
      "Troubadour\n",
      "15412\n",
      "Roman_courtois\n",
      "3204\n",
      "Fabliau\n",
      "8626\n",
      "Grands_rh%C3%A9toriqueurs\n",
      "5366\n",
      "Po%C3%A9sie_courtoise\n",
      "1716\n",
      "Humanisme_de_la_Renaissance\n",
      "29058\n",
      "Pl%C3%A9iade_(XVIe_si%C3%A8cle)\n",
      "8652\n",
      "Picaresque\n",
      "5092\n",
      "Litt%C3%A9rature_baroque\n",
      "8374\n",
      "Burlesque\n",
      "7865\n",
      "Classicisme\n",
      "24412\n",
      "Qui%C3%A9tisme\n",
      "8922\n",
      "Pr%C3%A9ciosit%C3%A9\n",
      "3389\n",
      "Moralisme\n",
      "20133\n",
      "Illuminisme\n",
      "15969\n",
      "Roman_gothique\n",
      "8076\n",
      "Pr%C3%A9romantisme\n",
      "3174\n",
      "Libertin\n",
      "9416\n",
      "Lumi%C3%A8res_(philosophie)\n",
      "39936\n",
      "Romantisme\n",
      "18512\n",
      "R%C3%A9alisme_(litt%C3%A9rature)\n",
      "17681\n",
      "Naturalisme_(litt%C3%A9rature)\n",
      "6691\n",
      "Parnasse_(litt%C3%A9rature)\n",
      "9562\n",
      "Symbolisme_(art)\n",
      "51191\n",
      "%C3%89cole_romane\n",
      "2044\n",
      "D%C3%A9cadentisme\n",
      "9184\n",
      "Esth%C3%A9tisme\n",
      "785\n",
      "Absurde\n",
      "4682\n",
      "Surr%C3%A9alisme\n",
      "25045\n",
      "Oulipo\n",
      "9823\n",
      "Futurisme\n",
      "11262\n",
      "Courant_de_conscience\n",
      "4054\n",
      "Dada%C3%AFsme\n",
      "20677\n",
      "Populisme_(litt%C3%A9rature)\n",
      "1228\n",
      "R%C3%A9alisme_socialiste_en_France\n",
      "14123\n",
      "Renaissance_litt%C3%A9raire_catholique_en_France\n",
      "5652\n",
      "Litt%C3%A9rature_prol%C3%A9tarienne\n",
      "17017\n",
      "Roman_jdanovien_fran%C3%A7ais\n",
      "4994\n",
      "Existentialisme\n",
      "33426\n",
      "N%C3%A9or%C3%A9alisme_(art)\n",
      "2194\n",
      "Objectivisme_(litt%C3%A9rature)\n",
      "4293\n",
      "%C3%89cole_de_Rochefort\n",
      "3638\n",
      "Th%C3%A9%C3%A2tre_de_l%27absurde\n",
      "6492\n",
      "Lettrisme\n",
      "14765\n",
      "Lost_Generation\n",
      "1777\n",
      "Beat_Generation\n",
      "12422\n",
      "Nouveau_roman\n",
      "29955\n",
      "Autofiction\n",
      "6884\n",
      "R%C3%A9alisme_magique\n",
      "17487\n",
      "Nouvelle_fiction\n",
      "4417\n",
      "Imagisme\n",
      "9979\n",
      "R%C3%A9alisme_hyst%C3%A9rique\n",
      "2679\n",
      "Post-humanisme\n",
      "11567\n",
      "N%C3%A9gritude\n",
      "6142\n",
      "Sacra%C3%AFsme\n",
      "2341\n"
     ]
    }
   ],
   "source": [
    "for cpl in dico_txt.items():\n",
    "    key,value=cpl\n",
    "    print(key),print(len(value))"
   ]
  },
  {
   "cell_type": "code",
   "execution_count": 1,
   "metadata": {
    "scrolled": false
   },
   "outputs": [
    {
     "ename": "NameError",
     "evalue": "name 'dico_txt' is not defined",
     "output_type": "error",
     "traceback": [
      "\u001b[0;31m---------------------------------------------------------------------------\u001b[0m",
      "\u001b[0;31mNameError\u001b[0m                                 Traceback (most recent call last)",
      "\u001b[0;32m<ipython-input-1-77b39cb0c131>\u001b[0m in \u001b[0;36m<module>\u001b[0;34m\u001b[0m\n\u001b[0;32m----> 1\u001b[0;31m \u001b[0mdico_txt\u001b[0m\u001b[0;34m[\u001b[0m\u001b[0;34m'Picaresque'\u001b[0m\u001b[0;34m]\u001b[0m\u001b[0;34m\u001b[0m\u001b[0;34m\u001b[0m\u001b[0m\n\u001b[0m",
      "\u001b[0;31mNameError\u001b[0m: name 'dico_txt' is not defined"
     ]
    }
   ],
   "source": [
    "dico_txt['Picaresque']"
   ]
  },
  {
   "cell_type": "code",
   "execution_count": 102,
   "metadata": {},
   "outputs": [],
   "source": [
    "#clean\n",
    "# td idf\n",
    "#dictionary\n",
    "#"
   ]
  },
  {
   "cell_type": "code",
   "execution_count": 39,
   "metadata": {},
   "outputs": [
    {
     "data": {
      "text/plain": [
       "True"
      ]
     },
     "execution_count": 39,
     "metadata": {},
     "output_type": "execute_result"
    }
   ],
   "source": [
    "'a'.isalnum()"
   ]
  },
  {
   "cell_type": "code",
   "execution_count": 13,
   "metadata": {},
   "outputs": [
    {
     "name": "stderr",
     "output_type": "stream",
     "text": [
      "[nltk_data] Downloading package stopwords to\n",
      "[nltk_data]     /pbs/home/b/bpipaud/nltk_data...\n",
      "[nltk_data]   Package stopwords is already up-to-date!\n"
     ]
    }
   ],
   "source": [
    "import spacy\n",
    "import nltk\n",
    "nlp = spacy.load(\"fr_core_news_sm\")\n",
    "from nltk.corpus import stopwords\n",
    "nltk.download('stopwords')\n",
    "stop=stopwords.words('french')\n"
   ]
  },
  {
   "cell_type": "code",
   "execution_count": 40,
   "metadata": {},
   "outputs": [],
   "source": [
    "def clean_txt(s):\n",
    "    doc = nlp(s)\n",
    "    L=[]\n",
    "    for token in doc:\n",
    "        s_t = str(token)\n",
    "        alphanum=True\n",
    "        if not s_t in stop:\n",
    "            for char in s_t:\n",
    "                alphanum = char.isalnum() and alphanum\n",
    "            if alphanum:            \n",
    "                L.append(token.lemma_)\n",
    "    L=np.array(L)\n",
    "    return ' '.join(L)\n",
    "        \n",
    "    "
   ]
  },
  {
   "cell_type": "code",
   "execution_count": 41,
   "metadata": {},
   "outputs": [
    {
     "name": "stdout",
     "output_type": "stream",
     "text": [
      "Litt%C3%A9rature_hagiographique\n",
      "11557\n",
      "Chanson_de_geste\n",
      "12214\n",
      "Troubadour\n",
      "15412\n",
      "Roman_courtois\n",
      "3204\n",
      "Fabliau\n",
      "8626\n",
      "Grands_rh%C3%A9toriqueurs\n",
      "5366\n",
      "Po%C3%A9sie_courtoise\n",
      "1716\n",
      "Humanisme_de_la_Renaissance\n",
      "29058\n",
      "Pl%C3%A9iade_(XVIe_si%C3%A8cle)\n",
      "8652\n",
      "Picaresque\n",
      "5092\n",
      "Litt%C3%A9rature_baroque\n",
      "8374\n",
      "Burlesque\n",
      "7865\n",
      "Classicisme\n",
      "24412\n",
      "Qui%C3%A9tisme\n",
      "8922\n",
      "Pr%C3%A9ciosit%C3%A9\n",
      "3389\n",
      "Moralisme\n",
      "20133\n",
      "Illuminisme\n",
      "15969\n",
      "Roman_gothique\n",
      "8076\n",
      "Pr%C3%A9romantisme\n",
      "3174\n",
      "Libertin\n",
      "9416\n",
      "Lumi%C3%A8res_(philosophie)\n",
      "39936\n",
      "Romantisme\n",
      "18512\n",
      "R%C3%A9alisme_(litt%C3%A9rature)\n",
      "17681\n",
      "Naturalisme_(litt%C3%A9rature)\n",
      "6691\n",
      "Parnasse_(litt%C3%A9rature)\n",
      "9562\n",
      "Symbolisme_(art)\n",
      "51191\n",
      "%C3%89cole_romane\n",
      "2044\n",
      "D%C3%A9cadentisme\n",
      "9184\n",
      "Esth%C3%A9tisme\n",
      "785\n",
      "Absurde\n",
      "4682\n",
      "Surr%C3%A9alisme\n",
      "25045\n",
      "Oulipo\n",
      "9823\n",
      "Futurisme\n",
      "11262\n",
      "Courant_de_conscience\n",
      "4054\n",
      "Dada%C3%AFsme\n",
      "20677\n",
      "Populisme_(litt%C3%A9rature)\n",
      "1228\n",
      "R%C3%A9alisme_socialiste_en_France\n",
      "14123\n",
      "Renaissance_litt%C3%A9raire_catholique_en_France\n",
      "5652\n",
      "Litt%C3%A9rature_prol%C3%A9tarienne\n",
      "17017\n",
      "Roman_jdanovien_fran%C3%A7ais\n",
      "4994\n",
      "Existentialisme\n",
      "33426\n",
      "N%C3%A9or%C3%A9alisme_(art)\n",
      "2194\n",
      "Objectivisme_(litt%C3%A9rature)\n",
      "4293\n",
      "%C3%89cole_de_Rochefort\n",
      "3638\n",
      "Th%C3%A9%C3%A2tre_de_l%27absurde\n",
      "6492\n",
      "Lettrisme\n",
      "14765\n",
      "Lost_Generation\n",
      "1777\n",
      "Beat_Generation\n",
      "12422\n",
      "Nouveau_roman\n",
      "29955\n",
      "Autofiction\n",
      "6884\n",
      "R%C3%A9alisme_magique\n",
      "17487\n",
      "Nouvelle_fiction\n",
      "4417\n",
      "Imagisme\n",
      "9979\n",
      "R%C3%A9alisme_hyst%C3%A9rique\n",
      "2679\n",
      "Post-humanisme\n",
      "11567\n",
      "N%C3%A9gritude\n",
      "6142\n",
      "Sacra%C3%AFsme\n",
      "2341\n"
     ]
    }
   ],
   "source": [
    "dico_txt_clean={}\n",
    "for cpl in dico_txt.items():\n",
    "    key,value=cpl\n",
    "    print(key),print(len(value))\n",
    "    dico_txt_clean[key]=clean_txt(value)"
   ]
  },
  {
   "cell_type": "code",
   "execution_count": 28,
   "metadata": {},
   "outputs": [
    {
     "data": {
      "text/plain": [
       "\"\\n\\t\\tPages pour les éditeurs déconnectés en savoir plus\\nPour l’article homonyme, voir Troubadour (homonymie).\\nUn troubadour (de l'occitan trobador\\xa0: «\\xa0trouveur\\xa0», trobairitz au féminin\\xa0: «\\xa0trouveuse\\xa0») est un compositeur, poète, et musicien médiéval de langue d'oc, qui interprétait ou faisait interpréter par des jongleurs ou des ménestrels ses œuvres poétiques. Les femmes qui pratiquent l'art du trobar, sont appelées des trobairitz.\\nLe mouvement troubadour a commencé vers la fin du XIe\\xa0siècle en Occitanie, au sein de la haute noblesse occitane. Puis, il s'est répandu par la suite dans d'autres couches sociales et s'est étendu au nord de l'Italie et de l'Espagne. Les troubadours ont participé activement à la vie sociale, politique et religieuse de la société de l'époque. Sous l'influence des troubadours, des mouvements du même type se sont levés partout en Europe. Après la période «\\xa0classique\\xa0» vers le XIIIe\\xa0siècle et d'une résurgence au milieu de ce siècle, l'art des troubadours a décliné au XIVe\\xa0siècle puis a finalement disparu à l'époque de la Peste noire (1347-1352).\\nLes thèmes abordés dans les chansons des troubadours portent principalement sur la chevalerie et l'amour courtois. Les œuvres peuvent être groupés en trois styles\\xa0: le trobar leu (léger), le trobar ric (riche) et le trobar clus (fermé). Il y avait beaucoup de genres, le plus populaire étant les canso. Les sirventes et les tenson étaient surtout populaires dans la période post-classique, en Italie et parmi les trobairitz.\\nL’œuvre elle-même des troubadours est conservée dans plusieurs manuscrits et codex en France, Espagne ou Italie, et a été analysée par les philologues, et les musicologues à partir du XIXe\\xa0siècle.\\nL'image d'Épinal du frivole poète courtisan ou du baladin à grelot n'a qu'un très lointain rapport avec la réalité. Le baladin à grelots était plutôt le rôle des bateleurs et jongleurs qui accompagnent le troubadour et parfois chantent leur composition à leur place.\\nLes troubadours apparaissent à partir du XIe\\xa0siècle dans les cours des comtes de Barcelone (à partir de Raimond-Bérenger III) et des ducs d'Aquitaine (à partir de Guillaume IX le Troubadour) où se pratique la langue occitane, et se diffusent sur tout le territoire de leurs possessions, c'est-à-dire la moitié sud de la France, en Aquitaine, Périgord, Auvergne et Saintonge, ainsi que, pour les possessions des Comtes de Barcelone, en Catalogne, Aragon, Roussillon, Languedoc, Toulouse, Albigeois, Velay, Limousin, Carladès, Quercy, Rouergue, Provence, puis aussi en Lombardie, Toscane, République de Gênes[réf.\\xa0nécessaire]. Cette aire correspond à celle qu'on appelle aujourd'hui l'Occitanie.\\nLeurs poésies se diffusent dans tout le royaume de France, ainsi que dans le royaume d'Angleterre à la cour d'Aliénor d'Aquitaine, au Portugal, en Hongrie et beaucoup plus tardivement, jusqu'en Transcaucasie avec Sayat-Nova.\\nLes trouvères et trouveresses sont leurs équivalents de langue d'oïl dans le Nord de la France. Les Minnesängers sont leur équivalent germanique. Le trobadorismo est le mouvement lyrique galicien, et le trovadorismo son équivalent portugais.\\nLes thèmes les plus connus sont épiques, avec la vie des chevaliers, et lyriques avec la poésie courtoise.\\nIls sont aussi très souvent satiriques et comiques, moraux ou religieux, et même juridiques ou politiques comme l'Histoire de la guerre de Navarre de Guillaume Anelier.\\nLa poésie des troubadours est une littérature poétique en vers réguliers, destinée à être chantée, voire mise en dialogues et en saynètes.\\nLe troubadour est défini comme celui qui sait trouver des vers et composer les musiques, il correspond à l'idée actuelle d'inventeur ou de créateur. Par exemple la vida de Bernart de Ventadour indique qu'il savait trouver les bons mots et les belles musiques, «\\xa0aveia sotilessa et art de trobar bos motz e gai sons\\xa0»[1]. Les deux éléments sont indissociables, la poésie est faite d'abord pour être chantée et non récitée[1]. Le troubadour était à la fois celui qui maîtrisait l'art poétique, et qui composait des mélodies pour accompagner le texte. Le mot troubadour, au sens strict, désigne les poètes du Moyen Âge s'exprimant en langue occitane.\\nLe terme occitan trobador (trobairitz au féminin) «\\xa0poète, compositeur\\xa0» est attesté au XIIe\\xa0siècle chez Peire d'Alvernhe[2]. Les linguistes estiment que le radical du mot est semblable à celui de trobar qui, en ancien occitan signifie «\\xa0composer\\xa0», «\\xa0inventer\\xa0», ou «\\xa0deviser\\xa0» (voir les dictionnaires Académie française, Larousse, Robert). Le mot troubadour n'a pas été emprunté par le français avant le XVIe\\xa0siècle, en effet, il n'est mentionné qu'en 1575 au sens de «\\xa0poète lyrique courtois de langue d'oc aux XIIe et XIIIe\\xa0siècles\\xa0» (J. de Nostre Dame, Vies des anciens poetes provençaux, p.\\xa014 ds Gdf. Compl.)[2].\\nLe mot trobador se superpose exactement au mot français trouveur[3]. Quant à trouvère, attesté également au XIIe\\xa0siècle, il représente l'ancien cas sujet du mot d'oïl troveor «\\xa0trouveur\\xa0» (cas régime)[4]. Ces derniers sont basés sur le même étymon que «\\xa0trouver\\xa0», qui apparaît en français dès le Xe\\xa0siècle dans un sens proche de celui du français actuel «\\xa0découvrir, rencontrer par hasard\\xa0» (La Vie de saint Léger, édition J. Linskill, 100)\\xa0; puis vers 1050 au sens de «\\xa0découvrir quelque chose ou quelqu'un que l'on cherche\\xa0» (Vie de saint Alexis, édition Chr. Storey, 114, 315). C'est seulement au XIIe\\xa0siècle qu'il est donné avec la signification de «\\xa0composer quelque chose en vers\\xa0» (Wace, Roman de Brut, édition I. Arnold, 3342)[5],[6].\\nSelon la plupart des linguistes l'occitan trobar et le français trouver remontent à un terme du latin populaire non attesté *tropare «\\xa0composer, inventer un air\\xa0» d'où «\\xa0composer un poème\\xa0», puis «\\xa0inventer, découvrir\\xa0», dérivé de tropus «\\xa0figure de rhétorique\\xa0»[7],[8],[9],[10] (cf. latin contropare, voir controuver[11]).\\nCependant des historiens, des spécialistes de la littérature ou des musicologues considérant une possible origine arabe de l'art des troubadours proposent aussi un étymon arabe au terme de trobar\\xa0: dès 1928, l'arabiste espagnol Julián Ribera y Tarragó a émis l'hypothèse d'une origine arabe au mot trobar et ses proches parents, du moins dans son usage spécialisé de «\\xa0composer des vers, chanter, etc.\\xa0». Ribera a identifié l'arabe tʕaraba «\\xa0chanson\\xa0» (issu de la racine trilatérale Tʕ-R-B «\\xa0susciter une émotion, une excitation, une agitation; faire de la musique, distraire par la chanson\\xa0») comme une origine probable[12]. Ce lexème aurait été emprunté par les dialectes romans parlés en Andalousie, lors de l'occupation de l'Espagne par les arabes, puis en catalan et en occitan. Une proposition similaire a été faite, mais sur la base d'un étymon différent, c'est-à-dire Dʕ-R-B «\\xa0émettre un son, frapper une touche\\xa0», par extension «\\xa0jouer d'un instrument de musique\\xa0»[13]. Ainsi, l'homophonie entre le terme indigène trobar «\\xa0trouver\\xa0» et le mot arabe Dʕ-R-B a pu contribuer au sens spécifique pris par le verbe trobar au Moyen Âge[14],[15],[10].\\nLe verbe trouver en français avec la signification de «\\xa0découvrir, rencontrer par hasard\\xa0» est attesté antérieurement à ses équivalents dans toutes les langues romanes (y compris l'occitan trobar), ce qui ne permet pas de vérifier cette théorie. Cependant, la signification «\\xa0composer quelque chose en vers\\xa0» apparue plus tardivement en français et de manière contemporaine à celle de l'occitan trobar au sens de «\\xa0composer, inventer, deviser\\xa0» justifie peut-être une influence arabe sur le plan sémantique. On doit préalablement supposer que le sens «\\xa0composer quelque chose en vers\\xa0» pris par le mot français a été influencé par celui pris par l'occitan.\\nLe radical latin trop- est suivi du suffixe latin d'agent -ātor, -atōris, ainsi le gallo-roman *TROPĀTOR[16] aboutit parallèlement au français trouvère et à l'occitan trobaire (cas sujet) et *TROPATŌRE[17] à troveor, troveeur «\\xa0trouveur\\xa0» et trobador «\\xa0troubadour\\xa0» (cas régime) (voir aussi PISCĀTOR > ancien français peschiere / occitan pescaire (> peuchère) et PISCATŌRE > ancien français pescheeur, pêcheur / occitan pescador[17]).\\nPar ailleurs, en français contemporain, un «\\xa0trope\\xa0» est une figure de mots, c'est-à-dire une partie du discours dans laquelle les mots sont utilisés dans un sens différent de leur sens propre, un sens figuré, comme dans la création de métaphores ou de métonymies\\xa0; un sens particulier existe en musique\\xa0: invention d'un nouveau texte sur une mélodie pré-existante. Le mot latin est issu lui-même du grec τρόπος, qui signifie «\\xa0manière\\xa0», «\\xa0tournure\\xa0». Les premiers «\\xa0tropes\\xa0» étaient des textes poétiques «\\xa0trouvés\\xa0» et ajoutés sur les mélodies pré-existantes du chant grégorien (point de départ de l'invention poétique médiévale).\\nLa langue des troubadours était la lenga romana, langue romane, terme toujours utilisé par les chartistes pour désigner la langue des textes profanes du Moyen Âge de ces régions, qu'ils soient poétiques ou non. On lui préfère actuellement l'appellation d'ancien occitan. Le mot occitanien est apparu pour la première fois dans l'Essai de glossaire occitanien publié en 1819 par Henri de Rochegude à partir d'un mélange d’œuvres des différents troubadours. Son introduction fait état du débat, déjà très vif à l'époque, sur les deux questions de l'unicité linguistique du Sud de la France, et du nom qu'il faut donner à la langue des troubadours. Il fait l'hypothèse de l'unicité, rejette les appellations concurrentes de provençal, de limousin et de catalan, pour adopter celle d'occitanien, afin de ne pas la confondre avec le dialecte languedocien encore très parlé à son époque. Reprenant l’Histoire générale de la Provence de Jean-Pierre Papon, il explique cette unicité linguistique originelle par la création et la diffusion d'un beau parler depuis les vicomtés de Gévaudan et de Carlat (la cour de l'épervier au Puy restera le foyer du chant d'amour) dans une aire comprenant la Provence, le Languedoc, la Catalogne et le Limousin, qui commence à partir du mariage en 1112 de Douce de Gévaudan, comtesse de Gévaudan, de Carlat, comtesse de Provence, avec Raymond Bérenger III le Grand, comte de Barcelone. La cour de Blanche de Carlat-Gévaudan-Lodève-Provence, dont le siège passera d'une région à l'autre, sera effectivement le foyer d'une cour littéraire qui se perpétuera plusieurs siècles, et fera école dans les grands lignages seigneuriaux apparentés comme les vicomtes de Rodez, de Narbonne, ou de Ventadour.\\nAu XIIIe\\xa0siècle Raimon Vidal de Bezaudun nomme sa langue lemosi (limousin), tandis que les Italiens la nomment proensal (provençal), appellation qui fut reprise par certains romanistes du XIXe\\xa0siècle et du début du XXe\\xa0siècle, sous le terme «\\xa0d'ancien provençal\\xa0». Au XIVe\\xa0siècle, Dante dans son De vulgari eloquentia la nomme lingua d'oco (langue d'oc)[18]. Depuis le milieu du XXe\\xa0siècle, elle tend à être désignée comme ancien occitan.\\nLes plus anciens témoignages écrits en langue d'oc au XIe\\xa0siècle sont la Chanson de sainte Foy d'Agen et le Poème sur Boèce. Avec la langue religieuse et la langue de chancellerie, la langue littéraire fait partie de la scripta occitane qui constitue l'ensemble des textes écrits en ancien occitan au Moyen Âge.\\nQuelle que soit leur région d'origine, qu'ils soient gascons, provençaux, catalans ou italiens, les textes des troubadours copiés dans les chansonniers à partir du XIIIe\\xa0siècle, sont écrits dans une langue commune, une koinê, avec peu de caractères dialectaux différenciés. Cette forme normalisée définissait une langue littéraire spécifique au domaine poétique qui s'est diffusée avec les premiers troubadours classiques, tandis que dans le nord à la même époque la langue d'oïl était spécifiquement adaptée au genre épique[19]. Cette langue poétique ne connaît pas de variations dans le temps, entre le XIe et le XIIIe\\xa0siècle elle demeure immuable[20].\\nIl est difficile de localiser l'origine de l'ancien occitan qui partage des analogies avec le limousin et le languedocien. Raynouard en faisait à tort l'origine de toutes les langues romanes[21]. Quatre hypothèses ont été avancées pour l'origine de la koinê des troubadours: les origines limousine, poitevine, narbonnaise, et centraliste.\\nLa fin’ amor est une conception des relations amoureuses et courtoises entre le poète et sa dame (la domna comme elle est nommée par les troubadours), dont le rang social est souvent plus élevé que celui du poète\\xa0: c'est en fait une allégorie, un objet d'idéalisation et de désir inaccessible. La fin’ amor est aussi un jeu galant codifié destiné à éprouver la fidélité du prétendant pour sa dame.\\nEmpreint de valeurs héroïques propres à la chevalerie, la fin amor n'écarte pas l’adultère, mais évoque aussi des sentiments fins (délicats).\\nL’amour courtois se développa pour répondre à des règles très précises, finalement codifiées par plusieurs arrêts pris à la cour[26], notamment celle d’Aliénor d'Aquitaine qui joua un rôle considérable dans la diffusion de l’idéologie de l'amour courtois.\\nLes anciennes recherches sur l'histoire des troubadours se concentraient sur la détermination de leur origine. Aucune thèse n'a jamais fait consensus dans ce domaine. \\nLa thèse de l'influence arabe sur la genèse de l'œuvre lyrique des troubadours a été très discutée aux XIXe et XXe siècles[27]. Les spécialistes actuels tendent à ne plus croire à cette hypothèse d'une influence des thématiques de la poésie arabe sur celle des troubadours[28]\\xa0; si certains thèmes ou images poétiques sont identiques ce serait en raison d'une thématique «\\xa0universelle et polygénétique\\xa0»\\xa0: baisers dans le vent, séparation des amoureux, rendez-vous secrets, etc. De même, si des contacts culturels sont attestés entre les troubadours et la tradition lyrique hispano-arabe, des thématiques semblables pouvaient autant exister dans la tradition lyrique romane antérieure aux troubadours[28]. Certains spécialistes jugent néanmoins possible la transmission de la forme strophique de la poésie arabe vers la forme des poèmes et chants troubadours[28].\\nD'autres thèses proposent d'expliquer l'émergence des troubadours ou la singularité de leurs œuvres\\xa0: l'influence de la doctrine du catharisme, du christianisme (mariologie, liturgie), la survivance de coutumes païennes ou matriarcales (celtiques, germaniques...), les styles du latin médiéval, le folklore et la tradition orale, la littérature classique latine (Ovide, Cicéron, Platon), le néoplatonisme, et à partir du XXe\\xa0siècle l'analyse des facteurs politiques et sociaux.\\nLes troubadours apparaissent au moment de la première croisade, et leur déclin s'amorce avec la croisade des Albigeois. Plusieurs d'entre eux participeront aux croisades à commencer par Guilaume IX qui fait partie des chevaliers qui accompagnent Godefroi de Bouillon lors de la première Croisade et plus tard à la Reconquista.\\nLa première période de l'art lyrique des troubadours commence avec Guillaume IX d'Aquitaine, le plus ancien troubadour identifié, et est ensuite représenté par quatre autres poètes\\xa0: Cercamon, Marcabru, Jaufré Rudel et Eble de Ventadour.\\nTrobairitz est le féminin de troubadour en langue d'oc.\\n\\nLe troubadour a été un sujet populaire dans l'art français du XIXe siècle. Associé à la chevalerie et à l'amour courtois, le thème reflète une fascination romantique plus large pour le passé médiéval de la France[29].\\nSur les autres projets Wikimedia\\xa0:\""
      ]
     },
     "execution_count": 28,
     "metadata": {},
     "output_type": "execute_result"
    }
   ],
   "source": [
    "dico_txt['Troubadour']"
   ]
  },
  {
   "cell_type": "code",
   "execution_count": 47,
   "metadata": {
    "scrolled": true
   },
   "outputs": [],
   "source": [
    "test =dico_txt_clean['Absurde']"
   ]
  },
  {
   "cell_type": "code",
   "execution_count": 49,
   "metadata": {},
   "outputs": [],
   "source": [
    "def tf(word,doc):\n",
    "    L=doc.split()\n",
    "    c=0\n",
    "    n=len(L)\n",
    "    for k in range(n):\n",
    "        if L[k]==word:\n",
    "            c+=1\n",
    "    return c/n"
   ]
  },
  {
   "cell_type": "code",
   "execution_count": 51,
   "metadata": {},
   "outputs": [],
   "source": [
    "from math import log"
   ]
  },
  {
   "cell_type": "code",
   "execution_count": 52,
   "metadata": {},
   "outputs": [],
   "source": [
    "def idf(word,corpus):\n",
    "    n=len(corpus)\n",
    "    c=0\n",
    "    for couple in corpus.items():\n",
    "        key,value=couple\n",
    "        if word in value:\n",
    "            c+=1\n",
    "    return log(n/c)\n",
    "    "
   ]
  },
  {
   "cell_type": "code",
   "execution_count": 53,
   "metadata": {},
   "outputs": [],
   "source": [
    "def tf_idf(word,doc,corpus):\n",
    "    return tf(word,doc)*idf(word,corpus)"
   ]
  },
  {
   "cell_type": "code",
   "execution_count": 66,
   "metadata": {},
   "outputs": [
    {
     "data": {
      "text/plain": [
       "0.09315690201130325"
      ]
     },
     "execution_count": 66,
     "metadata": {},
     "output_type": "execute_result"
    }
   ],
   "source": [
    "tf_idf('absurde',test,dico_txt_clean)"
   ]
  },
  {
   "cell_type": "code",
   "execution_count": 71,
   "metadata": {},
   "outputs": [],
   "source": [
    "def n_important_words(n,doc,corpus):\n",
    "    L=doc.split()\n",
    "    m=len(L)\n",
    "    M=[]\n",
    "    vocab=[]\n",
    "    for k in range(m):\n",
    "        if not L[k] in vocab:\n",
    "            M.append((tf_idf(L[k],doc,corpus),k))\n",
    "            vocab.append(L[k])\n",
    "    M.sort()\n",
    "    M.reverse()\n",
    "    return [L[M[k][1]] for k in range(n)]"
   ]
  },
  {
   "cell_type": "code",
   "execution_count": 73,
   "metadata": {},
   "outputs": [
    {
     "data": {
      "text/plain": [
       "['absurde',\n",
       " 'raisonnement',\n",
       " 'confrontation',\n",
       " '1942',\n",
       " 'Ionesco',\n",
       " 'Étranger',\n",
       " 'théâtre',\n",
       " 'existence',\n",
       " 'conduire',\n",
       " 'Camus']"
      ]
     },
     "execution_count": 73,
     "metadata": {},
     "output_type": "execute_result"
    }
   ],
   "source": [
    "n_important_words(10,test,dico_txt_clean)"
   ]
  }
 ],
 "metadata": {
  "kernelspec": {
   "display_name": "Python 3",
   "language": "python",
   "name": "python3"
  },
  "language_info": {
   "codemirror_mode": {
    "name": "ipython",
    "version": 3
   },
   "file_extension": ".py",
   "mimetype": "text/x-python",
   "name": "python",
   "nbconvert_exporter": "python",
   "pygments_lexer": "ipython3",
   "version": "3.8.5"
  }
 },
 "nbformat": 4,
 "nbformat_minor": 4
}
