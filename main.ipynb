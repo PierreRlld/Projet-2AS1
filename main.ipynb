{
 "cells": [
  {
   "cell_type": "markdown",
   "metadata": {},
   "source": [
    "## Dépendances"
   ]
  },
  {
   "cell_type": "code",
   "execution_count": 24,
   "metadata": {},
   "outputs": [],
   "source": [
    "import urllib\n",
    "import bs4\n",
    "import pandas\n",
    "from urllib import request\n",
    "import numpy as np\n",
    "import re"
   ]
  },
  {
   "cell_type": "code",
   "execution_count": 2,
   "metadata": {},
   "outputs": [
    {
     "name": "stdout",
     "output_type": "stream",
     "text": [
      "Requirement already satisfied: wikipedia in c:\\users\\proui\\appdata\\local\\programs\\python\\python39\\lib\\site-packages (1.4.0)\n",
      "Requirement already satisfied: requests<3.0.0,>=2.0.0 in c:\\users\\proui\\appdata\\local\\programs\\python\\python39\\lib\\site-packages (from wikipedia) (2.26.0)\n",
      "Requirement already satisfied: beautifulsoup4 in c:\\users\\proui\\appdata\\local\\programs\\python\\python39\\lib\\site-packages (from wikipedia) (4.10.0)\n",
      "Requirement already satisfied: certifi>=2017.4.17 in c:\\users\\proui\\appdata\\local\\programs\\python\\python39\\lib\\site-packages (from requests<3.0.0,>=2.0.0->wikipedia) (2021.10.8)\n",
      "Requirement already satisfied: idna<4,>=2.5 in c:\\users\\proui\\appdata\\local\\programs\\python\\python39\\lib\\site-packages (from requests<3.0.0,>=2.0.0->wikipedia) (3.3)\n",
      "Requirement already satisfied: urllib3<1.27,>=1.21.1 in c:\\users\\proui\\appdata\\local\\programs\\python\\python39\\lib\\site-packages (from requests<3.0.0,>=2.0.0->wikipedia) (1.26.7)\n",
      "Requirement already satisfied: charset-normalizer~=2.0.0 in c:\\users\\proui\\appdata\\local\\programs\\python\\python39\\lib\\site-packages (from requests<3.0.0,>=2.0.0->wikipedia) (2.0.9)\n",
      "Requirement already satisfied: soupsieve>1.2 in c:\\users\\proui\\appdata\\local\\programs\\python\\python39\\lib\\site-packages (from beautifulsoup4->wikipedia) (2.3.1)\n",
      "Note: you may need to restart the kernel to use updated packages.\n"
     ]
    }
   ],
   "source": [
    "%pip install wikipedia"
   ]
  },
  {
   "cell_type": "code",
   "execution_count": 2,
   "metadata": {},
   "outputs": [],
   "source": [
    "import wikipedia\n",
    "from wikipedia import WikipediaPage\n",
    "wikipedia.set_lang(\"fr\")"
   ]
  },
  {
   "cell_type": "code",
   "execution_count": 3,
   "metadata": {},
   "outputs": [
    {
     "data": {
      "text/plain": [
       "\"Albert Camus, né le 7 novembre 1913 à Mondovi (aujourd’hui Dréan), en Algérie, et mort accidentellement le 4 janvier 1960 à Villeblevin, est un écrivain, philosophe, romancier, dramaturge, essayiste et nouvelliste français. Il est aussi journaliste militant engagé dans la Résistance française et, proche des courants libertaires, dans les combats moraux de l'après-guerre.\\nSon œuvre comprend des pièces de théâtre, des romans, des nouvelles, des films, des poèmes et des essais dans lesquels il développe un humanisme fondé sur la prise de conscience de l'absurde de la condition humaine mais aussi sur la révolte comme réponse à l'absurde, révolte qui conduit à l'action et donne un sens au monde et à l'existence. Il reçoit le prix Nobel de littérature en 1957.\\nDans le journal Combat, il prend position aussi bien sur la question de l'indépendance de l'Algérie que sur ses rapports avec le Parti communiste algérien, qu'il quitte après un court passage de deux ans. Il proteste successivement contre les inégalités qui frappent les musulmans d'Afrique du Nord, puis contre la caricature du pied-noir exploiteur, ou prenant la défense des Espagnols exilés antifascistes, des victimes du stalinisme et des objecteurs de conscience. En marge de certains courants philosophiques, Camus est d'abord témoin de son temps et ne cesse de lutter contre les idéologies et les abstractions qui détournent de l'humain. Il est ainsi amené à s'opposer à l'existentialisme et au marxisme, sa critique du totalitarisme soviétique lui vaut les anathèmes de communistes et sa rupture avec Jean-Paul Sartre.\""
      ]
     },
     "execution_count": 3,
     "metadata": {},
     "output_type": "execute_result"
    }
   ],
   "source": [
    "cam = WikipediaPage('Albert Camus').summary\n",
    "cam"
   ]
  },
  {
   "cell_type": "markdown",
   "metadata": {},
   "source": [
    "## Scraping"
   ]
  },
  {
   "cell_type": "markdown",
   "metadata": {},
   "source": [
    "### Liste d'auteurs"
   ]
  },
  {
   "cell_type": "markdown",
   "metadata": {},
   "source": [
    "On charge la [page d'intérêt](https://fr.wikipedia.org/wiki/Liste_d%27%C3%A9crivains_de_langue_fran%C3%A7aise_par_ordre_alphab%C3%A9tique) pour scraper la liste des écrivains français depuis Wikipédia."
   ]
  },
  {
   "cell_type": "code",
   "execution_count": 4,
   "metadata": {},
   "outputs": [],
   "source": [
    "base_url=\"https://fr.wikipedia.org/wiki/Liste_d%27%C3%A9crivains_de_langue_fran%C3%A7aise_par_ordre_alphab%C3%A9tique\"\n",
    "request_text= request.urlopen(base_url).read()\n",
    "page = bs4.BeautifulSoup(request_text, \"lxml\") #qui est bien une page html maintenant "
   ]
  },
  {
   "cell_type": "code",
   "execution_count": 5,
   "metadata": {},
   "outputs": [
    {
     "data": {
      "text/plain": [
       "<ul><li><a href=\"/wiki/Fran%C3%A7ois-Jean_Willemain_d%27Abancourt\" title=\"François-Jean Willemain d'Abancourt\">François-Jean Willemain d'Abancourt</a> (<a href=\"/wiki/1745\" title=\"1745\">1745</a> - <a href=\"/wiki/1803\" title=\"1803\">1803</a>)</li>\n",
       "<li><a href=\"/wiki/Jacques_Abbadie\" title=\"Jacques Abbadie\">Jacques Abbadie</a> (<a href=\"/wiki/1654\" title=\"1654\">1654</a> - <a href=\"/wiki/1727\" title=\"1727\">1727</a>)</li>\n",
       "<li><a href=\"/wiki/%C3%89liette_Ab%C3%A9cassis\" title=\"Éliette Abécassis\">Éliette Abécassis</a> (<a href=\"/wiki/1969\" title=\"1969\">1969</a> - )</li>\n",
       "<li><a href=\"/wiki/Pierre_Ab%C3%A9lard\" title=\"Pierre Abélard\">Pierre Abélard</a> (<a href=\"/wiki/1079\" title=\"1079\">1079</a>-<a href=\"/wiki/1142\" title=\"1142\">1142</a>)</li>\n",
       "<li><a href=\"/wiki/Raymond_Abellio\" title=\"Raymond Abellio\">Raymond Abellio</a> (<a href=\"/wiki/1907\" title=\"1907\">1907</a> - <a href=\"/wiki/1986\" title=\"1986\">1986</a>)</li>\n",
       "<li><a href=\"/wiki/Edmond_About\" title=\"Edmond About\">Edmond About</a> (<a href=\"/wiki/1828\" title=\"1828\">1828</a> - <a href=\"/wiki/1885\" title=\"1885\">1885</a>)</li>\n",
       "<li><a href=\"/wiki/Pierre_Abraham\" title=\"Pierre Abraham\">Pierre Abraham</a> (<a href=\"/wiki/1892\" title=\"1892\">1892</a> - <a href=\"/wiki/1974\" title=\"1974\">1974</a>)</li>\n",
       "<li><a href=\"/wiki/Jean-Pierre_Abraham\" title=\"Jean-Pierre Abraham\">Jean-Pierre Abraham</a> (<a href=\"/wiki/1936\" title=\"1936\">1936</a> - <a href=\"/wiki/2003\" title=\"2003\">2003</a>)</li>\n",
       "<li><a class=\"mw-redirect\" href=\"/wiki/Laure_Abrant%C3%A8s\" title=\"Laure Abrantès\">Laure Abrantès</a> (<a href=\"/wiki/1784\" title=\"1784\">1784</a> - <a href=\"/wiki/1838\" title=\"1838\">1838</a>)</li>\n",
       "<li><a href=\"/wiki/L%C3%A9on_Abric\" title=\"Léon Abric\">Léon Abric</a> (<a href=\"/wiki/1869\" title=\"1869\">1869</a> - <a href=\"/wiki/1942\" title=\"1942\">1942</a>)</li>\n",
       "<li><a href=\"/wiki/Am%C3%A9d%C3%A9e_Achard\" title=\"Amédée Achard\">Amédée Achard</a> (<a href=\"/wiki/1814\" title=\"1814\">1814</a> - <a href=\"/wiki/1875\" title=\"1875\">1875</a>)</li>\n",
       "<li><a href=\"/wiki/Marcel_Achard\" title=\"Marcel Achard\">Marcel Achard</a> (<a href=\"/wiki/1899\" title=\"1899\">1899</a> - <a href=\"/wiki/1974\" title=\"1974\">1974</a>)</li>\n",
       "<li><a href=\"/wiki/Paul_Acker\" title=\"Paul Acker\">Paul Acker</a> (<a href=\"/wiki/1874\" title=\"1874\">1874</a> - <a href=\"/wiki/1916\" title=\"1916\">1916</a>)</li>\n",
       "<li><a class=\"mw-redirect\" href=\"/wiki/Louise_Ackermann\" title=\"Louise Ackermann\">Louise Ackermann</a> (<a href=\"/wiki/1813\" title=\"1813\">1813</a> - <a href=\"/wiki/1890\" title=\"1890\">1890</a>)</li>\n",
       "<li><a href=\"/wiki/Germaine_Acremant\" title=\"Germaine Acremant\">Germaine Acremant</a> (<a href=\"/wiki/1889\" title=\"1889\">1889</a> -<a href=\"/wiki/1986\" title=\"1986\">1986</a>)</li>\n",
       "<li><a href=\"/wiki/G%C3%A9rard_Adam\" title=\"Gérard Adam\">Gérard Adam</a> (<a href=\"/wiki/1946\" title=\"1946\">1946</a>- )</li>\n",
       "<li><a href=\"/wiki/Paul_Adam\" title=\"Paul Adam\">Paul Adam</a> (<a href=\"/wiki/1862\" title=\"1862\">1862</a> - <a href=\"/wiki/1920\" title=\"1920\">1920</a>)</li>\n",
       "<li><a href=\"/wiki/Adam_de_la_Halle\" title=\"Adam de la Halle\">Adam de la Halle</a> ou Adam le Bossu (v.<a href=\"/wiki/1250\" title=\"1250\">1250</a> - v.<a href=\"/wiki/1285\" title=\"1285\">1285</a>)</li>\n",
       "<li><a class=\"mw-redirect\" href=\"/wiki/Adam_de_Ros\" title=\"Adam de Ros\">Adam de Ros</a> ou Adam de Ross (<a href=\"/wiki/XIIe_si%C3%A8cle\" title=\"XIIe siècle\"><abbr class=\"abbr\" title=\"12ᵉ siècle\"><span class=\"romain\">XII</span><sup style=\"font-size:72%\">e</sup></abbr></a> et <a href=\"/wiki/XIIIe_si%C3%A8cle\" title=\"XIIIe siècle\"><abbr class=\"abbr\" title=\"13ᵉ siècle\"><span class=\"romain\">XIII</span><sup style=\"font-size:72%\">e</sup></abbr> siècles</a>)</li>\n",
       "<li><a href=\"/wiki/Andr%C3%A9-Marcel_Adamek\" title=\"André-Marcel Adamek\">André-Marcel Adamek</a> (<a href=\"/wiki/1946\" title=\"1946\">1946</a>- )</li>\n",
       "<li><a href=\"/wiki/Adenet_le_Roi\" title=\"Adenet le Roi\">Adenet le Roi</a> (v.<a href=\"/wiki/1240\" title=\"1240\">1240</a>-v.<a href=\"/wiki/1300\" title=\"1300\">1300</a>)</li>\n",
       "<li><a href=\"/wiki/Maylis_Adh%C3%A9mar\" title=\"Maylis Adhémar\">Maylis Adhémar</a> (<a href=\"/wiki/1985\" title=\"1985\">1985</a> - )</li>\n",
       "<li><a href=\"/wiki/Etel_Adnan\" title=\"Etel Adnan\">Etel Adnan</a> Liban (<a href=\"/wiki/1925\" title=\"1925\">1925</a> - )</li>\n",
       "<li><a href=\"/wiki/Razika_Adnani\" title=\"Razika Adnani\">Razika Adnani</a> (écrit au <abbr class=\"abbr\" title=\"21ᵉ siècle\"><span class=\"romain\">XXI</span><sup style=\"font-size:72%\">e</sup></abbr> siècle)</li>\n",
       "<li><a href=\"/wiki/Emmanuel_Aegerter\" title=\"Emmanuel Aegerter\">Emmanuel Aegerter</a> (<a href=\"/wiki/1883\" title=\"1883\">1883</a> - <a href=\"/wiki/1946\" title=\"1946\">1946</a>)</li>\n",
       "<li><a href=\"/wiki/Alain_Agat\" title=\"Alain Agat\">Alain Agat</a> (<a href=\"/wiki/1964\" title=\"1964\">1964</a> —)</li>\n",
       "<li><a href=\"/wiki/Th%C3%A9odore_Agrippa_d%27Aubign%C3%A9\" title=\"Théodore Agrippa d'Aubigné\">Théodore Agrippa d'Aubigné</a> (<a href=\"/wiki/1552\" title=\"1552\">1552</a> - <a href=\"/wiki/1630\" title=\"1630\">1630</a>)</li>\n",
       "<li><a href=\"/wiki/Dominique_Aguessy\" title=\"Dominique Aguessy\">Dominique Aguessy</a> (<a href=\"/wiki/1937\" title=\"1937\">1937</a> —)</li>\n",
       "<li><a href=\"/wiki/Jeannette_D._Ahonsou\" title=\"Jeannette D. Ahonsou\">Jeannette D. Ahonsou</a> (<a href=\"/wiki/1954\" title=\"1954\">1954</a> -)</li>\n",
       "<li><a href=\"/wiki/Jean_Aicard\" title=\"Jean Aicard\">Jean Aicard</a> (<a href=\"/wiki/1848\" title=\"1848\">1848</a> - <a href=\"/wiki/1921\" title=\"1921\">1921</a>)</li>\n",
       "<li><a href=\"/wiki/D%27Aigue_d%27Iffremont\" title=\"D'Aigue d'Iffremont\">D'Aigue d'Iffremont</a> (<a href=\"/wiki/XVIIe_si%C3%A8cle\" title=\"XVIIe siècle\"><abbr class=\"abbr\" title=\"17ᵉ siècle\"><span class=\"romain\">XVII</span><sup style=\"font-size:72%\">e</sup></abbr> siècle</a>)</li>\n",
       "<li><a href=\"/wiki/Gustave_Aimard\" title=\"Gustave Aimard\">Gustave Aimard</a> (<a href=\"/wiki/1818\" title=\"1818\">1818</a> - <a href=\"/wiki/1883\" title=\"1883\">1883</a>)</li>\n",
       "<li><a href=\"/wiki/Charlotte_A%C3%AFss%C3%A9\" title=\"Charlotte Aïssé\">Charlotte Aïssé</a> (v.<a href=\"/wiki/1693\" title=\"1693\">1693</a> - <a href=\"/wiki/1733\" title=\"1733\">1733</a>)</li>\n",
       "<li><a href=\"/wiki/Jean_Ajalbert\" title=\"Jean Ajalbert\">Jean Ajalbert</a> (<a href=\"/wiki/1862\" title=\"1862\">1862</a> - <a href=\"/wiki/1947\" title=\"1947\">1947</a>)</li>\n",
       "<li><a class=\"mw-redirect\" href=\"/wiki/%C3%89mile_Ajar\" title=\"Émile Ajar\">Émile Ajar</a> alias <a href=\"/wiki/Romain_Gary\" title=\"Romain Gary\">Romain Gary</a> (<a href=\"/wiki/1914\" title=\"1914\">1914</a> - <a href=\"/wiki/1980\" title=\"1980\">1980</a>)</li>\n",
       "<li><a class=\"mw-redirect\" href=\"/wiki/Said_Akl\" title=\"Said Akl\">Said Akl</a> (<a href=\"/wiki/1912\" title=\"1912\">1912</a> -)</li>\n",
       "<li><a href=\"/wiki/Alain_(philosophe)\" title=\"Alain (philosophe)\">Alain</a> (<a href=\"/wiki/1868\" title=\"1868\">1868</a> - <a href=\"/wiki/1951\" title=\"1951\">1951</a>)</li>\n",
       "<li><a href=\"/wiki/Alain_de_Lille\" title=\"Alain de Lille\">Alain de Lille</a> (v.<a href=\"/wiki/1115\" title=\"1115\">1115</a> - v.<a href=\"/wiki/1202\" title=\"1202\">1202</a>)</li>\n",
       "<li><a href=\"/wiki/Alain-Fournier\" title=\"Alain-Fournier\">Alain-Fournier</a> (<a href=\"/wiki/1886\" title=\"1886\">1886</a> - <a href=\"/wiki/1914\" title=\"1914\">1914</a>)</li>\n",
       "<li><a href=\"/wiki/Alb%C3%A9ric_de_Pisan%C3%A7on\" title=\"Albéric de Pisançon\">Albéric de Pisançon</a> (vers <a href=\"/wiki/1120\" title=\"1120\">1120</a>- ?)</li>\n",
       "<li><a href=\"/wiki/Guillaume_Alexis\" title=\"Guillaume Alexis\">Guillaume Alexis</a> (v.<a href=\"/wiki/1425\" title=\"1425\">1425</a> - <a href=\"/wiki/1486\" title=\"1486\">1486</a>)</li>\n",
       "<li><a href=\"/wiki/Jean_Le_Rond_d%27Alembert\" title=\"Jean Le Rond d'Alembert\">Jean Le Rond d'Alembert</a> (<a href=\"/wiki/1717\" title=\"1717\">1717</a> - <a href=\"/wiki/1783\" title=\"1783\">1783</a>)</li>\n",
       "<li><a href=\"/wiki/Alexandre_de_Bernay\" title=\"Alexandre de Bernay\">Alexandre de Bernay</a> (v.<a href=\"/wiki/1158\" title=\"1158\">1158</a> - )</li>\n",
       "<li><a href=\"/wiki/Paul_Alexis\" title=\"Paul Alexis\">Paul Alexis</a> (<a href=\"/wiki/1847\" title=\"1847\">1847</a> - <a href=\"/wiki/1901\" title=\"1901\">1901</a>)</li>\n",
       "<li><a href=\"/wiki/Fran%C3%A7ois-Paul_Alibert\" title=\"François-Paul Alibert\">François-Paul Alibert</a> (<a href=\"/wiki/1873\" title=\"1873\">1873</a> - <a href=\"/wiki/1953\" title=\"1953\">1953</a>)</li>\n",
       "<li><a href=\"/wiki/Marcel_Allain\" title=\"Marcel Allain\">Marcel Allain</a> (<a href=\"/wiki/1885\" title=\"1885\">1885</a> - <a href=\"/wiki/1969\" title=\"1969\">1969</a>)</li>\n",
       "<li><a href=\"/wiki/Alphonse_Allais\" title=\"Alphonse Allais\">Alphonse Allais</a> (<a href=\"/wiki/1854\" title=\"1854\">1854</a> - <a href=\"/wiki/1905\" title=\"1905\">1905</a>)</li>\n",
       "<li><a href=\"/wiki/Ferdinand_Alqui%C3%A9\" title=\"Ferdinand Alquié\">Ferdinand Alquié</a> (<a href=\"/wiki/1906\" title=\"1906\">1906</a> - <a href=\"/wiki/1985\" title=\"1985\">1985</a>)</li>\n",
       "<li><a href=\"/wiki/Louis_Althusser\" title=\"Louis Althusser\">Louis Althusser</a> (<a href=\"/wiki/1918\" title=\"1918\">1918</a> - <a href=\"/wiki/1990\" title=\"1990\">1990</a>)</li>\n",
       "<li><a href=\"/wiki/Carlos_Alvarado_(politique,_1980)\" title=\"Carlos Alvarado (politique, 1980)\">Carlos Alvarado</a> (<a href=\"/wiki/1980\" title=\"1980\">1980</a> - )</li>\n",
       "<li><a href=\"/wiki/Jacques-Pierre_Am%C3%A9e\" title=\"Jacques-Pierre Amée\">Jacques-Pierre Amée</a> (<a href=\"/wiki/1953\" title=\"1953\">1953</a> - )</li>\n",
       "<li><a href=\"/wiki/Karim_Amellal\" title=\"Karim Amellal\">Karim Amellal</a> (<a href=\"/wiki/1978\" title=\"1978\">1978</a> - )</li>\n",
       "<li><a class=\"mw-redirect\" href=\"/wiki/Denis_Amiel\" title=\"Denis Amiel\">Denis Amiel</a> (<a href=\"/wiki/1884\" title=\"1884\">1884</a> - <a href=\"/wiki/1977\" title=\"1977\">1977</a>)</li>\n",
       "<li><a href=\"/wiki/Henri-Fr%C3%A9d%C3%A9ric_Amiel\" title=\"Henri-Frédéric Amiel\">Henri-Frédéric Amiel</a> (<a href=\"/wiki/1821\" title=\"1821\">1821</a> - <a href=\"/wiki/1881\" title=\"1881\">1881</a>)</li>\n",
       "<li><a href=\"/wiki/Jean_Amila\" title=\"Jean Amila\">Jean Amila</a> (<a href=\"/wiki/1910\" title=\"1910\">1910</a> - <a href=\"/wiki/1995\" title=\"1995\">1995</a>)</li>\n",
       "<li><a href=\"/wiki/Jean-Jacques_Amp%C3%A8re\" title=\"Jean-Jacques Ampère\">Jean-Jacques Ampère</a> (<a href=\"/wiki/1800\" title=\"1800\">1800</a> - <a href=\"/wiki/1864\" title=\"1864\">1864</a>)</li>\n",
       "<li><a href=\"/wiki/Fadhma_A%C3%AFt_Mansour_Amrouche\" title=\"Fadhma Aït Mansour Amrouche\">Fadhma Aït Mansour Amrouche</a> (<a href=\"/wiki/1882\" title=\"1882\">1882</a>-<a href=\"/wiki/1967\" title=\"1967\">1967</a>)</li>\n",
       "<li><a href=\"/wiki/Jean_Amrouche\" title=\"Jean Amrouche\">Jean Amrouche</a> (<a href=\"/wiki/1906\" title=\"1906\">1906</a> - <a href=\"/wiki/1962\" title=\"1962\">1962</a>)</li>\n",
       "<li><a href=\"/wiki/Taos_Amrouche\" title=\"Taos Amrouche\">Taos Amrouche</a> (<a href=\"/wiki/1913\" title=\"1913\">1913</a> - <a href=\"/wiki/1976\" title=\"1976\">1976</a>)</li>\n",
       "<li><a href=\"/wiki/Alain_Amselek\" title=\"Alain Amselek\">Alain Amselek</a> (<a href=\"/wiki/1934\" title=\"1934\">1934</a>- )</li>\n",
       "<li><a href=\"/wiki/Jacques_Amyot_(%C3%A9v%C3%AAque)\" title=\"Jacques Amyot (évêque)\">Jacques Amyot</a> (<a href=\"/wiki/1513\" title=\"1513\">1513</a> - <a href=\"/wiki/1593\" title=\"1593\">1593</a>)</li>\n",
       "<li><a href=\"/wiki/Jacques-Fran%C3%A7ois_Ancelot\" title=\"Jacques-François Ancelot\">Jacques-François Ancelot</a> (<a href=\"/wiki/1794\" title=\"1794\">1794</a> - <a href=\"/wiki/1854\" title=\"1854\">1854</a>)</li>\n",
       "<li><a href=\"/wiki/Virginie_Ancelot\" title=\"Virginie Ancelot\">Virginie Ancelot</a> (<a href=\"/wiki/1792\" title=\"1792\">1792</a> - <a href=\"/wiki/1875\" title=\"1875\">1875</a>)</li>\n",
       "<li><a href=\"/wiki/Georges_Ancey\" title=\"Georges Ancey\">Georges Ancey</a> (<a href=\"/wiki/1860\" title=\"1860\">1860</a> - <a href=\"/wiki/1917\" title=\"1917\">1917</a>)</li>\n",
       "<li><a href=\"/wiki/Nicolas_Ancion\" title=\"Nicolas Ancion\">Nicolas Ancion</a> (<a href=\"/wiki/1971\" title=\"1971\">1971</a>- )</li>\n",
       "<li><a href=\"/wiki/Pierre_Anctil\" title=\"Pierre Anctil\">Pierre Anctil</a> (<a href=\"/wiki/XVIIe_si%C3%A8cle\" title=\"XVIIe siècle\"><abbr class=\"abbr\" title=\"17ᵉ siècle\"><span class=\"romain\">XVII</span><sup style=\"font-size:72%\">e</sup></abbr> siècle</a>-<a href=\"/wiki/XVIIIe_si%C3%A8cle\" title=\"XVIIIe siècle\"><abbr class=\"abbr\" title=\"18ᵉ siècle\"><span class=\"romain\">XVIII</span><sup style=\"font-size:72%\">e</sup></abbr> siècle</a>)</li>\n",
       "<li><a href=\"/wiki/Henri_d%27Andeli\" title=\"Henri d'Andeli\">Henri d'Andeli</a> (vers <a href=\"/wiki/1220\" title=\"1220\">1220</a>-<a href=\"/wiki/1240\" title=\"1240\">1240</a>)</li>\n",
       "<li><a href=\"/wiki/Alix_Andr%C3%A9\" title=\"Alix André\">Alix André</a> (<a href=\"/wiki/1909\" title=\"1909\">1909</a> - <a href=\"/wiki/2000\" title=\"2000\">2000</a>)</li>\n",
       "<li><a href=\"/wiki/Frank_Andriat\" title=\"Frank Andriat\">Frank Andriat</a> (<a href=\"/wiki/1958\" title=\"1958\">1958</a>- )</li>\n",
       "<li><a href=\"/wiki/Fran%C3%A7ois_Andrieux\" title=\"François Andrieux\">François Andrieux</a> (<a href=\"/wiki/1759\" title=\"1759\">1759</a> - <a href=\"/wiki/1833\" title=\"1833\">1833</a>)</li>\n",
       "<li><a href=\"/wiki/Claude_Anet\" title=\"Claude Anet\">Claude Anet</a> (<a href=\"/wiki/1868\" title=\"1868\">1868</a> - <a href=\"/wiki/1941\" title=\"1941\">1941</a>)</li>\n",
       "<li><a href=\"/wiki/Auguste_Angellier\" title=\"Auguste Angellier\">Auguste Angellier</a> (<a href=\"/wiki/1848\" title=\"1848\">1848</a> - <a href=\"/wiki/1911\" title=\"1911\">1911</a>)</li>\n",
       "<li><a href=\"/wiki/Jean_Anglade\" title=\"Jean Anglade\">Jean Anglade</a> (<a href=\"/wiki/1915\" title=\"1915\">1915</a> - )</li>\n",
       "<li><a href=\"/wiki/Do%C3%ABtte_Angliviel\" title=\"Doëtte Angliviel\">Doëtte Angliviel</a> (<a href=\"/wiki/1898\" title=\"1898\">1898</a> - <a href=\"/wiki/1948\" title=\"1948\">1948</a>)</li>\n",
       "<li><a href=\"/wiki/Christine_Angot\" title=\"Christine Angot\">Christine Angot</a> (<a href=\"/wiki/1959\" title=\"1959\">1959</a> - )</li>\n",
       "<li><a href=\"/wiki/Julie_Annen\" title=\"Julie Annen\">Julie Annen</a> (<a href=\"/wiki/1980\" title=\"1980\">1980</a> - )</li>\n",
       "<li><a href=\"/wiki/Jean_Anouilh\" title=\"Jean Anouilh\">Jean Anouilh</a> (<a href=\"/wiki/1910\" title=\"1910\">1910</a> - <a href=\"/wiki/1987\" title=\"1987\">1987</a>)</li>\n",
       "<li><a href=\"/wiki/Louis_Anseaume\" title=\"Louis Anseaume\">Louis Anseaume</a> (<a href=\"/wiki/1721\" title=\"1721\">1721</a> - <a href=\"/wiki/1784\" title=\"1784\">1784</a>)</li>\n",
       "<li><a href=\"/wiki/Le%C3%AFla_Aouchal\" title=\"Leïla Aouchal\">Leïla Aouchal</a> (<a href=\"/wiki/1936\" title=\"1936\">1936</a>-<a href=\"/wiki/2013\" title=\"2013\">2013</a>)</li>\n",
       "<li><a href=\"/wiki/Guillaume_Apollinaire\" title=\"Guillaume Apollinaire\">Guillaume Apollinaire</a> (<a href=\"/wiki/1880\" title=\"1880\">1880</a> - <a href=\"/wiki/1918\" title=\"1918\">1918</a>)</li>\n",
       "<li><a href=\"/wiki/Yann_Apperry\" title=\"Yann Apperry\">Yann Apperry</a> (<a href=\"/wiki/1972\" title=\"1972\">1972</a> - )</li>\n",
       "<li><a href=\"/wiki/Hubert_Aquin\" title=\"Hubert Aquin\">Hubert Aquin</a> (<a href=\"/wiki/1929\" title=\"1929\">1929</a> - <a href=\"/wiki/1977\" title=\"1977\">1977</a>)</li>\n",
       "<li><a href=\"/wiki/Louis_Aragon\" title=\"Louis Aragon\">Louis Aragon</a> (<a href=\"/wiki/1897\" title=\"1897\">1897</a> - <a href=\"/wiki/1982\" title=\"1982\">1982</a>)</li>\n",
       "<li><a href=\"/wiki/Ren%C3%A9_Arcos\" title=\"René Arcos\">René Arcos</a> (<a href=\"/wiki/1880\" title=\"1880\">1880</a>-<a href=\"/wiki/1959\" title=\"1959\">1959</a>)</li>\n",
       "<li><a href=\"/wiki/Emmanuel_Ar%C3%A8ne\" title=\"Emmanuel Arène\">Emmanuel Arène</a> (<a href=\"/wiki/1856\" title=\"1856\">1856</a> - <a href=\"/wiki/1908\" title=\"1908\">1908</a>)</li>\n",
       "<li><a href=\"/wiki/Paul_Ar%C3%A8ne\" title=\"Paul Arène\">Paul Arène</a> (<a href=\"/wiki/1843\" title=\"1843\">1843</a> - <a href=\"/wiki/1896\" title=\"1896\">1896</a>)</li>\n",
       "<li><a href=\"/wiki/Jean-Baptiste_Boyer_d%27Argens\" title=\"Jean-Baptiste Boyer d'Argens\">Jean-Baptiste Boyer d'Argens</a> (<a href=\"/wiki/1703\" title=\"1703\">1703</a>-<a href=\"/wiki/1771\" title=\"1771\">1771</a>)</li>\n",
       "<li><a href=\"/wiki/Philippe_Ari%C3%A8s\" title=\"Philippe Ariès\">Philippe Ariès</a> (<a href=\"/wiki/1914\" title=\"1914\">1914</a> - <a href=\"/wiki/1982\" title=\"1982\">1982</a>)</li>\n",
       "<li><a href=\"/wiki/Marcel_Arland\" title=\"Marcel Arland\">Marcel Arland</a> (<a href=\"/wiki/1899\" title=\"1899\">1899</a> - <a href=\"/wiki/1986\" title=\"1986\">1986</a>)</li>\n",
       "<li><a href=\"/wiki/Georges_Arnaud\" title=\"Georges Arnaud\">Georges Arnaud</a> (<a href=\"/wiki/1917\" title=\"1917\">1917</a> - )</li>\n",
       "<li><a href=\"/wiki/Georges-Jean_Arnaud\" title=\"Georges-Jean Arnaud\">Georges-Jean Arnaud</a> (<a href=\"/wiki/1928\" title=\"1928\">1928</a> - )</li>\n",
       "<li><a href=\"/wiki/Antoine_Arnauld_(1612-1694)\" title=\"Antoine Arnauld (1612-1694)\">Antoine Arnauld</a>, dit le Grand Arnauld (<a href=\"/wiki/1612\" title=\"1612\">1612</a> – <a href=\"/wiki/1694\" title=\"1694\">1694</a>)</li>\n",
       "<li><a href=\"/wiki/Alexandre_Arnoux\" title=\"Alexandre Arnoux\">Alexandre Arnoux</a> (<a href=\"/wiki/1884\" title=\"1884\">1884</a> - <a href=\"/wiki/1973\" title=\"1973\">1973</a>)</li>\n",
       "<li><a href=\"/wiki/Raymond_Aron\" title=\"Raymond Aron\">Raymond Aron</a> (<a href=\"/wiki/1905\" title=\"1905\">1905</a> - <a href=\"/wiki/1983\" title=\"1983\">1983</a>)</li>\n",
       "<li><a href=\"/wiki/Fernando_Arrabal\" title=\"Fernando Arrabal\">Fernando Arrabal</a> (<a href=\"/wiki/1932\" title=\"1932\">1932</a> - )</li>\n",
       "<li><a href=\"/wiki/Antonin_Artaud\" title=\"Antonin Artaud\">Antonin Artaud</a> (<a href=\"/wiki/1896\" title=\"1896\">1896</a> - <a href=\"/wiki/1948\" title=\"1948\">1948</a>)</li>\n",
       "<li><a href=\"/wiki/Louis_Artus\" title=\"Louis Artus\">Louis Artus</a> (<a href=\"/wiki/1870\" title=\"1870\">1870</a> - )</li>\n",
       "<li><a href=\"/wiki/F%C3%A9lix_Arvers\" title=\"Félix Arvers\">Félix Arvers</a> (<a href=\"/wiki/1806\" title=\"1806\">1806</a> - <a href=\"/wiki/1850\" title=\"1850\">1850</a>)</li>\n",
       "<li><a href=\"/wiki/Bernard_Assiniwi\" title=\"Bernard Assiniwi\">Bernard Assiniwi</a> (<a href=\"/wiki/1935\" title=\"1935\">1935</a> - <a href=\"/wiki/2000\" title=\"2000\">2000</a>)</li>\n",
       "<li><a href=\"/wiki/Alexis_Aubenque\" title=\"Alexis Aubenque\">Alexis Aubenque</a></li>\n",
       "<li><a href=\"/wiki/Jean_Aubert_(%C3%A9crivain)\" title=\"Jean Aubert (écrivain)\">Jean Aubert</a>(<a href=\"/wiki/1921\" title=\"1921\">1921</a>)</li>\n",
       "<li><a href=\"/wiki/Rapha%C3%ABl_Aubert\" title=\"Raphaël Aubert\">Raphaël Aubert</a> (1953-)</li>\n",
       "<li><a href=\"/wiki/Brigitte_Aubert\" title=\"Brigitte Aubert\">Brigitte Aubert</a> (1956- )</li>\n",
       "<li><a href=\"/wiki/Dominique_Aubier\" title=\"Dominique Aubier\">Dominique Aubier</a> (<a href=\"/wiki/1922\" title=\"1922\">1922</a> - )</li>\n",
       "<li><a href=\"/wiki/Octave_Aubry\" title=\"Octave Aubry\">Octave Aubry</a> (<a href=\"/wiki/1881\" title=\"1881\">1881</a> - <a href=\"/wiki/1946\" title=\"1946\">1946</a>)</li>\n",
       "<li><a href=\"/wiki/Gwena%C3%ABlle_Aubry\" title=\"Gwenaëlle Aubry\">Gwenaëlle Aubry</a> (<a href=\"/wiki/1971\" title=\"1971\">1971</a> - )</li>\n",
       "<li><a href=\"/wiki/Marcelle_Auclair\" title=\"Marcelle Auclair\">Marcelle Auclair</a> (<a href=\"/wiki/1899\" title=\"1899\">1899</a> - )</li>\n",
       "<li><a href=\"/wiki/Jacques_Audiberti\" title=\"Jacques Audiberti\">Jacques Audiberti</a> (<a href=\"/wiki/1899\" title=\"1899\">1899</a> - <a href=\"/wiki/1965\" title=\"1965\">1965</a>)</li>\n",
       "<li><a href=\"/wiki/Gabriel_Audisio_(%C3%A9crivain)\" title=\"Gabriel Audisio (écrivain)\">Gabriel Audisio</a> (<a href=\"/wiki/1900\" title=\"1900\">1900</a> - <a href=\"/wiki/1978\" title=\"1978\">1978</a>)</li>\n",
       "<li><a href=\"/wiki/Marguerite_Audoux\" title=\"Marguerite Audoux\">Marguerite Audoux</a> (<a href=\"/wiki/1863\" title=\"1863\">1863</a> - <a href=\"/wiki/1937\" title=\"1937\">1937</a>)</li>\n",
       "<li><a href=\"/wiki/%C3%89mile_Augier\" title=\"Émile Augier\">Émile Augier</a> (<a href=\"/wiki/1820\" title=\"1820\">1820</a> - <a href=\"/wiki/1889\" title=\"1889\">1889</a>)</li>\n",
       "<li><a href=\"/wiki/Fran%C3%A7ois_Augi%C3%A9ras\" title=\"François Augiéras\">François Augiéras</a> (<a href=\"/wiki/1925\" title=\"1925\">1925</a> - <a href=\"/wiki/1971\" title=\"1971\">1971</a>)</li>\n",
       "<li><a href=\"/wiki/Alphonse_Aulard\" title=\"Alphonse Aulard\">Alphonse Aulard</a> (<a href=\"/wiki/1849\" title=\"1849\">1849</a> - <a href=\"/wiki/1928\" title=\"1928\">1928</a>)</li>\n",
       "<li><a class=\"mw-redirect\" href=\"/wiki/Marie_Catherine_le_Jumel_de_Barneville,_comtesse_d%27Aulnoy\" title=\"Marie Catherine le Jumel de Barneville, comtesse d'Aulnoy\">Marie Catherine le Jumel de Barneville, comtesse d'Aulnoy</a> (<a href=\"/wiki/1651\" title=\"1651\">1651</a>-<a href=\"/wiki/1705\" title=\"1705\">1705</a>)</li>\n",
       "<li><a class=\"mw-redirect\" href=\"/wiki/George-Albert_Aurier\" title=\"George-Albert Aurier\">George-Albert Aurier</a> (<a href=\"/wiki/1865\" title=\"1865\">1865</a> - <a href=\"/wiki/1892\" title=\"1892\">1892</a>)</li>\n",
       "<li><a href=\"/wiki/Nan_Aurousseau\" title=\"Nan Aurousseau\">Nan Aurousseau</a> (<a href=\"/wiki/1951\" title=\"1951\">1951</a> - )</li>\n",
       "<li><a href=\"/wiki/Dominique_Aury\" title=\"Dominique Aury\">Dominique Aury</a> (<a href=\"/wiki/1907\" title=\"1907\">1907</a> - <a href=\"/wiki/1998\" title=\"1998\">1998</a>)</li>\n",
       "<li><a href=\"/wiki/Martial_d%27Auvergne\" title=\"Martial d'Auvergne\">Martial d'Auvergne</a> (v.<a href=\"/wiki/1430\" title=\"1430\">1430</a> - <a href=\"/wiki/1508\" title=\"1508\">1508</a></li>\n",
       "<li><a href=\"/wiki/Claude_Aveline\" title=\"Claude Aveline\">Claude Aveline</a> (<a href=\"/wiki/1901\" title=\"1901\">1901</a> - <a href=\"/wiki/1992\" title=\"1992\">1992</a>)</li>\n",
       "<li><a href=\"/wiki/Ayerdhal\" title=\"Ayerdhal\">Ayerdhal</a> (<a href=\"/wiki/1959\" title=\"1959\">1959</a> - <a href=\"/wiki/2015\" title=\"2015\">2015</a>)</li>\n",
       "<li><a href=\"/wiki/Marcel_Aym%C3%A9\" title=\"Marcel Aymé\">Marcel Aymé</a> (<a href=\"/wiki/1902\" title=\"1902\">1902</a> - <a href=\"/wiki/1967\" title=\"1967\">1967</a>)</li></ul>"
      ]
     },
     "execution_count": 5,
     "metadata": {},
     "output_type": "execute_result"
    }
   ],
   "source": [
    "# == Obtenir toutes les catégories par lettre ==\n",
    "fond=page.find(\"div\",{\"class\":\"mw-parser-output\"}).findAll(\"ul\")\n",
    "\n",
    "fond[0]"
   ]
  },
  {
   "cell_type": "code",
   "execution_count": null,
   "metadata": {},
   "outputs": [],
   "source": [
    "\"\"\"\"\n",
    "fond[0].findAll(\"li\")[0].find(\"a\").get(\"title\") #ça marche\n",
    "\n",
    "ltest=fond[0].findAll(\"li\")\n",
    "listee=[]\n",
    "for li in ltest:\n",
    "    listee.append(li.find(\"a\").get(\"title\"))\n",
    "listee\n",
    "\"\"\""
   ]
  },
  {
   "cell_type": "markdown",
   "metadata": {},
   "source": [
    "On va créer une liste *auteurs1* composée de listes d'auteurs par ordre alphabétique (nom de famille)."
   ]
  },
  {
   "cell_type": "code",
   "execution_count": 31,
   "metadata": {},
   "outputs": [
    {
     "name": "stdout",
     "output_type": "stream",
     "text": [
      "['Abdoulaye Y. Dabo', 'Didier Daeninckx', 'Seyhmus Dagtekin', 'Alain Damasio', 'Daniel-Rops', 'Daniel Danis', 'Maurice G. Dantec', 'Pierre Daninos', 'Emile Danoën', 'Louis Dantin', 'Frédéric Dard', 'Milan Dargent', 'Guy Darol', 'Marie Darrieussecq', 'Léo Dartey', 'Simon Dary', 'Martine Dassault', 'Alphonse Daudet', 'Léon Daudet', 'René Daumal', 'Maurice David (résistant)', 'René David (auteur)', 'Mercedes Deambrosis', 'Max Deauville', 'Roland de Bodt', 'Daniel de Bruycker', 'Alain Decaux', 'Didier Decoin', 'Marien Defalvard', 'Laurent de Graeve', 'Jean-Marie Déguignet', 'Régine Deforges', 'Pierre Abraham de La Bretonnière', 'Jean-François de La Croix', 'Serge Delaive', 'Casimir Delavigne', 'Chloé Delaume', 'Philippe Delerm', 'Gilles Deleuze', 'Jeanne-Mance Delisle', 'Olivier Delorme', 'Geoffroy Delorme', 'Bernard Deloupy', 'Joseph Delteil (poète)', 'Dominique Demers', 'Alain Demouzon', 'Annick Demouzon', 'Jean-François Deniau', 'Patrick Denieul', 'Bantcheva Denitza', 'Maurice Denuzière', 'Michel Déon', 'Marie Depussé', 'Denise Desautels', 'Daniel Desbiens', 'Jean-Paul Desbiens', 'Maryline Desbiolles', 'Marceline Desbordes-Valmore', 'René Descartes', 'Émile Deschamps', 'Eustache Deschamps', 'Émile Deschanel', 'Paul Deschanel', 'Isabelle Desesquelles', 'Richard Desjardins', 'Rex Desmarchais', 'Bernard Desmaretz', 'Robert Desnos', 'Eugène André Despois', 'Pierre Desproges', 'Jean-Simon DesRochers', 'Jean-Pierre Desthuilliers', 'Conrad Detrez', 'Xavier Deutsch', 'Simone Dever', 'Jean-Marc Dhainaut', 'Pierre Dhainaut', 'André Dhôtel', 'David di Nota', 'Alpha Mandé Diarra', 'Mohamed Dib', 'Denis Diderot', 'Jean-Paul Didierlaurent', 'Léon Dierx', 'Fatou Diome', 'Rosaire Dion-Lévesque', 'Paul Dirmeikis', 'Tahar Djaout', 'Philippe Djian', 'Doc Seven', 'Sophie Doin', 'Françoise Dolto', 'Jean-Marie Domenach', 'Pierre Dominique', 'Jan J. Dominique', 'Roland Dorgelès', 'Françoise Dorin', 'Michel Doury', 'Louise Drevet', 'Jacques Drillon', 'Pierre Drieu la Rochelle', 'Thomas Dretart', 'Michel Droit', 'Marisol Drouin', 'Maurice Druon', 'Jean-Luc Dubart', 'Marcel Dubé', 'François Hertel', 'Joachim du Bellay', 'Roland Dubillard', 'André-Joseph Dubois', 'Guillaume Dubois (Crétin)', 'Jean-Paul Dubois', 'Charles Du Bos', 'John Dubouchet', 'Georges Duby', 'Réjean Ducharme', 'Laurence Dudek (page inexistante)', 'Hélène Duffau', 'Abel Dufresne', 'Pierre Dufresne', 'Georges Duhamel', 'Charles Duits', 'Alexandre Dumas', 'Alexandre Dumas fils', 'Georges Dumézil', 'Robert Dun', 'Dominique Dupart', 'Anny Duperey', 'Philippe Duplessis-Mornay', 'Marie-Bernadette Dupuy', 'Pierre Dupuy (écrivain)', 'Jacques Duquesne (écrivain)', 'Loup Durand', 'Adrienne Durand-Tullou', 'Marguerite Duras', 'Victor Duruy', 'Luc Durtain', 'Anne Dutertre', 'Benoît Duteurtre', 'Jean Dutourd', 'Tony Duvert', 'Jacques Dyssord']\n"
     ]
    }
   ],
   "source": [
    "# == Obtenir les auteurs pour tous les bloc précédents ==\n",
    "auteurs1=[]\n",
    "for ul in fond:\n",
    "    interl=[]\n",
    "    liste_li=ul.findAll(\"li\")\n",
    "    for li in liste_li:\n",
    "        try:\n",
    "            interl.append(li.find(\"a\").get(\"title\"))\n",
    "        except:\n",
    "            pass\n",
    "    auteurs1.append(interl)\n",
    "\n",
    "#print(len(auteurs1[:len(auteurs1)-2]))  #On a bien les 26 lettres de l'alphabet\n",
    "auteurs1=auteurs1[:len(auteurs1)-2]        #à la fin on a deux blocs hors sujet à enlever\n",
    "\n",
    "\n",
    "liste_auteurs=[]        #liste avec tous les auteurs rassemblés\n",
    "for autL in auteurs1:\n",
    "    liste_auteurs+=autL\n",
    "#print(len(liste_auteurs),liste_auteurs)\n",
    "print(auteurs1[3])"
   ]
  },
  {
   "cell_type": "markdown",
   "metadata": {},
   "source": [
    "Première série de nettoyage : <br>\n",
    "- on enlève les auteurs sans page qui sont dans la liste. Ex: <i> auteurs1[2] = [..., 'Catherine Chauchat (page inexistante)', ...] </i>\n",
    "- certaines années apparaissent seules dans la liste, on les retire. Ex: <i> [...,'Hégésippe Moreau', '1962', 'Paul Morelle',...] </i>"
   ]
  },
  {
   "cell_type": "code",
   "execution_count": 26,
   "metadata": {},
   "outputs": [],
   "source": [
    "for aut in liste_auteurs:\n",
    "    if 'page inexistante' in aut:               #'Catherine Chauchat (page inexistante)'\n",
    "        liste_auteurs.remove(aut)\n",
    "    else:\n",
    "        try:\n",
    "            if float(aut).is_integer()==True:   #il y a des années seules dans la liste : [...,'Hégésippe Moreau', '1962', 'Paul Morelle',...]\n",
    "                liste_auteurs.remove(aut)\n",
    "        except:\n",
    "            pass"
   ]
  },
  {
   "cell_type": "markdown",
   "metadata": {},
   "source": [
    "Nettoyage de <code>liste_auteurs</code> avec les expressions régulières pour enlever les \"(...)\" <br>\n",
    "On a par exemple : <i>[..., 'Denis Côté (écrivain)', ..., 'Maurice David (résistant)', 'René David (auteur)', ...]</i>"
   ]
  },
  {
   "cell_type": "code",
   "execution_count": 32,
   "metadata": {},
   "outputs": [],
   "source": [
    "def regexpclean(text):\n",
    "    if '(' in text:\n",
    "        return re.sub(r\"\\([^()]*\\)\", \"\",text)\n",
    "    else:\n",
    "        return text"
   ]
  },
  {
   "cell_type": "code",
   "execution_count": 33,
   "metadata": {},
   "outputs": [
    {
     "name": "stdout",
     "output_type": "stream",
     "text": [
      "1554 [\"François-Jean Willemain d'Abancourt\", 'Jacques Abbadie', 'Éliette Abécassis', 'Pierre Abélard', 'Raymond Abellio', 'Edmond About', 'Pierre Abraham', 'Jean-Pierre Abraham', 'Laure Abrantès', 'Léon Abric', 'Amédée Achard', 'Marcel Achard', 'Paul Acker', 'Louise Ackermann', 'Germaine Acremant', 'Gérard Adam', 'Paul Adam', 'Adam de la Halle', 'Adam de Ros', 'André-Marcel Adamek', 'Adenet le Roi', 'Maylis Adhémar', 'Etel Adnan', 'Razika Adnani', 'Emmanuel Aegerter', 'Alain Agat', \"Théodore Agrippa d'Aubigné\", 'Dominique Aguessy', 'Jeannette D. Ahonsou', 'Jean Aicard', \"D'Aigue d'Iffremont\", 'Gustave Aimard', 'Charlotte Aïssé', 'Jean Ajalbert', 'Émile Ajar', 'Said Akl', 'Alain ', 'Alain de Lille', 'Alain-Fournier', 'Albéric de Pisançon', 'Guillaume Alexis', \"Jean Le Rond d'Alembert\", 'Alexandre de Bernay', 'Paul Alexis', 'François-Paul Alibert', 'Marcel Allain', 'Alphonse Allais', 'Ferdinand Alquié', 'Louis Althusser', 'Carlos Alvarado ', 'Jacques-Pierre Amée', 'Karim Amellal', 'Denis Amiel', 'Henri-Frédéric Amiel', 'Jean Amila', 'Jean-Jacques Ampère', 'Fadhma Aït Mansour Amrouche', 'Jean Amrouche', 'Taos Amrouche', 'Alain Amselek', 'Jacques Amyot ', 'Jacques-François Ancelot', 'Virginie Ancelot', 'Georges Ancey', 'Nicolas Ancion', 'Pierre Anctil', \"Henri d'Andeli\", 'Alix André', 'Frank Andriat', 'François Andrieux', 'Claude Anet', 'Auguste Angellier', 'Jean Anglade', 'Doëtte Angliviel', 'Christine Angot', 'Julie Annen', 'Jean Anouilh', 'Louis Anseaume', 'Leïla Aouchal', 'Guillaume Apollinaire', 'Yann Apperry', 'Hubert Aquin', 'Louis Aragon', 'René Arcos', 'Emmanuel Arène', 'Paul Arène', \"Jean-Baptiste Boyer d'Argens\", 'Philippe Ariès', 'Marcel Arland', 'Georges Arnaud', 'Georges-Jean Arnaud', 'Antoine Arnauld ', 'Alexandre Arnoux', 'Raymond Aron', 'Fernando Arrabal', 'Antonin Artaud', 'Louis Artus', 'Félix Arvers', 'Bernard Assiniwi', 'Alexis Aubenque', 'Jean Aubert ', 'Raphaël Aubert', 'Brigitte Aubert', 'Dominique Aubier', 'Octave Aubry', 'Gwenaëlle Aubry', 'Marcelle Auclair', 'Jacques Audiberti', 'Gabriel Audisio ', 'Marguerite Audoux', 'Émile Augier', 'François Augiéras', 'Alphonse Aulard', \"Marie Catherine le Jumel de Barneville, comtesse d'Aulnoy\", 'George-Albert Aurier', 'Nan Aurousseau', 'Dominique Aury', \"Martial d'Auvergne\", 'Claude Aveline', 'Ayerdhal', 'Marcel Aymé', 'Mariama Bâ', 'Louis Petit de Bachaumont', 'Gaston Bachelard', 'Henri Bachelin', 'Clémence Badère', 'André Baillon', 'Jacques Bainville', 'Honoré de Balzac', 'Pierre Bameul', 'Cédric Bannel', 'Tristane Banon', 'Théodore de Banville', \"Jules Barbey d'Aurevilly\", 'Henri Barbusse', 'René Barjavel', 'Jean-Baptiste Baronian', 'Linda Maria Baros', 'Maurice Barrès', 'Loïc Barrière', 'France Bastia', 'Frédéric Bastiat', 'Jean-Pierre Bastid', 'Madame Conrad Bastien', 'Georges Bataille', 'Stéphane Batigne', 'Henry Bauchau', 'Charles Baudelaire', 'Jean C. Baudet', 'Jean Baudrillard', 'Hervé Bazin', 'René Bazin', 'Julos Beaucarne', 'Nérée Beauchemin', 'Yves Beauchemin', 'Honoré Beaugrand', 'Alain Beaulieu', 'Pierre-Augustin Caron de Beaumarchais', 'Madame de Beaumer', 'Alphonse Beauregard', 'Simone de Beauvoir', 'Madame Beccari', 'Samuel Beckett', 'Noël Beda', 'Maurice Bedel', 'Azouz Begag', 'René Béhaine', 'Gaëlle Bélem', 'Dominic Bellavance', 'Joachim du Bellay', 'André Belleau', 'Janick Belleau', 'Remy Belleau', 'Jacques Bellefroid', 'Antoine Bello', 'R. Bellon', 'Tahar Ben Jelloun', 'Marc Benda', 'Guillaume Benech', 'Benoît de Sainte-Maure', 'Pierre Benoit', 'Jacques Bens', 'Hedia Bensahli', 'Juliette Benzoni', 'Pierre-Jean de Béranger', 'Henri Béraud', 'Alain Berenboom', 'Claude Berger ', 'Savinien Cyrano de Bergerac', 'Claire Bergeron', 'Mario Bergeron', 'Jacques Bergier', 'Pierre Bergounioux', 'Sereine Berlottier', 'Georges Bernanos', 'Charles Bernard ', 'Tristan Bernard', 'Jacques-Henri Bernardin de Saint-Pierre', 'Denise Bernhardt', 'Henry Bernstein', 'Béroul', 'Rose Berryl', 'Alain Berson', 'Aloysius Bertrand', 'José de Bérys', 'Michel Besnier', 'Hélène Bessette', 'Gérard Bessette', 'Patrick Besson', 'Philippe Besson', 'Bessora', 'Conon de Béthune', 'Mongo Beti', 'Louis Beuve', 'Michel Bibaud', 'François Billetdoux', 'Raphaëlle Billetdoux', 'Pierre Billon ', 'André Birabeau', 'Lise Bissonnette', 'Marie-Claire Blais', 'François Blanchet ', 'Maurice Blanchot', 'Philippe Blasband', 'Blondel de Nesle', 'Antoine Blondin', 'Alain Blottière', 'Léon Bloy', 'François Bluche', 'Christian Bobin', 'Jean Bodel', 'Emile Bodin', 'Nicolas Boileau', 'Boileau-Narcejac', 'Janine Boissard', 'Ely Boissin', 'Kevin Bokeili', 'Antoine-Roger Bolamba', 'Jean-Claude Bologne', 'Denise Bombardier', 'François Bon', 'Tanella Boni', 'Abel Bonnard', 'Yves Bonnefoy', 'Laetitia Boqui-Queni', 'Pierre Bordage', 'Henry Bordeaux', 'Virginia Pésémapeo Bordeleau', 'Gilbert Bordes', 'Jacques Bornet', 'Robert de Boron', 'Valérie Boronad', 'Michel Bosc', 'Henri Bosco', 'Alain Bosquet', 'Jacques-Bénigne Bossuet', 'Pierre Bottero', 'Saley Boubé Bali', 'Denise Boucher', 'Jean Bouchet', 'Alphonse Boudard', 'Daniel Boulanger', 'Pierre Boulle', 'Clémence Boulouque', 'Jacques de Bourbon Busset', 'Françoise Bourdon', 'Élémir Bourges', 'Paul Bourget', 'Stéphane Bourguignon', 'Joë Bousquet', 'Fatma Bouvet de la Maisonneuve', 'René Boylesve', 'Ernest Boysse', 'Carmen Bramly', 'Robert Brasillach', 'François Bréda', 'Alain Breton', 'André Breton', 'Jean Breton', 'François Briand', 'Jean Anthelme Brillat-Savarin', 'Évelyne Brisou-Pellen', 'André Brochu', 'Victor Brodeau', 'Colette Brogniart', 'Chrystine Brouillet', 'Nicole Brossard', 'Andrée Brunin', 'Serge Brussolo', 'Guillaume Budé', 'Antoine Buéno', 'Arthur Buies', 'Georges Bugnet', 'Nicole de Buron', 'Roger de Bussy-Rabutin', 'Michel Butor', 'Émile Cabanon', 'Charles-Louis Cadet de Gassicourt', 'René Guy Cadou', 'Théophile Cailleux', 'Roger Caillois', 'Paul Cunisset-Carnot', 'Louis Calaferte', 'Anne Calife', 'Jean Calvin', 'Pierre Henri Cami', 'Julien Campredon', 'Albert Camus', 'Michel Camus', 'Renaud Camus', 'Marc Cantin ', 'Michel Canesi', 'Alfred Capus', '1953', 'Francis Carco', 'Cardeline', 'Louis Caron', 'Gilles Carpentier', 'Alexis Carrel', 'Emmanuel Carrère', 'Jean-Claude Carrière', 'Odette Casadesus', 'Henri-Raymond Casgrain', 'Laurence Catinot-Crost', 'Dorothée Catoune ', 'Jean Cau', 'Romaine Cauque', 'Gisèle Cavali', 'Antoine de Caunes', 'François Cavanna', 'Jean Cayrol', 'Jean-Philippe Cazier', 'Paul Cazin', 'Jacques Cazotte', 'Catherine Chauchat ', 'Jean-Christophe Chaumette', 'René de Ceccatty', 'Louis-Ferdinand Céline', 'Blaise Cendrars', 'Muriel Cerf', 'Aimé Césaire', 'Gilbert Cesbron', 'Jean-Pierre Chabrol', 'Elmira Chackal', 'Louis Chaigne', 'Marie Chaix', 'Olivier Challet', 'Sébastien-Roch Nicolas de Chamfort', 'Maurice Champagne ', 'Samuel de Champlain', 'Jean-François Champollion', 'Françoise Chandernagor', 'Solange Chaput-Rolland', 'René Char', 'Robert Charbonneau', 'Jacques Chardonne', 'Jean Charlier', 'Guy Charmasson', 'Médéric Charot', 'Henri Charrière', 'Isabelle de Charrière', 'Robert Charroux', 'Alain Chartier', 'Georges Chastellain', 'François-René de Chateaubriand', 'Achille Chavée', 'Eugène Chavette', 'Malcolm de Chazal', 'Andrée Chédid', 'Marion Chemin', 'Ying Chen', 'André Chénier', 'Magyd Cherfi', 'Marie-Amélie Chéreau ', 'Adolphe de Chesnel', 'Gabriel Chevallier ', 'Fanny Chiarello', 'Herménégilde Chiasson', 'Réda Chimcrit', 'Jacques Choffel', 'Maryse Choisy', 'Chrétien de Troyes', 'Florent Chrestien', 'Jean-Baptiste Cinéas', 'Patrick Cintas', 'Émile Michel Cioran', 'Suzanne Citron', 'Georges-Emmanuel Clancier', 'Jean-Claude Clari', 'Paul Claudel', 'Philippe Claudel', 'Suzanne Clausse', 'Bernard Clavel', 'Jean-Paul Clébert', 'Georges Clemenceau', 'Guy Cloutier ', 'Patrick Cloux', 'Lémy Lémane Coco', 'Jean Cocteau', 'Albert Cohen', 'Gauthier de Coincy', 'Colette', 'Marie-Thérèse Colimon Hall', 'Maurice Colin', 'Jean-Yves Collette', 'Marie Colot', 'Pierre Combescot', 'Béatrice Commengé', 'Philippe de Commynes', 'Gaston Compère', 'Auguste Comte', 'André Comte-Sponville', 'Laure Conan', 'Étienne Bonnot de Condillac', 'Nicolas de Condorcet', 'Benjamin Constant', 'Laetitia Constant', 'Maurice Constantin-Weyer', 'Gisèle Cavali', 'Copi', 'Benoît Coppée', 'François Coppée', 'Valéry Coquant', 'Alioune Badara Coulibaly', 'Tristan Corbière', 'Michel Cordeboeuf', 'Jeanne Cordelier', 'Coriola', 'Enzo Cormann', 'Henry Cormeau', 'Pierre Corneille', 'Thomas Corneille', 'Hugues Corriveau', 'Albert Cossery', 'Sylvain Cossette', 'Cécile Coulon', 'Georges Courteline', 'Olivier Cousin ', 'Victor Cousin', 'Raymond Cousse', 'Arlette Cousture', 'Michel X Côté', 'Denis Côté ', 'Arthur Cravan', 'Prosper Jolyot de Crébillon', 'Claude-Prosper Jolyot de Crébillon', 'Octave Crémazie', 'René Crevel ', 'Charles Cros', 'Jean-Louis Curtis', 'Aymeric Caron', 'Abdoulaye Y. Dabo', 'Didier Daeninckx', 'Seyhmus Dagtekin', 'Alain Damasio', 'Daniel-Rops', 'Daniel Danis', 'Maurice G. Dantec', 'Pierre Daninos', 'Emile Danoën', 'Louis Dantin', 'Frédéric Dard', 'Milan Dargent', 'Guy Darol', 'Marie Darrieussecq', 'Léo Dartey', 'Simon Dary', 'Martine Dassault', 'Alphonse Daudet', 'Léon Daudet', 'René Daumal', 'Maurice David ', 'René David ', 'Mercedes Deambrosis', 'Max Deauville', 'Roland de Bodt', 'Daniel de Bruycker', 'Alain Decaux', 'Didier Decoin', 'Marien Defalvard', 'Laurent de Graeve', 'Jean-Marie Déguignet', 'Régine Deforges', 'Pierre Abraham de La Bretonnière', 'Jean-François de La Croix', 'Serge Delaive', 'Casimir Delavigne', 'Chloé Delaume', 'Philippe Delerm', 'Gilles Deleuze', 'Jeanne-Mance Delisle', 'Olivier Delorme', 'Geoffroy Delorme', 'Bernard Deloupy', 'Joseph Delteil ', 'Dominique Demers', 'Alain Demouzon', 'Annick Demouzon', 'Jean-François Deniau', 'Patrick Denieul', 'Bantcheva Denitza', 'Maurice Denuzière', 'Michel Déon', 'Marie Depussé', 'Denise Desautels', 'Daniel Desbiens', 'Jean-Paul Desbiens', 'Maryline Desbiolles', 'Marceline Desbordes-Valmore', 'René Descartes', 'Émile Deschamps', 'Eustache Deschamps', 'Émile Deschanel', 'Paul Deschanel', 'Isabelle Desesquelles', 'Richard Desjardins', 'Rex Desmarchais', 'Bernard Desmaretz', 'Robert Desnos', 'Eugène André Despois', 'Pierre Desproges', 'Jean-Simon DesRochers', 'Jean-Pierre Desthuilliers', 'Conrad Detrez', 'Xavier Deutsch', 'Simone Dever', 'Jean-Marc Dhainaut', 'Pierre Dhainaut', 'André Dhôtel', 'David di Nota', 'Alpha Mandé Diarra', 'Mohamed Dib', 'Denis Diderot', 'Jean-Paul Didierlaurent', 'Léon Dierx', 'Fatou Diome', 'Rosaire Dion-Lévesque', 'Paul Dirmeikis', 'Tahar Djaout', 'Philippe Djian', 'Doc Seven', 'Sophie Doin', 'Françoise Dolto', 'Jean-Marie Domenach', 'Pierre Dominique', 'Jan J. Dominique', 'Roland Dorgelès', 'Françoise Dorin', 'Michel Doury', 'Louise Drevet', 'Jacques Drillon', 'Pierre Drieu la Rochelle', 'Thomas Dretart', 'Michel Droit', 'Marisol Drouin', 'Maurice Druon', 'Jean-Luc Dubart', 'Marcel Dubé', 'François Hertel', 'Joachim du Bellay', 'Roland Dubillard', 'André-Joseph Dubois', 'Guillaume Dubois ', 'Jean-Paul Dubois', 'Charles Du Bos', 'John Dubouchet', 'Georges Duby', 'Réjean Ducharme', 'Laurence Dudek ', 'Hélène Duffau', 'Abel Dufresne', 'Pierre Dufresne', 'Georges Duhamel', 'Charles Duits', 'Alexandre Dumas', 'Alexandre Dumas fils', 'Georges Dumézil', 'Robert Dun', 'Dominique Dupart', 'Anny Duperey', 'Philippe Duplessis-Mornay', 'Marie-Bernadette Dupuy', 'Pierre Dupuy ', 'Jacques Duquesne ', 'Loup Durand', 'Adrienne Durand-Tullou', 'Marguerite Duras', 'Victor Duruy', 'Luc Durtain', 'Anne Dutertre', 'Benoît Duteurtre', 'Jean Dutourd', 'Tony Duvert', 'Jacques Dyssord', \"Françoise d'Eaubonne\", 'Philippe Ébly', 'Isabelle Eberhardt', 'Jean Echenoz', 'Joël Egloff', \"Gustave d'Eichthal\", 'Bernard Eliade', 'Robert Élie', 'Paul Éluard', 'Max Elskamp', 'Laurent Eltschinger', 'Alain Emery', 'François Emmanuel', 'Pierre Emmanuel', 'Louis Émond ', 'Paul Emond', 'Florence Emptaz', 'Mathias Énard', 'Émile Erckmann', 'Erckmann-Chatrian', 'J.M. Erre', 'Raymond Escholier', 'Claude Esil', 'Édouard Estaunié', 'Henri Estienne', \"Pierre de L'Estoile\", 'Bernard Everard', 'Mason Ewing', 'Charles Exbrayat', 'Doumbi Fakoly', 'René Fallet', 'Bernard Fauconnier', 'Geneviève Fauconnier', 'Henri Fauconnier', 'Edgar Faure', 'Claude Favre', 'Marc Favreau', 'Jean-Pierre Faye', 'Fénelon', 'Mouloud Feraoun', 'Jean-Baptiste-Antoine Ferland', 'Pierre de Fermat', 'Maxence Fermine', 'Michel Ferracci-Porri', 'Marie Ferranti', 'Andrée Ferretti', 'Jean-Pierre Ferrière', 'Jacques Ferron', 'Madeleine Ferron', 'Paul Féval', 'Georges Feydeau', 'Joseph Fiévée', 'Jessica Fièvre', 'Hervé Fischer', 'Thomas Flahaut', 'Gustave Flaubert', 'Jean-Pierre de Claris de Florian', 'Jean Follain', 'Jean-Pierre Louis de Fontanes', 'Bernard Le Bovier de Fontenelle', 'Ariane Fornia', 'Paul Fort', 'Daniel Foucher', 'Théodore de Foudras', 'Roger Foulon', 'Philippe Fournier ', 'Maurice Fourré', 'Irène Frain', 'Anatole France', 'Lucien Francœur', 'Louis-Honoré Fréchette', 'Guy Frégault', 'René Frégni', 'Donatien Frémont', 'André Frénaud', 'Élie Fréron', 'Georges Friedenkraft', 'Arnaud Friedmann', 'Roger Frison-Roche', 'Pierre Fritsch', 'Thierry Froger ', 'Eugène Fromentin', 'André Frossard', 'Élise Fugler', 'Marc Fumaroli', 'François Furet', 'Antoine Furetière', 'Émile Gaboriau', 'Erwan Gabory', 'Paul Gadenne', 'Marthe Gagnon-Thibaudeau', 'Christian Gailly', 'Fatima Gallaire', 'Max Gallo', 'Charles Galpérine', 'Pierre Gamarra', 'Roger Garaudy', 'Christian Garcin', 'François-Xavier Garneau', 'Romain Gary', 'Philippe Aubert de Gaspé', 'Philippe Aubert de Gaspé, fils', 'Ferréol Gassackys', 'Nathalie Gassel', 'Laurent Gaudé', 'Charles de Gaulle', 'Jean Gaulmier', 'Jean-Jacques Gautier', 'Léon Gautier', 'Pascale Gautier', 'Théophile Gautier', 'Claude Gauvreau', 'Anna Gavalda', 'Delphine Gay de Girardin', 'Gratien Gélinas', 'Jean Genet', 'Maurice Genevoix', 'Max Genève', 'Charles Géniaux', 'Françoise Gérard', 'Jacques Géraud', 'Antoine Gérin-Lajoie', 'Louis Gernet', 'Hélène Gestern', 'Yves Gibeau', 'André Gide', 'Roland Giguère', 'Pauline Gill', 'Jean Giono', 'Catherine-Joseph-Ferdinand Girard de Propiac', 'Jean Giraudoux', 'André Giroux ', \"Valéry Giscard d'Estaing\", 'Arthur de Gobineau', 'Anne Godard', 'Jacques Godbout', 'Jacques Godron', 'Valérie Goma', 'Edmond de Goncourt', 'Jules de Goncourt', 'Augustine Gottis', 'Gilles de Gouberville', 'Charles Gouraud', 'Remy de Gourmont', 'Julien Gracq', 'Patrick Grainville', 'Xavier Grall', 'Alain Grandbois', 'Albert-Paul Granier', \"Jacques Grand'Maison\", 'Bernard Grasset ', 'Andrée-Anne Gratton', 'Arnoul et Simon Gréban', 'Julien Green', 'Jean-Baptiste Gresset', 'Yves Grevet', 'Henry Gréville', 'Jean-René Guay', 'Agnès Gueuret', 'Raymond Guérin', 'Cécil Guitart', 'Claude-Henri Grignon', 'Pierre Gringore', 'Laurent Grison', 'Benoîte Groult', 'Jean Guéhenno', 'Charles Guérin ', 'Armel Guerne', 'Germaine Guèvremont', 'Hervé Guibert', 'Yannick Guilbaud', 'Émile Guillaumin', 'Henri Guillemin', 'Eugène Guillevic', 'Louis Guilloux', 'Paul Guimard', 'Alain Guiraudie', 'Paul Guth', 'Madame Guyon', 'Adrien Gygax', 'Gyp', '1939', 'Adam de la Halle', 'Jean-Edern Hallier', 'Jean Hamburger', 'Béatrice Hammer', 'Irène Hamoir', 'Amadou Hampâté Bâ', 'André Hardellet', 'Jacqueline Harpman', 'Jean-Charles Harvey', 'Anne Hébert', 'Bruno Hébert', 'Markus Hediger', 'Louis Hémon', 'Joseph-François-Gabriel Hennequin', 'Émile Henriot ', 'Pierre Herbart', 'José-Maria de Heredia', 'Philippe Hériat', 'Evelyne Heuffel', 'Daniel Hirtz', 'Olivier Hodasava', 'Corinne Hoex', 'Michel Honaker', 'Christophe Honoré', 'Éric Hossan', 'François Hotman', 'Michel Houellebecq', 'Victor Hugo', 'Rémi Huppert', 'Nancy Huston', 'René Huyghe', 'François-Bernard Huyghe', 'Joris-Karl Huysmans', 'Georges Hyvernaud', 'Célia Ibanez', 'Eugène Ionesco', 'Paul Ivoire', 'Claude Izner', 'Jacques Izoard', 'Edmond Jabès', 'Albert Jacquard', 'Max Jacob', 'Christian Jacq', 'Dominique Jamet', 'Francis Jammes', 'Stéphanie Janicot', 'Christine Jacquet', 'Ludovic Janvier', 'Alexandre Jardin', 'Pascal Jardin', 'Alfred Jarry', 'Claude Jaunière', 'Salim Jay', 'Michel Jean', 'Jean Bodel', 'Jean-Charles', 'Jean Charlier', 'Jean de Meung', 'Jean Juvénal des Ursins', 'Jean Le Bel', 'Jean Lemaire de Belges', 'Jean Le Marchant', 'Jean Marcel', 'Georges-Noël Jeandrieu', 'François Jobin', 'Étienne Jodelle', 'Joseph Joffo', 'Jean de Joinville', 'Maurice Joly', 'Jacques Jouet', 'Marcel Jouhandeau', 'Monique Jouvancy', 'Pierre Jean Jouve', 'Charles Juliet', 'Annette Kahn', 'Gustave Kahn', 'Michèle Kahn', 'Kama Sywor Kamanda', 'Lamine Kamara', 'Ahmad Kamyabi Mask', 'Leslie Kaplan', 'Alphonse Karr', 'Alexandre Karvovski', 'Victor Kathémo', 'Eva Kavian', 'Joseph Kessel', 'Vénus Khoury-Ghata', 'Frédéric Kiesel', 'Gérard Klein ', 'Lionel Koechlin', 'Bernard-Marie Koltès', 'Moussa Konaté ', 'Angèle Koster', 'Ahmadou Kourouma', 'Claire Krähenbühl', 'Stéphane Krebs', 'Milan Kundera', 'Louise Labé', 'Albert Laberge', 'Marie Laberge', 'Eugène Labiche', 'Étienne de La Boétie', 'Emmanuelle Laborit', 'Catherine Laboubée', 'Pierre Labrie', 'Jean de La Bruyère', 'Jacques Lacarrière ', 'Jacques Lacoursière', 'Pierre Choderlos de Laclos', 'Jacques de Lacretelle', 'Madame de La Fayette', 'Dany Laferrière', 'Jean de La Fontaine', 'Jules Laforgue', 'Octavie Lagrange', 'Pascal Lainé', 'Denis Lalanne', 'Olivier de la Marche', 'Alphonse de Lamartine', 'Simon Lambert ', 'Félicité Robert de Lamennais', 'Yvan Lamonde', 'Blanche Lamontagne-Beauregard', 'Gustave Lanctot', 'André Langevin ', 'Xavier de Langlais', 'Jacques Languirand', 'Patrice Lanoy', 'Jacques Lanzmann', 'Lanza del Vasto', 'Georges-Émile Lapalme', 'Pierre-Antoine de La Place', 'Valery Larbaud', 'François de La Rochefoucauld', 'Antoine de La Sale', 'Edgar La Selve', 'Rina Lasnier', 'Patrice de la Tour du Pin', 'Pierre Latrobe', 'Marie Laubot', 'Laurent Laurent', 'André Laurendeau', 'Camille Laurens ', 'Suzanne Lauriot Prévost', 'Comte de Lautréamont', 'René Laurentin', 'Éric Laurrent', 'Jean de La Varende', 'Maurice-Élisabeth de Lavergne de Tressan', 'Camara Laye', 'Paul Léautaud', 'Jean Le Bel', 'Nicolas Lebel ', 'Marie Lebey', 'Maurice Leblanc', 'Antoine Le Blanc de Guillet', 'Georges Louis Leclerc, comte de Buffon', 'Félix Leclerc', 'Jacques Leclerc ', 'Max-Firmin Leclerc', 'Guy Leclercq ', 'Théodore Leclercq', 'Jean-Marie Gustave Le Clézio', 'Pierre Lecomte du Noüy', 'Leconte de Lisle', 'Alain  Leduc', \"Lefèvre d'Etaples\", 'Jérémie Lefebvre', 'Jean Baptiste Lefebvre de Villebrune', 'Ariane Le Fort', 'Claire Legendre', 'Antoinette Legroing de La Maisonneuve', 'Gottfried Wilhelm Leibniz', 'Denis Lejeune', 'Sylvain Lelièvre', 'François Lelord', 'Léon-Pamphile Le May', 'Roger Lemelin', 'Alice Lemieux', 'Pierre Lemieux ', 'Jean Le Moyne', 'Frédéric Lenormand', 'Bernard Lenteric', 'Jean-Robert Léonidas', 'Robert Lepage', 'Denis Lépée', 'Jules Lermina', 'Gaston Leroux', 'Marilyse Leroux', 'Eugène Le Roy', 'Jean Lescure ', 'Normand Lester', 'Hervé Le Tellier', 'Philippe Leuckx', 'Georges-Henri Lévesque', 'François Lévesque', 'Raymond Lévesque', 'René Lévesque', 'Celia Levi', 'Claude Lévi-Strauss', 'Marc Levy', 'Pierre Lévy ', 'Simon Leys', 'Abbé Lhomond', 'Chow ching lie', 'Eloïse Lièvre', 'Marie de Lignac', 'Georges Limbour', 'Thérèse de Lisieux', 'Émile Littré', 'Frédéric Livyns', 'Henri Lœvenbruck', 'Karel Logist', 'Jeanne Loiseau', 'Karel Logist', 'Marie-Françoise Loquet ', 'Jean Lorrain', 'Guillaume de Lorris', 'Marie-Joseph Lory', 'Pierre Loti', 'Sophie Loubière', 'François de Louvencourt seigneur de Vauchelles', 'Pierre Louÿs', 'Albert Lozeau', 'Carla Lucarelli', 'Annie Lulu', 'Jacques Lusseyran', 'Amin Maalouf', 'Alain Mabanckou', 'Yves Mabin Chennevière', 'Pierre Mac Orlan', 'Guillaume de Machaut', 'Michèle Madar', 'Charles Madézo', 'Maurice Maeterlinck', 'Magali ', 'Marc Magro', 'Patrick Mahéo', 'Antonine Maillet', 'Charif Majdalani', 'André Major', 'Marie François Pierre Gontier de Biran, dit Maine de Biran', 'Andreï Makine', 'Jean Malaquais', 'Joseph Malègue', 'Léo Malet', 'Joseph François Marie Malherbe', 'François de Malherbe', 'Chrétien-Guillaume de Lamoignon de Malesherbes', 'Stéphane Mallarmé', 'Françoise Mallet-Joris', 'Hector Malot', 'André Malraux', 'Mouloud Mammeri', 'Jean-Patrick Manchette', 'Laure Manel', 'Yves Manglou', 'Jacques Manguso', 'Alain Marc ', 'Eustache Marcadé', 'Gilles Marcotte', 'Philippe Marczewski', 'Lionel Marek', 'Pierre Margry', 'Marie de France ', 'Pierre Carlet de Chamblain de Marivaux', 'Joseph Marmette', 'Clément Marot', 'Jean Marot ', 'Jean Marquet', \"Martial d'Auvergne\", 'Claire Martin', 'Roger Martin du Gard', 'Jean-Charles Massera', 'Jean-Baptiste Massillon', 'Charles François Philibert Masson', 'Jean Papire Masson', 'Martin Matje', 'Bernard-Roger Mathieu', 'Élie Maucourant', 'Guy de Maupassant', 'Olivier Maurault', 'François Mauriac', 'André Maurois', 'Charles Maurras', 'Daniel Maximin', 'Claire-Marie Mazarelli de Saint-Chamond', 'Annette Mbaye d’Erneville', 'Mohamed Mbougar Sarr', 'Stéphane Méliade', 'Marcel Melthérorong', 'Albert Memmi', 'Karelle Ménine', 'Laurent Mérer', 'Prosper Mérimée', 'Robert Merle', 'Fleury Mesplet', 'Hervé Mestron', 'François Métais-Panterne', 'Jean Métellus', 'Maurice Métral', 'Claude Meunier', 'Thierry Meyssan', 'Henri Michaux', 'Michel-Georges Micberth', 'Jules Michelet', 'Pierre Michon', 'Marco Micone', 'Xavier Milan', 'Raymond Milési', 'Kate Milie', 'Charles Hubert Millevoye', 'Gabriel-Honoré Riquetti, comte de Mirabeau', 'Gaston Miron', 'Jules Moinaux', 'Pierre Moinot', 'Pierre Molaine', 'Molière', 'Jean Molinet', 'Denis Monette', 'Hélène Monette', 'Hélène de Monferrand', 'Henry de Monfreid', 'Rachel Monnat', 'Henri Monnier', 'Enguerrand de Monstrelet', 'Michel de Montaigne', 'Jean Montaldo', 'Xavier de Montépin', 'Montesquieu ', 'Henry de Montherlant', 'Ugo Monticone', 'Édouard Montpetit', 'Paul Morand', 'Hégésippe Moreau', '1962', 'Paul Morelle', 'Cedric Morgan', 'Philippe Morvan', 'Zaghloul Morsy', 'Jean Morzadec', 'Isaac Moumé Etia', 'Michel Tagne Foko', 'Raoul Motoret', 'Tamara Magaram', 'Wajdi Mouawad', 'Bertrand Munier ', 'Jean Muno', 'Colin Muset', 'Alfred de Musset', 'Yann Moix', 'Guillaume Musso', 'Abdallah Naaman', 'Marc-Édouard Nabe', 'Jean-François Nahmias', 'Alexandre Najjar', 'Jean-Pierre Naugrette', 'Marguerite de Navarre ', 'Raoul de Navery', 'Hicham Nazzal', \"Mamadou Mahmoud N'Dongo\", 'Mariama Ndoye', 'Émile Nelligan', 'Gérard de Nerval', 'Éric Neuhoff', 'Paul Neuhuys', 'Olivier Nicklaus', 'Yves Nilly', 'Françoise Nimal', 'Marie Nimier', 'Roger Nimier', 'Paul Nizan', 'Anna de Noailles', 'Noctuel', 'Charles Nodier', 'Géo Norge', 'Nostradamus', 'Amélie Nothomb', 'Gaël Octavia', 'Georges Ohnet', 'Mikaël Ollivier', 'Michel Onfray', \"Nicolas d'Oresme\", \"Charles d'Orléans \", \"Jean d'Ormesson\", 'Erik Orsenna', 'Fernand Ouellette', 'Francine Ouellette', 'Madeleine Ouellette-Michalska', 'Cécile Oumhani', 'Yambo Ouologuem', 'Guy-Marie Oury', 'Alain Pacadis', 'Pierre Pachet', 'Marcel Pagnol', 'Philippe Panneton', 'Clément Pansaers', 'Basile Panurgias', 'Alexandre Papilian', 'Gilles Paris', 'Gaston Paris', 'Thomas Paris', 'Jean-Marc Parisis', 'Évariste de Parny', 'Blaise Pascal', 'Charles Pascarel', 'Jean Passerat', 'Charles Péguy', 'Jean Pélégri', 'Jean-Jacques Pelletier', 'Raymond Penblanc', 'Jacques-Arnaud Penent', 'Daniel Pennac', 'Ernest Pépin', 'Georges Perec', 'Benjamin Péret', 'Louis Pergaud', 'Charles Perrault', 'Gilles Perrault', 'Pierre Perrin de Chassagne', 'Bryan Perro', 'Jacques Perry', 'Pierre Petitclair', 'Georges de Peyrebrune', 'Roger Peyrefitte', 'Philippe Pierre-Adolphe', 'Robin Philpot', 'Amédée Pichot', 'Jean-Marie Piemme', 'Annie Pietri', 'André Pieyre de Mandiargues', 'Mazarine Pingeot', 'Georges Piroué', 'Christine de Pisan', 'Giulio-Enrico Pisani', 'Virgile Elias Gehrig', 'Bernard Pivot', 'Pierre Pithou', 'Jean Plançon', 'Raymond Plante', 'Charles Plisnier', 'Jean-Pierre Poccioni', 'Henri Poincaré', 'Stéphanie Polack', 'Grégoire Polet', 'Gilbert Ponaman', 'Christophe de Ponfilly', 'Francis Ponge', 'Carène Ponte', 'Philippe Porée-Kurrer', 'Laurent Poujois', 'Damase Potvin', 'Alexandre Pouchkine', 'Jacques Poulin', 'Henri Pourrat', 'Jean-Bernard Pouy', 'Thierry Poyet ', 'Jacques Prado', 'André Pratte', 'Yves Préfontaine', 'Jacques Prévert', 'Abbé Prévost', 'Michel Procope-Couteaux', 'Pierre-Joseph Proudhon', 'Marcel Proust', 'Sully Prudhomme', 'Jean Louis Armand de Quatrefages de Bréau', 'Henri Queffélec', 'Yann Queffélec', 'Raymond Queneau', 'François Quesnay', 'Joseph Quesnel', 'Gauvain Quiéret', 'Pascal Quignard', 'Edgar Quinet', 'François Rabelais', 'Pierre Rabhi', 'Roger Rabiniaux', 'Honorat de Bueil de Racan', 'Jean Racine', 'Rober Racine', 'Raymond Radiguet', 'Raharimanana', 'Patrick Rambaud', 'Charles-Ferdinand Ramuz', 'Nicolas Rapin', 'François-Juste-Marie Raynouard', 'Pauline Réage', 'Lucien Rebatet', 'Hubert Reeves', 'Jean-François Regnard', 'Henri de Régnier', 'Ernest Renan', 'Noëlle Renaude', 'Jean Renaut', 'Jules Renard', 'Patrick Renou', 'Guillemette Resplandy', 'Restif de la Bretonne', 'Max Revel', 'Catherine Rey', 'Françoise Rey', 'Fanny Reybaud', 'William Reymond', 'Serge Rezvani', 'Claude Ribbe', 'Jennifer Richard', 'Zachary Richard', 'André de Richaud', 'Jacques Rigaut', 'Arthur Rimbaud', 'Antoine Rivarol', 'Alain Robbe-Grillet', 'Denis Robert', 'Guy Robert ', 'Anne Robillard', 'Armand Robin', 'Liliane Robin', 'Claude-Henri Rocquet', 'Corinne Roche', 'Christiane Rochefort', 'David Rochefort', 'Édouard Rod', 'Jean Rogissart', 'Olivier Rolin', 'André Rollin', 'Romain Rolland', 'Jules Romains', 'Pierre de Ronsard', 'Olivia Rosenthal', 'Joël de Rosnay', 'Edmond Rostand', 'Jean Rostand', 'Marie Rotkopf', 'Marie Rouanet', 'Jean Rouaud', 'François-Olivier Rousseau', 'Jean-Baptiste Rousseau', 'Jean-Jacques Rousseau', 'Raymond Roussel', 'Camille Roy', 'Jean-Louis Roy ', 'Jules Roy', 'Gabrielle Roy', 'Stéphane E. Roy', 'Youssef Rzouga', 'Joseph-Edmond Roy', 'Jacques Ruffié', 'Jean-Christophe Rufin', 'Agnès Ruiz', 'Alain Ruiz', 'Robert Rumilly', 'Rutebeuf', 'Geneviève Ruxton', 'Robert Sabatier', 'Sylvestre Simon Samb', 'Maurice Sachs', 'Donatien Alphonse François de Sade', 'Françoise Sagan', 'Saint-Ange ', 'Marc-Antoine Girard de Saint-Amant', 'Charles-Augustin Sainte-Beuve', 'Georges Saint-Bonnet', 'Saint-Bray', 'Hector de Saint-Denys Garneau', 'Antoine de Saint-Exupéry', 'Mellin de Saint-Gelais', 'Saint-John Perse', 'Saint-Pol-Roux', 'Benoît de Sainte-Maure', 'Faucher de Saint-Maurice', 'Ramzi T. Salamé', 'Christiane Saleh', 'Sallebray', 'Albert Samain', 'Pierre Samson', 'George Sand', 'Jules Sandeau', 'Nathalie Sarraute', 'Albertine Sarrazin', 'Jean-Paul Sartre', 'Félix-Antoine Savard', \"François Scalion de Virbluneau sieur d'Ofayel\", 'Paul Scarron', 'Georges Schehadé', 'Liesel Schiffer', 'Éric-Emmanuel Schmitt', 'Pierre Schoendoerffer', 'Fernande Schulmann Métraux', 'Édouard Schuré', 'Marcel Schwob', 'Ann Scott', 'Georges de Scudéry', 'Madeleine de Scudéry', 'Louis Scutenaire', 'Gilles Sebhan', 'Mame Seck Mbacké', 'Alan Seeger', 'Laurent Segalen', 'Pierre Seghers', 'Jacques Séguéla', 'Philippe Ségur', 'Benjamin Sehene', 'Francine de Selve', 'Ousmane Sembène', 'Jean Sénac ', 'Étienne Pivert de Senancour', 'Virginie de Senancour', 'Patrick Sénécal', 'Antoine Bauderon de Sénecé', 'Léopold Sédar Senghor', 'Victor Serge', 'Marquise de Sévigné', 'Shan Sa', 'Daryush Shayegan', 'Christian Signol', 'Jean Simard', 'Georges Simenon', 'Pierre Simenon', 'Jean-Pierre Siméon', 'Claude Simon', 'Anne-Marie Simond', 'Mathieu Simonet ', 'Louis-Jean-Baptiste Simonet de Maisonneuve', 'Christian Skimao', 'Sébastien Smirou', 'Jeanne de Sobol', 'Ian Soliane', 'Philippe Sollers', 'Charles Sorel', 'Gaétan Soucy', 'Souillon ', 'Émile Souvestre', 'Pierre Souvestre', 'Bernard Souviraa', 'Sacha Sperling', 'Christophe Spielberger', 'Jean de Sponde', 'Anne-Louise Germaine de Staël', 'Joëlle Stagoll', 'Alain Stanké', 'Julie Stanton', 'Stendhal', 'Fady Stephan', 'Sully Prudhomme', 'Eugène Sue', 'Benjamin Sulte', 'Jules Supervielle', 'Marie Susini', 'Sylvia Tabet', 'Charles-Maurice de Talleyrand-Périgord', 'Jean Tardieu', 'Jules-Paul Tardivel', 'Raphaël Tardon', 'Charbel Tayah', 'Pierre Teilhard de Chardin', 'Jeanne de Tallenay', 'Jennifer Tellier', 'Jules Tellier', 'Claudine Guérin de Tencin', 'François de Tessan', 'Michel Testut', 'Adrien Thério', 'Yves Thériault', 'Thibaut de Champagne', 'Marie José Thériault', 'Jack Thieuloy', 'Maurice Thuilière', 'Jean-Pierre Thiollet', \"Thomas d'Angleterre\", 'Nathaniel Thorne', 'Alexis de Tocqueville', 'Jeanne Tomasini', 'Roland Topor', 'Khal Torabully', 'Julien Torma', 'Brice Torrecillas', 'Paul-Jean Toulet', 'Armand Toupet', 'Michel Tournier', 'Jean-Philippe Toussaint', 'Alphonse Toussenel', 'Jérôme Touzalin', 'Falaba Issa Traoré', 'Michel Tremblay', 'Victor Trenga', 'Roland Michel Tremblay', 'Frédérick Tristan', 'Dominique Trottier', 'Pierre Trottier', 'Yves Trottier', 'Henri Troyat', 'Marcel Trudel', 'Sylvain Trudel', 'Madeleine Truel', 'José Tshisungu wa Tshisungu', 'Nadia Tuéni', 'Paul Tuffrau', 'Pierre Turgeon ', \"Honoré d'Urfé\", 'Pierre Vabre', 'Roger Vailland', 'Paul Valéry', 'François Valléjo', 'Jules Vallès', 'Jean des Vallières', 'Jean-Pierre Vallotton', 'Didier van Cauwelaert', 'Vân Mai', 'Marie Vareille', 'Fred Vargas', 'Michel Vastel', 'Lanza del Vasto', 'Nicolas Vatimbella', 'Claude Favre de Vaugelas', 'Jean Vauquelin de La Fresnaye', 'Jean Vauthier', 'Jean Vautrin', 'Luc de Clapiers, marquis de Vauvenargues', 'Yves Velan', 'Maud Ventura', 'Jean Venturini', 'Serge Venturini', 'Vercors ', 'Marie-Hélène Verdier', 'Émile Verhaeren', 'Jean-Pierre Verheggen', 'Paul Verlaine', 'Abraham de Vermeil', 'Marie-Sophie Vermot', 'Abbé Vertot', 'Jules Verne', 'Pierre Véry', 'Boris Vian', 'Auguste Viatte', 'Théophile de Viau', 'Paul Vibert ', 'Tanguy Viel', 'Gilles Vigneault', 'Baptiste Vignol', 'Alfred de Vigny', 'Geoffroi de Villehardouin', 'Dominique de Villepin', \"Mathias Villiers de l'Isle-Adam\", 'François Villon', 'Louise de Vilmorin', 'Henri Vincenot', 'Gérard Vincent ', 'Antoine Volodine', 'Voltaire', 'Wace', 'Roland C. Wagner', 'Alain Wegscheider', 'Simone Weil', 'Louise Weiss', 'François Weyergans', 'Bernard Werber', 'Odile Weulersse', 'Anne Wiazemsky', 'Elie Wiesel', 'Willy ', 'Dave Wilson ', 'Martin Winckler', 'Gabrielle Wittkop', 'Liliane Wouters', 'Stefan Wul', 'Françoise Xenakis', 'Augustin Louis de Ximénès', 'Kikou Yamata', 'Claude-Emmanuelle Yance', 'Marguerite Yourcenar', 'Pierre Zaccone', 'Ali Zamir', 'Philippe de Zara', 'Ramy Zein', 'Jean Ziegler', 'Émile Zola', 'Cizia Zykë']\n"
     ]
    }
   ],
   "source": [
    "liste_auteurs=[regexpclean(aut) for aut in liste_auteurs]\n",
    "print(len(liste_auteurs), liste_auteurs)"
   ]
  }
 ],
 "metadata": {
  "interpreter": {
   "hash": "06f709ef0d65556a4c268680c897d4e523db2699171fb7cef1ccdebc4f15d32f"
  },
  "kernelspec": {
   "display_name": "Python 3.9.5 64-bit",
   "language": "python",
   "name": "python3"
  },
  "language_info": {
   "codemirror_mode": {
    "name": "ipython",
    "version": 3
   },
   "file_extension": ".py",
   "mimetype": "text/x-python",
   "name": "python",
   "nbconvert_exporter": "python",
   "pygments_lexer": "ipython3",
   "version": "3.9.5"
  },
  "orig_nbformat": 4
 },
 "nbformat": 4,
 "nbformat_minor": 2
}
