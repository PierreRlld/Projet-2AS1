{
 "cells": [
  {
   "cell_type": "code",
   "execution_count": 3,
   "metadata": {},
   "outputs": [
    {
     "name": "stdout",
     "output_type": "stream",
     "text": [
      "Requirement already satisfied: gensim in c:\\users\\pipau\\anaconda3\\lib\\site-packages (4.1.2)Note: you may need to restart the kernel to use updated packages.\n",
      "\n",
      "Requirement already satisfied: smart-open>=1.8.1 in c:\\users\\pipau\\anaconda3\\lib\\site-packages (from gensim) (5.2.1)\n",
      "Requirement already satisfied: Cython==0.29.23 in c:\\users\\pipau\\anaconda3\\lib\\site-packages (from gensim) (0.29.23)\n",
      "Requirement already satisfied: scipy>=0.18.1 in c:\\users\\pipau\\anaconda3\\lib\\site-packages (from gensim) (1.5.0)\n",
      "Requirement already satisfied: numpy>=1.17.0 in c:\\users\\pipau\\anaconda3\\lib\\site-packages (from gensim) (1.19.5)\n"
     ]
    }
   ],
   "source": [
    "import pandas as pd\n",
    "%pip install gensim\n",
    "import gensim\n",
    "import gensim.corpora as gc"
   ]
  },
  {
   "cell_type": "markdown",
   "metadata": {},
   "source": [
    "Le but est de réaliser une LDA avec en nombre de topics le nombre de mouvements littéraires et en corpus les textes issus des pages wikipédia. On espère que la méthode donnera des clusters correspondant aux différents mouvements littéraires (les auteurs gothiques dans un même cluster, les auteurs romantiques dans un même cluster etc.)"
   ]
  },
  {
   "cell_type": "code",
   "execution_count": 4,
   "metadata": {},
   "outputs": [],
   "source": [
    "data= pd.read_csv('auteurs_complete2.csv',index_col=[0])\n",
    "Mouvements = list(set(data.Mouvement.values))\n",
    "topics  = len(Mouvements)  # nombre de topics "
   ]
  },
  {
   "cell_type": "code",
   "execution_count": 5,
   "metadata": {},
   "outputs": [
    {
     "name": "stdout",
     "output_type": "stream",
     "text": [
      "Exemple Beat Generation:  4\n"
     ]
    }
   ],
   "source": [
    "mov_to_num={}\n",
    "num_to_mov={}\n",
    "for k in range(topics):\n",
    "    mov_to_num[Mouvements[k]]=k\n",
    "    num_to_mov[k]=Mouvements[k]\n",
    "\n",
    "print('Exemple Beat Generation: ',mov_to_num['Beat Generation'])"
   ]
  },
  {
   "cell_type": "code",
   "execution_count": 6,
   "metadata": {},
   "outputs": [
    {
     "data": {
      "text/plain": [
       "39"
      ]
     },
     "execution_count": 6,
     "metadata": {},
     "output_type": "execute_result"
    }
   ],
   "source": [
    "len(set(data.Mouvement.values))"
   ]
  },
  {
   "cell_type": "code",
   "execution_count": 7,
   "metadata": {},
   "outputs": [
    {
     "data": {
      "text/plain": [
       "['William',\n",
       " 'Seward',\n",
       " 'Burroughs',\n",
       " 'ˈsuɚd',\n",
       " 'dit',\n",
       " 'William',\n",
       " 'Burroughs',\n",
       " 'naître',\n",
       " '5',\n",
       " 'février']"
      ]
     },
     "execution_count": 7,
     "metadata": {},
     "output_type": "execute_result"
    }
   ],
   "source": [
    "corpus  = data.sum_lem.tolist() #je prends les résumés lemmatisés (sum_lem) comme corpus.\n",
    "corpus[0].split()[:10]"
   ]
  },
  {
   "cell_type": "code",
   "execution_count": 8,
   "metadata": {},
   "outputs": [],
   "source": [
    "processed=[]\n",
    "for aut in corpus:      # découpage des textes\n",
    "    L=aut.split()\n",
    "    processed.append(L)"
   ]
  },
  {
   "cell_type": "code",
   "execution_count": 9,
   "metadata": {},
   "outputs": [
    {
     "name": "stdout",
     "output_type": "stream",
     "text": [
      "Dictionary(8605 unique tokens: ['1914', '1997', '2', '4664', '5']...)\n"
     ]
    }
   ],
   "source": [
    "dico = gc.Dictionary(processed)\n",
    "print(dico)"
   ]
  },
  {
   "cell_type": "code",
   "execution_count": 10,
   "metadata": {},
   "outputs": [
    {
     "data": {
      "text/plain": [
       "[(0, 1),\n",
       " (1, 1),\n",
       " (2, 1),\n",
       " (3, 1),\n",
       " (4, 1),\n",
       " (5, 1),\n",
       " (6, 1),\n",
       " (7, 2),\n",
       " (8, 1),\n",
       " (9, 1)]"
      ]
     },
     "execution_count": 10,
     "metadata": {},
     "output_type": "execute_result"
    }
   ],
   "source": [
    "# On convertit chaque document en bag-of-words (format (token-id, nb apparition)\n",
    "DTM = [dico.doc2bow(txt) for txt in processed]\n",
    "DTM[0][:10]"
   ]
  },
  {
   "cell_type": "code",
   "execution_count": 11,
   "metadata": {},
   "outputs": [],
   "source": [
    "LDA = gensim.models.ldamodel.LdaModel\n",
    "ldamodel = LDA(DTM,topics,id2word=dico,passes=1,random_state=0,eval_every=None) #première LDA \"test\" "
   ]
  },
  {
   "cell_type": "markdown",
   "metadata": {},
   "source": [
    "On voit comment sont déterminés les topics pour ce test avec la ligne suivante.<br>\n",
    "On comprend aussi pourquoi les résultats seront assez désastreux : **les mots significatifs ne correspondent absolument pas à des mouvements littéraires, plutôt à l'aspect \"biographique\"** (naissance, mort, nationalité...)"
   ]
  },
  {
   "cell_type": "code",
   "execution_count": 12,
   "metadata": {
    "scrolled": true
   },
   "outputs": [
    {
     "data": {
      "text/plain": [
       "[(29,\n",
       "  '0.011*\"il\" + 0.010*\"le\" + 0.010*\"naître\" + 0.008*\"plus\" + 0.008*\"français\" + 0.007*\"œuvre\" + 0.007*\"mort\" + 0.006*\"avoir\" + 0.006*\"comme\" + 0.005*\"poète\"'),\n",
       " (26,\n",
       "  '0.012*\"il\" + 0.011*\"avoir\" + 0.009*\"le\" + 0.008*\"français\" + 0.006*\"œuvre\" + 0.005*\"amour\" + 0.005*\"poète\" + 0.005*\"écrivain\" + 0.004*\"siècle\" + 0.004*\"naître\"'),\n",
       " (37,\n",
       "  '0.013*\"le\" + 0.012*\"mort\" + 0.012*\"naître\" + 0.010*\"écrivain\" + 0.010*\"avoir\" + 0.009*\"français\" + 0.008*\"plus\" + 0.008*\"il\" + 0.007*\"Paris\" + 0.006*\"comme\"')]"
      ]
     },
     "execution_count": 12,
     "metadata": {},
     "output_type": "execute_result"
    }
   ],
   "source": [
    "ldamodel.print_topics()[:3]"
   ]
  },
  {
   "cell_type": "code",
   "execution_count": 134,
   "metadata": {
    "scrolled": false
   },
   "outputs": [],
   "source": [
    "#ldamodel.print_topics(num_topics = topics)"
   ]
  },
  {
   "cell_type": "code",
   "execution_count": 13,
   "metadata": {},
   "outputs": [
    {
     "data": {
      "text/plain": [
       "622"
      ]
     },
     "execution_count": 13,
     "metadata": {},
     "output_type": "execute_result"
    }
   ],
   "source": [
    "len(ldamodel[DTM]) # je vérifie que j'applique bien aux bonnes données : ok car le dataset a bien 622 entrées."
   ]
  },
  {
   "cell_type": "code",
   "execution_count": 14,
   "metadata": {},
   "outputs": [],
   "source": [
    "AUTEURS = []"
   ]
  },
  {
   "cell_type": "code",
   "execution_count": 15,
   "metadata": {},
   "outputs": [],
   "source": [
    "c = 0\n",
    "for i in ldamodel[DTM]:\n",
    "    #print(data['Nom'][c],c,i)\n",
    "    \n",
    "    c+=1\n",
    "    AUTEURS.append(i)"
   ]
  },
  {
   "cell_type": "code",
   "execution_count": 16,
   "metadata": {},
   "outputs": [
    {
     "name": "stdout",
     "output_type": "stream",
     "text": [
      "La LDA prédit pour William S. Burroughs  le topic 2  avec une proba  0.98500586\n"
     ]
    }
   ],
   "source": [
    "# Interprétation\n",
    "print(\"La LDA prédit pour\", data['Nom'][0], ' le topic', AUTEURS[0][0][0], ' avec une proba ', AUTEURS[0][0][1])"
   ]
  },
  {
   "cell_type": "code",
   "execution_count": 17,
   "metadata": {},
   "outputs": [],
   "source": [
    "#On veut retourner pour un auteur donné le topic avec la proba la plus élevée \n",
    "def tri(L):\n",
    "    cand = 0\n",
    "    for k in range(len(L)):\n",
    "        (a,b)=L[k]\n",
    "        if b>L[cand][1]:\n",
    "            cand=k\n",
    "    return L[cand]"
   ]
  },
  {
   "cell_type": "code",
   "execution_count": 18,
   "metadata": {},
   "outputs": [],
   "source": [
    "data['LDA']=AUTEURS"
   ]
  },
  {
   "cell_type": "code",
   "execution_count": 19,
   "metadata": {},
   "outputs": [],
   "source": [
    "data['LDA']=data['LDA'].apply(tri)"
   ]
  },
  {
   "cell_type": "code",
   "execution_count": 20,
   "metadata": {},
   "outputs": [],
   "source": [
    "data['LDA']=data['LDA'].apply(lambda c: c[0])"
   ]
  },
  {
   "cell_type": "code",
   "execution_count": 21,
   "metadata": {},
   "outputs": [
    {
     "data": {
      "text/html": [
       "<div>\n",
       "<style scoped>\n",
       "    .dataframe tbody tr th:only-of-type {\n",
       "        vertical-align: middle;\n",
       "    }\n",
       "\n",
       "    .dataframe tbody tr th {\n",
       "        vertical-align: top;\n",
       "    }\n",
       "\n",
       "    .dataframe thead th {\n",
       "        text-align: right;\n",
       "    }\n",
       "</style>\n",
       "<table border=\"1\" class=\"dataframe\">\n",
       "  <thead>\n",
       "    <tr style=\"text-align: right;\">\n",
       "      <th></th>\n",
       "      <th>Nom</th>\n",
       "      <th>Mouvement</th>\n",
       "      <th>summary</th>\n",
       "      <th>sum_lem</th>\n",
       "      <th>mvm_label</th>\n",
       "      <th>page</th>\n",
       "      <th>page_lem</th>\n",
       "      <th>is_empty</th>\n",
       "      <th>LDA</th>\n",
       "    </tr>\n",
       "  </thead>\n",
       "  <tbody>\n",
       "    <tr>\n",
       "      <th>181</th>\n",
       "      <td>Gérard de Nerval</td>\n",
       "      <td>romantique</td>\n",
       "      <td>Gérard Labrunie, dit Gérard de Nerval, est un ...</td>\n",
       "      <td>Gérard Labrunie dire Gérard Nerval écrivain po...</td>\n",
       "      <td>34</td>\n",
       "      <td>Gérard de Nerval (French: [ʒeʁaʁ də nɛʁval]; 2...</td>\n",
       "      <td>Gérard nerval French ʒeʁaʁ də nɛʁval 22 may 18...</td>\n",
       "      <td>1</td>\n",
       "      <td>3</td>\n",
       "    </tr>\n",
       "    <tr>\n",
       "      <th>208</th>\n",
       "      <td>Wilhelm Ténint</td>\n",
       "      <td>romantique</td>\n",
       "      <td>Wilhelm Ténint est un écrivain français, né à ...</td>\n",
       "      <td>Wilhelm Ténint écrivain français naître Paris ...</td>\n",
       "      <td>34</td>\n",
       "      <td>Wilhelm Ténint (20 May 1817, Paris – 26 April ...</td>\n",
       "      <td>Wilhelm Ténint 20 may 1817 Paris 26 april 1879...</td>\n",
       "      <td>1</td>\n",
       "      <td>3</td>\n",
       "    </tr>\n",
       "    <tr>\n",
       "      <th>274</th>\n",
       "      <td>Guilhem_Figueira</td>\n",
       "      <td>troubadour</td>\n",
       "      <td>Guillem ou Guilhem Figueira ou Figera (Toulous...</td>\n",
       "      <td>guillem Guilhem Figueira Figera Toulouse 1195 ...</td>\n",
       "      <td>38</td>\n",
       "      <td>Guillem or Guilhem Figueira or Figera was a La...</td>\n",
       "      <td>Guillem or Guilhem figueira or Figera wa avoir...</td>\n",
       "      <td>1</td>\n",
       "      <td>3</td>\n",
       "    </tr>\n",
       "    <tr>\n",
       "      <th>323</th>\n",
       "      <td>Rémy_Belleau</td>\n",
       "      <td>pleiade</td>\n",
       "      <td>Rémy Belleau, né à Nogent-le-Rotrou en 1528, m...</td>\n",
       "      <td>Rémy Belleau naître 1528 mort Paris 6 mars 157...</td>\n",
       "      <td>27</td>\n",
       "      <td>Remy (or Rémi) Belleau (1528 – 6 March 1577) w...</td>\n",
       "      <td>Remy or Rémi Belleau 1528 6 March 1577 was avo...</td>\n",
       "      <td>1</td>\n",
       "      <td>3</td>\n",
       "    </tr>\n",
       "    <tr>\n",
       "      <th>337</th>\n",
       "      <td>Pierre_Carlet_de_Chamblain_de_Marivaux</td>\n",
       "      <td>picaresque</td>\n",
       "      <td>Marivaux (né Pierre Carlet) est un écrivain fr...</td>\n",
       "      <td>marivaux naître Pierre Carlet écrivain françai...</td>\n",
       "      <td>26</td>\n",
       "      <td>Pierre Carlet de Chamblain de Marivaux (4 Febr...</td>\n",
       "      <td>Pierre Carlet Chamblain marivaux 4 february 16...</td>\n",
       "      <td>1</td>\n",
       "      <td>3</td>\n",
       "    </tr>\n",
       "    <tr>\n",
       "      <th>427</th>\n",
       "      <td>Pierre_Carlet_de_Chamblain_de_Marivaux</td>\n",
       "      <td>Lumieres</td>\n",
       "      <td>Marivaux (né Pierre Carlet) est un écrivain fr...</td>\n",
       "      <td>marivaux naître Pierre Carlet écrivain françai...</td>\n",
       "      <td>6</td>\n",
       "      <td>Pierre Carlet de Chamblain de Marivaux (4 Febr...</td>\n",
       "      <td>Pierre Carlet Chamblain marivaux 4 february 16...</td>\n",
       "      <td>1</td>\n",
       "      <td>3</td>\n",
       "    </tr>\n",
       "    <tr>\n",
       "      <th>538</th>\n",
       "      <td>Constant_Malva</td>\n",
       "      <td>proletarienne</td>\n",
       "      <td>Constant Malva de son vrai nom Alphonse Bourla...</td>\n",
       "      <td>conster Malva vrai nom alphonse Bourlard naîtr...</td>\n",
       "      <td>30</td>\n",
       "      <td>Malva preissiana, the  Australian hollyhock or...</td>\n",
       "      <td>Malva preissiana the Australian hollyhock or n...</td>\n",
       "      <td>1</td>\n",
       "      <td>3</td>\n",
       "    </tr>\n",
       "    <tr>\n",
       "      <th>580</th>\n",
       "      <td>Alain_Borne</td>\n",
       "      <td>Ecole de Rochefort</td>\n",
       "      <td>Alain Borne, né le 12 janvier 1915 à Saint-Pon...</td>\n",
       "      <td>Alain Borne naître 12 janvier 1915 Allier mour...</td>\n",
       "      <td>2</td>\n",
       "      <td>Alain Borne (12 January 1915 – 21 December 196...</td>\n",
       "      <td>Alain Borne 12 January 1915 21 december 1962 w...</td>\n",
       "      <td>1</td>\n",
       "      <td>3</td>\n",
       "    </tr>\n",
       "    <tr>\n",
       "      <th>585</th>\n",
       "      <td>Louis_Parrot</td>\n",
       "      <td>Ecole de Rochefort</td>\n",
       "      <td>Louis Parrot, né à Tours le 28 août 1906 et mo...</td>\n",
       "      <td>Louis parrot naître tour 28 août 1906 mort Par...</td>\n",
       "      <td>2</td>\n",
       "      <td>Louis Parrot (28 August 1906 – 24 August 1948)...</td>\n",
       "      <td>Louis Parrot 28 august 1906 24 august 1948 was...</td>\n",
       "      <td>1</td>\n",
       "      <td>3</td>\n",
       "    </tr>\n",
       "  </tbody>\n",
       "</table>\n",
       "</div>"
      ],
      "text/plain": [
       "                                        Nom           Mouvement  \\\n",
       "181                        Gérard de Nerval          romantique   \n",
       "208                          Wilhelm Ténint          romantique   \n",
       "274                        Guilhem_Figueira          troubadour   \n",
       "323                            Rémy_Belleau             pleiade   \n",
       "337  Pierre_Carlet_de_Chamblain_de_Marivaux          picaresque   \n",
       "427  Pierre_Carlet_de_Chamblain_de_Marivaux            Lumieres   \n",
       "538                          Constant_Malva       proletarienne   \n",
       "580                             Alain_Borne  Ecole de Rochefort   \n",
       "585                            Louis_Parrot  Ecole de Rochefort   \n",
       "\n",
       "                                               summary  \\\n",
       "181  Gérard Labrunie, dit Gérard de Nerval, est un ...   \n",
       "208  Wilhelm Ténint est un écrivain français, né à ...   \n",
       "274  Guillem ou Guilhem Figueira ou Figera (Toulous...   \n",
       "323  Rémy Belleau, né à Nogent-le-Rotrou en 1528, m...   \n",
       "337  Marivaux (né Pierre Carlet) est un écrivain fr...   \n",
       "427  Marivaux (né Pierre Carlet) est un écrivain fr...   \n",
       "538  Constant Malva de son vrai nom Alphonse Bourla...   \n",
       "580  Alain Borne, né le 12 janvier 1915 à Saint-Pon...   \n",
       "585  Louis Parrot, né à Tours le 28 août 1906 et mo...   \n",
       "\n",
       "                                               sum_lem  mvm_label  \\\n",
       "181  Gérard Labrunie dire Gérard Nerval écrivain po...         34   \n",
       "208  Wilhelm Ténint écrivain français naître Paris ...         34   \n",
       "274  guillem Guilhem Figueira Figera Toulouse 1195 ...         38   \n",
       "323  Rémy Belleau naître 1528 mort Paris 6 mars 157...         27   \n",
       "337  marivaux naître Pierre Carlet écrivain françai...         26   \n",
       "427  marivaux naître Pierre Carlet écrivain françai...          6   \n",
       "538  conster Malva vrai nom alphonse Bourlard naîtr...         30   \n",
       "580  Alain Borne naître 12 janvier 1915 Allier mour...          2   \n",
       "585  Louis parrot naître tour 28 août 1906 mort Par...          2   \n",
       "\n",
       "                                                  page  \\\n",
       "181  Gérard de Nerval (French: [ʒeʁaʁ də nɛʁval]; 2...   \n",
       "208  Wilhelm Ténint (20 May 1817, Paris – 26 April ...   \n",
       "274  Guillem or Guilhem Figueira or Figera was a La...   \n",
       "323  Remy (or Rémi) Belleau (1528 – 6 March 1577) w...   \n",
       "337  Pierre Carlet de Chamblain de Marivaux (4 Febr...   \n",
       "427  Pierre Carlet de Chamblain de Marivaux (4 Febr...   \n",
       "538  Malva preissiana, the  Australian hollyhock or...   \n",
       "580  Alain Borne (12 January 1915 – 21 December 196...   \n",
       "585  Louis Parrot (28 August 1906 – 24 August 1948)...   \n",
       "\n",
       "                                              page_lem  is_empty  LDA  \n",
       "181  Gérard nerval French ʒeʁaʁ də nɛʁval 22 may 18...         1    3  \n",
       "208  Wilhelm Ténint 20 may 1817 Paris 26 april 1879...         1    3  \n",
       "274  Guillem or Guilhem figueira or Figera wa avoir...         1    3  \n",
       "323  Remy or Rémi Belleau 1528 6 March 1577 was avo...         1    3  \n",
       "337  Pierre Carlet Chamblain marivaux 4 february 16...         1    3  \n",
       "427  Pierre Carlet Chamblain marivaux 4 february 16...         1    3  \n",
       "538  Malva preissiana the Australian hollyhock or n...         1    3  \n",
       "580  Alain Borne 12 January 1915 21 december 1962 w...         1    3  \n",
       "585  Louis Parrot 28 august 1906 24 august 1948 was...         1    3  "
      ]
     },
     "execution_count": 21,
     "metadata": {},
     "output_type": "execute_result"
    }
   ],
   "source": [
    "data[data['LDA']==3] # on regarde quels auteurs ont été assignés au topic 3. On voit qu'ils sont issus de mouvements très différents..."
   ]
  },
  {
   "cell_type": "code",
   "execution_count": 22,
   "metadata": {},
   "outputs": [],
   "source": [
    "def Lda_(number_topics,corpus):\n",
    "    processed=[]\n",
    "    for aut in corpus:\n",
    "        L=aut.split()\n",
    "        processed.append(L)\n",
    "    dico = gc.Dictionary(processed)\n",
    "    DTM = [dico.doc2bow(txt) for txt in processed]\n",
    "    LDA = gensim.models.ldamodel.LdaModel\n",
    "    ldamodel = LDA(DTM,topics,id2word=dico,passes=1,random_state=0,eval_every=None)\n",
    "    return ldamodel,DTM\n",
    "    \n",
    "    #formalisatio ndans une fonction"
   ]
  },
  {
   "cell_type": "code",
   "execution_count": 23,
   "metadata": {},
   "outputs": [],
   "source": [
    "id2word = gc.Dictionary()"
   ]
  },
  {
   "cell_type": "code",
   "execution_count": 24,
   "metadata": {},
   "outputs": [],
   "source": [
    "corpus = data.page_lem.tolist() # on prend cette fois ci en corpus la page entière"
   ]
  },
  {
   "cell_type": "code",
   "execution_count": 25,
   "metadata": {},
   "outputs": [],
   "source": [
    "LDA  = Lda_(39,corpus) #on demande de créer 39 topics"
   ]
  },
  {
   "cell_type": "code",
   "execution_count": 26,
   "metadata": {},
   "outputs": [],
   "source": [
    "def results_lda(LDA,df_,DTM):\n",
    "    AUTEURS=[]\n",
    "    c = 0\n",
    "    for i in LDA[DTM]:\n",
    "        AUTEURS.append(i)\n",
    "    result = df_[['Nom','Mouvement']]\n",
    "    result['cluster']=AUTEURS\n",
    "    result['cluster']=result['cluster'].apply(tri)\n",
    "    result['cluster']=result['cluster'].apply(lambda a:a[0])\n",
    "    return result"
   ]
  },
  {
   "cell_type": "code",
   "execution_count": 44,
   "metadata": {
    "scrolled": true
   },
   "outputs": [
    {
     "name": "stdout",
     "output_type": "stream",
     "text": [
      "Hussards 16\n",
      "Négritude 9\n",
      "picaresque 21\n",
      "décadentisme 28\n",
      "Beat Generation 11\n",
      "absurde 7\n",
      "Renaixença 25\n",
      "rhetoriqueurs 14\n",
      "surréaliste 41\n",
      "preromantisme 13\n",
      "gothique 28\n",
      "Ecole de Rochefort 37\n",
      "Naturalisme 26\n",
      "pleiade 8\n",
      "quietisme 5\n",
      "fabliau 3\n",
      "objectivisme 6\n",
      "Ecole romane 5\n",
      "preciosite 1\n",
      "Nouveau Roman 7\n",
      "Parnasse 10\n",
      "existentialisme 8\n",
      "Realisme magique 9\n",
      "classique 5\n",
      "du courant réaliste 39\n",
      "symboliste 5\n",
      "humanisme 20\n",
      "Lumieres 31\n",
      "régionaliste 17\n",
      "oulipo 9\n",
      "proletarienne 21\n",
      "hagiographie 4\n",
      "roman courtois 1\n",
      "Courant de conscience 4\n",
      "romantique 91\n",
      "troubadour 16\n",
      "baroque 5\n",
      "jungien 5\n",
      "Génération perdue 11\n"
     ]
    }
   ],
   "source": [
    "for mov in set(data.Mouvement.values):\n",
    "    \n",
    "    print(mov,str(len(data[data['Mouvement']==mov])))\n",
    "    # j'affiche la taille de chaque mouvement afin d'afficher le resultat d'une LDA réduite sur un nombre limité de mouvements (mais avec assez d'auteurs) afin de pouvoir interpréter."
   ]
  },
  {
   "cell_type": "code",
   "execution_count": 45,
   "metadata": {},
   "outputs": [],
   "source": [
    "# sous LDA\n",
    "courants = ['Nouveau Roman','Realisme magique','Négritude','gothique','décadentisme','Naturalisme']\n",
    "data['sous_df'] = data['Mouvement'].apply(lambda s : int(s in courants))\n",
    "sous_courants = data[data['sous_df']==1][['Nom','Mouvement','sum_lem','page_lem']]"
   ]
  },
  {
   "cell_type": "code",
   "execution_count": 46,
   "metadata": {},
   "outputs": [],
   "source": [
    "txt = sous_courants.page_lem.tolist() # je récupère les pages wiki en corpus"
   ]
  },
  {
   "cell_type": "code",
   "execution_count": 47,
   "metadata": {},
   "outputs": [],
   "source": [
    "LDA,DTM = Lda_(6,txt)"
   ]
  },
  {
   "cell_type": "code",
   "execution_count": 48,
   "metadata": {},
   "outputs": [
    {
     "name": "stderr",
     "output_type": "stream",
     "text": [
      "<ipython-input-26-cc163adb9326>:7: SettingWithCopyWarning: \n",
      "A value is trying to be set on a copy of a slice from a DataFrame.\n",
      "Try using .loc[row_indexer,col_indexer] = value instead\n",
      "\n",
      "See the caveats in the documentation: https://pandas.pydata.org/pandas-docs/stable/user_guide/indexing.html#returning-a-view-versus-a-copy\n",
      "  result['cluster']=AUTEURS\n",
      "<ipython-input-26-cc163adb9326>:8: SettingWithCopyWarning: \n",
      "A value is trying to be set on a copy of a slice from a DataFrame.\n",
      "Try using .loc[row_indexer,col_indexer] = value instead\n",
      "\n",
      "See the caveats in the documentation: https://pandas.pydata.org/pandas-docs/stable/user_guide/indexing.html#returning-a-view-versus-a-copy\n",
      "  result['cluster']=result['cluster'].apply(tri)\n",
      "<ipython-input-26-cc163adb9326>:9: SettingWithCopyWarning: \n",
      "A value is trying to be set on a copy of a slice from a DataFrame.\n",
      "Try using .loc[row_indexer,col_indexer] = value instead\n",
      "\n",
      "See the caveats in the documentation: https://pandas.pydata.org/pandas-docs/stable/user_guide/indexing.html#returning-a-view-versus-a-copy\n",
      "  result['cluster']=result['cluster'].apply(lambda a:a[0])\n"
     ]
    }
   ],
   "source": [
    "resultats = results_lda(LDA,sous_courants,DTM) "
   ]
  },
  {
   "cell_type": "code",
   "execution_count": 49,
   "metadata": {
    "scrolled": true
   },
   "outputs": [
    {
     "data": {
      "text/html": [
       "<div>\n",
       "<style scoped>\n",
       "    .dataframe tbody tr th:only-of-type {\n",
       "        vertical-align: middle;\n",
       "    }\n",
       "\n",
       "    .dataframe tbody tr th {\n",
       "        vertical-align: top;\n",
       "    }\n",
       "\n",
       "    .dataframe thead th {\n",
       "        text-align: right;\n",
       "    }\n",
       "</style>\n",
       "<table border=\"1\" class=\"dataframe\">\n",
       "  <thead>\n",
       "    <tr style=\"text-align: right;\">\n",
       "      <th></th>\n",
       "      <th>Nom</th>\n",
       "      <th>Mouvement</th>\n",
       "      <th>cluster</th>\n",
       "    </tr>\n",
       "  </thead>\n",
       "  <tbody>\n",
       "    <tr>\n",
       "      <th>364</th>\n",
       "      <td>Claudine_Guérin_de_Tencin</td>\n",
       "      <td>gothique</td>\n",
       "      <td>30</td>\n",
       "    </tr>\n",
       "    <tr>\n",
       "      <th>365</th>\n",
       "      <td>Horace_Walpole</td>\n",
       "      <td>gothique</td>\n",
       "      <td>30</td>\n",
       "    </tr>\n",
       "    <tr>\n",
       "      <th>366</th>\n",
       "      <td>John_Aikin</td>\n",
       "      <td>gothique</td>\n",
       "      <td>13</td>\n",
       "    </tr>\n",
       "    <tr>\n",
       "      <th>367</th>\n",
       "      <td>Clara_Reeve</td>\n",
       "      <td>gothique</td>\n",
       "      <td>30</td>\n",
       "    </tr>\n",
       "    <tr>\n",
       "      <th>369</th>\n",
       "      <td>William_Thomas_Beckford</td>\n",
       "      <td>gothique</td>\n",
       "      <td>30</td>\n",
       "    </tr>\n",
       "    <tr>\n",
       "      <th>371</th>\n",
       "      <td>Mary_Ann_Radcliffe</td>\n",
       "      <td>gothique</td>\n",
       "      <td>32</td>\n",
       "    </tr>\n",
       "    <tr>\n",
       "      <th>372</th>\n",
       "      <td>Eliza_Parsons</td>\n",
       "      <td>gothique</td>\n",
       "      <td>36</td>\n",
       "    </tr>\n",
       "    <tr>\n",
       "      <th>373</th>\n",
       "      <td>Ann_Radcliffe</td>\n",
       "      <td>gothique</td>\n",
       "      <td>30</td>\n",
       "    </tr>\n",
       "    <tr>\n",
       "      <th>375</th>\n",
       "      <td>Regina_Maria_Roche</td>\n",
       "      <td>gothique</td>\n",
       "      <td>36</td>\n",
       "    </tr>\n",
       "    <tr>\n",
       "      <th>377</th>\n",
       "      <td>Charles_Robert_Maturin</td>\n",
       "      <td>gothique</td>\n",
       "      <td>30</td>\n",
       "    </tr>\n",
       "    <tr>\n",
       "      <th>378</th>\n",
       "      <td>William_Harrison_Ainsworth</td>\n",
       "      <td>gothique</td>\n",
       "      <td>30</td>\n",
       "    </tr>\n",
       "    <tr>\n",
       "      <th>379</th>\n",
       "      <td>Edgar_Allan_Poe</td>\n",
       "      <td>gothique</td>\n",
       "      <td>30</td>\n",
       "    </tr>\n",
       "    <tr>\n",
       "      <th>381</th>\n",
       "      <td>William_Godwin</td>\n",
       "      <td>gothique</td>\n",
       "      <td>30</td>\n",
       "    </tr>\n",
       "    <tr>\n",
       "      <th>382</th>\n",
       "      <td>Matthew_Gregory_Lewis</td>\n",
       "      <td>gothique</td>\n",
       "      <td>30</td>\n",
       "    </tr>\n",
       "    <tr>\n",
       "      <th>383</th>\n",
       "      <td>Francis_Lathom</td>\n",
       "      <td>gothique</td>\n",
       "      <td>30</td>\n",
       "    </tr>\n",
       "    <tr>\n",
       "      <th>384</th>\n",
       "      <td>Charlotte_Dacre</td>\n",
       "      <td>gothique</td>\n",
       "      <td>30</td>\n",
       "    </tr>\n",
       "    <tr>\n",
       "      <th>386</th>\n",
       "      <td>John_Polidori</td>\n",
       "      <td>gothique</td>\n",
       "      <td>30</td>\n",
       "    </tr>\n",
       "    <tr>\n",
       "      <th>387</th>\n",
       "      <td>Washington_Irving</td>\n",
       "      <td>gothique</td>\n",
       "      <td>36</td>\n",
       "    </tr>\n",
       "    <tr>\n",
       "      <th>388</th>\n",
       "      <td>James_Hogg</td>\n",
       "      <td>gothique</td>\n",
       "      <td>30</td>\n",
       "    </tr>\n",
       "    <tr>\n",
       "      <th>389</th>\n",
       "      <td>Joseph_Sheridan_Le_Fanu</td>\n",
       "      <td>gothique</td>\n",
       "      <td>30</td>\n",
       "    </tr>\n",
       "    <tr>\n",
       "      <th>391</th>\n",
       "      <td>Bram_Stoker</td>\n",
       "      <td>gothique</td>\n",
       "      <td>30</td>\n",
       "    </tr>\n",
       "    <tr>\n",
       "      <th>368</th>\n",
       "      <td>Sophia_Lee</td>\n",
       "      <td>gothique</td>\n",
       "      <td>7</td>\n",
       "    </tr>\n",
       "    <tr>\n",
       "      <th>370</th>\n",
       "      <td>Mary_Robinson_(poète)</td>\n",
       "      <td>gothique</td>\n",
       "      <td>30</td>\n",
       "    </tr>\n",
       "    <tr>\n",
       "      <th>374</th>\n",
       "      <td>Fanny_Burney</td>\n",
       "      <td>gothique</td>\n",
       "      <td>33</td>\n",
       "    </tr>\n",
       "    <tr>\n",
       "      <th>376</th>\n",
       "      <td>Brockden_Brown</td>\n",
       "      <td>gothique</td>\n",
       "      <td>33</td>\n",
       "    </tr>\n",
       "    <tr>\n",
       "      <th>380</th>\n",
       "      <td>Charlotte_Turner_Smith</td>\n",
       "      <td>gothique</td>\n",
       "      <td>22</td>\n",
       "    </tr>\n",
       "    <tr>\n",
       "      <th>385</th>\n",
       "      <td>Mary_Shelley</td>\n",
       "      <td>gothique</td>\n",
       "      <td>33</td>\n",
       "    </tr>\n",
       "    <tr>\n",
       "      <th>390</th>\n",
       "      <td>Robert_Louis_Stevenson</td>\n",
       "      <td>gothique</td>\n",
       "      <td>0</td>\n",
       "    </tr>\n",
       "  </tbody>\n",
       "</table>\n",
       "</div>"
      ],
      "text/plain": [
       "                            Nom Mouvement  cluster\n",
       "364   Claudine_Guérin_de_Tencin  gothique       30\n",
       "365              Horace_Walpole  gothique       30\n",
       "366                  John_Aikin  gothique       13\n",
       "367                 Clara_Reeve  gothique       30\n",
       "369     William_Thomas_Beckford  gothique       30\n",
       "371          Mary_Ann_Radcliffe  gothique       32\n",
       "372               Eliza_Parsons  gothique       36\n",
       "373               Ann_Radcliffe  gothique       30\n",
       "375          Regina_Maria_Roche  gothique       36\n",
       "377      Charles_Robert_Maturin  gothique       30\n",
       "378  William_Harrison_Ainsworth  gothique       30\n",
       "379             Edgar_Allan_Poe  gothique       30\n",
       "381              William_Godwin  gothique       30\n",
       "382       Matthew_Gregory_Lewis  gothique       30\n",
       "383              Francis_Lathom  gothique       30\n",
       "384             Charlotte_Dacre  gothique       30\n",
       "386               John_Polidori  gothique       30\n",
       "387           Washington_Irving  gothique       36\n",
       "388                  James_Hogg  gothique       30\n",
       "389     Joseph_Sheridan_Le_Fanu  gothique       30\n",
       "391                 Bram_Stoker  gothique       30\n",
       "368                  Sophia_Lee  gothique        7\n",
       "370       Mary_Robinson_(poète)  gothique       30\n",
       "374                Fanny_Burney  gothique       33\n",
       "376              Brockden_Brown  gothique       33\n",
       "380      Charlotte_Turner_Smith  gothique       22\n",
       "385                Mary_Shelley  gothique       33\n",
       "390      Robert_Louis_Stevenson  gothique        0"
      ]
     },
     "execution_count": 49,
     "metadata": {},
     "output_type": "execute_result"
    }
   ],
   "source": [
    "resultats[resultats['Mouvement']=='gothique']\n",
    "\n",
    "#Je regarde à quel cluster ont été associés les auteurs gothiques.\n",
    "# Beaucoup sont associés au cluster 30 mais le reste est assez dispersé..."
   ]
  },
  {
   "cell_type": "code",
   "execution_count": 50,
   "metadata": {},
   "outputs": [],
   "source": [
    "accuracy_ish={}\n",
    "for courant in courants:\n",
    "    L=list(resultats[resultats['Mouvement']==courant].cluster.values)\n",
    "    n=len(set(L))\n",
    "    l=len(L)\n",
    "    cour={}\n",
    "    for k in range(l):\n",
    "        if L[k] in cour:\n",
    "            cour[L[k]]+=1\n",
    "        else:\n",
    "            cour[L[k]]=1\n",
    "    accuracy_ish[courant]=(n,l,cour)\n",
    "    \n",
    "\n",
    "# accuracy_ish va nous expliciter les résultats de répartition des auteurs par mouvement dans différents clusters."
   ]
  },
  {
   "cell_type": "code",
   "execution_count": 51,
   "metadata": {
    "scrolled": false
   },
   "outputs": [
    {
     "data": {
      "text/plain": [
       "{'Nouveau Roman': (5, 7, {4: 1, 36: 1, 13: 3, 27: 1, 37: 1}),\n",
       " 'Realisme magique': (5, 9, {36: 2, 13: 3, 30: 2, 33: 1, 32: 1}),\n",
       " 'Négritude': (4, 9, {36: 2, 30: 5, 13: 1, 0: 1}),\n",
       " 'gothique': (8, 28, {30: 17, 13: 1, 32: 1, 36: 3, 7: 1, 33: 3, 22: 1, 0: 1}),\n",
       " 'décadentisme': (11,\n",
       "  28,\n",
       "  {30: 9, 13: 7, 22: 2, 37: 2, 34: 1, 2: 2, 32: 1, 36: 1, 35: 1, 0: 1, 27: 1}),\n",
       " 'Naturalisme': (8,\n",
       "  26,\n",
       "  {30: 12, 36: 5, 13: 4, 33: 1, 1: 1, 32: 1, 27: 1, 35: 1})}"
      ]
     },
     "execution_count": 51,
     "metadata": {},
     "output_type": "execute_result"
    }
   ],
   "source": [
    "accuracy_ish\n",
    "\n",
    "# premier chiffre : n, nombre de clusters différents dans lesquels la LDA a associé les auteurs\n",
    "# deuxième : l, le nombre d'auteurs dans le mouvement\n",
    "# dictionnaire : quels clusters trouve-t-on pour les auteurs de ce mouvement\n",
    "#                et combien d'auteurs trouve-t-on par cluster"
   ]
  },
  {
   "cell_type": "code",
   "execution_count": 55,
   "metadata": {},
   "outputs": [],
   "source": [
    "# LDA.print_topics() montre encore des topics peu significatifs..."
   ]
  },
  {
   "cell_type": "markdown",
   "metadata": {},
   "source": [
    "### Lecture des données : \n",
    "\n",
    "Les auteurs du Nouveau Roman ont été placés dans 5 clusters différents alors qu'ils ne sont que 5. On peut penser que la clusterisation est donc assez mauvaise, au sens où on ne semble pas pouvoir retrouver chaque mouvement littéraire dans un cluster.\n",
    "Par exemple : la dispersion est moindre pour les auteurs gothiques. (28 auteurs, 8 clusters). Pour autant, le cluster au sein duquel ils ont majoritairement été placés (le numéro 30) est également le cluster principal pour le Naturalisme. La LDA, pour l'instant, ne permet pas de retrouver les mouvements littéraires.\n",
    "\n",
    "On peut imputer ça à plusieurs choses : peut-être que les clusters ne sont pas si bien définis (les mouvements littéraires n'ont pas forcément de définition fixe exprimable simplement, ce sont des notions complexes, et rien ne dit que les pages wikipédia rendent bien les distinctions).\n",
    "Il faudrait par ailleurs plus de temps pour mieux appréhender le type d'erreurs : associer des auteurs et autrices réalistes avec des naturalistes n'est pas aussi \"choquant\" que d'associer le réalisme magique et les fabliaux. Cela demanderait cependant beaucoup de temps et une expertise sur l'ensemble des mouvements scrappés que nous n'avons pas nécessairement ! \n"
   ]
  }
 ],
 "metadata": {
  "kernelspec": {
   "display_name": "Python 3",
   "language": "python",
   "name": "python3"
  },
  "language_info": {
   "codemirror_mode": {
    "name": "ipython",
    "version": 3
   },
   "file_extension": ".py",
   "mimetype": "text/x-python",
   "name": "python",
   "nbconvert_exporter": "python",
   "pygments_lexer": "ipython3",
   "version": "3.9.5"
  }
 },
 "nbformat": 4,
 "nbformat_minor": 4
}
