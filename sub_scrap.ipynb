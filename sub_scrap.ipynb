{
 "cells": [
  {
   "cell_type": "markdown",
   "metadata": {},
   "source": [
    "### Dépendances"
   ]
  },
  {
   "cell_type": "code",
   "execution_count": 1,
   "metadata": {},
   "outputs": [
    {
     "name": "stderr",
     "output_type": "stream",
     "text": [
      "[nltk_data] Downloading package stopwords to\n",
      "[nltk_data]     C:\\Users\\proui\\AppData\\Roaming\\nltk_data...\n",
      "[nltk_data]   Package stopwords is already up-to-date!\n"
     ]
    }
   ],
   "source": [
    "import urllib\n",
    "import bs4\n",
    "import pandas as pd\n",
    "from urllib import request\n",
    "import numpy as np\n",
    "import re\n",
    "\n",
    "# Dépendances wikipedia\n",
    "import wikipedia\n",
    "from wikipedia import WikipediaPage\n",
    "wikipedia.set_lang(\"fr\")\n",
    "\n",
    "# Dépendances traitement de texte\n",
    "import spacy\n",
    "import nltk\n",
    "nlp = spacy.load(\"fr_core_news_sm\")\n",
    "from nltk.corpus import stopwords\n",
    "nltk.download('stopwords')\n",
    "stop=stopwords.words('french')"
   ]
  },
  {
   "cell_type": "markdown",
   "metadata": {},
   "source": [
    "**Objectif final:** créer le dataframe composé des auteurs et de leur mouvement littéraire."
   ]
  },
  {
   "cell_type": "markdown",
   "metadata": {},
   "source": [
    "### Scraping de la page recensant les mouvements littéraires"
   ]
  },
  {
   "cell_type": "markdown",
   "metadata": {},
   "source": [
    "Voici la [page](https://fr.wikipedia.org/wiki/Cat%C3%A9gorie:%C3%89crivain_par_mouvement_ou_courant_litt%C3%A9raire) que nous allons scraper afin d'obtenir les mouvements littéraires.<br>\n"
   ]
  },
  {
   "cell_type": "code",
   "execution_count": 2,
   "metadata": {},
   "outputs": [],
   "source": [
    "mvm_url=\"https://fr.wikipedia.org/wiki/Cat%C3%A9gorie:%C3%89crivain_par_mouvement_ou_courant_litt%C3%A9raire\"\n",
    "mvm_request=request.urlopen(mvm_url).read()\n",
    "mvm_page = bs4.BeautifulSoup(mvm_request, \"lxml\") #qui est bien une page html maintenant "
   ]
  },
  {
   "cell_type": "markdown",
   "metadata": {},
   "source": [
    "<code>mvm_blayer</code> ; on identifie le bloc vert regroupant tous les mouvements avec <code>id</code>.<br> \n",
    "Son premier élément est HS, on le retire.<br>\n",
    "#\n",
    "![title](ress/image_mvm_page.png)"
   ]
  },
  {
   "cell_type": "code",
   "execution_count": 3,
   "metadata": {},
   "outputs": [],
   "source": [
    "mvm_blayer=mvm_page.find(\"div\",{\"id\":\"mw-subcategories\"}).findAll(\"ul\")\n",
    "mvm_blayer=mvm_blayer[1::]"
   ]
  },
  {
   "cell_type": "markdown",
   "metadata": {},
   "source": [
    "<code>mvm_list</code> liste issue du scraping de la page précédente : composée de l'ensemble des mouvements littéraires de la forme 'Catégorie:XXX'. Cette forme sera utile pour créer les URLs.<br>\n",
    "<code>data_mvm</code> on retire 'Catégorie:' (pas la forme la plus optimisée pour le dataset mais pratique pour comparer lors de l'implémentation du scraping."
   ]
  },
  {
   "cell_type": "code",
   "execution_count": 6,
   "metadata": {},
   "outputs": [
    {
     "name": "stdout",
     "output_type": "stream",
     "text": [
      "Liste des différents mouvements:  ['Écrivain de la Beat Generation', 'Écrivain de la Génération perdue', 'Écrivain du courant des Hussards', 'Écrivain jungien', 'Écrivain du courant réaliste', 'Écrivain régionaliste', 'Écrivain de la Renaixença', 'Écrivain romantique', 'Écrivain surréaliste', 'Écrivain symboliste']\n"
     ]
    }
   ],
   "source": [
    "mvm_list=[]\n",
    "for ul in mvm_blayer:\n",
    "    interli=[]\n",
    "    listli=ul.findAll(\"li\")\n",
    "    for li in listli:\n",
    "        try:\n",
    "            interli.append(li.find(\"a\").get(\"title\"))\n",
    "        except:\n",
    "            pass\n",
    "    mvm_list.append(interli)\n",
    "#print(mvm_list)\n",
    "\n",
    "# Liste des mouvements qui sera utilisée pour créer le dataframe \n",
    "data_mvm=[]\n",
    "for l in mvm_list:\n",
    "    for el in l:\n",
    "        pep=re.sub('Catégorie:','',el)\n",
    "        data_mvm.append(pep)\n",
    "print('Liste des différents mouvements: ', data_mvm)"
   ]
  },
  {
   "cell_type": "markdown",
   "metadata": {},
   "source": [
    "On modifie <code>mvm_list</code> afin d'être utilisable pour les URLs simplement en concaténant une base fixe et ses éléments."
   ]
  },
  {
   "cell_type": "code",
   "execution_count": 8,
   "metadata": {},
   "outputs": [
    {
     "name": "stdout",
     "output_type": "stream",
     "text": [
      "['Cat%C3%A9gorie:%C3%89crivain_de_la_Beat_Generation', 'Cat%C3%A9gorie:%C3%89crivain_de_la_G%C3%A9n%C3%A9ration_perdue', 'Cat%C3%A9gorie:%C3%89crivain_du_courant_des_Hussards', 'Cat%C3%A9gorie:%C3%89crivain_jungien', 'Cat%C3%A9gorie:%C3%89crivain_du_courant_r%C3%A9aliste', 'Cat%C3%A9gorie:%C3%89crivain_r%C3%A9gionaliste', 'Cat%C3%A9gorie:%C3%89crivain_de_la_Renaixen%C3%A7a', 'Cat%C3%A9gorie:%C3%89crivain_romantique', 'Cat%C3%A9gorie:%C3%89crivain_surr%C3%A9aliste', 'Cat%C3%A9gorie:%C3%89crivain_symboliste']\n"
     ]
    }
   ],
   "source": [
    "def modifL(list):\n",
    "    L=[]\n",
    "    for i in list:\n",
    "        for j in i:\n",
    "            pep=re.sub(' ','_',j)               # on remplace les espaces \n",
    "            pep=pep.replace('é','%C3%A9')       # corrections pour l'url\n",
    "            pep=pep.replace('É','%C3%89')           \n",
    "            pep=pep.replace('ç','%C3%A7')\n",
    "            L.append(pep)   \n",
    "    return(L)\n",
    "\n",
    "mvm_list=modifL(mvm_list)\n",
    "print(mvm_list)"
   ]
  },
  {
   "cell_type": "markdown",
   "metadata": {},
   "source": [
    "### Scraping liste d'auteurs par mouvement "
   ]
  },
  {
   "cell_type": "markdown",
   "metadata": {},
   "source": [
    "A première vue on a deux types de page :\n",
    "- Celles avec une partie \"sous-catégorie\" puis le bloc avec les écrivains\n",
    "- Celles sans \"sous-catégorie\"<br>\n",
    "#\n",
    "![title](ress/image_beatgen.png)\n",
    "#\n",
    "![title](ress/image_genperdue.png)\n",
    "\n",
    "**Solution** : passer par l'identification <code>.find(\"div\",{\"id\":'mw-pages'})</code>"
   ]
  },
  {
   "cell_type": "markdown",
   "metadata": {},
   "source": [
    "Maintenant qu'on a la liste des différents mouvements on veut une liste d'auteurs par mouvement.<br>\n",
    "On va scraper les pages associées à ces mouvements de la forme <code>https://fr.wikipedia.org/wiki/Cat%C3%A9gorie:XXX</code> (où XXX est un mouvement). "
   ]
  },
  {
   "cell_type": "code",
   "execution_count": 10,
   "metadata": {},
   "outputs": [
    {
     "name": "stdout",
     "output_type": "stream",
     "text": [
      "URL pour les écrivains de la Beat Generation:  https://fr.wikipedia.org/wiki/Cat%C3%A9gorie:%C3%89crivain_de_la_Beat_Generation\n"
     ]
    }
   ],
   "source": [
    "# == Création des URLs ==\n",
    "wikibase=\"https://fr.wikipedia.org/wiki/\"\n",
    "\n",
    "url_list=[wikibase+cat for cat in mvm_list]\n",
    "print('URL pour les écrivains de la Beat Generation: ',url_list[0])"
   ]
  },
  {
   "cell_type": "markdown",
   "metadata": {},
   "source": [
    "<code>aut_crap</code> fonction qui prend en argument un URL et retourne la liste des auteurs présents sur cette page."
   ]
  },
  {
   "cell_type": "code",
   "execution_count": 11,
   "metadata": {},
   "outputs": [],
   "source": [
    "def aut_scrap(url):\n",
    "\n",
    "    request_text= request.urlopen(url).read()\n",
    "    page = bs4.BeautifulSoup(request_text, \"lxml\") #qui est bien une page html maintenant \n",
    "\n",
    "    # == Obtenir toutes les catégories par lettre ==\n",
    "    base=page.find(\"div\",{\"id\":'mw-pages'}).findAll(\"ul\")\n",
    "    base=base[1::]\n",
    "\n",
    "    # == Obtenir les auteurs pour tous les \"blocs\" précédents ==\n",
    "    aut_list=[]\n",
    "    auteurs1=[]\n",
    "    for ul in base:\n",
    "        liste_li=ul.findAll(\"li\")\n",
    "        for li in liste_li:\n",
    "            try:\n",
    "                auteurs1.append(li.find(\"a\").get(\"title\"))\n",
    "            except:\n",
    "                pass\n",
    "        \n",
    "    return(auteurs1)"
   ]
  },
  {
   "cell_type": "markdown",
   "metadata": {},
   "source": [
    "<code>aut1</code> liste des auteurs groupés par mouvements."
   ]
  },
  {
   "cell_type": "code",
   "execution_count": 14,
   "metadata": {},
   "outputs": [
    {
     "data": {
      "text/plain": [
       "[['William S. Burroughs',\n",
       "  'Lucien Carr',\n",
       "  'Carolyn Cassady',\n",
       "  'John Clellon Holmes',\n",
       "  'Gregory Corso',\n",
       "  'Lenore Kandel',\n",
       "  'Jack Kerouac',\n",
       "  'Jan Kerouac',\n",
       "  'Gerald Nicosia',\n",
       "  'Peter Orlovsky',\n",
       "  'John Wieners'],\n",
       " ['Sherwood Anderson',\n",
       "  'Sylvia Beach',\n",
       "  'E. E. Cummings',\n",
       "  'John Dos Passos',\n",
       "  'T. S. Eliot',\n",
       "  'F. Scott Fitzgerald',\n",
       "  'Ernest Hemingway',\n",
       "  'Archibald MacLeish',\n",
       "  'Ezra Pound',\n",
       "  'Gertrude Stein',\n",
       "  'John Steinbeck']]"
      ]
     },
     "execution_count": 14,
     "metadata": {},
     "output_type": "execute_result"
    }
   ],
   "source": [
    "aut1=[aut_scrap(url) for url in url_list]\n",
    "aut1[:2]    "
   ]
  },
  {
   "cell_type": "markdown",
   "metadata": {},
   "source": [
    "<code>data_mvm2</code> liste de la même \"forme\" (même ordre, même longueur...) que <code>aut1</code> qui associe donc à chaque écrivain son mouvement."
   ]
  },
  {
   "cell_type": "code",
   "execution_count": 15,
   "metadata": {},
   "outputs": [
    {
     "data": {
      "text/plain": [
       "[['Écrivain de la Beat Generation',\n",
       "  'Écrivain de la Beat Generation',\n",
       "  'Écrivain de la Beat Generation',\n",
       "  'Écrivain de la Beat Generation',\n",
       "  'Écrivain de la Beat Generation',\n",
       "  'Écrivain de la Beat Generation',\n",
       "  'Écrivain de la Beat Generation',\n",
       "  'Écrivain de la Beat Generation',\n",
       "  'Écrivain de la Beat Generation',\n",
       "  'Écrivain de la Beat Generation',\n",
       "  'Écrivain de la Beat Generation'],\n",
       " ['Écrivain de la Génération perdue',\n",
       "  'Écrivain de la Génération perdue',\n",
       "  'Écrivain de la Génération perdue',\n",
       "  'Écrivain de la Génération perdue',\n",
       "  'Écrivain de la Génération perdue',\n",
       "  'Écrivain de la Génération perdue',\n",
       "  'Écrivain de la Génération perdue',\n",
       "  'Écrivain de la Génération perdue',\n",
       "  'Écrivain de la Génération perdue',\n",
       "  'Écrivain de la Génération perdue',\n",
       "  'Écrivain de la Génération perdue']]"
      ]
     },
     "execution_count": 15,
     "metadata": {},
     "output_type": "execute_result"
    }
   ],
   "source": [
    "data_mvm2=[]\n",
    "for i in range(len(aut1)):\n",
    "    inter=[]\n",
    "    for j in range(len(aut1[i])):\n",
    "        inter.append(data_mvm[i])\n",
    "    data_mvm2.append(inter)\n",
    "data_mvm2[:2]"
   ]
  },
  {
   "cell_type": "markdown",
   "metadata": {},
   "source": [
    "### Création du dataframe"
   ]
  },
  {
   "cell_type": "code",
   "execution_count": 16,
   "metadata": {},
   "outputs": [
    {
     "name": "stdout",
     "output_type": "stream",
     "text": [
      "                      Nom                       Mouvement\n",
      "0    William S. Burroughs  Écrivain de la Beat Generation\n",
      "1             Lucien Carr  Écrivain de la Beat Generation\n",
      "2         Carolyn Cassady  Écrivain de la Beat Generation\n",
      "3     John Clellon Holmes  Écrivain de la Beat Generation\n",
      "4           Gregory Corso  Écrivain de la Beat Generation\n",
      "..                    ...                             ...\n",
      "256     Maurice Beaubourg             Écrivain symboliste\n",
      "257        Otokar Březina             Écrivain symboliste\n",
      "258   Emanuil Popdimitrov             Écrivain symboliste\n",
      "259         Marcel Schwob             Écrivain symboliste\n",
      "260     Friedebert Tuglas             Écrivain symboliste\n",
      "\n",
      "[261 rows x 2 columns]\n"
     ]
    }
   ],
   "source": [
    "xdata, ydata=[],[]\n",
    "\n",
    "for gr_aut in aut1:\n",
    "    for aut in gr_aut:\n",
    "        xdata.append(aut)\n",
    "for gr_mvm in data_mvm2:\n",
    "    for mvm in gr_mvm:\n",
    "        ydata.append(mvm)\n",
    "\n",
    "data={'Nom':xdata, 'Mouvement':ydata}\n",
    "df=pd.DataFrame(data)\n",
    "print(df)"
   ]
  },
  {
   "cell_type": "markdown",
   "metadata": {},
   "source": [
    "On nettoie la colonne <code>Mouvement</code> pour la labelisation à suivre."
   ]
  },
  {
   "cell_type": "code",
   "execution_count": 17,
   "metadata": {},
   "outputs": [],
   "source": [
    "clean_words=['Écrivain de la ', 'Écrivain du courant des ', 'Écrivain ', 'Écrivain du courant ']\n",
    "def mvm_clean(word):\n",
    "    for char in clean_words:\n",
    "        word=word.replace(char,\"\")\n",
    "    return word\n",
    "\n",
    "df['Mouvement']=df['Mouvement'].apply(lambda x : mvm_clean(x))"
   ]
  },
  {
   "cell_type": "code",
   "execution_count": 18,
   "metadata": {},
   "outputs": [
    {
     "data": {
      "text/html": [
       "<div>\n",
       "<style scoped>\n",
       "    .dataframe tbody tr th:only-of-type {\n",
       "        vertical-align: middle;\n",
       "    }\n",
       "\n",
       "    .dataframe tbody tr th {\n",
       "        vertical-align: top;\n",
       "    }\n",
       "\n",
       "    .dataframe thead th {\n",
       "        text-align: right;\n",
       "    }\n",
       "</style>\n",
       "<table border=\"1\" class=\"dataframe\">\n",
       "  <thead>\n",
       "    <tr style=\"text-align: right;\">\n",
       "      <th></th>\n",
       "      <th>Nom</th>\n",
       "      <th>Mouvement</th>\n",
       "    </tr>\n",
       "  </thead>\n",
       "  <tbody>\n",
       "    <tr>\n",
       "      <th>0</th>\n",
       "      <td>William S. Burroughs</td>\n",
       "      <td>Beat Generation</td>\n",
       "    </tr>\n",
       "    <tr>\n",
       "      <th>1</th>\n",
       "      <td>Lucien Carr</td>\n",
       "      <td>Beat Generation</td>\n",
       "    </tr>\n",
       "    <tr>\n",
       "      <th>2</th>\n",
       "      <td>Carolyn Cassady</td>\n",
       "      <td>Beat Generation</td>\n",
       "    </tr>\n",
       "    <tr>\n",
       "      <th>3</th>\n",
       "      <td>John Clellon Holmes</td>\n",
       "      <td>Beat Generation</td>\n",
       "    </tr>\n",
       "    <tr>\n",
       "      <th>4</th>\n",
       "      <td>Gregory Corso</td>\n",
       "      <td>Beat Generation</td>\n",
       "    </tr>\n",
       "  </tbody>\n",
       "</table>\n",
       "</div>"
      ],
      "text/plain": [
       "                    Nom        Mouvement\n",
       "0  William S. Burroughs  Beat Generation\n",
       "1           Lucien Carr  Beat Generation\n",
       "2       Carolyn Cassady  Beat Generation\n",
       "3   John Clellon Holmes  Beat Generation\n",
       "4         Gregory Corso  Beat Generation"
      ]
     },
     "execution_count": 18,
     "metadata": {},
     "output_type": "execute_result"
    }
   ],
   "source": [
    "df.head()"
   ]
  },
  {
   "cell_type": "markdown",
   "metadata": {},
   "source": [
    "### Scraping du summary"
   ]
  },
  {
   "cell_type": "markdown",
   "metadata": {},
   "source": [
    "(ligne suivante assez longue à exécuter ~3/4 minutes)"
   ]
  },
  {
   "cell_type": "code",
   "execution_count": 16,
   "metadata": {},
   "outputs": [],
   "source": [
    "sum_aut=[WikipediaPage(aut).summary for aut in df['Nom']]\n",
    "df['summary']=sum_aut"
   ]
  },
  {
   "cell_type": "markdown",
   "metadata": {},
   "source": [
    "Text processing : \n",
    "- nettoyage \n",
    "- lemmatisation et suppression des stop words"
   ]
  },
  {
   "cell_type": "code",
   "execution_count": 17,
   "metadata": {},
   "outputs": [],
   "source": [
    "#1. Enlève les '\\n' qui se trouvent dans certains textes\n",
    "def cleanN(text): \n",
    "    words=text.split()\n",
    "    for word in words :     #on a des \\n seuls ou \"dans\" des mots \n",
    "        if word=='\\n':\n",
    "            words.remove(word)         \n",
    "        elif '\\n'in word:\n",
    "            word.replace('\\n',' ')\n",
    "        else:\n",
    "            pass\n",
    "    return(' '.join(words))\n",
    "\n",
    "#2. Supprime les stop words / lemmatisation\n",
    "def clean_txt(s):\n",
    "    doc = nlp(s)\n",
    "    L=[]\n",
    "    for token in doc:\n",
    "        s_t = str(token)\n",
    "        alphanum=True\n",
    "        if not s_t in stop:\n",
    "            for char in s_t:\n",
    "                alphanum = char.isalnum() and alphanum\n",
    "            if alphanum:            \n",
    "                L.append(token.lemma_)\n",
    "    L=np.array(L)\n",
    "    return ' '.join(L)"
   ]
  },
  {
   "cell_type": "markdown",
   "metadata": {},
   "source": [
    "On ajoute les colonnes suivantes au dataset :\n",
    "- <code>sum_lem</code> summaries nettoyés et lemmatisés \n",
    "- <code>mvm_label</code> on labelise les mouvements pour la classification"
   ]
  },
  {
   "cell_type": "code",
   "execution_count": 18,
   "metadata": {},
   "outputs": [],
   "source": [
    "#sum_lem\n",
    "sum_lem=[clean_txt(cleanN(sum)) for sum in df['summary']]   \n",
    "df['sum_lem']=sum_lem"
   ]
  },
  {
   "cell_type": "code",
   "execution_count": 19,
   "metadata": {},
   "outputs": [],
   "source": [
    "#mvm_label\n",
    "from sklearn import preprocessing\n",
    "LE=preprocessing.LabelEncoder()\n",
    "mvm_label=LE.fit_transform(df['Mouvement'])\n",
    "df['mvm_label']=mvm_label"
   ]
  },
  {
   "cell_type": "code",
   "execution_count": 22,
   "metadata": {},
   "outputs": [
    {
     "data": {
      "text/html": [
       "<div>\n",
       "<style scoped>\n",
       "    .dataframe tbody tr th:only-of-type {\n",
       "        vertical-align: middle;\n",
       "    }\n",
       "\n",
       "    .dataframe tbody tr th {\n",
       "        vertical-align: top;\n",
       "    }\n",
       "\n",
       "    .dataframe thead th {\n",
       "        text-align: right;\n",
       "    }\n",
       "</style>\n",
       "<table border=\"1\" class=\"dataframe\">\n",
       "  <thead>\n",
       "    <tr style=\"text-align: right;\">\n",
       "      <th></th>\n",
       "      <th>Nom</th>\n",
       "      <th>Mouvement</th>\n",
       "      <th>summary</th>\n",
       "      <th>sum_lem</th>\n",
       "      <th>mvm_label</th>\n",
       "    </tr>\n",
       "  </thead>\n",
       "  <tbody>\n",
       "    <tr>\n",
       "      <th>15</th>\n",
       "      <td>T. S. Eliot</td>\n",
       "      <td>Génération perdue</td>\n",
       "      <td>T. S. Eliot, de son nom complet Thomas Stearns...</td>\n",
       "      <td>Eliot nom complet Thomas Stearns Eliot 26 sept...</td>\n",
       "      <td>1</td>\n",
       "    </tr>\n",
       "    <tr>\n",
       "      <th>16</th>\n",
       "      <td>F. Scott Fitzgerald</td>\n",
       "      <td>Génération perdue</td>\n",
       "      <td>Francis Scott Key Fitzgerald, né le 24 septemb...</td>\n",
       "      <td>Francis Scott Key fitzgerald naître 24 septemb...</td>\n",
       "      <td>1</td>\n",
       "    </tr>\n",
       "    <tr>\n",
       "      <th>17</th>\n",
       "      <td>Ernest Hemingway</td>\n",
       "      <td>Génération perdue</td>\n",
       "      <td>Ernest Hemingway [ˈɝnɪst ˈhɛmɪŋˌweɪ], né le 21...</td>\n",
       "      <td>Ernest Hemingway ˈɝnɪst ˈhɛmɪŋˌweɪ naître 21 j...</td>\n",
       "      <td>1</td>\n",
       "    </tr>\n",
       "    <tr>\n",
       "      <th>18</th>\n",
       "      <td>Archibald MacLeish</td>\n",
       "      <td>Génération perdue</td>\n",
       "      <td>Archibald MacLeish (1892-1982) est un poète, d...</td>\n",
       "      <td>Archibald MacLeish 1892 1982 poète dramaturge ...</td>\n",
       "      <td>1</td>\n",
       "    </tr>\n",
       "    <tr>\n",
       "      <th>19</th>\n",
       "      <td>Ezra Pound</td>\n",
       "      <td>Génération perdue</td>\n",
       "      <td>Ezra Weston Loomis Pound (né à Hailey, alors d...</td>\n",
       "      <td>Ezra Weston Loomis Pound naître Hailey alors t...</td>\n",
       "      <td>1</td>\n",
       "    </tr>\n",
       "    <tr>\n",
       "      <th>20</th>\n",
       "      <td>Gertrude Stein</td>\n",
       "      <td>Génération perdue</td>\n",
       "      <td>Gertrude Stein, née le 3 février 1874 à Allegh...</td>\n",
       "      <td>Gertrude Stein naître 3 février 1874 Allegheny...</td>\n",
       "      <td>1</td>\n",
       "    </tr>\n",
       "    <tr>\n",
       "      <th>21</th>\n",
       "      <td>John Steinbeck</td>\n",
       "      <td>Génération perdue</td>\n",
       "      <td>John Ernst Steinbeck, Jr. (en anglais : [ˈstaɪ...</td>\n",
       "      <td>John Ernst Steinbeck Jr anglais ˈstaɪnbɛk naît...</td>\n",
       "      <td>1</td>\n",
       "    </tr>\n",
       "    <tr>\n",
       "      <th>22</th>\n",
       "      <td>Antoine Blondin</td>\n",
       "      <td>Hussards</td>\n",
       "      <td>Antoine Blondin, né le 11 avril 1922 à Paris e...</td>\n",
       "      <td>Antoine Blondin naître 11 avril 1922 Paris mor...</td>\n",
       "      <td>2</td>\n",
       "    </tr>\n",
       "    <tr>\n",
       "      <th>23</th>\n",
       "      <td>Jean-François Coulomb</td>\n",
       "      <td>Hussards</td>\n",
       "      <td>Jean-François Coulomb (1956) est un journalist...</td>\n",
       "      <td>Coulomb 1956 journaliste producteur écrivain f...</td>\n",
       "      <td>2</td>\n",
       "    </tr>\n",
       "    <tr>\n",
       "      <th>24</th>\n",
       "      <td>Michel Déon</td>\n",
       "      <td>Hussards</td>\n",
       "      <td>Michel Déon, né Édouard Michel le 4 août 1919 ...</td>\n",
       "      <td>Michel Déon naître Édouard Michel 4 août 1919 ...</td>\n",
       "      <td>2</td>\n",
       "    </tr>\n",
       "    <tr>\n",
       "      <th>25</th>\n",
       "      <td>Geneviève Dormann</td>\n",
       "      <td>Hussards</td>\n",
       "      <td>Geneviève Dormann, née le 24 septembre 1933 da...</td>\n",
       "      <td>Geneviève Dormann naître 24 septembre 1933 14e...</td>\n",
       "      <td>2</td>\n",
       "    </tr>\n",
       "    <tr>\n",
       "      <th>26</th>\n",
       "      <td>Guy Dupré</td>\n",
       "      <td>Hussards</td>\n",
       "      <td>Guy Dupré (5 février 1925 - 17 janvier 2018) e...</td>\n",
       "      <td>Guy Dupré 5 février 1925 17 janvier 2018 écriv...</td>\n",
       "      <td>2</td>\n",
       "    </tr>\n",
       "  </tbody>\n",
       "</table>\n",
       "</div>"
      ],
      "text/plain": [
       "                      Nom          Mouvement  \\\n",
       "15            T. S. Eliot  Génération perdue   \n",
       "16    F. Scott Fitzgerald  Génération perdue   \n",
       "17       Ernest Hemingway  Génération perdue   \n",
       "18     Archibald MacLeish  Génération perdue   \n",
       "19             Ezra Pound  Génération perdue   \n",
       "20         Gertrude Stein  Génération perdue   \n",
       "21         John Steinbeck  Génération perdue   \n",
       "22        Antoine Blondin           Hussards   \n",
       "23  Jean-François Coulomb           Hussards   \n",
       "24            Michel Déon           Hussards   \n",
       "25      Geneviève Dormann           Hussards   \n",
       "26              Guy Dupré           Hussards   \n",
       "\n",
       "                                              summary  \\\n",
       "15  T. S. Eliot, de son nom complet Thomas Stearns...   \n",
       "16  Francis Scott Key Fitzgerald, né le 24 septemb...   \n",
       "17  Ernest Hemingway [ˈɝnɪst ˈhɛmɪŋˌweɪ], né le 21...   \n",
       "18  Archibald MacLeish (1892-1982) est un poète, d...   \n",
       "19  Ezra Weston Loomis Pound (né à Hailey, alors d...   \n",
       "20  Gertrude Stein, née le 3 février 1874 à Allegh...   \n",
       "21  John Ernst Steinbeck, Jr. (en anglais : [ˈstaɪ...   \n",
       "22  Antoine Blondin, né le 11 avril 1922 à Paris e...   \n",
       "23  Jean-François Coulomb (1956) est un journalist...   \n",
       "24  Michel Déon, né Édouard Michel le 4 août 1919 ...   \n",
       "25  Geneviève Dormann, née le 24 septembre 1933 da...   \n",
       "26  Guy Dupré (5 février 1925 - 17 janvier 2018) e...   \n",
       "\n",
       "                                              sum_lem  mvm_label  \n",
       "15  Eliot nom complet Thomas Stearns Eliot 26 sept...          1  \n",
       "16  Francis Scott Key fitzgerald naître 24 septemb...          1  \n",
       "17  Ernest Hemingway ˈɝnɪst ˈhɛmɪŋˌweɪ naître 21 j...          1  \n",
       "18  Archibald MacLeish 1892 1982 poète dramaturge ...          1  \n",
       "19  Ezra Weston Loomis Pound naître Hailey alors t...          1  \n",
       "20  Gertrude Stein naître 3 février 1874 Allegheny...          1  \n",
       "21  John Ernst Steinbeck Jr anglais ˈstaɪnbɛk naît...          1  \n",
       "22  Antoine Blondin naître 11 avril 1922 Paris mor...          2  \n",
       "23  Coulomb 1956 journaliste producteur écrivain f...          2  \n",
       "24  Michel Déon naître Édouard Michel 4 août 1919 ...          2  \n",
       "25  Geneviève Dormann naître 24 septembre 1933 14e...          2  \n",
       "26  Guy Dupré 5 février 1925 17 janvier 2018 écriv...          2  "
      ]
     },
     "execution_count": 22,
     "metadata": {},
     "output_type": "execute_result"
    }
   ],
   "source": [
    "df[15:27]"
   ]
  },
  {
   "cell_type": "code",
   "execution_count": 21,
   "metadata": {},
   "outputs": [],
   "source": [
    "#compression_opts = dict(method='zip', archive_name='out.csv') \n",
    "#df.to_csv('out.zip', index=False,compression=compression_opts)  \n",
    "\n",
    "df.to_csv('data.csv')"
   ]
  }
 ],
 "metadata": {
  "interpreter": {
   "hash": "06f709ef0d65556a4c268680c897d4e523db2699171fb7cef1ccdebc4f15d32f"
  },
  "kernelspec": {
   "display_name": "Python 3.9.5 64-bit",
   "language": "python",
   "name": "python3"
  },
  "language_info": {
   "codemirror_mode": {
    "name": "ipython",
    "version": 3
   },
   "file_extension": ".py",
   "mimetype": "text/x-python",
   "name": "python",
   "nbconvert_exporter": "python",
   "pygments_lexer": "ipython3",
   "version": "3.9.5"
  },
  "orig_nbformat": 4
 },
 "nbformat": 4,
 "nbformat_minor": 2
}
