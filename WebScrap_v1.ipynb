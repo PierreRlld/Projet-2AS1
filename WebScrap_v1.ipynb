{
 "cells": [
  {
   "cell_type": "code",
   "execution_count": 1,
   "metadata": {},
   "outputs": [],
   "source": [
    "import urllib\n",
    "import bs4\n",
    "import pandas\n",
    "from urllib import request"
   ]
  },
  {
   "cell_type": "code",
   "execution_count": 2,
   "metadata": {},
   "outputs": [],
   "source": [
    "urlfoot=\"https://fr.wikipedia.org/wiki/Liste_des_mouvements_litt%C3%A9raires\"\n",
    "request_text= request.urlopen(urlfoot).read()\n",
    "page = bs4.BeautifulSoup(request_text, \"lxml\") #qui est bien une page html maintenant "
   ]
  },
  {
   "cell_type": "code",
   "execution_count": null,
   "metadata": {},
   "outputs": [],
   "source": [
    "# === On get la page d'intérêt ===\n",
    "\n",
    "print(page.findAll(\"ul\"))"
   ]
  },
  {
   "cell_type": "markdown",
   "metadata": {},
   "source": [
    "## Partie test"
   ]
  },
  {
   "cell_type": "code",
   "execution_count": 4,
   "metadata": {},
   "outputs": [
    {
     "name": "stdout",
     "output_type": "stream",
     "text": [
      "[<li><a href=\"/wiki/Humanisme_de_la_Renaissance\" title=\"Humanisme de la Renaissance\">Humanisme de la Renaissance</a></li>, <li>La <a href=\"/wiki/Pl%C3%A9iade_(XVIe_si%C3%A8cle)\" title=\"Pléiade (XVIe siècle)\">Pléiade</a></li>, <li><a class=\"mw-redirect\" href=\"/wiki/Picaresque\" title=\"Picaresque\">Picaresque</a></li>]\n"
     ]
    }
   ],
   "source": [
    "test=page.findAll(\"ul\")\n",
    "L=[]\n",
    "for res in test :\n",
    "  test2 = res.findAll(\"li\")\n",
    "  L.append(test2)\n",
    "#print(L[1])\n",
    "print(L[15])"
   ]
  },
  {
   "cell_type": "code",
   "execution_count": 5,
   "metadata": {},
   "outputs": [
    {
     "name": "stdout",
     "output_type": "stream",
     "text": [
      "<class 'bs4.element.Tag'> Humanisme de la Renaissance\n",
      "<class 'bs4.element.Tag'> Pléiade (XVIe siècle)\n",
      "<class 'bs4.element.Tag'> Picaresque\n"
     ]
    }
   ],
   "source": [
    "for res in L[15]:\n",
    "  try :\n",
    "    res2=res.find(\"a\")\n",
    "    print(type(res), res2.get(\"title\"))    #https://stackoverflow.com/questions/57395509/get-item-from-bs4-element-tag\n",
    "  except :\n",
    "    pass"
   ]
  },
  {
   "cell_type": "code",
   "execution_count": null,
   "metadata": {},
   "outputs": [],
   "source": [
    "print(page.findAll(\"ul\"))"
   ]
  },
  {
   "cell_type": "markdown",
   "metadata": {},
   "source": [
    "## Scrap"
   ]
  },
  {
   "cell_type": "code",
   "execution_count": null,
   "metadata": {},
   "outputs": [],
   "source": [
    "# Forme de ce qui est à scraper :\n",
    "#<ul> <li><a (...) title=\"xxx\"> [possible d'avoir plusieurs li] <li><a (...) title=\"xxx\"> </ul>\n",
    "\n",
    "base=page.findAll(\"ul\")         \n",
    "L=[]\n",
    "for ul in base :\n",
    "  L.append(ul.findAll(\"li\"))\n",
    "print(L)"
   ]
  },
  {
   "cell_type": "code",
   "execution_count": 7,
   "metadata": {},
   "outputs": [
    {
     "name": "stdout",
     "output_type": "stream",
     "text": [
      "2 4\n"
     ]
    }
   ],
   "source": [
    "print(len(L[1]), len(L[2]))"
   ]
  },
  {
   "cell_type": "code",
   "execution_count": 8,
   "metadata": {},
   "outputs": [
    {
     "name": "stdout",
     "output_type": "stream",
     "text": [
      "129 ['Nous vous encourageons à créer un compte utilisateur et vous connecter\\u202f; ce n’est cependant pas obligatoire.', 'La page de discussion pour les contributions depuis cette adresse IP [n]', 'Une liste des modifications effectuées depuis cette adresse IP [y]', 'Accueil général [z]', None, 'Affiche un article au hasard [x]', None, None, 'Accès à l’aide', 'À propos du projet, ce que vous pouvez faire, où trouver les informations', 'Liste des modifications récentes sur le wiki [r]', 'Soutenez-nous', 'Liste des pages liées qui pointent sur celle-ci [j]', 'Liste des modifications récentes des pages appelées par celle-ci [k]', 'Importer des fichiers [u]', 'Liste de toutes les pages spéciales [q]', 'Adresse permanente de cette version de la page', 'Plus d’informations sur cette page', 'Informations sur la manière de citer cette page', 'Lien vers l’élément dans le dépôt de données connecté [g]', None, None, 'Version imprimable de cette page [p]', None, 'Voir le contenu de la page [c]', 'Discussion au sujet de cette page de contenu [t]', None, 'Modifier cette page [v]', 'Vous pouvez modifier cette page ! [e]', 'Historique des versions de cette page [h]', 'List of literary movements\\u202f—\\u202fanglais', 'ਸਾਹਿਤਕ ਲਹਿਰਾਂ ਦੀ ਸੂਚੀ\\u202f—\\u202fpendjabi', 'Curente literare\\u202f—\\u202froumain', '文學流派列表\\u202f—\\u202fchinois', None, None, None, None, None, None, None, None, None, None, None, None, None, None, None, 'Littérature hagiographique', 'Chanson de geste', 'Troubadour', 'Roman courtois', 'Fabliau', 'Grands rhétoriqueurs', 'Poésie courtoise', 'Humanisme de la Renaissance', 'Pléiade (XVIe siècle)', 'Picaresque', 'Littérature baroque', 'Burlesque', 'Classicisme', 'Quiétisme', 'Préciosité', 'Moralisme', 'Illuminisme', 'Roman gothique', 'Préromantisme', 'Libertin', 'Lumières (philosophie)', 'Romantisme', 'Réalisme (littérature)', 'Naturalisme (littérature)', 'Parnasse (littérature)', 'Symbolisme (art)', 'École romane', 'Décadentisme', 'Esthétisme', 'Absurde', 'Surréalisme', 'Oulipo', 'Futurisme', 'Courant de conscience', 'Dadaïsme', 'Populisme (littérature)', 'Réalisme socialiste en France', 'Renaissance littéraire catholique en France', 'Littérature prolétarienne', 'Roman jdanovien français', 'Existentialisme', 'Néoréalisme (art)', 'Objectivisme (littérature)', 'École de Rochefort', \"Théâtre de l'absurde\", 'Lettrisme', 'Lost Generation', 'Beat Generation', 'Nouveau roman', 'Autofiction', 'Réalisme magique', 'Nouvelle fiction', 'Imagisme', 'Réalisme hystérique', 'Post-humanisme', 'Négritude', 'Sacraïsme', 'Mouvement littéraire', 'Portail de la littérature', 'Portail de la poésie', 'Portail du théâtre', 'Catégorie:Mouvement littéraire', 'Catégorie:Liste en rapport avec la littérature', 'Catégorie:Wikipédia:ébauche littérature', 'Catégorie:Wikipédia:ébauche poésie', 'Catégorie:Wikipédia:ébauche théâtre', 'Catégorie:Portail:Littérature/Articles liés', 'Catégorie:Portail:Poésie/Articles liés', 'Catégorie:Portail:Théâtre/Articles liés', \"Droit d'auteur\", 'm:Privacy policy/fr', 'Wikipédia:À propos de Wikipédia', 'Wikipédia:Avertissements généraux', None, None, None, None, None, None, None]\n"
     ]
    }
   ],
   "source": [
    "resultat=[]\n",
    "for i in range(len(L)) :      #On peut pas faire direct for li in L à cause du type\n",
    "  for li in L[i]:\n",
    "    try :\n",
    "      inter=li.find(\"a\")\n",
    "      resultat.append(inter.get(\"title\"))\n",
    "      #print(type(inter))\n",
    "    except:                   #On peut avoir type None pour inter \n",
    "      pass\n",
    "print(len(resultat),resultat)"
   ]
  },
  {
   "cell_type": "markdown",
   "metadata": {},
   "source": [
    "### Nettoyage "
   ]
  },
  {
   "cell_type": "code",
   "execution_count": null,
   "metadata": {},
   "outputs": [],
   "source": [
    "res=list(filter(None,resultat))\n",
    "for j in res :\n",
    "  print(j)\n",
    "print(len(res))"
   ]
  },
  {
   "cell_type": "markdown",
   "metadata": {},
   "source": [
    "Pour l'instant la suite ne marche pas trop"
   ]
  },
  {
   "cell_type": "code",
   "execution_count": null,
   "metadata": {},
   "outputs": [],
   "source": [
    "out=[\":\",\"[\",\"]\"]\n",
    "\n",
    "for j in res :\n",
    "    if \":\" in j :\n",
    "      print(j)\n",
    "      res.remove(j)\n",
    "print(len(res))"
   ]
  },
  {
   "cell_type": "code",
   "execution_count": null,
   "metadata": {},
   "outputs": [],
   "source": [
    "print(res)"
   ]
  },
  {
   "cell_type": "code",
   "execution_count": null,
   "metadata": {},
   "outputs": [],
   "source": [
    "def clean(L):\n",
    "  L=filter(None,L)\n",
    "  for i in range len(L):"
   ]
  }
 ],
 "metadata": {
  "interpreter": {
   "hash": "06f709ef0d65556a4c268680c897d4e523db2699171fb7cef1ccdebc4f15d32f"
  },
  "kernelspec": {
   "display_name": "Python 3.9.5 64-bit",
   "language": "python",
   "name": "python3"
  },
  "language_info": {
   "codemirror_mode": {
    "name": "ipython",
    "version": 3
   },
   "file_extension": ".py",
   "mimetype": "text/x-python",
   "name": "python",
   "nbconvert_exporter": "python",
   "pygments_lexer": "ipython3",
   "version": "3.9.5"
  },
  "orig_nbformat": 4
 },
 "nbformat": 4,
 "nbformat_minor": 2
}
