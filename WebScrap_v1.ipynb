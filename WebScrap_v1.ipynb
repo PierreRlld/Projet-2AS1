{
 "cells": [
  {
   "cell_type": "code",
   "execution_count": 1,
   "metadata": {},
   "outputs": [],
   "source": [
    "import urllib\n",
    "import bs4\n",
    "import pandas\n",
    "from urllib import request"
   ]
  },
  {
   "cell_type": "code",
   "execution_count": 2,
   "metadata": {},
   "outputs": [],
   "source": [
    "urlfoot=\"https://fr.wikipedia.org/wiki/Liste_des_mouvements_litt%C3%A9raires\"\n",
    "request_text= request.urlopen(urlfoot).read()\n",
    "page = bs4.BeautifulSoup(request_text, \"lxml\") #qui est bien une page html maintenant "
   ]
  },
  {
   "cell_type": "code",
   "execution_count": 3,
   "metadata": {},
   "outputs": [
    {
     "name": "stdout",
     "output_type": "stream",
     "text": [
      "[<ul class=\"vector-menu-content-list\">\n",
      "<li class=\"user-links-collapsible-item\" id=\"p-createaccount\">\n",
      "<a class=\"mw-ui-button mw-ui-quiet\" href=\"/w/index.php?title=Sp%C3%A9cial:Cr%C3%A9er_un_compte&amp;returnto=Liste+des+mouvements+litt%C3%A9raires\" icon=\"userAvatar\" title=\"Nous vous encourageons à créer un compte utilisateur et vous connecter ; ce n’est cependant pas obligatoire.\"><span>Créer un compte</span></a>\n",
      "</li>\n",
      "</ul>, <ul class=\"vector-menu-content-list\"><li class=\"mw-list-item\" id=\"pt-anontalk\"><a accesskey=\"n\" href=\"/wiki/Sp%C3%A9cial:Mes_discussions\" title=\"La page de discussion pour les contributions depuis cette adresse IP [n]\"><span>Discussion</span></a></li><li class=\"mw-list-item\" id=\"pt-anoncontribs\"><a accesskey=\"y\" href=\"/wiki/Sp%C3%A9cial:Mes_contributions\" title=\"Une liste des modifications effectuées depuis cette adresse IP [y]\"><span>Contributions</span></a></li></ul>, <ul class=\"vector-menu-content-list\"><li class=\"mw-list-item\" id=\"n-mainpage-description\"><a accesskey=\"z\" href=\"/wiki/Wikip%C3%A9dia:Accueil_principal\" title=\"Accueil général [z]\"><span>Accueil</span></a></li><li class=\"mw-list-item\" id=\"n-thema\"><a href=\"/wiki/Portail:Accueil\"><span>Portails thématiques</span></a></li><li class=\"mw-list-item\" id=\"n-randompage\"><a accesskey=\"x\" href=\"/wiki/Sp%C3%A9cial:Page_au_hasard\" title=\"Affiche un article au hasard [x]\"><span>Article au hasard</span></a></li><li class=\"mw-list-item\" id=\"n-contact\"><a href=\"/wiki/Wikip%C3%A9dia:Contact\"><span>Contact</span></a></li></ul>, <ul class=\"vector-menu-content-list\"><li class=\"mw-list-item\" id=\"n-aboutwp\"><a href=\"/wiki/Aide:D%C3%A9buter\"><span>Débuter sur Wikipédia</span></a></li><li class=\"mw-list-item\" id=\"n-help\"><a href=\"/wiki/Aide:Accueil\" title=\"Accès à l’aide\"><span>Aide</span></a></li><li class=\"mw-list-item\" id=\"n-portal\"><a href=\"/wiki/Wikip%C3%A9dia:Accueil_de_la_communaut%C3%A9\" title=\"À propos du projet, ce que vous pouvez faire, où trouver les informations\"><span>Communauté</span></a></li><li class=\"mw-list-item\" id=\"n-recentchanges\"><a accesskey=\"r\" href=\"/wiki/Sp%C3%A9cial:Modifications_r%C3%A9centes\" title=\"Liste des modifications récentes sur le wiki [r]\"><span>Modifications récentes</span></a></li><li class=\"mw-list-item\" id=\"n-sitesupport\"><a href=\"//donate.wikimedia.org/wiki/Special:FundraiserRedirector?utm_source=donate&amp;utm_medium=sidebar&amp;utm_campaign=C13_fr.wikipedia.org&amp;uselang=fr\" title=\"Soutenez-nous\"><span>Faire un don</span></a></li></ul>, <ul class=\"vector-menu-content-list\"><li class=\"mw-list-item\" id=\"t-whatlinkshere\"><a accesskey=\"j\" href=\"/wiki/Sp%C3%A9cial:Pages_li%C3%A9es/Liste_des_mouvements_litt%C3%A9raires\" title=\"Liste des pages liées qui pointent sur celle-ci [j]\"><span>Pages liées</span></a></li><li class=\"mw-list-item\" id=\"t-recentchangeslinked\"><a accesskey=\"k\" href=\"/wiki/Sp%C3%A9cial:Suivi_des_liens/Liste_des_mouvements_litt%C3%A9raires\" rel=\"nofollow\" title=\"Liste des modifications récentes des pages appelées par celle-ci [k]\"><span>Suivi des pages liées</span></a></li><li class=\"mw-list-item\" id=\"t-upload\"><a accesskey=\"u\" href=\"/wiki/Aide:Importer_un_fichier\" title=\"Importer des fichiers [u]\"><span>Téléverser un fichier</span></a></li><li class=\"mw-list-item\" id=\"t-specialpages\"><a accesskey=\"q\" href=\"/wiki/Sp%C3%A9cial:Pages_sp%C3%A9ciales\" title=\"Liste de toutes les pages spéciales [q]\"><span>Pages spéciales</span></a></li><li class=\"mw-list-item\" id=\"t-permalink\"><a href=\"/w/index.php?title=Liste_des_mouvements_litt%C3%A9raires&amp;oldid=188050338\" title=\"Adresse permanente de cette version de la page\"><span>Lien permanent</span></a></li><li class=\"mw-list-item\" id=\"t-info\"><a href=\"/w/index.php?title=Liste_des_mouvements_litt%C3%A9raires&amp;action=info\" title=\"Plus d’informations sur cette page\"><span>Informations sur la page</span></a></li><li class=\"mw-list-item\" id=\"t-cite\"><a href=\"/w/index.php?title=Sp%C3%A9cial:Citer&amp;page=Liste_des_mouvements_litt%C3%A9raires&amp;id=188050338&amp;wpFormIdentifier=titleform\" title=\"Informations sur la manière de citer cette page\"><span>Citer cette page</span></a></li><li class=\"mw-list-item\" id=\"t-wikibase\"><a accesskey=\"g\" href=\"https://www.wikidata.org/wiki/Special:EntityPage/Q3083584\" title=\"Lien vers l’élément dans le dépôt de données connecté [g]\"><span>Élément Wikidata</span></a></li></ul>, <ul class=\"vector-menu-content-list\"><li class=\"mw-list-item\" id=\"coll-create_a_book\"><a href=\"/w/index.php?title=Sp%C3%A9cial:Livre&amp;bookcmd=book_creator&amp;referer=Liste+des+mouvements+litt%C3%A9raires\"><span>Créer un livre</span></a></li><li class=\"mw-list-item\" id=\"coll-download-as-rl\"><a href=\"/w/index.php?title=Sp%C3%A9cial:DownloadAsPdf&amp;page=Liste_des_mouvements_litt%C3%A9raires&amp;action=show-download-screen\"><span>Télécharger comme PDF</span></a></li><li class=\"mw-list-item\" id=\"t-print\"><a accesskey=\"p\" href=\"/w/index.php?title=Liste_des_mouvements_litt%C3%A9raires&amp;printable=yes\" title=\"Version imprimable de cette page [p]\"><span>Version imprimable</span></a></li></ul>, <ul class=\"vector-menu-content-list\"><li class=\"wb-otherproject-link wb-otherproject-commons mw-list-item\"><a href=\"https://commons.wikimedia.org/wiki/Category:Literary_movements\" hreflang=\"en\"><span>Wikimedia Commons</span></a></li></ul>, <ul class=\"vector-menu-content-list\"><li class=\"selected mw-list-item\" id=\"ca-nstab-main\"><a accesskey=\"c\" href=\"/wiki/Liste_des_mouvements_litt%C3%A9raires\" title=\"Voir le contenu de la page [c]\"><span>Article</span></a></li><li class=\"mw-list-item\" id=\"ca-talk\"><a accesskey=\"t\" href=\"/wiki/Discussion:Liste_des_mouvements_litt%C3%A9raires\" rel=\"discussion\" title=\"Discussion au sujet de cette page de contenu [t]\"><span>Discussion</span></a></li></ul>, <ul class=\"vector-menu-content-list\"></ul>, <ul class=\"vector-menu-content-list\"><li class=\"selected mw-list-item\" id=\"ca-view\"><a href=\"/wiki/Liste_des_mouvements_litt%C3%A9raires\"><span>Lire</span></a></li><li class=\"mw-list-item\" id=\"ca-ve-edit\"><a accesskey=\"v\" href=\"/w/index.php?title=Liste_des_mouvements_litt%C3%A9raires&amp;veaction=edit\" title=\"Modifier cette page [v]\"><span>Modifier</span></a></li><li class=\"collapsible mw-list-item\" id=\"ca-edit\"><a accesskey=\"e\" href=\"/w/index.php?title=Liste_des_mouvements_litt%C3%A9raires&amp;action=edit\" title=\"Vous pouvez modifier cette page ! [e]\"><span>Modifier le code</span></a></li><li class=\"mw-list-item\" id=\"ca-history\"><a accesskey=\"h\" href=\"/w/index.php?title=Liste_des_mouvements_litt%C3%A9raires&amp;action=history\" title=\"Historique des versions de cette page [h]\"><span>Voir l’historique</span></a></li></ul>, <ul class=\"vector-menu-content-list\"></ul>, <ul class=\"vector-menu-content-list\"><li class=\"interlanguage-link interwiki-en mw-list-item\"><a class=\"interlanguage-link-target\" href=\"https://en.wikipedia.org/wiki/List_of_literary_movements\" hreflang=\"en\" lang=\"en\" title=\"List of literary movements — anglais\"><span>English</span></a></li><li class=\"interlanguage-link interwiki-pa mw-list-item\"><a class=\"interlanguage-link-target\" href=\"https://pa.wikipedia.org/wiki/%E0%A8%B8%E0%A8%BE%E0%A8%B9%E0%A8%BF%E0%A8%A4%E0%A8%95_%E0%A8%B2%E0%A8%B9%E0%A8%BF%E0%A8%B0%E0%A8%BE%E0%A8%82_%E0%A8%A6%E0%A9%80_%E0%A8%B8%E0%A9%82%E0%A8%9A%E0%A9%80\" hreflang=\"pa\" lang=\"pa\" title=\"ਸਾਹਿਤਕ ਲਹਿਰਾਂ ਦੀ ਸੂਚੀ — pendjabi\"><span>ਪੰਜਾਬੀ</span></a></li><li class=\"interlanguage-link interwiki-ro mw-list-item\"><a class=\"interlanguage-link-target\" href=\"https://ro.wikipedia.org/wiki/Curente_literare\" hreflang=\"ro\" lang=\"ro\" title=\"Curente literare — roumain\"><span>Română</span></a></li><li class=\"interlanguage-link interwiki-zh mw-list-item\"><a class=\"interlanguage-link-target\" href=\"https://zh.wikipedia.org/wiki/%E6%96%87%E5%AD%B8%E6%B5%81%E6%B4%BE%E5%88%97%E8%A1%A8\" hreflang=\"zh\" lang=\"zh\" title=\"文學流派列表 — chinois\"><span>中文</span></a></li></ul>, <ul>\n",
      "<li class=\"toclevel-1 tocsection-1\"><a href=\"#Liste_des_mouvements_littéraires\"><span class=\"tocnumber\">1</span> <span class=\"toctext\">Liste des mouvements littéraires</span></a>\n",
      "<ul>\n",
      "<li class=\"toclevel-2 tocsection-2\"><a href=\"#Moyen_Âge\"><span class=\"tocnumber\">1.1</span> <span class=\"toctext\">Moyen Âge</span></a></li>\n",
      "<li class=\"toclevel-2 tocsection-3\"><a href=\"#XVIe_siècle\"><span class=\"tocnumber\">1.2</span> <span class=\"toctext\"><span>XVI</span><sup>e</sup> siècle</span></a></li>\n",
      "<li class=\"toclevel-2 tocsection-4\"><a href=\"#XVIIe_siècle\"><span class=\"tocnumber\">1.3</span> <span class=\"toctext\"><span>XVII</span><sup>e</sup> siècle</span></a></li>\n",
      "<li class=\"toclevel-2 tocsection-5\"><a href=\"#XVIIIe_siècle\"><span class=\"tocnumber\">1.4</span> <span class=\"toctext\"><span>XVIII</span><sup>e</sup> siècle</span></a></li>\n",
      "<li class=\"toclevel-2 tocsection-6\"><a href=\"#XIXe_siècle\"><span class=\"tocnumber\">1.5</span> <span class=\"toctext\"><span>XIX</span><sup>e</sup> siècle</span></a></li>\n",
      "<li class=\"toclevel-2 tocsection-7\"><a href=\"#XXe_siècle\"><span class=\"tocnumber\">1.6</span> <span class=\"toctext\"><span>XX</span><sup>e</sup> siècle</span></a></li>\n",
      "</ul>\n",
      "</li>\n",
      "<li class=\"toclevel-1 tocsection-8\"><a href=\"#Contemporains\"><span class=\"tocnumber\">2</span> <span class=\"toctext\">Contemporains</span></a></li>\n",
      "<li class=\"toclevel-1 tocsection-9\"><a href=\"#Article_connexe\"><span class=\"tocnumber\">3</span> <span class=\"toctext\">Article connexe</span></a></li>\n",
      "</ul>, <ul>\n",
      "<li class=\"toclevel-2 tocsection-2\"><a href=\"#Moyen_Âge\"><span class=\"tocnumber\">1.1</span> <span class=\"toctext\">Moyen Âge</span></a></li>\n",
      "<li class=\"toclevel-2 tocsection-3\"><a href=\"#XVIe_siècle\"><span class=\"tocnumber\">1.2</span> <span class=\"toctext\"><span>XVI</span><sup>e</sup> siècle</span></a></li>\n",
      "<li class=\"toclevel-2 tocsection-4\"><a href=\"#XVIIe_siècle\"><span class=\"tocnumber\">1.3</span> <span class=\"toctext\"><span>XVII</span><sup>e</sup> siècle</span></a></li>\n",
      "<li class=\"toclevel-2 tocsection-5\"><a href=\"#XVIIIe_siècle\"><span class=\"tocnumber\">1.4</span> <span class=\"toctext\"><span>XVIII</span><sup>e</sup> siècle</span></a></li>\n",
      "<li class=\"toclevel-2 tocsection-6\"><a href=\"#XIXe_siècle\"><span class=\"tocnumber\">1.5</span> <span class=\"toctext\"><span>XIX</span><sup>e</sup> siècle</span></a></li>\n",
      "<li class=\"toclevel-2 tocsection-7\"><a href=\"#XXe_siècle\"><span class=\"tocnumber\">1.6</span> <span class=\"toctext\"><span>XX</span><sup>e</sup> siècle</span></a></li>\n",
      "</ul>, <ul><li><a class=\"mw-redirect\" href=\"/wiki/Litt%C3%A9rature_hagiographique\" title=\"Littérature hagiographique\">Littérature hagiographique</a></li>\n",
      "<li><a href=\"/wiki/Chanson_de_geste\" title=\"Chanson de geste\">Chanson de geste</a></li>\n",
      "<li><a href=\"/wiki/Troubadour\" title=\"Troubadour\">Poésie des troubadours</a></li>\n",
      "<li><a href=\"/wiki/Roman_courtois\" title=\"Roman courtois\">Roman courtois</a></li>\n",
      "<li><a href=\"/wiki/Fabliau\" title=\"Fabliau\">Fabliau</a></li>\n",
      "<li><a href=\"/wiki/Grands_rh%C3%A9toriqueurs\" title=\"Grands rhétoriqueurs\">Grands rhétoriqueurs</a></li>\n",
      "<li><a href=\"/wiki/Po%C3%A9sie_courtoise\" title=\"Poésie courtoise\">Poésie courtoise</a></li></ul>, <ul><li><a href=\"/wiki/Humanisme_de_la_Renaissance\" title=\"Humanisme de la Renaissance\">Humanisme de la Renaissance</a></li>\n",
      "<li>La <a href=\"/wiki/Pl%C3%A9iade_(XVIe_si%C3%A8cle)\" title=\"Pléiade (XVIe siècle)\">Pléiade</a></li>\n",
      "<li><a class=\"mw-redirect\" href=\"/wiki/Picaresque\" title=\"Picaresque\">Picaresque</a></li></ul>, <ul><li><a href=\"/wiki/Litt%C3%A9rature_baroque\" title=\"Littérature baroque\">Baroque</a></li>\n",
      "<li><a href=\"/wiki/Burlesque\" title=\"Burlesque\">Burlesque</a></li>\n",
      "<li><a href=\"/wiki/Classicisme\" title=\"Classicisme\">Classicisme</a></li>\n",
      "<li><a href=\"/wiki/Qui%C3%A9tisme\" title=\"Quiétisme\">Quiétisme</a></li>\n",
      "<li><a href=\"/wiki/Pr%C3%A9ciosit%C3%A9\" title=\"Préciosité\">Préciosité</a></li>\n",
      "<li><a class=\"mw-redirect\" href=\"/wiki/Moralisme\" title=\"Moralisme\">Moralisme</a></li></ul>, <ul><li><a href=\"/wiki/Illuminisme\" title=\"Illuminisme\">Illuminisme</a></li>\n",
      "<li><a href=\"/wiki/Roman_gothique\" title=\"Roman gothique\">Roman gothique</a></li>\n",
      "<li><a href=\"/wiki/Pr%C3%A9romantisme\" title=\"Préromantisme\">Préromantisme</a></li>\n",
      "<li><a href=\"/wiki/Libertin\" title=\"Libertin\">Libertins</a></li>\n",
      "<li><a href=\"/wiki/Lumi%C3%A8res_(philosophie)\" title=\"Lumières (philosophie)\">Lumières</a></li></ul>, <ul><li><a href=\"/wiki/Romantisme\" title=\"Romantisme\">Romantisme</a></li>\n",
      "<li><a href=\"/wiki/R%C3%A9alisme_(litt%C3%A9rature)\" title=\"Réalisme (littérature)\">Réalisme</a></li>\n",
      "<li><a href=\"/wiki/Naturalisme_(litt%C3%A9rature)\" title=\"Naturalisme (littérature)\">Naturalisme</a></li>\n",
      "<li><a class=\"mw-redirect\" href=\"/wiki/Parnasse_(litt%C3%A9rature)\" title=\"Parnasse (littérature)\">Parnasse</a></li>\n",
      "<li><a href=\"/wiki/Symbolisme_(art)\" title=\"Symbolisme (art)\">Symbolisme</a></li>\n",
      "<li><a href=\"/wiki/%C3%89cole_romane\" title=\"École romane\">École romane</a></li>\n",
      "<li><a href=\"/wiki/D%C3%A9cadentisme\" title=\"Décadentisme\">Décadentisme</a></li>\n",
      "<li><a href=\"/wiki/Esth%C3%A9tisme\" title=\"Esthétisme\">Esthétisme</a></li></ul>, <ul><li><a href=\"/wiki/Absurde\" title=\"Absurde\">Absurde</a></li>\n",
      "<li><a href=\"/wiki/Surr%C3%A9alisme\" title=\"Surréalisme\">Surréalisme</a></li>\n",
      "<li><a href=\"/wiki/Oulipo\" title=\"Oulipo\">Oulipo</a></li>\n",
      "<li><a href=\"/wiki/Futurisme\" title=\"Futurisme\">Futurisme</a></li>\n",
      "<li><a href=\"/wiki/Courant_de_conscience\" title=\"Courant de conscience\">Courant de conscience</a></li>\n",
      "<li><a class=\"mw-redirect\" href=\"/wiki/Dada%C3%AFsme\" title=\"Dadaïsme\">Dadaïsme</a></li>\n",
      "<li><a href=\"/wiki/Populisme_(litt%C3%A9rature)\" title=\"Populisme (littérature)\">Populisme</a></li>\n",
      "<li><a href=\"/wiki/R%C3%A9alisme_socialiste_en_France\" title=\"Réalisme socialiste en France\">Réalisme socialiste</a></li>\n",
      "<li><a href=\"/wiki/Renaissance_litt%C3%A9raire_catholique_en_France\" title=\"Renaissance littéraire catholique en France\">Renaissance littéraire catholique en France</a></li>\n",
      "<li><a href=\"/wiki/Litt%C3%A9rature_prol%C3%A9tarienne\" title=\"Littérature prolétarienne\">Littérature prolétarienne</a></li>\n",
      "<li><a href=\"/wiki/Roman_jdanovien_fran%C3%A7ais\" title=\"Roman jdanovien français\">Roman jdanovien français</a></li>\n",
      "<li><a href=\"/wiki/Existentialisme\" title=\"Existentialisme\">Existentialisme</a></li>\n",
      "<li><a href=\"/wiki/N%C3%A9or%C3%A9alisme_(art)\" title=\"Néoréalisme (art)\">Néoréalisme</a></li>\n",
      "<li><a href=\"/wiki/Objectivisme_(litt%C3%A9rature)\" title=\"Objectivisme (littérature)\">Objectivisme</a></li>\n",
      "<li><a href=\"/wiki/%C3%89cole_de_Rochefort\" title=\"École de Rochefort\">École de Rochefort</a></li>\n",
      "<li><a href=\"/wiki/Th%C3%A9%C3%A2tre_de_l%27absurde\" title=\"Théâtre de l'absurde\">Théâtre de l'absurde</a></li>\n",
      "<li><a href=\"/wiki/Lettrisme\" title=\"Lettrisme\">Lettrisme</a></li>\n",
      "<li><a class=\"mw-redirect\" href=\"/wiki/Lost_Generation\" title=\"Lost Generation\">Lost Generation</a></li>\n",
      "<li><a href=\"/wiki/Beat_Generation\" title=\"Beat Generation\">Beat Generation</a></li>\n",
      "<li><a class=\"mw-redirect\" href=\"/wiki/Nouveau_roman\" title=\"Nouveau roman\">Nouveau roman</a></li>\n",
      "<li><a href=\"/wiki/Autofiction\" title=\"Autofiction\">Autofiction</a></li>\n",
      "<li><a href=\"/wiki/R%C3%A9alisme_magique\" title=\"Réalisme magique\">Réalisme magique</a></li>\n",
      "<li><a href=\"/wiki/Nouvelle_fiction\" title=\"Nouvelle fiction\">Nouvelle fiction</a></li>\n",
      "<li><a href=\"/wiki/Imagisme\" title=\"Imagisme\">Imagisme</a></li>\n",
      "<li><a href=\"/wiki/R%C3%A9alisme_hyst%C3%A9rique\" title=\"Réalisme hystérique\">Réalisme hystérique</a></li>\n",
      "<li><a href=\"/wiki/Post-humanisme\" title=\"Post-humanisme\">Post-humanisme</a></li>\n",
      "<li><a href=\"/wiki/N%C3%A9gritude\" title=\"Négritude\">Négritude</a></li></ul>, <ul><li><a href=\"/wiki/Sacra%C3%AFsme\" title=\"Sacraïsme\">Sacraïsme</a></li></ul>, <ul><li><a href=\"/wiki/Mouvement_litt%C3%A9raire\" title=\"Mouvement littéraire\">Mouvement littéraire</a></li></ul>, <ul class=\"bandeau-portail\" id=\"bandeau-portail\"><li><span class=\"bandeau-portail-element\"><span class=\"bandeau-portail-icone\"><a href=\"/wiki/Portail:Litt%C3%A9rature\" title=\"Portail de la littérature\"><img alt=\"icône décorative\" class=\"noviewer\" data-file-height=\"25\" data-file-width=\"25\" decoding=\"async\" height=\"24\" src=\"//upload.wikimedia.org/wikipedia/commons/thumb/a/ac/VictorHugosmallColor.png/24px-VictorHugosmallColor.png\" srcset=\"//upload.wikimedia.org/wikipedia/commons/a/ac/VictorHugosmallColor.png 1.5x\" width=\"24\"/></a></span> <span class=\"bandeau-portail-texte\"><a href=\"/wiki/Portail:Litt%C3%A9rature\" title=\"Portail:Littérature\">Portail de la littérature</a></span> </span></li> <li><span class=\"bandeau-portail-element\"><span class=\"bandeau-portail-icone\"><a href=\"/wiki/Portail:Po%C3%A9sie\" title=\"Portail de la poésie\"><img alt=\"icône décorative\" class=\"noviewer\" data-file-height=\"360\" data-file-width=\"400\" decoding=\"async\" height=\"24\" src=\"//upload.wikimedia.org/wikipedia/commons/thumb/6/6b/P_author.svg/27px-P_author.svg.png\" srcset=\"//upload.wikimedia.org/wikipedia/commons/thumb/6/6b/P_author.svg/40px-P_author.svg.png 1.5x, //upload.wikimedia.org/wikipedia/commons/thumb/6/6b/P_author.svg/53px-P_author.svg.png 2x\" width=\"27\"/></a></span> <span class=\"bandeau-portail-texte\"><a href=\"/wiki/Portail:Po%C3%A9sie\" title=\"Portail:Poésie\">Portail de la poésie</a></span> </span></li> <li><span class=\"bandeau-portail-element\"><span class=\"bandeau-portail-icone\"><a href=\"/wiki/Portail:Th%C3%A9%C3%A2tre\" title=\"Portail du théâtre\"><img alt=\"icône décorative\" class=\"noviewer\" data-file-height=\"128\" data-file-width=\"128\" decoding=\"async\" height=\"24\" src=\"//upload.wikimedia.org/wikipedia/commons/thumb/2/21/Emoji_u1f3ad.svg/24px-Emoji_u1f3ad.svg.png\" srcset=\"//upload.wikimedia.org/wikipedia/commons/thumb/2/21/Emoji_u1f3ad.svg/36px-Emoji_u1f3ad.svg.png 1.5x, //upload.wikimedia.org/wikipedia/commons/thumb/2/21/Emoji_u1f3ad.svg/48px-Emoji_u1f3ad.svg.png 2x\" width=\"24\"/></a></span> <span class=\"bandeau-portail-texte\"><a href=\"/wiki/Portail:Th%C3%A9%C3%A2tre\" title=\"Portail:Théâtre\">Portail du théâtre</a></span> </span></li> </ul>, <ul><li><a href=\"/wiki/Cat%C3%A9gorie:Mouvement_litt%C3%A9raire\" title=\"Catégorie:Mouvement littéraire\">Mouvement littéraire</a></li><li><a href=\"/wiki/Cat%C3%A9gorie:Liste_en_rapport_avec_la_litt%C3%A9rature\" title=\"Catégorie:Liste en rapport avec la littérature\">Liste en rapport avec la littérature</a></li></ul>, <ul><li><a href=\"/wiki/Cat%C3%A9gorie:Wikip%C3%A9dia:%C3%A9bauche_litt%C3%A9rature\" title=\"Catégorie:Wikipédia:ébauche littérature\">Wikipédia:ébauche littérature</a></li><li><a href=\"/wiki/Cat%C3%A9gorie:Wikip%C3%A9dia:%C3%A9bauche_po%C3%A9sie\" title=\"Catégorie:Wikipédia:ébauche poésie\">Wikipédia:ébauche poésie</a></li><li><a href=\"/wiki/Cat%C3%A9gorie:Wikip%C3%A9dia:%C3%A9bauche_th%C3%A9%C3%A2tre\" title=\"Catégorie:Wikipédia:ébauche théâtre\">Wikipédia:ébauche théâtre</a></li><li><a href=\"/wiki/Cat%C3%A9gorie:Portail:Litt%C3%A9rature/Articles_li%C3%A9s\" title=\"Catégorie:Portail:Littérature/Articles liés\">Portail:Littérature/Articles liés</a></li><li><a href=\"/wiki/Cat%C3%A9gorie:Portail:Po%C3%A9sie/Articles_li%C3%A9s\" title=\"Catégorie:Portail:Poésie/Articles liés\">Portail:Poésie/Articles liés</a></li><li><a href=\"/wiki/Cat%C3%A9gorie:Portail:Th%C3%A9%C3%A2tre/Articles_li%C3%A9s\" title=\"Catégorie:Portail:Théâtre/Articles liés\">Portail:Théâtre/Articles liés</a></li></ul>, <ul id=\"footer-info\">\n",
      "<li id=\"footer-info-lastmod\"> La dernière modification de cette page a été faite le 16 novembre 2021 à 06:55.</li>\n",
      "<li id=\"footer-info-copyright\"><span style=\"white-space: normal\"><a class=\"internal\" href=\"/wiki/Wikip%C3%A9dia:Citation_et_r%C3%A9utilisation_du_contenu_de_Wikip%C3%A9dia\" title=\"Droit d'auteur\">Droit d'auteur</a> : les textes sont disponibles sous <a href=\"https://creativecommons.org/licenses/by-sa/3.0/deed.fr\" rel=\"license\" title=\"Licence Creative Commons Attribution - partage dans les mêmes conditions 3.0 non transposé\">licence Creative Commons attribution, partage dans les mêmes conditions</a> ; d’autres conditions peuvent s’appliquer. Voyez les <a href=\"https://wikimediafoundation.org/wiki/Conditions_d%27utilisation\" title=\"Conditions d’utilisation de la Wikimedia Foundation\">conditions d’utilisation</a> pour plus de détails, ainsi que les <a class=\"internal\" href=\"/wiki/Wikip%C3%A9dia:Cr%C3%A9dits_graphiques\" title=\"Droit d'auteur de certaines icônes\">crédits graphiques</a>. En cas de réutilisation des textes de cette page, voyez <a class=\"internal\" href=\"/wiki/Sp%C3%A9cial:Citer/Liste_des_mouvements_litt%C3%A9raires\" title=\"Citer ou réutiliser cette page\">comment citer les auteurs et mentionner la licence</a>.<br/>\n",
      "Wikipedia® est une marque déposée de la <a href=\"https://wikimediafoundation.org/\" title=\"Wikimedia Foundation\">Wikimedia Foundation, Inc.</a>, organisation de bienfaisance régie par le paragraphe <a class=\"internal\" href=\"/wiki/501c\" title=\"501c\">501(c)(3)</a> du code fiscal des États-Unis.</span><br/></li>\n",
      "</ul>, <ul id=\"footer-places\">\n",
      "<li id=\"footer-places-privacy\"><a class=\"extiw\" href=\"https://meta.wikimedia.org/wiki/Privacy_policy/fr\" title=\"m:Privacy policy/fr\">Politique de confidentialité</a></li>\n",
      "<li id=\"footer-places-about\"><a href=\"/wiki/Wikip%C3%A9dia:%C3%80_propos_de_Wikip%C3%A9dia\" title=\"Wikipédia:À propos de Wikipédia\">À propos de Wikipédia</a></li>\n",
      "<li id=\"footer-places-disclaimer\"><a href=\"/wiki/Wikip%C3%A9dia:Avertissements_g%C3%A9n%C3%A9raux\" title=\"Wikipédia:Avertissements généraux\">Avertissements</a></li>\n",
      "<li id=\"footer-places-contact\"><a href=\"//fr.wikipedia.org/wiki/Wikipédia:Contact\">Contact</a></li>\n",
      "<li id=\"footer-places-mobileview\"><a class=\"noprint stopMobileRedirectToggle\" href=\"//fr.m.wikipedia.org/w/index.php?title=Liste_des_mouvements_litt%C3%A9raires&amp;mobileaction=toggle_view_mobile\">Version mobile</a></li>\n",
      "<li id=\"footer-places-developers\"><a href=\"https://www.mediawiki.org/wiki/Special:MyLanguage/How_to_contribute\">Développeurs</a></li>\n",
      "<li id=\"footer-places-statslink\"><a href=\"https://stats.wikimedia.org/#/fr.wikipedia.org\">Statistiques</a></li>\n",
      "<li id=\"footer-places-cookiestatement\"><a href=\"https://foundation.wikimedia.org/wiki/Cookie_statement\">Déclaration sur les témoins (cookies)</a></li>\n",
      "</ul>, <ul class=\"noprint\" id=\"footer-icons\">\n",
      "<li id=\"footer-copyrightico\"><a href=\"https://wikimediafoundation.org/\"><img alt=\"Wikimedia Foundation\" height=\"31\" loading=\"lazy\" src=\"/static/images/footer/wikimedia-button.png\" srcset=\"/static/images/footer/wikimedia-button-1.5x.png 1.5x, /static/images/footer/wikimedia-button-2x.png 2x\" width=\"88\"/></a></li>\n",
      "<li id=\"footer-poweredbyico\"><a href=\"https://www.mediawiki.org/\"><img alt=\"Powered by MediaWiki\" height=\"31\" loading=\"lazy\" src=\"/static/images/footer/poweredby_mediawiki_88x31.png\" srcset=\"/static/images/footer/poweredby_mediawiki_132x47.png 1.5x, /static/images/footer/poweredby_mediawiki_176x62.png 2x\" width=\"88\"/></a></li>\n",
      "</ul>]\n"
     ]
    }
   ],
   "source": [
    "# === On get la page d'intérêt ===\n",
    "\n",
    "print(page.findAll(\"ul\"))"
   ]
  },
  {
   "cell_type": "markdown",
   "metadata": {},
   "source": [
    "## Partie test"
   ]
  },
  {
   "cell_type": "code",
   "execution_count": 4,
   "metadata": {},
   "outputs": [
    {
     "name": "stdout",
     "output_type": "stream",
     "text": [
      "[<li><a href=\"/wiki/Humanisme_de_la_Renaissance\" title=\"Humanisme de la Renaissance\">Humanisme de la Renaissance</a></li>, <li>La <a href=\"/wiki/Pl%C3%A9iade_(XVIe_si%C3%A8cle)\" title=\"Pléiade (XVIe siècle)\">Pléiade</a></li>, <li><a class=\"mw-redirect\" href=\"/wiki/Picaresque\" title=\"Picaresque\">Picaresque</a></li>]\n"
     ]
    }
   ],
   "source": [
    "test=page.findAll(\"ul\")\n",
    "L=[]\n",
    "for res in test :\n",
    "  test2 = res.findAll(\"li\")\n",
    "  L.append(test2)\n",
    "#print(L[1])\n",
    "print(L[15])"
   ]
  },
  {
   "cell_type": "code",
   "execution_count": 5,
   "metadata": {},
   "outputs": [
    {
     "name": "stdout",
     "output_type": "stream",
     "text": [
      "<class 'bs4.element.Tag'> Humanisme de la Renaissance\n",
      "<class 'bs4.element.Tag'> Pléiade (XVIe siècle)\n",
      "<class 'bs4.element.Tag'> Picaresque\n"
     ]
    }
   ],
   "source": [
    "for res in L[15]:\n",
    "  try :\n",
    "    res2=res.find(\"a\")\n",
    "    print(type(res), res2.get(\"title\"))    #https://stackoverflow.com/questions/57395509/get-item-from-bs4-element-tag\n",
    "  except :\n",
    "    pass"
   ]
  },
  {
   "cell_type": "code",
   "execution_count": null,
   "metadata": {},
   "outputs": [],
   "source": [
    "print(page.findAll(\"ul\"))"
   ]
  },
  {
   "cell_type": "markdown",
   "metadata": {},
   "source": [
    "## Scrap"
   ]
  },
  {
   "cell_type": "code",
   "execution_count": null,
   "metadata": {},
   "outputs": [],
   "source": [
    "# Forme de ce qui est à scraper :\n",
    "#<ul> <li><a (...) title=\"xxx\"> [possible d'avoir plusieurs li] <li><a (...) title=\"xxx\"> </ul>\n",
    "\n",
    "base=page.findAll(\"ul\")         \n",
    "L=[]\n",
    "for ul in base :\n",
    "  L.append(ul.findAll(\"li\"))\n",
    "print(L)"
   ]
  },
  {
   "cell_type": "code",
   "execution_count": 7,
   "metadata": {},
   "outputs": [
    {
     "name": "stdout",
     "output_type": "stream",
     "text": [
      "2 4\n"
     ]
    }
   ],
   "source": [
    "print(len(L[1]), len(L[2]))"
   ]
  },
  {
   "cell_type": "code",
   "execution_count": 8,
   "metadata": {},
   "outputs": [
    {
     "name": "stdout",
     "output_type": "stream",
     "text": [
      "129 ['Nous vous encourageons à créer un compte utilisateur et vous connecter\\u202f; ce n’est cependant pas obligatoire.', 'La page de discussion pour les contributions depuis cette adresse IP [n]', 'Une liste des modifications effectuées depuis cette adresse IP [y]', 'Accueil général [z]', None, 'Affiche un article au hasard [x]', None, None, 'Accès à l’aide', 'À propos du projet, ce que vous pouvez faire, où trouver les informations', 'Liste des modifications récentes sur le wiki [r]', 'Soutenez-nous', 'Liste des pages liées qui pointent sur celle-ci [j]', 'Liste des modifications récentes des pages appelées par celle-ci [k]', 'Importer des fichiers [u]', 'Liste de toutes les pages spéciales [q]', 'Adresse permanente de cette version de la page', 'Plus d’informations sur cette page', 'Informations sur la manière de citer cette page', 'Lien vers l’élément dans le dépôt de données connecté [g]', None, None, 'Version imprimable de cette page [p]', None, 'Voir le contenu de la page [c]', 'Discussion au sujet de cette page de contenu [t]', None, 'Modifier cette page [v]', 'Vous pouvez modifier cette page ! [e]', 'Historique des versions de cette page [h]', 'List of literary movements\\u202f—\\u202fanglais', 'ਸਾਹਿਤਕ ਲਹਿਰਾਂ ਦੀ ਸੂਚੀ\\u202f—\\u202fpendjabi', 'Curente literare\\u202f—\\u202froumain', '文學流派列表\\u202f—\\u202fchinois', None, None, None, None, None, None, None, None, None, None, None, None, None, None, None, 'Littérature hagiographique', 'Chanson de geste', 'Troubadour', 'Roman courtois', 'Fabliau', 'Grands rhétoriqueurs', 'Poésie courtoise', 'Humanisme de la Renaissance', 'Pléiade (XVIe siècle)', 'Picaresque', 'Littérature baroque', 'Burlesque', 'Classicisme', 'Quiétisme', 'Préciosité', 'Moralisme', 'Illuminisme', 'Roman gothique', 'Préromantisme', 'Libertin', 'Lumières (philosophie)', 'Romantisme', 'Réalisme (littérature)', 'Naturalisme (littérature)', 'Parnasse (littérature)', 'Symbolisme (art)', 'École romane', 'Décadentisme', 'Esthétisme', 'Absurde', 'Surréalisme', 'Oulipo', 'Futurisme', 'Courant de conscience', 'Dadaïsme', 'Populisme (littérature)', 'Réalisme socialiste en France', 'Renaissance littéraire catholique en France', 'Littérature prolétarienne', 'Roman jdanovien français', 'Existentialisme', 'Néoréalisme (art)', 'Objectivisme (littérature)', 'École de Rochefort', \"Théâtre de l'absurde\", 'Lettrisme', 'Lost Generation', 'Beat Generation', 'Nouveau roman', 'Autofiction', 'Réalisme magique', 'Nouvelle fiction', 'Imagisme', 'Réalisme hystérique', 'Post-humanisme', 'Négritude', 'Sacraïsme', 'Mouvement littéraire', 'Portail de la littérature', 'Portail de la poésie', 'Portail du théâtre', 'Catégorie:Mouvement littéraire', 'Catégorie:Liste en rapport avec la littérature', 'Catégorie:Wikipédia:ébauche littérature', 'Catégorie:Wikipédia:ébauche poésie', 'Catégorie:Wikipédia:ébauche théâtre', 'Catégorie:Portail:Littérature/Articles liés', 'Catégorie:Portail:Poésie/Articles liés', 'Catégorie:Portail:Théâtre/Articles liés', \"Droit d'auteur\", 'm:Privacy policy/fr', 'Wikipédia:À propos de Wikipédia', 'Wikipédia:Avertissements généraux', None, None, None, None, None, None, None]\n"
     ]
    }
   ],
   "source": [
    "resultat=[]\n",
    "for i in range(len(L)) :      #On peut pas faire direct for li in L à cause du type\n",
    "  for li in L[i]:\n",
    "    try :\n",
    "      inter=li.find(\"a\")\n",
    "      resultat.append(inter.get(\"title\"))\n",
    "      #print(type(inter))\n",
    "    except:                   #On peut avoir type None pour inter \n",
    "      pass\n",
    "print(len(resultat),resultat)"
   ]
  },
  {
   "cell_type": "markdown",
   "metadata": {},
   "source": [
    "### Nettoyage "
   ]
  },
  {
   "cell_type": "code",
   "execution_count": null,
   "metadata": {},
   "outputs": [],
   "source": [
    "res=list(filter(None,resultat))\n",
    "for j in res :\n",
    "  print(j)\n",
    "print(len(res))"
   ]
  },
  {
   "cell_type": "markdown",
   "metadata": {},
   "source": [
    "Pour l'instant la suite ne marche pas trop"
   ]
  },
  {
   "cell_type": "code",
   "execution_count": null,
   "metadata": {},
   "outputs": [],
   "source": [
    "out=[\":\",\"[\",\"]\"]\n",
    "\n",
    "for j in res :\n",
    "    if \":\" in j :\n",
    "      print(j)\n",
    "      res.remove(j)\n",
    "print(len(res))"
   ]
  },
  {
   "cell_type": "code",
   "execution_count": null,
   "metadata": {},
   "outputs": [],
   "source": [
    "print(res)"
   ]
  }
 ],
 "metadata": {
  "interpreter": {
   "hash": "06f709ef0d65556a4c268680c897d4e523db2699171fb7cef1ccdebc4f15d32f"
  },
  "kernelspec": {
   "display_name": "Python 3.9.5 64-bit",
   "language": "python",
   "name": "python3"
  },
  "language_info": {
   "codemirror_mode": {
    "name": "ipython",
    "version": 3
   },
   "file_extension": ".py",
   "mimetype": "text/x-python",
   "name": "python",
   "nbconvert_exporter": "python",
   "pygments_lexer": "ipython3",
   "version": "3.9.5"
  },
  "orig_nbformat": 4
 },
 "nbformat": 4,
 "nbformat_minor": 2
}
