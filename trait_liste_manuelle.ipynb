{
 "cells": [
  {
   "cell_type": "markdown",
   "metadata": {},
   "source": [
    "### Dépendances"
   ]
  },
  {
   "cell_type": "code",
   "execution_count": 2,
   "metadata": {},
   "outputs": [],
   "source": [
    "import pandas as pd\n",
    "import wikipedia\n",
    "from wikipedia import WikipediaPage\n",
    "wikipedia.set_lang(\"fr\")"
   ]
  },
  {
   "cell_type": "markdown",
   "metadata": {},
   "source": [
    "### Traitement "
   ]
  },
  {
   "cell_type": "markdown",
   "metadata": {},
   "source": [
    "Nous n'avions pu récupérer initialement que peu d'auteurs par scraping (peu de pages permettant de récupérer des listes d'auteurs). Nous avons donc été chercher, sur chaque page de mouvements littéraires scrapés, des auteurs qui y appartiennent, par lecture. Ceci nous permet de passer à 622 auteurs et nous amène cependant à abandonner certains mouvements littéraires pour lesquels il était difficile d'établir une liste d'auteurs à partir de leur page wikipédia."
   ]
  },
  {
   "cell_type": "code",
   "execution_count": 3,
   "metadata": {},
   "outputs": [
    {
     "data": {
      "text/html": [
       "<div>\n",
       "<style scoped>\n",
       "    .dataframe tbody tr th:only-of-type {\n",
       "        vertical-align: middle;\n",
       "    }\n",
       "\n",
       "    .dataframe tbody tr th {\n",
       "        vertical-align: top;\n",
       "    }\n",
       "\n",
       "    .dataframe thead th {\n",
       "        text-align: right;\n",
       "    }\n",
       "</style>\n",
       "<table border=\"1\" class=\"dataframe\">\n",
       "  <thead>\n",
       "    <tr style=\"text-align: right;\">\n",
       "      <th></th>\n",
       "      <th>mouvement</th>\n",
       "      <th>auteurs</th>\n",
       "    </tr>\n",
       "  </thead>\n",
       "  <tbody>\n",
       "    <tr>\n",
       "      <th>0</th>\n",
       "      <td>hagiographie</td>\n",
       "      <td>['https://fr.wikipedia.org/wiki/Jean_Moschus',...</td>\n",
       "    </tr>\n",
       "    <tr>\n",
       "      <th>1</th>\n",
       "      <td>troubadour</td>\n",
       "      <td>['https://fr.wikipedia.org/wiki/Arnaut-Guilhem...</td>\n",
       "    </tr>\n",
       "    <tr>\n",
       "      <th>2</th>\n",
       "      <td>fabliau</td>\n",
       "      <td>['https://fr.wikipedia.org/wiki/Jean_Bodel', '...</td>\n",
       "    </tr>\n",
       "    <tr>\n",
       "      <th>3</th>\n",
       "      <td>roman courtois</td>\n",
       "      <td>['https://fr.wikipedia.org/wiki/Chr%C3%A9tien_...</td>\n",
       "    </tr>\n",
       "    <tr>\n",
       "      <th>4</th>\n",
       "      <td>rhetoriqueurs</td>\n",
       "      <td>['/wiki/Guillaume_de_Machaut', '/wiki/Famille_...</td>\n",
       "    </tr>\n",
       "  </tbody>\n",
       "</table>\n",
       "</div>"
      ],
      "text/plain": [
       "        mouvement                                            auteurs\n",
       "0    hagiographie  ['https://fr.wikipedia.org/wiki/Jean_Moschus',...\n",
       "1      troubadour  ['https://fr.wikipedia.org/wiki/Arnaut-Guilhem...\n",
       "2         fabliau  ['https://fr.wikipedia.org/wiki/Jean_Bodel', '...\n",
       "3  roman courtois  ['https://fr.wikipedia.org/wiki/Chr%C3%A9tien_...\n",
       "4   rhetoriqueurs  ['/wiki/Guillaume_de_Machaut', '/wiki/Famille_..."
      ]
     },
     "execution_count": 3,
     "metadata": {},
     "output_type": "execute_result"
    }
   ],
   "source": [
    "df=pd.read_csv('ress/liste_auteurs_manuelle.csv',index_col=[0]) #index_col pour éviter la colonne 'Unnamed: 0' de pandas\n",
    "df.head()"
   ]
  },
  {
   "cell_type": "code",
   "execution_count": 4,
   "metadata": {},
   "outputs": [],
   "source": [
    "# Caractères spéciaux\n",
    "rep=[['À','%C3%80'],\t\n",
    "['Á','%C3%81'],\n",
    "['Â','%C3%82'],\n",
    "['Ã','%C3%83'],\n",
    "['Ä','%C3%84'],\n",
    "['Å','%C3%85'],\n",
    "['Æ','%C3%86'],\n",
    "['Ç','%C3%87'],\n",
    "['È','%C3%88'],\n",
    "['É','%C3%89'],\n",
    "['Ê','%C3%8A'],\n",
    "['Ë','%C3%8B'],\n",
    "['Ì','%C3%8C'],\n",
    "['Í','%C3%8D'],\n",
    "['Ï','%C3%8F'],\n",
    "['Ñ','%C3%91'],\n",
    "['Ò','%C3%92'],\n",
    "['Ó','%C3%93'],\n",
    "['Ô','%C3%94'],\n",
    "['Õ','%C3%95'],\n",
    "['Ö','%C3%96'],\n",
    "['Ù','%C3%99'],\n",
    "['Ú','%C3%9A'],\n",
    "['Û','%C3%9B'],\n",
    "['Ü','%C3%9C'],\n",
    "['Ý','%C3%9D'],\n",
    "['à','%C3%A0'],\n",
    "['á','%C3%A1'],\n",
    "['â','%C3%A2'],\n",
    "['ã','%C3%A3'],\n",
    "['ä','%C3%A4'],\n",
    "['å','%C3%A5'],\n",
    "['æ','%C3%A6'],\n",
    "['ç','%C3%A7'],\n",
    "['è','%C3%A8'],\n",
    "['é','%C3%A9'],\n",
    "['ê','%C3%AA'],\n",
    "['ë','%C3%AB'],\n",
    "['ì','%C3%AC'],\n",
    "['í','%C3%AD'],\n",
    "['î','%C3%AE'],\n",
    "['ï','%C3%AF'],\n",
    "['ñ','%C3%B1'],\n",
    "['ò','%C3%B2'],\n",
    "['ó','%C3%B3'],\n",
    "['ô','%C3%B4'],\n",
    "['õ','%C3%B5'],\n",
    "['ö','%C3%B6'],\t\n",
    "['ù','C3%B9'],\n",
    "['ú','%C3%BA'],\t\n",
    "['û','%C3%BB'],\n",
    "['ü','%C3%BC'],\n",
    "['ý','%C3%BD'],\n",
    "['ÿ','%C3%BF']]"
   ]
  },
  {
   "cell_type": "markdown",
   "metadata": {},
   "source": [
    "On applique <code>clean2</code> qui remet les guillemets après le traitement de <code>get_aut</code> afin d'éviter de confondre les différents types de guillemets :<br>\n",
    "- chaque élément de la colonne \"auteurs\" est un string donc on enlève les guillemets et [, ou ].\n",
    "- aut_list est bien une liste de strings; on remplace le codage en pourcentage par son équivalent <'>."
   ]
  },
  {
   "cell_type": "code",
   "execution_count": 5,
   "metadata": {},
   "outputs": [],
   "source": [
    "def aut_clean(text):\n",
    "    for car in rep:\n",
    "        text=text.replace(car[1],car[0])\n",
    "    return text\n",
    "    \n",
    "def get_aut(L):\n",
    "    Lclean=[]\n",
    "    for item in L.split(','):\n",
    "        item=aut_clean(item)\n",
    "        item=item.replace('[','')\n",
    "        item=item.replace(']','')\n",
    "        item=item.replace(\"'\",'')\n",
    "        item=item.replace(' ','')\n",
    "        if 'wikipedia' in item:\n",
    "            item=item.replace('https://fr.wikipedia.org/wiki/','')\n",
    "            Lclean.append(item)\n",
    "        else:\n",
    "            item=item.replace('/wiki/','')\n",
    "            Lclean.append(item)\n",
    "    return Lclean\n",
    "\n",
    "df['aut_list']=df['auteurs'].apply(lambda x : get_aut(x))"
   ]
  },
  {
   "cell_type": "code",
   "execution_count": 6,
   "metadata": {},
   "outputs": [
    {
     "data": {
      "text/html": [
       "<div>\n",
       "<style scoped>\n",
       "    .dataframe tbody tr th:only-of-type {\n",
       "        vertical-align: middle;\n",
       "    }\n",
       "\n",
       "    .dataframe tbody tr th {\n",
       "        vertical-align: top;\n",
       "    }\n",
       "\n",
       "    .dataframe thead th {\n",
       "        text-align: right;\n",
       "    }\n",
       "</style>\n",
       "<table border=\"1\" class=\"dataframe\">\n",
       "  <thead>\n",
       "    <tr style=\"text-align: right;\">\n",
       "      <th></th>\n",
       "      <th>mouvement</th>\n",
       "      <th>auteurs</th>\n",
       "      <th>aut_list</th>\n",
       "    </tr>\n",
       "  </thead>\n",
       "  <tbody>\n",
       "    <tr>\n",
       "      <th>0</th>\n",
       "      <td>hagiographie</td>\n",
       "      <td>['https://fr.wikipedia.org/wiki/Jean_Moschus',...</td>\n",
       "      <td>[Jean_Moschus, Jacques_de_Voragine, Paul_Guéri...</td>\n",
       "    </tr>\n",
       "    <tr>\n",
       "      <th>1</th>\n",
       "      <td>troubadour</td>\n",
       "      <td>['https://fr.wikipedia.org/wiki/Arnaut-Guilhem...</td>\n",
       "      <td>[Arnaut-Guilhem_de_Marsan, Raimon_d'Alayrac, N...</td>\n",
       "    </tr>\n",
       "    <tr>\n",
       "      <th>2</th>\n",
       "      <td>fabliau</td>\n",
       "      <td>['https://fr.wikipedia.org/wiki/Jean_Bodel', '...</td>\n",
       "      <td>[Jean_Bodel, Hugues_III_d'Oisy, Gautier_de_Coi...</td>\n",
       "    </tr>\n",
       "    <tr>\n",
       "      <th>3</th>\n",
       "      <td>roman courtois</td>\n",
       "      <td>['https://fr.wikipedia.org/wiki/Chr%C3%A9tien_...</td>\n",
       "      <td>[Chrétien_de_Troyes]</td>\n",
       "    </tr>\n",
       "    <tr>\n",
       "      <th>4</th>\n",
       "      <td>rhetoriqueurs</td>\n",
       "      <td>['/wiki/Guillaume_de_Machaut', '/wiki/Famille_...</td>\n",
       "      <td>[Guillaume_de_Machaut, Famille_Robertet#Jean_(...</td>\n",
       "    </tr>\n",
       "  </tbody>\n",
       "</table>\n",
       "</div>"
      ],
      "text/plain": [
       "        mouvement                                            auteurs  \\\n",
       "0    hagiographie  ['https://fr.wikipedia.org/wiki/Jean_Moschus',...   \n",
       "1      troubadour  ['https://fr.wikipedia.org/wiki/Arnaut-Guilhem...   \n",
       "2         fabliau  ['https://fr.wikipedia.org/wiki/Jean_Bodel', '...   \n",
       "3  roman courtois  ['https://fr.wikipedia.org/wiki/Chr%C3%A9tien_...   \n",
       "4   rhetoriqueurs  ['/wiki/Guillaume_de_Machaut', '/wiki/Famille_...   \n",
       "\n",
       "                                            aut_list  \n",
       "0  [Jean_Moschus, Jacques_de_Voragine, Paul_Guéri...  \n",
       "1  [Arnaut-Guilhem_de_Marsan, Raimon_d'Alayrac, N...  \n",
       "2  [Jean_Bodel, Hugues_III_d'Oisy, Gautier_de_Coi...  \n",
       "3                               [Chrétien_de_Troyes]  \n",
       "4  [Guillaume_de_Machaut, Famille_Robertet#Jean_(...  "
      ]
     },
     "execution_count": 6,
     "metadata": {},
     "output_type": "execute_result"
    }
   ],
   "source": [
    "def clean2(L):\n",
    "    Lv=[]\n",
    "    for text in L:\n",
    "        text=text.replace('%27',\"'\")\n",
    "        Lv.append(text)\n",
    "    return Lv\n",
    "\n",
    "df['aut_list']=df['aut_list'].apply(lambda x : clean2(x))\n",
    "df.head()"
   ]
  },
  {
   "cell_type": "markdown",
   "metadata": {},
   "source": [
    "### Création du dataframe "
   ]
  },
  {
   "cell_type": "code",
   "execution_count": 7,
   "metadata": {},
   "outputs": [
    {
     "name": "stdout",
     "output_type": "stream",
     "text": [
      "                          Nom     Mouvement\n",
      "0                Jean_Moschus  hagiographie\n",
      "1         Jacques_de_Voragine  hagiographie\n",
      "2     Paul_Guérin_(religieux)  hagiographie\n",
      "3    Société_des_Bollandistes  hagiographie\n",
      "4    Arnaut-Guilhem_de_Marsan    troubadour\n",
      "..                        ...           ...\n",
      "357     Jacques_Rabemananjara     Négritude\n",
      "358        Léon-Gontran_Damas     Négritude\n",
      "359              Guy_Tirolien     Négritude\n",
      "360               Birago_Diop     Négritude\n",
      "361             René_Depestre     Négritude\n",
      "\n",
      "[362 rows x 2 columns]\n"
     ]
    }
   ],
   "source": [
    "mvmdata,autdata=[],[]\n",
    "\n",
    "for mvm in df['mouvement']:\n",
    "    num_ligne=df[df['mouvement']==mvm].index[0]\n",
    "\n",
    "    #liste des mouvements\n",
    "    for i in range(len(df['aut_list'][num_ligne])):\n",
    "        mvmdata.append(mvm)\n",
    "    \n",
    "    #liste des auteurs\n",
    "    for aut in df['aut_list'][num_ligne]:\n",
    "        autdata.append(aut)    \n",
    "\n",
    "dat={'Nom':autdata,'Mouvement':mvmdata}\n",
    "tab=pd.DataFrame(dat)\n",
    "print(tab)"
   ]
  },
  {
   "cell_type": "markdown",
   "metadata": {},
   "source": [
    "Il y a un élément problématique : '/w/index.php?title=Félix-Quentin_Caffiau&action=edit&redlink=1'(trouvé à l'aide de deux fonctions définies plus bas).<br>\n",
    "On le supprime."
   ]
  },
  {
   "cell_type": "code",
   "execution_count": 8,
   "metadata": {},
   "outputs": [
    {
     "data": {
      "text/html": [
       "<div>\n",
       "<style scoped>\n",
       "    .dataframe tbody tr th:only-of-type {\n",
       "        vertical-align: middle;\n",
       "    }\n",
       "\n",
       "    .dataframe tbody tr th {\n",
       "        vertical-align: top;\n",
       "    }\n",
       "\n",
       "    .dataframe thead th {\n",
       "        text-align: right;\n",
       "    }\n",
       "</style>\n",
       "<table border=\"1\" class=\"dataframe\">\n",
       "  <thead>\n",
       "    <tr style=\"text-align: right;\">\n",
       "      <th></th>\n",
       "      <th>Nom</th>\n",
       "      <th>Mouvement</th>\n",
       "    </tr>\n",
       "  </thead>\n",
       "  <tbody>\n",
       "    <tr>\n",
       "      <th>0</th>\n",
       "      <td>Jean_Moschus</td>\n",
       "      <td>hagiographie</td>\n",
       "    </tr>\n",
       "    <tr>\n",
       "      <th>1</th>\n",
       "      <td>Jacques_de_Voragine</td>\n",
       "      <td>hagiographie</td>\n",
       "    </tr>\n",
       "    <tr>\n",
       "      <th>2</th>\n",
       "      <td>Paul_Guérin_(religieux)</td>\n",
       "      <td>hagiographie</td>\n",
       "    </tr>\n",
       "    <tr>\n",
       "      <th>3</th>\n",
       "      <td>Société_des_Bollandistes</td>\n",
       "      <td>hagiographie</td>\n",
       "    </tr>\n",
       "    <tr>\n",
       "      <th>4</th>\n",
       "      <td>Arnaut-Guilhem_de_Marsan</td>\n",
       "      <td>troubadour</td>\n",
       "    </tr>\n",
       "    <tr>\n",
       "      <th>...</th>\n",
       "      <td>...</td>\n",
       "      <td>...</td>\n",
       "    </tr>\n",
       "    <tr>\n",
       "      <th>357</th>\n",
       "      <td>Jacques_Rabemananjara</td>\n",
       "      <td>Négritude</td>\n",
       "    </tr>\n",
       "    <tr>\n",
       "      <th>358</th>\n",
       "      <td>Léon-Gontran_Damas</td>\n",
       "      <td>Négritude</td>\n",
       "    </tr>\n",
       "    <tr>\n",
       "      <th>359</th>\n",
       "      <td>Guy_Tirolien</td>\n",
       "      <td>Négritude</td>\n",
       "    </tr>\n",
       "    <tr>\n",
       "      <th>360</th>\n",
       "      <td>Birago_Diop</td>\n",
       "      <td>Négritude</td>\n",
       "    </tr>\n",
       "    <tr>\n",
       "      <th>361</th>\n",
       "      <td>René_Depestre</td>\n",
       "      <td>Négritude</td>\n",
       "    </tr>\n",
       "  </tbody>\n",
       "</table>\n",
       "<p>361 rows × 2 columns</p>\n",
       "</div>"
      ],
      "text/plain": [
       "                          Nom     Mouvement\n",
       "0                Jean_Moschus  hagiographie\n",
       "1         Jacques_de_Voragine  hagiographie\n",
       "2     Paul_Guérin_(religieux)  hagiographie\n",
       "3    Société_des_Bollandistes  hagiographie\n",
       "4    Arnaut-Guilhem_de_Marsan    troubadour\n",
       "..                        ...           ...\n",
       "357     Jacques_Rabemananjara     Négritude\n",
       "358        Léon-Gontran_Damas     Négritude\n",
       "359              Guy_Tirolien     Négritude\n",
       "360               Birago_Diop     Négritude\n",
       "361             René_Depestre     Négritude\n",
       "\n",
       "[361 rows x 2 columns]"
      ]
     },
     "execution_count": 8,
     "metadata": {},
     "output_type": "execute_result"
    }
   ],
   "source": [
    "index_el=tab[tab['Nom']=='/w/index.php?title=Félix-Quentin_Caffiau&action=edit&redlink=1'].index[0]\n",
    "tab.drop(index_el,axis=0,inplace=True)\n",
    "tab"
   ]
  },
  {
   "cell_type": "code",
   "execution_count": 9,
   "metadata": {},
   "outputs": [],
   "source": [
    "# tab.to_csv('auteurs_man.csv')"
   ]
  },
  {
   "cell_type": "markdown",
   "metadata": {},
   "source": [
    "#### Partie test pour trouver l'élément problématique"
   ]
  },
  {
   "cell_type": "code",
   "execution_count": 10,
   "metadata": {},
   "outputs": [],
   "source": [
    "# Tester si la liste des auteurs fonctionne bien ; si on enlève la condition sur aut alors on a une erreur. \n",
    "# On utilise la fonction <sum> pour trouver quels élément de tab['Nom'] créent une erreur.\n",
    "\n",
    "# ! Très long !\n",
    "testaut=[WikipediaPage(aut).summary for aut in tab['Nom']]"
   ]
  },
  {
   "cell_type": "code",
   "execution_count": 60,
   "metadata": {},
   "outputs": [],
   "source": [
    "# Fonction utilisée pour trouver l'élément problématique\n",
    "def sum(L):\n",
    "    erreurs=[]\n",
    "    for aut in L:\n",
    "        try:\n",
    "            summar=WikipediaPage(aut)\n",
    "        except:\n",
    "            erreurs.append(aut)\n",
    "    return erreurs"
   ]
  }
 ],
 "metadata": {
  "interpreter": {
   "hash": "06f709ef0d65556a4c268680c897d4e523db2699171fb7cef1ccdebc4f15d32f"
  },
  "kernelspec": {
   "display_name": "Python 3.9.5 64-bit",
   "language": "python",
   "name": "python3"
  },
  "language_info": {
   "codemirror_mode": {
    "name": "ipython",
    "version": 3
   },
   "file_extension": ".py",
   "mimetype": "text/x-python",
   "name": "python",
   "nbconvert_exporter": "python",
   "pygments_lexer": "ipython3",
   "version": "3.8.3"
  },
  "orig_nbformat": 4
 },
 "nbformat": 4,
 "nbformat_minor": 2
}
