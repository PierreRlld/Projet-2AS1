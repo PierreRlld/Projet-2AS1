{
 "cells": [
  {
   "cell_type": "code",
   "execution_count": 1,
   "metadata": {},
   "outputs": [
    {
     "name": "stderr",
     "output_type": "stream",
     "text": [
      "[nltk_data] Downloading package stopwords to\n",
      "[nltk_data]     C:\\Users\\proui\\AppData\\Roaming\\nltk_data...\n",
      "[nltk_data]   Package stopwords is already up-to-date!\n"
     ]
    }
   ],
   "source": [
    "import pandas as pd\n",
    "\n",
    "# Dépendances traitement de texte\n",
    "import spacy\n",
    "import nltk\n",
    "nlp = spacy.load(\"fr_core_news_sm\")\n",
    "from nltk.corpus import stopwords\n",
    "nltk.download('stopwords')\n",
    "stop=stopwords.words('french')"
   ]
  },
  {
   "cell_type": "code",
   "execution_count": 5,
   "metadata": {},
   "outputs": [
    {
     "data": {
      "text/html": [
       "<div>\n",
       "<style scoped>\n",
       "    .dataframe tbody tr th:only-of-type {\n",
       "        vertical-align: middle;\n",
       "    }\n",
       "\n",
       "    .dataframe tbody tr th {\n",
       "        vertical-align: top;\n",
       "    }\n",
       "\n",
       "    .dataframe thead th {\n",
       "        text-align: right;\n",
       "    }\n",
       "</style>\n",
       "<table border=\"1\" class=\"dataframe\">\n",
       "  <thead>\n",
       "    <tr style=\"text-align: right;\">\n",
       "      <th></th>\n",
       "      <th>Nom</th>\n",
       "      <th>Mouvement</th>\n",
       "      <th>summary</th>\n",
       "      <th>sum_lem</th>\n",
       "      <th>mvm_label</th>\n",
       "    </tr>\n",
       "  </thead>\n",
       "  <tbody>\n",
       "    <tr>\n",
       "      <th>0</th>\n",
       "      <td>William S. Burroughs</td>\n",
       "      <td>Beat Generation</td>\n",
       "      <td>William Seward Burroughs (/ˈwɪljəm ˈsuɚd ˈbɜɹo...</td>\n",
       "      <td>William Seward Burroughs ˈsuɚd dit William Bur...</td>\n",
       "      <td>0</td>\n",
       "    </tr>\n",
       "    <tr>\n",
       "      <th>1</th>\n",
       "      <td>Lucien Carr</td>\n",
       "      <td>Beat Generation</td>\n",
       "      <td>Lucien Carr, né le 1er mars 1925 à New York et...</td>\n",
       "      <td>Lucien Carr naître premier mars 1925 New York ...</td>\n",
       "      <td>0</td>\n",
       "    </tr>\n",
       "    <tr>\n",
       "      <th>2</th>\n",
       "      <td>Carolyn Cassady</td>\n",
       "      <td>Beat Generation</td>\n",
       "      <td>Carolyn Cassady, née Carolyn Robinson le 28 av...</td>\n",
       "      <td>Carolyn Cassady naître Carolyn Robinson 28 avr...</td>\n",
       "      <td>0</td>\n",
       "    </tr>\n",
       "    <tr>\n",
       "      <th>3</th>\n",
       "      <td>John Clellon Holmes</td>\n",
       "      <td>Beat Generation</td>\n",
       "      <td>John Clellon Holmes est un romancier, essayist...</td>\n",
       "      <td>John Clellon holme romancier essayiste poète a...</td>\n",
       "      <td>0</td>\n",
       "    </tr>\n",
       "    <tr>\n",
       "      <th>4</th>\n",
       "      <td>Gregory Corso</td>\n",
       "      <td>Beat Generation</td>\n",
       "      <td>Gregory Nunzio Corso (New York, 26 mars 1930 -...</td>\n",
       "      <td>gregory Nunzio Corso New York 26 mars 1930 Min...</td>\n",
       "      <td>0</td>\n",
       "    </tr>\n",
       "  </tbody>\n",
       "</table>\n",
       "</div>"
      ],
      "text/plain": [
       "                    Nom        Mouvement  \\\n",
       "0  William S. Burroughs  Beat Generation   \n",
       "1           Lucien Carr  Beat Generation   \n",
       "2       Carolyn Cassady  Beat Generation   \n",
       "3   John Clellon Holmes  Beat Generation   \n",
       "4         Gregory Corso  Beat Generation   \n",
       "\n",
       "                                             summary  \\\n",
       "0  William Seward Burroughs (/ˈwɪljəm ˈsuɚd ˈbɜɹo...   \n",
       "1  Lucien Carr, né le 1er mars 1925 à New York et...   \n",
       "2  Carolyn Cassady, née Carolyn Robinson le 28 av...   \n",
       "3  John Clellon Holmes est un romancier, essayist...   \n",
       "4  Gregory Nunzio Corso (New York, 26 mars 1930 -...   \n",
       "\n",
       "                                             sum_lem  mvm_label  \n",
       "0  William Seward Burroughs ˈsuɚd dit William Bur...          0  \n",
       "1  Lucien Carr naître premier mars 1925 New York ...          0  \n",
       "2  Carolyn Cassady naître Carolyn Robinson 28 avr...          0  \n",
       "3  John Clellon holme romancier essayiste poète a...          0  \n",
       "4  gregory Nunzio Corso New York 26 mars 1930 Min...          0  "
      ]
     },
     "execution_count": 5,
     "metadata": {},
     "output_type": "execute_result"
    }
   ],
   "source": [
    "body=pd.read_csv('data.csv',index_col=[0])  #éviter 'Unnamed: 0'\n",
    "body.head()"
   ]
  },
  {
   "cell_type": "code",
   "execution_count": 67,
   "metadata": {},
   "outputs": [
    {
     "name": "stdout",
     "output_type": "stream",
     "text": [
      "On a 38 mouvements différents dans le dataset.\n"
     ]
    }
   ],
   "source": [
    "print('On a '+str(max(body['mvm_label']))+' mouvements différents dans le dataset.')"
   ]
  },
  {
   "cell_type": "markdown",
   "metadata": {},
   "source": [
    "### Transformations"
   ]
  },
  {
   "cell_type": "code",
   "execution_count": 61,
   "metadata": {},
   "outputs": [],
   "source": [
    "import sklearn.metrics as metrics\n",
    "from sklearn.model_selection import train_test_split\n",
    "from sklearn.model_selection import cross_val_score\n",
    "\n",
    "from sklearn.feature_extraction.text import CountVectorizer #1\n",
    "from sklearn.feature_extraction.text import TfidfVectorizer #2"
   ]
  },
  {
   "cell_type": "markdown",
   "metadata": {},
   "source": [
    "> Représentation"
   ]
  },
  {
   "cell_type": "code",
   "execution_count": 35,
   "metadata": {},
   "outputs": [],
   "source": [
    "corpus = body['sum_lem']\n",
    "\n",
    "# == Choix du Vectorizer ==\n",
    "vectorizer=TfidfVectorizer()\n",
    "#vectorizer=CountVectorizer(ngram_range=(1,1))\n",
    "\n",
    "sparse_matrix=vectorizer.fit_transform(corpus)      #apprentissage du vocabulaire (vectorizer affecté)\n",
    "#vectorizer.get_feature_names_out()  #longueur = nb de termes uniques présents dans l'ensemble des docs\n"
   ]
  },
  {
   "cell_type": "code",
   "execution_count": 47,
   "metadata": {},
   "outputs": [],
   "source": [
    "xtrain, xtest, ytrain, ytest = train_test_split(body['sum_lem'],body['mvm_label'],shuffle=True, test_size = 0.35)\n",
    "\n",
    "xtrain=vectorizer.transform(xtrain)\n",
    "xtest=vectorizer.transform(xtest)"
   ]
  },
  {
   "cell_type": "markdown",
   "metadata": {},
   "source": [
    "### Modèles"
   ]
  },
  {
   "cell_type": "markdown",
   "metadata": {},
   "source": [
    "On va tester différents modèles connus."
   ]
  },
  {
   "cell_type": "markdown",
   "metadata": {},
   "source": [
    "#### RandomForest"
   ]
  },
  {
   "cell_type": "code",
   "execution_count": 60,
   "metadata": {},
   "outputs": [
    {
     "data": {
      "text/plain": [
       "0.4036697247706422"
      ]
     },
     "execution_count": 60,
     "metadata": {},
     "output_type": "execute_result"
    }
   ],
   "source": [
    "from sklearn.ensemble import RandomForestClassifier\n",
    "rfc = RandomForestClassifier(n_estimators=150)\n",
    "rfc.fit(xtrain, ytrain)\n",
    "rfc.score(xtest,ytest)"
   ]
  },
  {
   "cell_type": "markdown",
   "metadata": {},
   "source": [
    "#### Naive Bayes"
   ]
  },
  {
   "cell_type": "code",
   "execution_count": 63,
   "metadata": {},
   "outputs": [
    {
     "data": {
      "text/plain": [
       "0.11926605504587157"
      ]
     },
     "execution_count": 63,
     "metadata": {},
     "output_type": "execute_result"
    }
   ],
   "source": [
    "from sklearn.naive_bayes import MultinomialNB\n",
    "mnb = MultinomialNB()\n",
    "mnb.fit(xtrain, ytrain)\n",
    "mnb.score(xtest,ytest)"
   ]
  },
  {
   "cell_type": "markdown",
   "metadata": {},
   "source": [
    "#### SVM"
   ]
  },
  {
   "cell_type": "code",
   "execution_count": 62,
   "metadata": {},
   "outputs": [
    {
     "data": {
      "text/plain": [
       "0.12385321100917432"
      ]
     },
     "execution_count": 62,
     "metadata": {},
     "output_type": "execute_result"
    }
   ],
   "source": [
    "from sklearn import svm\n",
    "svmod=svm.SVC()\n",
    "svmod.fit(xtrain,ytrain)\n",
    "svmod.score(xtest,ytest)"
   ]
  },
  {
   "cell_type": "code",
   "execution_count": 24,
   "metadata": {},
   "outputs": [
    {
     "data": {
      "text/plain": [
       "<sklearn.metrics._plot.confusion_matrix.ConfusionMatrixDisplay at 0x1a60db6de50>"
      ]
     },
     "execution_count": 24,
     "metadata": {},
     "output_type": "execute_result"
    },
    {
     "data": {
      "image/png": "[encoded data removed]",
      "text/plain": [
       "<Figure size 432x288 with 2 Axes>"
      ]
     },
     "metadata": {
      "needs_background": "light"
     },
     "output_type": "display_data"
    }
   ],
   "source": [
    "import sklearn\n",
    "import matplotlib.pyplot as plt\n",
    "conf=sklearn.metrics.confusion_matrix(ytest, ypred)\n",
    "disp=sklearn.metrics.ConfusionMatrixDisplay(conf)\n",
    "disp.plot()"
   ]
  }
 ],
 "metadata": {
  "interpreter": {
   "hash": "06f709ef0d65556a4c268680c897d4e523db2699171fb7cef1ccdebc4f15d32f"
  },
  "kernelspec": {
   "display_name": "Python 3.9.5 64-bit",
   "language": "python",
   "name": "python3"
  },
  "language_info": {
   "codemirror_mode": {
    "name": "ipython",
    "version": 3
   },
   "file_extension": ".py",
   "mimetype": "text/x-python",
   "name": "python",
   "nbconvert_exporter": "python",
   "pygments_lexer": "ipython3",
   "version": "3.9.5"
  },
  "orig_nbformat": 4
 },
 "nbformat": 4,
 "nbformat_minor": 2
}
